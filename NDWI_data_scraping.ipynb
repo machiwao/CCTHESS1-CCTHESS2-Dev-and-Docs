{
  "cells": [
    {
      "cell_type": "markdown",
      "metadata": {
        "id": "view-in-github",
        "colab_type": "text"
      },
      "source": [
        "<a href=\"https://colab.research.google.com/github/machiwao/CCTHESS1-CCTHESS2-Dev-and-Docs/blob/jessy/NDWI_data_scraping.ipynb\" target=\"_parent\"><img src=\"https://colab.research.google.com/assets/colab-badge.svg\" alt=\"Open In Colab\"/></a>"
      ]
    },
    {
      "cell_type": "code",
      "execution_count": 7,
      "metadata": {
        "id": "WOkJtulKzl7v",
        "colab": {
          "base_uri": "https://localhost:8080/",
          "height": 17
        },
        "outputId": "a21a7a15-bc87-47c0-c82c-08914b7e533e"
      },
      "outputs": [
        {
          "output_type": "display_data",
          "data": {
            "text/plain": [
              "<IPython.core.display.HTML object>"
            ],
            "text/html": [
              "\n",
              "            <style>\n",
              "                .geemap-dark {\n",
              "                    --jp-widgets-color: white;\n",
              "                    --jp-widgets-label-color: white;\n",
              "                    --jp-ui-font-color1: white;\n",
              "                    --jp-layout-color2: #454545;\n",
              "                    background-color: #383838;\n",
              "                }\n",
              "\n",
              "                .geemap-dark .jupyter-button {\n",
              "                    --jp-layout-color3: #383838;\n",
              "                }\n",
              "\n",
              "                .geemap-colab {\n",
              "                    background-color: var(--colab-primary-surface-color, white);\n",
              "                }\n",
              "\n",
              "                .geemap-colab .jupyter-button {\n",
              "                    --jp-layout-color3: var(--colab-primary-surface-color, white);\n",
              "                }\n",
              "            </style>\n",
              "            "
            ]
          },
          "metadata": {}
        }
      ],
      "source": [
        "# !pip install earthengine-api geemap scipy"
      ]
    },
    {
      "cell_type": "code",
      "execution_count": 8,
      "metadata": {
        "id": "_ZJM4WLLXTql",
        "colab": {
          "base_uri": "https://localhost:8080/",
          "height": 17
        },
        "outputId": "93632c05-b378-4154-c7d6-fe0371a51138"
      },
      "outputs": [
        {
          "output_type": "display_data",
          "data": {
            "text/plain": [
              "<IPython.core.display.HTML object>"
            ],
            "text/html": [
              "\n",
              "            <style>\n",
              "                .geemap-dark {\n",
              "                    --jp-widgets-color: white;\n",
              "                    --jp-widgets-label-color: white;\n",
              "                    --jp-ui-font-color1: white;\n",
              "                    --jp-layout-color2: #454545;\n",
              "                    background-color: #383838;\n",
              "                }\n",
              "\n",
              "                .geemap-dark .jupyter-button {\n",
              "                    --jp-layout-color3: #383838;\n",
              "                }\n",
              "\n",
              "                .geemap-colab {\n",
              "                    background-color: var(--colab-primary-surface-color, white);\n",
              "                }\n",
              "\n",
              "                .geemap-colab .jupyter-button {\n",
              "                    --jp-layout-color3: var(--colab-primary-surface-color, white);\n",
              "                }\n",
              "            </style>\n",
              "            "
            ]
          },
          "metadata": {}
        }
      ],
      "source": [
        "import ee\n",
        "import geemap\n",
        "import pandas as pd\n",
        "from scipy.signal import savgol_filter\n",
        "import os"
      ]
    },
    {
      "cell_type": "code",
      "execution_count": 9,
      "metadata": {
        "colab": {
          "base_uri": "https://localhost:8080/",
          "height": 17
        },
        "id": "AMAIKjYyYJCj",
        "outputId": "f4b095fc-8b90-4c1b-bcac-e18febcf8b48"
      },
      "outputs": [
        {
          "output_type": "display_data",
          "data": {
            "text/plain": [
              "<IPython.core.display.HTML object>"
            ],
            "text/html": [
              "\n",
              "            <style>\n",
              "                .geemap-dark {\n",
              "                    --jp-widgets-color: white;\n",
              "                    --jp-widgets-label-color: white;\n",
              "                    --jp-ui-font-color1: white;\n",
              "                    --jp-layout-color2: #454545;\n",
              "                    background-color: #383838;\n",
              "                }\n",
              "\n",
              "                .geemap-dark .jupyter-button {\n",
              "                    --jp-layout-color3: #383838;\n",
              "                }\n",
              "\n",
              "                .geemap-colab {\n",
              "                    background-color: var(--colab-primary-surface-color, white);\n",
              "                }\n",
              "\n",
              "                .geemap-colab .jupyter-button {\n",
              "                    --jp-layout-color3: var(--colab-primary-surface-color, white);\n",
              "                }\n",
              "            </style>\n",
              "            "
            ]
          },
          "metadata": {}
        }
      ],
      "source": [
        "cloud_project = 'heat-index-forecasting'\n",
        "\n",
        "try:\n",
        "  ee.Initialize(project=cloud_project)\n",
        "except:\n",
        "  ee.Authenticate()\n",
        "  ee.Initialize(project=cloud_project)\n",
        "\n",
        "stations = {\n",
        "    \"Sinait\": ee.Geometry.Point([120.459762, 17.89019]).buffer(25000),\n",
        "    \"Tayabas\": ee.Geometry.Point([121.596575, 14.018428]).buffer(25000),\n",
        "    \"Tanay\": ee.Geometry.Point([121.36927, 14.581167]).buffer(25000),\n",
        "    \"Tuguegarao\": ee.Geometry.Point([121.758469, 17.647678]).buffer(25000),\n",
        "    \"Virac\": ee.Geometry.Point([124.209834, 13.576558]).buffer(25000),\n",
        "}\n",
        "\n",
        "start_date = \"2014-01-01\"\n",
        "end_date   = \"2024-01-01\"\n"
      ]
    },
    {
      "cell_type": "code",
      "execution_count": 10,
      "metadata": {
        "colab": {
          "base_uri": "https://localhost:8080/",
          "height": 17
        },
        "id": "64ed0f57",
        "outputId": "9de4f061-7c93-49d7-ffe1-2e6395c6334f"
      },
      "outputs": [
        {
          "output_type": "display_data",
          "data": {
            "text/plain": [
              "<IPython.core.display.HTML object>"
            ],
            "text/html": [
              "\n",
              "            <style>\n",
              "                .geemap-dark {\n",
              "                    --jp-widgets-color: white;\n",
              "                    --jp-widgets-label-color: white;\n",
              "                    --jp-ui-font-color1: white;\n",
              "                    --jp-layout-color2: #454545;\n",
              "                    background-color: #383838;\n",
              "                }\n",
              "\n",
              "                .geemap-dark .jupyter-button {\n",
              "                    --jp-layout-color3: #383838;\n",
              "                }\n",
              "\n",
              "                .geemap-colab {\n",
              "                    background-color: var(--colab-primary-surface-color, white);\n",
              "                }\n",
              "\n",
              "                .geemap-colab .jupyter-button {\n",
              "                    --jp-layout-color3: var(--colab-primary-surface-color, white);\n",
              "                }\n",
              "            </style>\n",
              "            "
            ]
          },
          "metadata": {}
        }
      ],
      "source": [
        "def get_hls_collection(region, start_date, end_date):\n",
        "    # Landsat HLS\n",
        "    hls_landsat = (\n",
        "        ee.ImageCollection(\"NASA/HLS/HLSL30/v002\")\n",
        "        .filterBounds(region)\n",
        "        .filterDate(start_date, end_date)\n",
        "        .map(lambda img: img.select([\"B3\", \"B5\"])  # Green = B3, NIR = B5\n",
        "                         .multiply(0.0001)\n",
        "                         .rename([\"GREEN\", \"NIR\"])\n",
        "                         .copyProperties(img, img.propertyNames()))\n",
        "    )\n",
        "\n",
        "    # Sentinel-2 HLS\n",
        "    hls_sentinel = (\n",
        "        ee.ImageCollection(\"NASA/HLS/HLSS30/v002\")\n",
        "        .filterBounds(region)\n",
        "        .filterDate(start_date, end_date)\n",
        "        .map(lambda img: img.select([\"B3\", \"B8\"])  # Green = B3, NIR = B8\n",
        "                         .multiply(0.0001)\n",
        "                         .rename([\"GREEN\", \"NIR\"])\n",
        "                         .copyProperties(img, img.propertyNames()))\n",
        "    )\n",
        "\n",
        "    # Merge both collections\n",
        "    merged = hls_landsat.merge(hls_sentinel)\n",
        "\n",
        "     # Compute NDWI\n",
        "    def add_ndwi(img):\n",
        "        ndwi = img.normalizedDifference([\"GREEN\", \"NIR\"]).rename(\"NDWI\")\n",
        "        return img.addBands(ndwi).select(\"NDWI\")\n",
        "\n",
        "    return merged.map(add_ndwi)"
      ]
    },
    {
      "cell_type": "code",
      "execution_count": 11,
      "metadata": {
        "colab": {
          "base_uri": "https://localhost:8080/",
          "height": 17
        },
        "id": "3d8e7cdc",
        "outputId": "65a53567-4511-48e1-9247-64b4dc11f246"
      },
      "outputs": [
        {
          "output_type": "display_data",
          "data": {
            "text/plain": [
              "<IPython.core.display.HTML object>"
            ],
            "text/html": [
              "\n",
              "            <style>\n",
              "                .geemap-dark {\n",
              "                    --jp-widgets-color: white;\n",
              "                    --jp-widgets-label-color: white;\n",
              "                    --jp-ui-font-color1: white;\n",
              "                    --jp-layout-color2: #454545;\n",
              "                    background-color: #383838;\n",
              "                }\n",
              "\n",
              "                .geemap-dark .jupyter-button {\n",
              "                    --jp-layout-color3: #383838;\n",
              "                }\n",
              "\n",
              "                .geemap-colab {\n",
              "                    background-color: var(--colab-primary-surface-color, white);\n",
              "                }\n",
              "\n",
              "                .geemap-colab .jupyter-button {\n",
              "                    --jp-layout-color3: var(--colab-primary-surface-color, white);\n",
              "                }\n",
              "            </style>\n",
              "            "
            ]
          },
          "metadata": {}
        }
      ],
      "source": [
        "def process_station(station_name, geometry, start_date, end_date):\n",
        "    hls = get_hls_collection(geometry, start_date, end_date)\n",
        "\n",
        "    print(f\"Processing NDWI for {station_name}...\")\n",
        "\n",
        "    ts = hls.map(lambda img: ee.Feature(\n",
        "        None, {\n",
        "            \"date\": img.date().format(\"YYYY-MM-dd\"),\n",
        "            \"NDWI\": img.reduceRegion(\n",
        "                reducer=ee.Reducer.mean(),\n",
        "                geometry=geometry,\n",
        "                scale=30,\n",
        "                bestEffort=True,\n",
        "                maxPixels=1e9\n",
        "            ).get(\"NDWI\")\n",
        "        }\n",
        "    ))\n",
        "\n",
        "    df = geemap.ee_to_df(ee.FeatureCollection(ts))\n",
        "\n",
        "    if df.empty:\n",
        "        print(f\"No data for {station_name}\")\n",
        "        return df\n",
        "\n",
        "    # Process time series\n",
        "    df[\"date\"] = pd.to_datetime(df[\"date\"])\n",
        "    df = df.sort_values(\"date\").groupby(\"date\").mean().reset_index()\n",
        "\n",
        "    # Reindex to daily\n",
        "    full_range = pd.date_range(start=start_date, end=end_date, freq=\"D\")\n",
        "    g = df.set_index(\"date\").reindex(full_range)\n",
        "    g.index.name = \"date\"\n",
        "    g = g.reset_index()\n",
        "\n",
        "    # Preserve original\n",
        "    g[\"NDWI_original\"] = g[\"NDWI\"]\n",
        "\n",
        "    # Interpolate missing values\n",
        "    g[\"NDWI_linear\"] = g[\"NDWI\"].interpolate(\"linear\", limit_direction=\"both\")\n",
        "    g[\"NDWI_spline\"] = g[\"NDWI\"].interpolate(\"spline\", order=3, limit_direction=\"both\")\n",
        "\n",
        "    # Save to CSV\n",
        "    out_file = f\"{station_name}_NDWI.csv\"\n",
        "    g[[\"date\", \"NDWI_original\", \"NDWI_linear\", \"NDWI_spline\"]].to_csv(out_file, index=False)\n",
        "\n",
        "    print(f\"Saved {out_file} ({g.shape[0]} rows)\")\n",
        "    return g"
      ]
    },
    {
      "cell_type": "code",
      "execution_count": null,
      "metadata": {
        "colab": {
          "base_uri": "https://localhost:8080/",
          "height": 86
        },
        "id": "4WNvrSlIOWfA",
        "outputId": "e547c3fc-ba24-4b78-dc42-79a24cd29bc5"
      },
      "outputs": [
        {
          "output_type": "display_data",
          "data": {
            "text/plain": [
              "<IPython.core.display.HTML object>"
            ],
            "text/html": [
              "\n",
              "            <style>\n",
              "                .geemap-dark {\n",
              "                    --jp-widgets-color: white;\n",
              "                    --jp-widgets-label-color: white;\n",
              "                    --jp-ui-font-color1: white;\n",
              "                    --jp-layout-color2: #454545;\n",
              "                    background-color: #383838;\n",
              "                }\n",
              "\n",
              "                .geemap-dark .jupyter-button {\n",
              "                    --jp-layout-color3: #383838;\n",
              "                }\n",
              "\n",
              "                .geemap-colab {\n",
              "                    background-color: var(--colab-primary-surface-color, white);\n",
              "                }\n",
              "\n",
              "                .geemap-colab .jupyter-button {\n",
              "                    --jp-layout-color3: var(--colab-primary-surface-color, white);\n",
              "                }\n",
              "            </style>\n",
              "            "
            ]
          },
          "metadata": {}
        },
        {
          "output_type": "stream",
          "name": "stdout",
          "text": [
            "Processing NDWI for Sinait...\n"
          ]
        },
        {
          "output_type": "stream",
          "name": "stderr",
          "text": [
            "WARNING:googleapiclient.http:Sleeping 0.67 seconds before retry 1 of 5 for request: POST https://earthengine.googleapis.com/v1/projects/heat-index-forecasting/table:computeFeatures?alt=json, after 429\n",
            "WARNING:googleapiclient.http:Sleeping 3.28 seconds before retry 2 of 5 for request: POST https://earthengine.googleapis.com/v1/projects/heat-index-forecasting/table:computeFeatures?alt=json, after 429\n",
            "WARNING:googleapiclient.http:Sleeping 3.09 seconds before retry 3 of 5 for request: POST https://earthengine.googleapis.com/v1/projects/heat-index-forecasting/table:computeFeatures?alt=json, after 429\n"
          ]
        }
      ],
      "source": [
        "all_dfs = {}\n",
        "for station, geom in stations.items():\n",
        "    all_dfs[station] = process_station(station, geom, start_date, end_date)"
      ]
    },
    {
      "cell_type": "code",
      "execution_count": null,
      "metadata": {
        "id": "j-If3F4Kz28a"
      },
      "outputs": [],
      "source": [
        "# Check the first few rows of one of the dataframes\n",
        "if all_dfs:\n",
        "    first_station = list(all_dfs.keys())[0]\n",
        "    print(f\"First values for {first_station}:\")\n",
        "    display(all_dfs[first_station].head())\n",
        "else:\n",
        "    print(\"No dataframes were processed.\")"
      ]
    },
    {
      "cell_type": "code",
      "execution_count": null,
      "metadata": {
        "id": "hLaKIJo8TcsV"
      },
      "outputs": [],
      "source": [
        "import pandas as pd\n",
        "import matplotlib.pyplot as plt\n",
        "\n",
        "def plot_values(csv_file, station_name):\n",
        "    # Load CSV (expects columns: date, NDWI_original, NDWI_linear, NDWI_spline)\n",
        "    df = pd.read_csv(csv_file, parse_dates=[\"date\"])\n",
        "\n",
        "    # Plot\n",
        "    plt.figure(figsize=(16, 6))\n",
        "    plt.plot(df[\"date\"], df[\"NDWI_original\"], label=\"NDWI (raw)\", alpha=0.6)\n",
        "    plt.plot(df[\"date\"], df[\"NDWI_linear\"], label=\"NDWI (linear interpolation)\", linewidth=1)\n",
        "    plt.plot(df[\"date\"], df[\"NDWI_spline\"], label=\"NDNDWIBI (spline interpolation)\", linewidth=1)\n",
        "\n",
        "\n",
        "    plt.xlabel(\"Date\")\n",
        "    plt.ylabel(\"NDWI\")\n",
        "    plt.title(f\"NDWI vs. Interpolated NDWI - {station_name}\")\n",
        "    plt.legend()\n",
        "    plt.grid(True)\n",
        "    plt.tight_layout()\n",
        "    plt.show()\n",
        "\n",
        "station_names = [\"Sinait\", \"Tanay\", \"Tayabas\", \"Tuguegarao\", \"Virac\"]\n",
        "for station in station_names:\n",
        "    csv_file = f\"{station}_NDBI.csv\"\n",
        "    plot_values(csv_file, station)"
      ]
    },
    {
      "cell_type": "code",
      "execution_count": null,
      "metadata": {
        "id": "7zk3NTKiTcqZ"
      },
      "outputs": [],
      "source": []
    }
  ],
  "metadata": {
    "colab": {
      "provenance": [],
      "authorship_tag": "ABX9TyPj9MBTchLhwA4MpUtyWuBp",
      "include_colab_link": true
    },
    "kernelspec": {
      "display_name": "Python 3",
      "name": "python3"
    },
    "language_info": {
      "name": "python"
    }
  },
  "nbformat": 4,
  "nbformat_minor": 0
}