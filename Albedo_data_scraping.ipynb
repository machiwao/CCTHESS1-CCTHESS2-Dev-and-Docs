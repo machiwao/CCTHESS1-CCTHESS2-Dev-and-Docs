{
  "nbformat": 4,
  "nbformat_minor": 0,
  "metadata": {
    "colab": {
      "provenance": [],
      "authorship_tag": "ABX9TyNPYzPBmNIHic2xdJCp+zL7",
      "include_colab_link": true
    },
    "kernelspec": {
      "name": "python3",
      "display_name": "Python 3"
    },
    "language_info": {
      "name": "python"
    }
  },
  "cells": [
    {
      "cell_type": "markdown",
      "metadata": {
        "id": "view-in-github",
        "colab_type": "text"
      },
      "source": [
        "<a href=\"https://colab.research.google.com/github/machiwao/CCTHESS1-CCTHESS2-Dev-and-Docs/blob/jessy/Albedo_data_scraping.ipynb\" target=\"_parent\"><img src=\"https://colab.research.google.com/assets/colab-badge.svg\" alt=\"Open In Colab\"/></a>"
      ]
    },
    {
      "cell_type": "code",
      "execution_count": 6,
      "metadata": {
        "colab": {
          "base_uri": "https://localhost:8080/",
          "height": 17
        },
        "id": "q88_pFt6jVfW",
        "outputId": "25ffa3d5-1b23-4342-a431-5fac939352ec"
      },
      "outputs": [
        {
          "output_type": "display_data",
          "data": {
            "text/plain": [
              "<IPython.core.display.HTML object>"
            ],
            "text/html": [
              "\n",
              "            <style>\n",
              "                .geemap-dark {\n",
              "                    --jp-widgets-color: white;\n",
              "                    --jp-widgets-label-color: white;\n",
              "                    --jp-ui-font-color1: white;\n",
              "                    --jp-layout-color2: #454545;\n",
              "                    background-color: #383838;\n",
              "                }\n",
              "\n",
              "                .geemap-dark .jupyter-button {\n",
              "                    --jp-layout-color3: #383838;\n",
              "                }\n",
              "\n",
              "                .geemap-colab {\n",
              "                    background-color: var(--colab-primary-surface-color, white);\n",
              "                }\n",
              "\n",
              "                .geemap-colab .jupyter-button {\n",
              "                    --jp-layout-color3: var(--colab-primary-surface-color, white);\n",
              "                }\n",
              "            </style>\n",
              "            "
            ]
          },
          "metadata": {}
        }
      ],
      "source": [
        "import ee\n",
        "import geemap\n",
        "import pandas as pd\n",
        "from scipy.signal import savgol_filter"
      ]
    },
    {
      "cell_type": "code",
      "source": [
        "# Authenticate and initialize Earth Engine\n",
        "cloud_project = 'heat-index-forecasting'\n",
        "\n",
        "try:\n",
        "  ee.Initialize(project=cloud_project)\n",
        "except:\n",
        "  ee.Authenticate()\n",
        "  ee.Initialize(project=cloud_project)"
      ],
      "metadata": {
        "colab": {
          "base_uri": "https://localhost:8080/",
          "height": 17
        },
        "id": "yl4SeGpFm-7Q",
        "outputId": "6a6bda07-331f-419a-b8ab-a8cae478dc3a"
      },
      "execution_count": 7,
      "outputs": [
        {
          "output_type": "display_data",
          "data": {
            "text/plain": [
              "<IPython.core.display.HTML object>"
            ],
            "text/html": [
              "\n",
              "            <style>\n",
              "                .geemap-dark {\n",
              "                    --jp-widgets-color: white;\n",
              "                    --jp-widgets-label-color: white;\n",
              "                    --jp-ui-font-color1: white;\n",
              "                    --jp-layout-color2: #454545;\n",
              "                    background-color: #383838;\n",
              "                }\n",
              "\n",
              "                .geemap-dark .jupyter-button {\n",
              "                    --jp-layout-color3: #383838;\n",
              "                }\n",
              "\n",
              "                .geemap-colab {\n",
              "                    background-color: var(--colab-primary-surface-color, white);\n",
              "                }\n",
              "\n",
              "                .geemap-colab .jupyter-button {\n",
              "                    --jp-layout-color3: var(--colab-primary-surface-color, white);\n",
              "                }\n",
              "            </style>\n",
              "            "
            ]
          },
          "metadata": {}
        }
      ]
    },
    {
      "cell_type": "code",
      "source": [
        "stations = {\n",
        "    \"Sinait\": ee.Geometry.Point([120.459762, 17.89019]).buffer(25000),\n",
        "    \"Tayabas\": ee.Geometry.Point([121.596575, 14.018428]).buffer(25000),\n",
        "    \"Tanay\": ee.Geometry.Point([121.36927, 14.581167]).buffer(25000),\n",
        "    \"Tuguegarao\": ee.Geometry.Point([121.758469, 17.647678]).buffer(25000),\n",
        "    \"Virac\": ee.Geometry.Point([124.209834, 13.576558]).buffer(25000),\n",
        "}\n",
        "\n",
        "start_date = \"2014-01-01\"   # MODIS MCD43 start\n",
        "end_date   = \"2024-01-01\"\n",
        "full_range = pd.date_range(start_date, end_date, freq=\"D\")\n",
        "\n",
        "albedo_coll = ee.ImageCollection(\"MODIS/061/MCD43A3\").filterDate(start_date, end_date)\n",
        "quality_coll = ee.ImageCollection(\"MODIS/061/MCD43A2\").filterDate(start_date, end_date)"
      ],
      "metadata": {
        "colab": {
          "base_uri": "https://localhost:8080/",
          "height": 17
        },
        "id": "XmtG11GvnT_q",
        "outputId": "1f6b5aa4-3adc-4fd8-d748-3a69d77aedd6"
      },
      "execution_count": 8,
      "outputs": [
        {
          "output_type": "display_data",
          "data": {
            "text/plain": [
              "<IPython.core.display.HTML object>"
            ],
            "text/html": [
              "\n",
              "            <style>\n",
              "                .geemap-dark {\n",
              "                    --jp-widgets-color: white;\n",
              "                    --jp-widgets-label-color: white;\n",
              "                    --jp-ui-font-color1: white;\n",
              "                    --jp-layout-color2: #454545;\n",
              "                    background-color: #383838;\n",
              "                }\n",
              "\n",
              "                .geemap-dark .jupyter-button {\n",
              "                    --jp-layout-color3: #383838;\n",
              "                }\n",
              "\n",
              "                .geemap-colab {\n",
              "                    background-color: var(--colab-primary-surface-color, white);\n",
              "                }\n",
              "\n",
              "                .geemap-colab .jupyter-button {\n",
              "                    --jp-layout-color3: var(--colab-primary-surface-color, white);\n",
              "                }\n",
              "            </style>\n",
              "            "
            ]
          },
          "metadata": {}
        }
      ]
    },
    {
      "cell_type": "code",
      "source": [
        "def mask_low_quality(albedo_img):\n",
        "    qa = (quality_coll\n",
        "          .filter(ee.Filter.eq('system:index', albedo_img.get('system:index')))\n",
        "          .first()\n",
        "          .select('BRDF_Albedo_Band_Quality_Band1'))\n",
        "    mask = qa.eq(0)  # \"best quality\"\n",
        "    return albedo_img.updateMask(mask)\n",
        "\n",
        "def process_station_albedo(station_name, geometry):\n",
        "    print(f\"\\n--- Processing {station_name} ---\")\n",
        "\n",
        "    def per_image(img):\n",
        "        mean_dict = img.reduceRegion(\n",
        "            reducer=ee.Reducer.mean(),\n",
        "            geometry=geometry,\n",
        "            scale=500,  # MODIS resolution\n",
        "            bestEffort=True,\n",
        "            maxPixels=1e12\n",
        "        )\n",
        "        return ee.Feature(None, {\n",
        "            'date': img.date().format(\"YYYY-MM-dd\"),\n",
        "            'Albedo_BSA_Band1': mean_dict.get('Albedo_BSA_Band1'),\n",
        "            'Albedo_WSA_Band1': mean_dict.get('Albedo_WSA_Band1'),\n",
        "        })\n",
        "\n",
        "    ts = albedo_coll.map(per_image)\n",
        "    ts = ee.FeatureCollection(ts)\n",
        "    df = geemap.ee_to_df(ts)\n",
        "\n",
        "    if df.empty:\n",
        "        print(f\"No albedo data for {station_name}\")\n",
        "        return None\n",
        "\n",
        "    df['date'] = pd.to_datetime(df['date'])\n",
        "    df = df.sort_values('date')\n",
        "\n",
        "    g = df.set_index('date').reindex(full_range)\n",
        "    g['station'] = station_name\n",
        "\n",
        "    for band in ['Albedo_BSA_Band1', 'Albedo_WSA_Band1']:\n",
        "        g[band] = g[band].astype(float)\n",
        "        g[band] = g[band].interpolate(method='linear').ffill().bfill()\n",
        "\n",
        "    try:\n",
        "        g['Albedo_BSA_Band1_smooth'] = savgol_filter(g['Albedo_BSA_Band1'], window_length=31, polyorder=2)\n",
        "        g['Albedo_WSA_Band1_smooth'] = savgol_filter(g['Albedo_WSA_Band1'], window_length=31, polyorder=2)\n",
        "    except:\n",
        "        g['Albedo_BSA_Band1_smooth'] = g['Albedo_BSA_Band1']\n",
        "        g['Albedo_WSA_Band1_smooth'] = g['Albedo_WSA_Band1']\n",
        "\n",
        "    g.index.name = 'date'\n",
        "    g = g.reset_index()\n",
        "\n",
        "    outname = f\"{station_name}_Albedo_Data.csv\"\n",
        "    g.to_csv(outname, index=False)\n",
        "    print(f\"Saved {outname} with {g.shape[0]} rows\")\n",
        "\n",
        "    return g\n"
      ],
      "metadata": {
        "colab": {
          "base_uri": "https://localhost:8080/",
          "height": 17
        },
        "id": "ff5aV72FnLzU",
        "outputId": "de26e380-5cf4-410b-f483-92835fb48952"
      },
      "execution_count": 9,
      "outputs": [
        {
          "output_type": "display_data",
          "data": {
            "text/plain": [
              "<IPython.core.display.HTML object>"
            ],
            "text/html": [
              "\n",
              "            <style>\n",
              "                .geemap-dark {\n",
              "                    --jp-widgets-color: white;\n",
              "                    --jp-widgets-label-color: white;\n",
              "                    --jp-ui-font-color1: white;\n",
              "                    --jp-layout-color2: #454545;\n",
              "                    background-color: #383838;\n",
              "                }\n",
              "\n",
              "                .geemap-dark .jupyter-button {\n",
              "                    --jp-layout-color3: #383838;\n",
              "                }\n",
              "\n",
              "                .geemap-colab {\n",
              "                    background-color: var(--colab-primary-surface-color, white);\n",
              "                }\n",
              "\n",
              "                .geemap-colab .jupyter-button {\n",
              "                    --jp-layout-color3: var(--colab-primary-surface-color, white);\n",
              "                }\n",
              "            </style>\n",
              "            "
            ]
          },
          "metadata": {}
        }
      ]
    },
    {
      "cell_type": "code",
      "source": [
        "all_dfs = {}\n",
        "for station, geom in stations.items():\n",
        "    df_station = process_station_albedo(station, geom)\n",
        "    if df_station is not None:\n",
        "        all_dfs[station] = df_station\n",
        "\n",
        "print(\"\\nProcessing complete!\")"
      ],
      "metadata": {
        "colab": {
          "base_uri": "https://localhost:8080/",
          "height": 312
        },
        "id": "E0yvMPKVnOS_",
        "outputId": "017f5c88-cb1a-4ec2-aa14-a22506ea1537"
      },
      "execution_count": 10,
      "outputs": [
        {
          "output_type": "display_data",
          "data": {
            "text/plain": [
              "<IPython.core.display.HTML object>"
            ],
            "text/html": [
              "\n",
              "            <style>\n",
              "                .geemap-dark {\n",
              "                    --jp-widgets-color: white;\n",
              "                    --jp-widgets-label-color: white;\n",
              "                    --jp-ui-font-color1: white;\n",
              "                    --jp-layout-color2: #454545;\n",
              "                    background-color: #383838;\n",
              "                }\n",
              "\n",
              "                .geemap-dark .jupyter-button {\n",
              "                    --jp-layout-color3: #383838;\n",
              "                }\n",
              "\n",
              "                .geemap-colab {\n",
              "                    background-color: var(--colab-primary-surface-color, white);\n",
              "                }\n",
              "\n",
              "                .geemap-colab .jupyter-button {\n",
              "                    --jp-layout-color3: var(--colab-primary-surface-color, white);\n",
              "                }\n",
              "            </style>\n",
              "            "
            ]
          },
          "metadata": {}
        },
        {
          "output_type": "stream",
          "name": "stdout",
          "text": [
            "\n",
            "--- Processing Sinait ---\n",
            "Saved Sinait_Albedo_Data.csv with 3653 rows\n",
            "\n",
            "--- Processing Tayabas ---\n",
            "Saved Tayabas_Albedo_Data.csv with 3653 rows\n",
            "\n",
            "--- Processing Tanay ---\n",
            "Saved Tanay_Albedo_Data.csv with 3653 rows\n",
            "\n",
            "--- Processing Tuguegarao ---\n",
            "Saved Tuguegarao_Albedo_Data.csv with 3653 rows\n",
            "\n",
            "--- Processing Virac ---\n",
            "Saved Virac_Albedo_Data.csv with 3653 rows\n",
            "\n",
            "Processing complete!\n"
          ]
        }
      ]
    }
  ]
}