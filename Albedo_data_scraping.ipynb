{
  "nbformat": 4,
  "nbformat_minor": 0,
  "metadata": {
    "colab": {
      "provenance": [],
      "authorship_tag": "ABX9TyMwXqLPlfr4057eOGH/b0tR",
      "include_colab_link": true
    },
    "kernelspec": {
      "name": "python3",
      "display_name": "Python 3"
    },
    "language_info": {
      "name": "python"
    }
  },
  "cells": [
    {
      "cell_type": "markdown",
      "metadata": {
        "id": "view-in-github",
        "colab_type": "text"
      },
      "source": [
        "<a href=\"https://colab.research.google.com/github/machiwao/CCTHESS1-CCTHESS2-Dev-and-Docs/blob/jessy/Albedo_data_scraping.ipynb\" target=\"_parent\"><img src=\"https://colab.research.google.com/assets/colab-badge.svg\" alt=\"Open In Colab\"/></a>"
      ]
    },
    {
      "cell_type": "code",
      "execution_count": 18,
      "metadata": {
        "colab": {
          "base_uri": "https://localhost:8080/",
          "height": 17
        },
        "id": "q88_pFt6jVfW",
        "outputId": "2223cd0e-fb09-4772-908e-a4130df43a41"
      },
      "outputs": [
        {
          "output_type": "display_data",
          "data": {
            "text/plain": [
              "<IPython.core.display.HTML object>"
            ],
            "text/html": [
              "\n",
              "            <style>\n",
              "                .geemap-dark {\n",
              "                    --jp-widgets-color: white;\n",
              "                    --jp-widgets-label-color: white;\n",
              "                    --jp-ui-font-color1: white;\n",
              "                    --jp-layout-color2: #454545;\n",
              "                    background-color: #383838;\n",
              "                }\n",
              "\n",
              "                .geemap-dark .jupyter-button {\n",
              "                    --jp-layout-color3: #383838;\n",
              "                }\n",
              "\n",
              "                .geemap-colab {\n",
              "                    background-color: var(--colab-primary-surface-color, white);\n",
              "                }\n",
              "\n",
              "                .geemap-colab .jupyter-button {\n",
              "                    --jp-layout-color3: var(--colab-primary-surface-color, white);\n",
              "                }\n",
              "            </style>\n",
              "            "
            ]
          },
          "metadata": {}
        }
      ],
      "source": [
        "import ee\n",
        "import geemap\n",
        "import pandas as pd\n",
        "from scipy.signal import savgol_filter"
      ]
    },
    {
      "cell_type": "code",
      "source": [
        "# Authenticate and initialize Earth Engine\n",
        "cloud_project = 'heat-index-forecasting'\n",
        "\n",
        "try:\n",
        "  ee.Initialize(project=cloud_project)\n",
        "except:\n",
        "  ee.Authenticate()\n",
        "  ee.Initialize(project=cloud_project)"
      ],
      "metadata": {
        "colab": {
          "base_uri": "https://localhost:8080/",
          "height": 17
        },
        "id": "yl4SeGpFm-7Q",
        "outputId": "6b4239ec-a692-45c5-a0e3-83d6ccedda3a"
      },
      "execution_count": 19,
      "outputs": [
        {
          "output_type": "display_data",
          "data": {
            "text/plain": [
              "<IPython.core.display.HTML object>"
            ],
            "text/html": [
              "\n",
              "            <style>\n",
              "                .geemap-dark {\n",
              "                    --jp-widgets-color: white;\n",
              "                    --jp-widgets-label-color: white;\n",
              "                    --jp-ui-font-color1: white;\n",
              "                    --jp-layout-color2: #454545;\n",
              "                    background-color: #383838;\n",
              "                }\n",
              "\n",
              "                .geemap-dark .jupyter-button {\n",
              "                    --jp-layout-color3: #383838;\n",
              "                }\n",
              "\n",
              "                .geemap-colab {\n",
              "                    background-color: var(--colab-primary-surface-color, white);\n",
              "                }\n",
              "\n",
              "                .geemap-colab .jupyter-button {\n",
              "                    --jp-layout-color3: var(--colab-primary-surface-color, white);\n",
              "                }\n",
              "            </style>\n",
              "            "
            ]
          },
          "metadata": {}
        }
      ]
    },
    {
      "cell_type": "code",
      "source": [
        "stations = {\n",
        "    \"Sinait\": ee.Geometry.Point([120.459762, 17.89019]).buffer(25000),\n",
        "    \"Tayabas\": ee.Geometry.Point([121.596575, 14.018428]).buffer(25000),\n",
        "    \"Tanay\": ee.Geometry.Point([121.36927, 14.581167]).buffer(25000),\n",
        "    \"Tuguegarao\": ee.Geometry.Point([121.758469, 17.647678]).buffer(25000),\n",
        "    \"Virac\": ee.Geometry.Point([124.209834, 13.576558]).buffer(25000),\n",
        "}\n",
        "\n",
        "start_date = \"2014-01-01\"   # MODIS MCD43 start\n",
        "end_date   = \"2024-01-01\"\n",
        "full_range = pd.date_range(start_date, end_date, freq=\"D\")\n",
        "\n",
        "albedo = ee.ImageCollection(\"MODIS/061/MCD43A3\").filterDate(start_date, end_date)"
      ],
      "metadata": {
        "colab": {
          "base_uri": "https://localhost:8080/",
          "height": 17
        },
        "id": "XmtG11GvnT_q",
        "outputId": "841ed72b-bdd8-4c14-972d-999dc4eceac8"
      },
      "execution_count": 30,
      "outputs": [
        {
          "output_type": "display_data",
          "data": {
            "text/plain": [
              "<IPython.core.display.HTML object>"
            ],
            "text/html": [
              "\n",
              "            <style>\n",
              "                .geemap-dark {\n",
              "                    --jp-widgets-color: white;\n",
              "                    --jp-widgets-label-color: white;\n",
              "                    --jp-ui-font-color1: white;\n",
              "                    --jp-layout-color2: #454545;\n",
              "                    background-color: #383838;\n",
              "                }\n",
              "\n",
              "                .geemap-dark .jupyter-button {\n",
              "                    --jp-layout-color3: #383838;\n",
              "                }\n",
              "\n",
              "                .geemap-colab {\n",
              "                    background-color: var(--colab-primary-surface-color, white);\n",
              "                }\n",
              "\n",
              "                .geemap-colab .jupyter-button {\n",
              "                    --jp-layout-color3: var(--colab-primary-surface-color, white);\n",
              "                }\n",
              "            </style>\n",
              "            "
            ]
          },
          "metadata": {}
        }
      ]
    },
    {
      "cell_type": "code",
      "source": [
        "sample = albedo.first()\n",
        "sample.bandNames().getInfo()"
      ],
      "metadata": {
        "colab": {
          "base_uri": "https://localhost:8080/",
          "height": 538
        },
        "id": "q9WyR2imtEvf",
        "outputId": "c9bd11d2-52b9-440f-a3e5-65b3c11933cd"
      },
      "execution_count": 27,
      "outputs": [
        {
          "output_type": "display_data",
          "data": {
            "text/plain": [
              "<IPython.core.display.HTML object>"
            ],
            "text/html": [
              "\n",
              "            <style>\n",
              "                .geemap-dark {\n",
              "                    --jp-widgets-color: white;\n",
              "                    --jp-widgets-label-color: white;\n",
              "                    --jp-ui-font-color1: white;\n",
              "                    --jp-layout-color2: #454545;\n",
              "                    background-color: #383838;\n",
              "                }\n",
              "\n",
              "                .geemap-dark .jupyter-button {\n",
              "                    --jp-layout-color3: #383838;\n",
              "                }\n",
              "\n",
              "                .geemap-colab {\n",
              "                    background-color: var(--colab-primary-surface-color, white);\n",
              "                }\n",
              "\n",
              "                .geemap-colab .jupyter-button {\n",
              "                    --jp-layout-color3: var(--colab-primary-surface-color, white);\n",
              "                }\n",
              "            </style>\n",
              "            "
            ]
          },
          "metadata": {}
        },
        {
          "output_type": "execute_result",
          "data": {
            "text/plain": [
              "['Albedo_BSA_Band1',\n",
              " 'Albedo_BSA_Band2',\n",
              " 'Albedo_BSA_Band3',\n",
              " 'Albedo_BSA_Band4',\n",
              " 'Albedo_BSA_Band5',\n",
              " 'Albedo_BSA_Band6',\n",
              " 'Albedo_BSA_Band7',\n",
              " 'Albedo_BSA_vis',\n",
              " 'Albedo_BSA_nir',\n",
              " 'Albedo_BSA_shortwave',\n",
              " 'Albedo_WSA_Band1',\n",
              " 'Albedo_WSA_Band2',\n",
              " 'Albedo_WSA_Band3',\n",
              " 'Albedo_WSA_Band4',\n",
              " 'Albedo_WSA_Band5',\n",
              " 'Albedo_WSA_Band6',\n",
              " 'Albedo_WSA_Band7',\n",
              " 'Albedo_WSA_vis',\n",
              " 'Albedo_WSA_nir',\n",
              " 'Albedo_WSA_shortwave',\n",
              " 'BRDF_Albedo_Band_Mandatory_Quality_Band1',\n",
              " 'BRDF_Albedo_Band_Mandatory_Quality_Band2',\n",
              " 'BRDF_Albedo_Band_Mandatory_Quality_Band3',\n",
              " 'BRDF_Albedo_Band_Mandatory_Quality_Band4',\n",
              " 'BRDF_Albedo_Band_Mandatory_Quality_Band5',\n",
              " 'BRDF_Albedo_Band_Mandatory_Quality_Band6',\n",
              " 'BRDF_Albedo_Band_Mandatory_Quality_Band7',\n",
              " 'BRDF_Albedo_Band_Mandatory_Quality_vis',\n",
              " 'BRDF_Albedo_Band_Mandatory_Quality_nir',\n",
              " 'BRDF_Albedo_Band_Mandatory_Quality_shortwave']"
            ]
          },
          "metadata": {},
          "execution_count": 27
        }
      ]
    },
    {
      "cell_type": "code",
      "source": [
        "def extract_albedo(geometry, station_name):\n",
        "    print(f\"\\n--- Processing {station_name} ---\")\n",
        "\n",
        "    def process(img):\n",
        "        # Select BSA and WSA bands\n",
        "        bsa = img.select(\"Albedo_BSA_Band1\")\n",
        "        wsa = img.select(\"Albedo_WSA_Band1\")\n",
        "\n",
        "        # Compute BHA (mean of BSA & WSA, apply scaling)\n",
        "        bha = bsa.add(wsa).divide(2).multiply(0.001)\n",
        "\n",
        "        return ee.Feature(\n",
        "            None,\n",
        "            {\n",
        "                \"date\": img.date().format(\"YYYY-MM-dd\"),\n",
        "                \"BSA\": bsa.reduceRegion(\n",
        "                    ee.Reducer.mean(), geometry, 500\n",
        "                ).get(\"Albedo_BSA_Band1\"),\n",
        "                \"WSA\": wsa.reduceRegion(\n",
        "                    ee.Reducer.mean(), geometry, 500\n",
        "                ).get(\"Albedo_WSA_Band1\"),\n",
        "                \"BHA\": bha.reduceRegion(\n",
        "                    ee.Reducer.mean(), geometry, 500\n",
        "                ).get(bha.bandNames().get(0)),  # reduceRegion on computed BHA\n",
        "            },\n",
        "        )\n",
        "\n",
        "    features = albedo.map(process)\n",
        "    features = ee.FeatureCollection(features)\n",
        "\n",
        "    # Convert to DataFrame\n",
        "    df = geemap.ee_to_df(features)\n",
        "\n",
        "    if df.empty:\n",
        "        print(f\"No data for {station_name}\")\n",
        "        return None\n",
        "\n",
        "    df[\"date\"] = pd.to_datetime(df[\"date\"])\n",
        "    df = df.sort_values(\"date\")\n",
        "\n",
        "    # Reindex to full daily timeline\n",
        "    full_range = pd.date_range(start=df[\"date\"].min(), end=df[\"date\"].max(), freq=\"D\")\n",
        "    df = df.set_index(\"date\").reindex(full_range)\n",
        "\n",
        "    # Interpolate missing values\n",
        "    for col in [\"BSA\", \"WSA\", \"BHA\"]:\n",
        "        df[col] = pd.to_numeric(df[col], errors=\"coerce\")\n",
        "        df[col] = df[col].interpolate(method=\"linear\").ffill().bfill()\n",
        "\n",
        "    df.index.name = \"date\"\n",
        "    df = df.reset_index().rename(columns={\"index\": \"date\"})\n",
        "    df[\"station\"] = station_name\n",
        "\n",
        "    # Save to CSV\n",
        "    filename = f\"{station_name}_Albedo.csv\"\n",
        "    df.to_csv(filename, index=False)\n",
        "    print(f\"Saved {filename} with {df.shape[0]} rows\")\n",
        "\n",
        "    return df"
      ],
      "metadata": {
        "colab": {
          "base_uri": "https://localhost:8080/",
          "height": 17
        },
        "id": "ff5aV72FnLzU",
        "outputId": "8c238cfe-0d86-4bbd-edf1-8a02be3b8312"
      },
      "execution_count": 42,
      "outputs": [
        {
          "output_type": "display_data",
          "data": {
            "text/plain": [
              "<IPython.core.display.HTML object>"
            ],
            "text/html": [
              "\n",
              "            <style>\n",
              "                .geemap-dark {\n",
              "                    --jp-widgets-color: white;\n",
              "                    --jp-widgets-label-color: white;\n",
              "                    --jp-ui-font-color1: white;\n",
              "                    --jp-layout-color2: #454545;\n",
              "                    background-color: #383838;\n",
              "                }\n",
              "\n",
              "                .geemap-dark .jupyter-button {\n",
              "                    --jp-layout-color3: #383838;\n",
              "                }\n",
              "\n",
              "                .geemap-colab {\n",
              "                    background-color: var(--colab-primary-surface-color, white);\n",
              "                }\n",
              "\n",
              "                .geemap-colab .jupyter-button {\n",
              "                    --jp-layout-color3: var(--colab-primary-surface-color, white);\n",
              "                }\n",
              "            </style>\n",
              "            "
            ]
          },
          "metadata": {}
        }
      ]
    },
    {
      "cell_type": "code",
      "source": [
        "all_dfs = {}\n",
        "for station, geom in stations.items():\n",
        "    df_station = extract_albedo(geom, station)\n",
        "    if df_station is not None:\n",
        "        all_dfs[station] = df_station\n",
        "\n",
        "print(\"\\nProcessing complete!\")"
      ],
      "metadata": {
        "colab": {
          "base_uri": "https://localhost:8080/",
          "height": 312
        },
        "id": "E0yvMPKVnOS_",
        "outputId": "527c4c55-c718-4d70-c3b1-256832598cf2"
      },
      "execution_count": 44,
      "outputs": [
        {
          "output_type": "display_data",
          "data": {
            "text/plain": [
              "<IPython.core.display.HTML object>"
            ],
            "text/html": [
              "\n",
              "            <style>\n",
              "                .geemap-dark {\n",
              "                    --jp-widgets-color: white;\n",
              "                    --jp-widgets-label-color: white;\n",
              "                    --jp-ui-font-color1: white;\n",
              "                    --jp-layout-color2: #454545;\n",
              "                    background-color: #383838;\n",
              "                }\n",
              "\n",
              "                .geemap-dark .jupyter-button {\n",
              "                    --jp-layout-color3: #383838;\n",
              "                }\n",
              "\n",
              "                .geemap-colab {\n",
              "                    background-color: var(--colab-primary-surface-color, white);\n",
              "                }\n",
              "\n",
              "                .geemap-colab .jupyter-button {\n",
              "                    --jp-layout-color3: var(--colab-primary-surface-color, white);\n",
              "                }\n",
              "            </style>\n",
              "            "
            ]
          },
          "metadata": {}
        },
        {
          "output_type": "stream",
          "name": "stdout",
          "text": [
            "\n",
            "--- Processing Sinait ---\n",
            "Saved Sinait_Albedo.csv with 3652 rows\n",
            "\n",
            "--- Processing Tayabas ---\n",
            "Saved Tayabas_Albedo.csv with 3652 rows\n",
            "\n",
            "--- Processing Tanay ---\n",
            "Saved Tanay_Albedo.csv with 3652 rows\n",
            "\n",
            "--- Processing Tuguegarao ---\n",
            "Saved Tuguegarao_Albedo.csv with 3652 rows\n",
            "\n",
            "--- Processing Virac ---\n",
            "Saved Virac_Albedo.csv with 3652 rows\n",
            "\n",
            "Processing complete!\n"
          ]
        }
      ]
    }
  ]
}