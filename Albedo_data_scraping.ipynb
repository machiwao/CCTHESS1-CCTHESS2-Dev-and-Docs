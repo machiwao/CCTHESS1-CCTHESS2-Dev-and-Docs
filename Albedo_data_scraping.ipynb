{
  "cells": [
    {
      "cell_type": "markdown",
      "metadata": {
        "id": "view-in-github",
        "colab_type": "text"
      },
      "source": [
        "<a href=\"https://colab.research.google.com/github/machiwao/CCTHESS1-CCTHESS2-Dev-and-Docs/blob/jessy/Albedo_data_scraping.ipynb\" target=\"_parent\"><img src=\"https://colab.research.google.com/assets/colab-badge.svg\" alt=\"Open In Colab\"/></a>"
      ]
    },
    {
      "cell_type": "code",
      "execution_count": 14,
      "metadata": {
        "colab": {
          "base_uri": "https://localhost:8080/",
          "height": 17
        },
        "id": "q88_pFt6jVfW",
        "outputId": "124fb6e8-c2e8-4f0f-a780-b4140d66de10"
      },
      "outputs": [
        {
          "output_type": "display_data",
          "data": {
            "text/plain": [
              "<IPython.core.display.HTML object>"
            ],
            "text/html": [
              "\n",
              "            <style>\n",
              "                .geemap-dark {\n",
              "                    --jp-widgets-color: white;\n",
              "                    --jp-widgets-label-color: white;\n",
              "                    --jp-ui-font-color1: white;\n",
              "                    --jp-layout-color2: #454545;\n",
              "                    background-color: #383838;\n",
              "                }\n",
              "\n",
              "                .geemap-dark .jupyter-button {\n",
              "                    --jp-layout-color3: #383838;\n",
              "                }\n",
              "\n",
              "                .geemap-colab {\n",
              "                    background-color: var(--colab-primary-surface-color, white);\n",
              "                }\n",
              "\n",
              "                .geemap-colab .jupyter-button {\n",
              "                    --jp-layout-color3: var(--colab-primary-surface-color, white);\n",
              "                }\n",
              "            </style>\n",
              "            "
            ]
          },
          "metadata": {}
        }
      ],
      "source": [
        "import ee\n",
        "import geemap\n",
        "import pandas as pd\n",
        "from scipy.signal import savgol_filter"
      ]
    },
    {
      "cell_type": "code",
      "execution_count": 15,
      "metadata": {
        "colab": {
          "base_uri": "https://localhost:8080/",
          "height": 17
        },
        "id": "yl4SeGpFm-7Q",
        "outputId": "0c1e6695-1a27-482d-cf31-aa49f094cc3b"
      },
      "outputs": [
        {
          "output_type": "display_data",
          "data": {
            "text/plain": [
              "<IPython.core.display.HTML object>"
            ],
            "text/html": [
              "\n",
              "            <style>\n",
              "                .geemap-dark {\n",
              "                    --jp-widgets-color: white;\n",
              "                    --jp-widgets-label-color: white;\n",
              "                    --jp-ui-font-color1: white;\n",
              "                    --jp-layout-color2: #454545;\n",
              "                    background-color: #383838;\n",
              "                }\n",
              "\n",
              "                .geemap-dark .jupyter-button {\n",
              "                    --jp-layout-color3: #383838;\n",
              "                }\n",
              "\n",
              "                .geemap-colab {\n",
              "                    background-color: var(--colab-primary-surface-color, white);\n",
              "                }\n",
              "\n",
              "                .geemap-colab .jupyter-button {\n",
              "                    --jp-layout-color3: var(--colab-primary-surface-color, white);\n",
              "                }\n",
              "            </style>\n",
              "            "
            ]
          },
          "metadata": {}
        }
      ],
      "source": [
        "# Authenticate and initialize Earth Engine\n",
        "cloud_project = 'heat-index-forecasting'\n",
        "\n",
        "try:\n",
        "  ee.Initialize(project=cloud_project)\n",
        "except:\n",
        "  ee.Authenticate()\n",
        "  ee.Initialize(project=cloud_project)"
      ]
    },
    {
      "cell_type": "code",
      "execution_count": 16,
      "metadata": {
        "colab": {
          "base_uri": "https://localhost:8080/",
          "height": 17
        },
        "id": "XmtG11GvnT_q",
        "outputId": "0182a6d6-4bfe-46a0-9bd9-caf2b1d4ffdc"
      },
      "outputs": [
        {
          "output_type": "display_data",
          "data": {
            "text/plain": [
              "<IPython.core.display.HTML object>"
            ],
            "text/html": [
              "\n",
              "            <style>\n",
              "                .geemap-dark {\n",
              "                    --jp-widgets-color: white;\n",
              "                    --jp-widgets-label-color: white;\n",
              "                    --jp-ui-font-color1: white;\n",
              "                    --jp-layout-color2: #454545;\n",
              "                    background-color: #383838;\n",
              "                }\n",
              "\n",
              "                .geemap-dark .jupyter-button {\n",
              "                    --jp-layout-color3: #383838;\n",
              "                }\n",
              "\n",
              "                .geemap-colab {\n",
              "                    background-color: var(--colab-primary-surface-color, white);\n",
              "                }\n",
              "\n",
              "                .geemap-colab .jupyter-button {\n",
              "                    --jp-layout-color3: var(--colab-primary-surface-color, white);\n",
              "                }\n",
              "            </style>\n",
              "            "
            ]
          },
          "metadata": {}
        }
      ],
      "source": [
        "stations = {\n",
        "    \"Sinait\": ee.Geometry.Point([120.459762, 17.89019]).buffer(25000),\n",
        "    \"Tayabas\": ee.Geometry.Point([121.596575, 14.018428]).buffer(25000),\n",
        "    \"Tanay\": ee.Geometry.Point([121.36927, 14.581167]).buffer(25000),\n",
        "    \"Tuguegarao\": ee.Geometry.Point([121.758469, 17.647678]).buffer(25000),\n",
        "    \"Virac\": ee.Geometry.Point([124.209834, 13.576558]).buffer(25000),\n",
        "}\n",
        "\n",
        "start_date = \"2014-01-01\"\n",
        "end_date   = \"2024-01-01\""
      ]
    },
    {
      "cell_type": "code",
      "execution_count": 18,
      "metadata": {
        "colab": {
          "base_uri": "https://localhost:8080/",
          "height": 17
        },
        "id": "ff5aV72FnLzU",
        "outputId": "2f9e6102-f03b-433f-f9b4-977540ab07fc"
      },
      "outputs": [
        {
          "output_type": "display_data",
          "data": {
            "text/plain": [
              "<IPython.core.display.HTML object>"
            ],
            "text/html": [
              "\n",
              "            <style>\n",
              "                .geemap-dark {\n",
              "                    --jp-widgets-color: white;\n",
              "                    --jp-widgets-label-color: white;\n",
              "                    --jp-ui-font-color1: white;\n",
              "                    --jp-layout-color2: #454545;\n",
              "                    background-color: #383838;\n",
              "                }\n",
              "\n",
              "                .geemap-dark .jupyter-button {\n",
              "                    --jp-layout-color3: #383838;\n",
              "                }\n",
              "\n",
              "                .geemap-colab {\n",
              "                    background-color: var(--colab-primary-surface-color, white);\n",
              "                }\n",
              "\n",
              "                .geemap-colab .jupyter-button {\n",
              "                    --jp-layout-color3: var(--colab-primary-surface-color, white);\n",
              "                }\n",
              "            </style>\n",
              "            "
            ]
          },
          "metadata": {}
        }
      ],
      "source": [
        "def extract_albedo(geometry, station_name, start_date, end_date):\n",
        "\n",
        "    albedo = ee.ImageCollection(\"LANDSAT/LC08/C02/T2_L2\").filterDate(start_date, end_date).filterBounds(geometry)\n",
        "\n",
        "    print(f\"\\n--- Processing {station_name} ---\")\n",
        "\n",
        "    def process(img):\n",
        "        # Landsat 8 Collection 2 Level-2 SR bands are scaled integers.\n",
        "        # According to the USGS Landsat Collection 2 Science Product Guide:\n",
        "        # Reflectance = DN * 0.0000275 - 0.2\n",
        "        # Reference: https://www.usgs.gov/landsat-missions/landsat-collection-2-level-2-science-products\n",
        "        scale = 0.0000275\n",
        "        offset = -0.2\n",
        "\n",
        "        # Apply scale and offset to surface reflectance bands\n",
        "        b2 = img.select(\"SR_B2\").multiply(scale).add(offset)  # Blue\n",
        "        b4 = img.select(\"SR_B4\").multiply(scale).add(offset)  # Red\n",
        "        b5 = img.select(\"SR_B5\").multiply(scale).add(offset)  # NIR\n",
        "        b6 = img.select(\"SR_B6\").multiply(scale).add(offset)  # SWIR1\n",
        "        b7 = img.select(\"SR_B7\").multiply(scale).add(offset)  # SWIR2\n",
        "\n",
        "        # Albedo equation from literature (coefficients from Liang 2001)\n",
        "        albedo_val = (\n",
        "            b2.multiply(0.356)\n",
        "            .add(b4.multiply(0.130))\n",
        "            .add(b5.multiply(0.373))\n",
        "            .add(b6.multiply(0.085))\n",
        "            .add(b7.multiply(0.072))\n",
        "            .subtract(0.0018)\n",
        "        ).divide(1.016).rename(\"Albedo\")\n",
        "\n",
        "        return ee.Feature(\n",
        "            None,\n",
        "            {\n",
        "                \"date\": img.date().format(\"YYYY-MM-dd\"),\n",
        "                \"Albedo\": albedo_val.reduceRegion(\n",
        "                    reducer=ee.Reducer.mean(),\n",
        "                    geometry=geometry,\n",
        "                    bestEffort=True,\n",
        "                    maxPixels=1e9\n",
        "                ).get(\"Albedo\"),\n",
        "            },\n",
        "        )\n",
        "\n",
        "    features = albedo.map(process)\n",
        "    features = ee.FeatureCollection(features)\n",
        "\n",
        "    # Convert to DataFrame\n",
        "    df = geemap.ee_to_df(features)\n",
        "\n",
        "    if df.empty:\n",
        "        print(f\"No data for {station_name}\")\n",
        "        return None\n",
        "\n",
        "    df[\"date\"] = pd.to_datetime(df[\"date\"])\n",
        "    df = df.sort_values(\"date\")\n",
        "\n",
        "    # Handle duplicate dates by grouping and averaging\n",
        "    df = df.groupby(\"date\").mean().reset_index()\n",
        "\n",
        "    # Define the strict date range\n",
        "    full_range = pd.date_range(start=start_date, end=end_date, freq=\"D\")\n",
        "\n",
        "    # Reindex to the strict full date range\n",
        "    df = df.set_index(\"date\").reindex(full_range)\n",
        "\n",
        "    # Interpolate missing values\n",
        "    df[\"Albedo\"] = pd.to_numeric(df[\"Albedo\"], errors=\"coerce\")\n",
        "    df[\"Albedo\"] = df[\"Albedo\"].interpolate(method=\"linear\").ffill().bfill()\n",
        "\n",
        "    df.index.name = \"date\"\n",
        "    df = df.reset_index().rename(columns={\"index\": \"date\"})\n",
        "    df[\"station\"] = station_name\n",
        "\n",
        "    # Save to CSV\n",
        "    filename = f\"{station_name}_Albedo.csv\"\n",
        "    df.to_csv(filename, index=False)\n",
        "    print(f\"Saved {filename} with {df.shape[0]} rows\")\n",
        "\n",
        "    return df"
      ]
    },
    {
      "cell_type": "code",
      "execution_count": 19,
      "metadata": {
        "colab": {
          "base_uri": "https://localhost:8080/",
          "height": 312
        },
        "id": "E0yvMPKVnOS_",
        "outputId": "7a6157d9-2bf7-428d-9e3b-a1302444e936"
      },
      "outputs": [
        {
          "output_type": "display_data",
          "data": {
            "text/plain": [
              "<IPython.core.display.HTML object>"
            ],
            "text/html": [
              "\n",
              "            <style>\n",
              "                .geemap-dark {\n",
              "                    --jp-widgets-color: white;\n",
              "                    --jp-widgets-label-color: white;\n",
              "                    --jp-ui-font-color1: white;\n",
              "                    --jp-layout-color2: #454545;\n",
              "                    background-color: #383838;\n",
              "                }\n",
              "\n",
              "                .geemap-dark .jupyter-button {\n",
              "                    --jp-layout-color3: #383838;\n",
              "                }\n",
              "\n",
              "                .geemap-colab {\n",
              "                    background-color: var(--colab-primary-surface-color, white);\n",
              "                }\n",
              "\n",
              "                .geemap-colab .jupyter-button {\n",
              "                    --jp-layout-color3: var(--colab-primary-surface-color, white);\n",
              "                }\n",
              "            </style>\n",
              "            "
            ]
          },
          "metadata": {}
        },
        {
          "output_type": "stream",
          "name": "stdout",
          "text": [
            "\n",
            "--- Processing Sinait ---\n",
            "Saved Sinait_Albedo.csv with 3653 rows\n",
            "\n",
            "--- Processing Tayabas ---\n",
            "Saved Tayabas_Albedo.csv with 3653 rows\n",
            "\n",
            "--- Processing Tanay ---\n",
            "Saved Tanay_Albedo.csv with 3653 rows\n",
            "\n",
            "--- Processing Tuguegarao ---\n",
            "Saved Tuguegarao_Albedo.csv with 3653 rows\n",
            "\n",
            "--- Processing Virac ---\n",
            "Saved Virac_Albedo.csv with 3653 rows\n",
            "\n",
            "Processing complete!\n"
          ]
        }
      ],
      "source": [
        "all_dfs = {}\n",
        "for station, geom in stations.items():\n",
        "    df_station = extract_albedo(geom, station, start_date, end_date)\n",
        "    if df_station is not None:\n",
        "        all_dfs[station] = df_station\n",
        "\n",
        "print(\"\\nProcessing complete!\")"
      ]
    },
    {
      "cell_type": "code",
      "execution_count": 20,
      "metadata": {
        "colab": {
          "base_uri": "https://localhost:8080/",
          "height": 17
        },
        "id": "Sg6f4jqbB6Xn",
        "outputId": "34a4101f-59ec-4095-dad5-dc0d7d7a1fd4"
      },
      "outputs": [
        {
          "output_type": "display_data",
          "data": {
            "text/plain": [
              "<IPython.core.display.HTML object>"
            ],
            "text/html": [
              "\n",
              "            <style>\n",
              "                .geemap-dark {\n",
              "                    --jp-widgets-color: white;\n",
              "                    --jp-widgets-label-color: white;\n",
              "                    --jp-ui-font-color1: white;\n",
              "                    --jp-layout-color2: #454545;\n",
              "                    background-color: #383838;\n",
              "                }\n",
              "\n",
              "                .geemap-dark .jupyter-button {\n",
              "                    --jp-layout-color3: #383838;\n",
              "                }\n",
              "\n",
              "                .geemap-colab {\n",
              "                    background-color: var(--colab-primary-surface-color, white);\n",
              "                }\n",
              "\n",
              "                .geemap-colab .jupyter-button {\n",
              "                    --jp-layout-color3: var(--colab-primary-surface-color, white);\n",
              "                }\n",
              "            </style>\n",
              "            "
            ]
          },
          "metadata": {}
        }
      ],
      "source": [
        "# import pandas as pd\n",
        "# import matplotlib.pyplot as plt\n",
        "# import glob\n",
        "\n",
        "# # Load all station CSVs\n",
        "# csv_files = glob.glob(\"*_Albedo.csv\")\n",
        "\n",
        "# plt.figure(figsize=(14, 6))\n",
        "\n",
        "# for file in csv_files:\n",
        "#     df = pd.read_csv(file, parse_dates=[\"date\"])\n",
        "#     station_name = file.split(\"_\")[0].capitalize()\n",
        "\n",
        "#     # Plot BHA\n",
        "#     plt.plot(df[\"date\"], df[\"BHA\"], label=station_name)\n",
        "\n",
        "# plt.title(\"Daily BHA Values (Interpolated) for All Stations\")\n",
        "# plt.xlabel(\"Date\")\n",
        "# plt.ylabel(\"BHA (scaled reflectance)\")\n",
        "# plt.legend()\n",
        "# plt.grid(True, linestyle=\"--\", alpha=0.6)\n",
        "# plt.tight_layout()\n",
        "# plt.show()\n"
      ]
    }
  ],
  "metadata": {
    "colab": {
      "provenance": [],
      "authorship_tag": "ABX9TyNuJfkFDOU0UXB/6aYz8h40",
      "include_colab_link": true
    },
    "kernelspec": {
      "display_name": "Python 3",
      "name": "python3"
    },
    "language_info": {
      "name": "python"
    }
  },
  "nbformat": 4,
  "nbformat_minor": 0
}