{
  "cells": [
    {
      "cell_type": "markdown",
      "metadata": {
        "id": "view-in-github",
        "colab_type": "text"
      },
      "source": [
        "<a href=\"https://colab.research.google.com/github/machiwao/CCTHESS1-CCTHESS2-Dev-and-Docs/blob/jessy/Albedo_data_scraping.ipynb\" target=\"_parent\"><img src=\"https://colab.research.google.com/assets/colab-badge.svg\" alt=\"Open In Colab\"/></a>"
      ]
    },
    {
      "cell_type": "code",
      "execution_count": 14,
      "metadata": {
        "colab": {
          "base_uri": "https://localhost:8080/",
          "height": 17
        },
        "id": "q88_pFt6jVfW",
        "outputId": "9ab968bb-0c81-45ca-a357-188ce2e3ebde"
      },
      "outputs": [
        {
          "output_type": "display_data",
          "data": {
            "text/plain": [
              "<IPython.core.display.HTML object>"
            ],
            "text/html": [
              "\n",
              "            <style>\n",
              "                .geemap-dark {\n",
              "                    --jp-widgets-color: white;\n",
              "                    --jp-widgets-label-color: white;\n",
              "                    --jp-ui-font-color1: white;\n",
              "                    --jp-layout-color2: #454545;\n",
              "                    background-color: #383838;\n",
              "                }\n",
              "\n",
              "                .geemap-dark .jupyter-button {\n",
              "                    --jp-layout-color3: #383838;\n",
              "                }\n",
              "\n",
              "                .geemap-colab {\n",
              "                    background-color: var(--colab-primary-surface-color, white);\n",
              "                }\n",
              "\n",
              "                .geemap-colab .jupyter-button {\n",
              "                    --jp-layout-color3: var(--colab-primary-surface-color, white);\n",
              "                }\n",
              "            </style>\n",
              "            "
            ]
          },
          "metadata": {}
        }
      ],
      "source": [
        "import ee\n",
        "import geemap\n",
        "import pandas as pd\n",
        "from scipy.signal import savgol_filter"
      ]
    },
    {
      "cell_type": "code",
      "execution_count": 15,
      "metadata": {
        "colab": {
          "base_uri": "https://localhost:8080/",
          "height": 17
        },
        "id": "yl4SeGpFm-7Q",
        "outputId": "f2560819-a9c3-4e87-fb22-25e245f9ef27"
      },
      "outputs": [
        {
          "output_type": "display_data",
          "data": {
            "text/plain": [
              "<IPython.core.display.HTML object>"
            ],
            "text/html": [
              "\n",
              "            <style>\n",
              "                .geemap-dark {\n",
              "                    --jp-widgets-color: white;\n",
              "                    --jp-widgets-label-color: white;\n",
              "                    --jp-ui-font-color1: white;\n",
              "                    --jp-layout-color2: #454545;\n",
              "                    background-color: #383838;\n",
              "                }\n",
              "\n",
              "                .geemap-dark .jupyter-button {\n",
              "                    --jp-layout-color3: #383838;\n",
              "                }\n",
              "\n",
              "                .geemap-colab {\n",
              "                    background-color: var(--colab-primary-surface-color, white);\n",
              "                }\n",
              "\n",
              "                .geemap-colab .jupyter-button {\n",
              "                    --jp-layout-color3: var(--colab-primary-surface-color, white);\n",
              "                }\n",
              "            </style>\n",
              "            "
            ]
          },
          "metadata": {}
        }
      ],
      "source": [
        "# Authenticate and initialize Earth Engine\n",
        "cloud_project = 'heat-index-forecasting'\n",
        "\n",
        "try:\n",
        "  ee.Initialize(project=cloud_project)\n",
        "except:\n",
        "  ee.Authenticate()\n",
        "  ee.Initialize(project=cloud_project)\n",
        "\n",
        "stations = {\n",
        "  \"Sinait\": ee.Geometry.Point([120.459762, 17.89019]).buffer(25000),\n",
        "  \"Tayabas\": ee.Geometry.Point([121.596575, 14.018428]).buffer(25000),\n",
        "  \"Tanay\": ee.Geometry.Point([121.36927, 14.581167]).buffer(25000),\n",
        "  \"Tuguegarao\": ee.Geometry.Point([121.758469, 17.647678]).buffer(25000),\n",
        "  \"Virac\": ee.Geometry.Point([124.209834, 13.576558]).buffer(25000),\n",
        "}\n",
        "\n",
        "start_date = \"2014-01-01\"\n",
        "end_date   = \"2024-01-01\""
      ]
    },
    {
      "cell_type": "code",
      "execution_count": 37,
      "metadata": {
        "colab": {
          "base_uri": "https://localhost:8080/",
          "height": 17
        },
        "id": "ff5aV72FnLzU",
        "outputId": "db421afe-4855-4833-dcde-0f1022078ead"
      },
      "outputs": [
        {
          "output_type": "display_data",
          "data": {
            "text/plain": [
              "<IPython.core.display.HTML object>"
            ],
            "text/html": [
              "\n",
              "            <style>\n",
              "                .geemap-dark {\n",
              "                    --jp-widgets-color: white;\n",
              "                    --jp-widgets-label-color: white;\n",
              "                    --jp-ui-font-color1: white;\n",
              "                    --jp-layout-color2: #454545;\n",
              "                    background-color: #383838;\n",
              "                }\n",
              "\n",
              "                .geemap-dark .jupyter-button {\n",
              "                    --jp-layout-color3: #383838;\n",
              "                }\n",
              "\n",
              "                .geemap-colab {\n",
              "                    background-color: var(--colab-primary-surface-color, white);\n",
              "                }\n",
              "\n",
              "                .geemap-colab .jupyter-button {\n",
              "                    --jp-layout-color3: var(--colab-primary-surface-color, white);\n",
              "                }\n",
              "            </style>\n",
              "            "
            ]
          },
          "metadata": {}
        }
      ],
      "source": [
        "def process_station(station_name, geometry, start_date, end_date):\n",
        "    \"\"\"\n",
        "    Extract daily Albedo time series from HLS (HLSL30 for Landsat, HLSS30 for Sentinel).\n",
        "    Applies interpolation and saves to CSV.\n",
        "    \"\"\"\n",
        "\n",
        "    print(f\"Processing Albedo for {station_name}...\")\n",
        "\n",
        "    # Landsat (HLSL30)\n",
        "    hlsl = ee.ImageCollection(\"NASA/HLS/HLSL30/v002\") \\\n",
        "        .filterDate(start_date, end_date) \\\n",
        "        .filterBounds(geometry)\n",
        "\n",
        "    def landsat_albedo(img):\n",
        "        date = img.date().format(\"YYYY-MM-dd\")\n",
        "        blue = img.select(\"B2\")\n",
        "        red = img.select(\"B4\")\n",
        "        nir = img.select(\"B5\")\n",
        "        swir1 = img.select(\"B6\")\n",
        "        swir2 = img.select(\"B7\")\n",
        "\n",
        "        albedo = (\n",
        "            blue.multiply(0.356)\n",
        "            .add(red.multiply(0.130))\n",
        "            .add(nir.multiply(0.373))\n",
        "            .add(swir1.multiply(0.085))\n",
        "            .add(swir2.multiply(0.072))\n",
        "            .subtract(0.0018)\n",
        "        ).divide(1.016).rename(\"Albedo\")\n",
        "\n",
        "        return ee.Feature(\n",
        "            None,\n",
        "            {\n",
        "                \"date\": date,\n",
        "                \"Albedo\": albedo.reduceRegion(\n",
        "                    reducer=ee.Reducer.mean(),\n",
        "                    geometry=geometry,\n",
        "                    bestEffort=True,\n",
        "                    maxPixels=1e9,\n",
        "                ).get(\"Albedo\"),\n",
        "            },\n",
        "        )\n",
        "\n",
        "    hlsl_features = hlsl.map(landsat_albedo)\n",
        "\n",
        "    # Sentinel (HLSS30)\n",
        "    hlss = ee.ImageCollection(\"NASA/HLS/HLSS30/v002\") \\\n",
        "        .filterDate(start_date, end_date) \\\n",
        "        .filterBounds(geometry)\n",
        "\n",
        "    def sentinel_albedo(img):\n",
        "        date = img.date().format(\"YYYY-MM-dd\")\n",
        "        blue = img.select(\"B2\")\n",
        "        red = img.select(\"B4\")\n",
        "        nir = img.select(\"B8\")\n",
        "        swir1 = img.select(\"B11\")\n",
        "        swir2 = img.select(\"B12\")\n",
        "\n",
        "        albedo = (\n",
        "            blue.multiply(0.356)\n",
        "            .add(red.multiply(0.130))\n",
        "            .add(nir.multiply(0.373))\n",
        "            .add(swir1.multiply(0.085))\n",
        "            .add(swir2.multiply(0.072))\n",
        "            .subtract(0.0018)\n",
        "        ).rename(\"Albedo\")\n",
        "\n",
        "        return ee.Feature(\n",
        "            None,\n",
        "            {\n",
        "                \"date\": date,\n",
        "                \"Albedo\": albedo.reduceRegion(\n",
        "                    reducer=ee.Reducer.mean(),\n",
        "                    geometry=geometry,\n",
        "                    bestEffort=True,\n",
        "                    maxPixels=1e9,\n",
        "                ).get(\"Albedo\"),\n",
        "            },\n",
        "        )\n",
        "\n",
        "    hlss_features = hlss.map(sentinel_albedo)\n",
        "\n",
        "    # Merge Landsat + Sentinel results\n",
        "    features = hlsl_features.merge(hlss_features)\n",
        "\n",
        "    # Convert to pandas\n",
        "    df = geemap.ee_to_df(ee.FeatureCollection(features))\n",
        "\n",
        "    if df.empty:\n",
        "        print(f\"No data for {station_name}\")\n",
        "        return None\n",
        "\n",
        "    # Process time series\n",
        "    df[\"date\"] = pd.to_datetime(df[\"date\"])\n",
        "    df = df.sort_values(\"date\").groupby(\"date\").mean().reset_index()\n",
        "\n",
        "    # Keep original values\n",
        "    df = df.rename(columns={\"Albedo\": \"Albedo_original\"})\n",
        "\n",
        "    # Reindex to daily frequency\n",
        "    full_range = pd.date_range(start=start_date, end=end_date, freq=\"D\")\n",
        "    df = df.set_index(\"date\").reindex(full_range)\n",
        "    df.index.name = \"date\"\n",
        "    df = df.reset_index()\n",
        "\n",
        "    # Interpolation\n",
        "    df[\"Albedo_linear\"] = df[\"Albedo_original\"].interpolate(method=\"linear\", limit_direction=\"both\")\n",
        "    df[\"Albedo_spline\"] = df[\"Albedo_original\"].interpolate(method=\"spline\", order=2, limit_direction=\"both\")\n",
        "\n",
        "    # Metadata\n",
        "    df[\"station\"] = station_name\n",
        "\n",
        "    # Save\n",
        "    filename = f\"{station_name}_Albedo.csv\"\n",
        "    df.to_csv(filename, index=False)\n",
        "    print(f\"Saved {filename} with {df.shape[0]} rows\")\n",
        "\n",
        "    return df"
      ]
    },
    {
      "cell_type": "code",
      "execution_count": 38,
      "metadata": {
        "colab": {
          "base_uri": "https://localhost:8080/",
          "height": 191
        },
        "id": "E0yvMPKVnOS_",
        "outputId": "ef97eb82-ec4a-4f64-8f2a-27bbe80d69e3"
      },
      "outputs": [
        {
          "output_type": "display_data",
          "data": {
            "text/plain": [
              "<IPython.core.display.HTML object>"
            ],
            "text/html": [
              "\n",
              "            <style>\n",
              "                .geemap-dark {\n",
              "                    --jp-widgets-color: white;\n",
              "                    --jp-widgets-label-color: white;\n",
              "                    --jp-ui-font-color1: white;\n",
              "                    --jp-layout-color2: #454545;\n",
              "                    background-color: #383838;\n",
              "                }\n",
              "\n",
              "                .geemap-dark .jupyter-button {\n",
              "                    --jp-layout-color3: #383838;\n",
              "                }\n",
              "\n",
              "                .geemap-colab {\n",
              "                    background-color: var(--colab-primary-surface-color, white);\n",
              "                }\n",
              "\n",
              "                .geemap-colab .jupyter-button {\n",
              "                    --jp-layout-color3: var(--colab-primary-surface-color, white);\n",
              "                }\n",
              "            </style>\n",
              "            "
            ]
          },
          "metadata": {}
        },
        {
          "output_type": "stream",
          "name": "stdout",
          "text": [
            "Processing Albedo for Sinait...\n",
            "Saved Sinait_Albedo.csv with 3653 rows\n",
            "Processing Albedo for Tayabas...\n",
            "Saved Tayabas_Albedo.csv with 3653 rows\n",
            "Processing Albedo for Tanay...\n",
            "Saved Tanay_Albedo.csv with 3653 rows\n",
            "Processing Albedo for Tuguegarao...\n",
            "Saved Tuguegarao_Albedo.csv with 3653 rows\n",
            "Processing Albedo for Virac...\n",
            "Saved Virac_Albedo.csv with 3653 rows\n"
          ]
        }
      ],
      "source": [
        "all_dfs = {}\n",
        "for station, geom in stations.items():\n",
        "     all_dfs[station] = process_station(station, geom, start_date, end_date)"
      ]
    },
    {
      "cell_type": "code",
      "metadata": {
        "id": "e0e70a82"
      },
      "source": [
        "# Check the first few rows of one of the dataframes\n",
        "if all_dfs:\n",
        "    first_station = list(all_dfs.keys())[0]\n",
        "    print(f\"First values for {first_station}:\")\n",
        "    display(all_dfs[first_station].head())\n",
        "else:\n",
        "    print(\"No dataframes were processed.\")"
      ],
      "execution_count": null,
      "outputs": []
    },
    {
      "cell_type": "code",
      "execution_count": null,
      "metadata": {
        "id": "Sg6f4jqbB6Xn"
      },
      "outputs": [],
      "source": [
        "import pandas as pd\n",
        "import matplotlib.pyplot as plt\n",
        "\n",
        "def plot_values(csv_file, station_name):\n",
        "    # Load CSV (expects columns: date, NDBI_original, NDBI_linear, NDBI_spline)\n",
        "    df = pd.read_csv(csv_file, parse_dates=[\"date\"])\n",
        "\n",
        "    # Plot\n",
        "    plt.figure(figsize=(12, 6))\n",
        "    plt.plot(df[\"date\"], df[\"Albedo_original\"], label=\"Albedo (raw)\", alpha=0.6)\n",
        "    plt.plot(df[\"date\"], df[\"Albedo_linear\"], label=\"Albedo (linear interpolation)\", linewidth=2)\n",
        "    plt.plot(df[\"date\"], df[\"Albedo_spline\"], label=\"Albedo (spline interpolation)\", linewidth=2)\n",
        "\n",
        "\n",
        "    plt.xlabel(\"Date\")\n",
        "    plt.ylabel(\"Albedo\")\n",
        "    plt.title(f\"Albedo vs. Interpolated Albedo - {station_name}\")\n",
        "    plt.legend()\n",
        "    plt.grid(True)\n",
        "    plt.tight_layout()\n",
        "    plt.show()\n",
        "\n",
        "station_names = [\"Sinait\", \"Tanay\", \"Tayabas\", \"Tuguegarao\", \"Virac\"]\n",
        "for station in station_names:\n",
        "    csv_file = f\"{station}_Albedo.csv\"\n",
        "    plot_values(csv_file, station)"
      ]
    }
  ],
  "metadata": {
    "colab": {
      "provenance": [],
      "authorship_tag": "ABX9TyNo64cSVA/ezWPoEXs0yNsO",
      "include_colab_link": true
    },
    "kernelspec": {
      "display_name": "Python 3",
      "name": "python3"
    },
    "language_info": {
      "name": "python"
    }
  },
  "nbformat": 4,
  "nbformat_minor": 0
}