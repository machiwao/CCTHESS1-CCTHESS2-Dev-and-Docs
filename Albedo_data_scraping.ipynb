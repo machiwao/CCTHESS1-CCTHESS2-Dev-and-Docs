{
  "cells": [
    {
      "cell_type": "markdown",
      "metadata": {
        "id": "view-in-github",
        "colab_type": "text"
      },
      "source": [
        "<a href=\"https://colab.research.google.com/github/machiwao/CCTHESS1-CCTHESS2-Dev-and-Docs/blob/jessy/Albedo_data_scraping.ipynb\" target=\"_parent\"><img src=\"https://colab.research.google.com/assets/colab-badge.svg\" alt=\"Open In Colab\"/></a>"
      ]
    },
    {
      "cell_type": "code",
      "execution_count": 1,
      "metadata": {
        "id": "q88_pFt6jVfW"
      },
      "outputs": [],
      "source": [
        "import ee\n",
        "import geemap\n",
        "import pandas as pd\n",
        "from scipy.signal import savgol_filter"
      ]
    },
    {
      "cell_type": "code",
      "execution_count": 2,
      "metadata": {
        "colab": {
          "base_uri": "https://localhost:8080/",
          "height": 34
        },
        "id": "yl4SeGpFm-7Q",
        "outputId": "45ec44ae-1b19-4664-c487-add297594bb0"
      },
      "outputs": [
        {
          "output_type": "display_data",
          "data": {
            "text/plain": [
              "<IPython.core.display.HTML object>"
            ],
            "text/html": [
              "\n",
              "            <style>\n",
              "                .geemap-dark {\n",
              "                    --jp-widgets-color: white;\n",
              "                    --jp-widgets-label-color: white;\n",
              "                    --jp-ui-font-color1: white;\n",
              "                    --jp-layout-color2: #454545;\n",
              "                    background-color: #383838;\n",
              "                }\n",
              "\n",
              "                .geemap-dark .jupyter-button {\n",
              "                    --jp-layout-color3: #383838;\n",
              "                }\n",
              "\n",
              "                .geemap-colab {\n",
              "                    background-color: var(--colab-primary-surface-color, white);\n",
              "                }\n",
              "\n",
              "                .geemap-colab .jupyter-button {\n",
              "                    --jp-layout-color3: var(--colab-primary-surface-color, white);\n",
              "                }\n",
              "            </style>\n",
              "            "
            ]
          },
          "metadata": {}
        },
        {
          "output_type": "stream",
          "name": "stderr",
          "text": [
            "*** Earth Engine *** Share your feedback by taking our Annual Developer Satisfaction Survey: https://google.qualtrics.com/jfe/form/SV_7TDKVSyKvBdmMqW?ref=4i2o6\n"
          ]
        }
      ],
      "source": [
        "# Authenticate and initialize Earth Engine\n",
        "cloud_project = 'heat-index-forecasting'\n",
        "\n",
        "try:\n",
        "  ee.Initialize(project=cloud_project)\n",
        "except:\n",
        "  ee.Authenticate()\n",
        "  ee.Initialize(project=cloud_project)"
      ]
    },
    {
      "cell_type": "code",
      "execution_count": 3,
      "metadata": {
        "colab": {
          "base_uri": "https://localhost:8080/",
          "height": 17
        },
        "id": "XmtG11GvnT_q",
        "outputId": "e84ef116-4269-462d-8e60-b017a9e3aa78"
      },
      "outputs": [
        {
          "output_type": "display_data",
          "data": {
            "text/plain": [
              "<IPython.core.display.HTML object>"
            ],
            "text/html": [
              "\n",
              "            <style>\n",
              "                .geemap-dark {\n",
              "                    --jp-widgets-color: white;\n",
              "                    --jp-widgets-label-color: white;\n",
              "                    --jp-ui-font-color1: white;\n",
              "                    --jp-layout-color2: #454545;\n",
              "                    background-color: #383838;\n",
              "                }\n",
              "\n",
              "                .geemap-dark .jupyter-button {\n",
              "                    --jp-layout-color3: #383838;\n",
              "                }\n",
              "\n",
              "                .geemap-colab {\n",
              "                    background-color: var(--colab-primary-surface-color, white);\n",
              "                }\n",
              "\n",
              "                .geemap-colab .jupyter-button {\n",
              "                    --jp-layout-color3: var(--colab-primary-surface-color, white);\n",
              "                }\n",
              "            </style>\n",
              "            "
            ]
          },
          "metadata": {}
        }
      ],
      "source": [
        "stations = {\n",
        "    \"Sinait\": ee.Geometry.Point([120.459762, 17.89019]).buffer(25000),\n",
        "    \"Tayabas\": ee.Geometry.Point([121.596575, 14.018428]).buffer(25000),\n",
        "    \"Tanay\": ee.Geometry.Point([121.36927, 14.581167]).buffer(25000),\n",
        "    \"Tuguegarao\": ee.Geometry.Point([121.758469, 17.647678]).buffer(25000),\n",
        "    \"Virac\": ee.Geometry.Point([124.209834, 13.576558]).buffer(25000),\n",
        "}\n",
        "\n",
        "start_date = \"2014-01-01\"\n",
        "end_date   = \"2024-01-01\"\n",
        "full_range = pd.date_range(start_date, end_date, freq=\"D\")\n",
        "\n",
        "albedo = ee.ImageCollection(\"LANDSAT/LC08/C02/T2_L2\").filterDate(start_date, end_date)"
      ]
    },
    {
      "cell_type": "code",
      "execution_count": 4,
      "metadata": {
        "colab": {
          "base_uri": "https://localhost:8080/",
          "height": 347
        },
        "id": "q9WyR2imtEvf",
        "outputId": "6e00f99b-382c-43e9-8dcc-a6664ec7b50c"
      },
      "outputs": [
        {
          "output_type": "display_data",
          "data": {
            "text/plain": [
              "<IPython.core.display.HTML object>"
            ],
            "text/html": [
              "\n",
              "            <style>\n",
              "                .geemap-dark {\n",
              "                    --jp-widgets-color: white;\n",
              "                    --jp-widgets-label-color: white;\n",
              "                    --jp-ui-font-color1: white;\n",
              "                    --jp-layout-color2: #454545;\n",
              "                    background-color: #383838;\n",
              "                }\n",
              "\n",
              "                .geemap-dark .jupyter-button {\n",
              "                    --jp-layout-color3: #383838;\n",
              "                }\n",
              "\n",
              "                .geemap-colab {\n",
              "                    background-color: var(--colab-primary-surface-color, white);\n",
              "                }\n",
              "\n",
              "                .geemap-colab .jupyter-button {\n",
              "                    --jp-layout-color3: var(--colab-primary-surface-color, white);\n",
              "                }\n",
              "            </style>\n",
              "            "
            ]
          },
          "metadata": {}
        },
        {
          "output_type": "execute_result",
          "data": {
            "text/plain": [
              "['SR_B1',\n",
              " 'SR_B2',\n",
              " 'SR_B3',\n",
              " 'SR_B4',\n",
              " 'SR_B5',\n",
              " 'SR_B6',\n",
              " 'SR_B7',\n",
              " 'SR_QA_AEROSOL',\n",
              " 'ST_B10',\n",
              " 'ST_ATRAN',\n",
              " 'ST_CDIST',\n",
              " 'ST_DRAD',\n",
              " 'ST_EMIS',\n",
              " 'ST_EMSD',\n",
              " 'ST_QA',\n",
              " 'ST_TRAD',\n",
              " 'ST_URAD',\n",
              " 'QA_PIXEL',\n",
              " 'QA_RADSAT']"
            ]
          },
          "metadata": {},
          "execution_count": 4
        }
      ],
      "source": [
        "sample = albedo.first()\n",
        "sample.bandNames().getInfo()"
      ]
    },
    {
      "cell_type": "code",
      "execution_count": 7,
      "metadata": {
        "colab": {
          "base_uri": "https://localhost:8080/",
          "height": 17
        },
        "id": "ff5aV72FnLzU",
        "outputId": "41b9d10d-553e-4de2-eed3-793f2e1834db"
      },
      "outputs": [
        {
          "output_type": "display_data",
          "data": {
            "text/plain": [
              "<IPython.core.display.HTML object>"
            ],
            "text/html": [
              "\n",
              "            <style>\n",
              "                .geemap-dark {\n",
              "                    --jp-widgets-color: white;\n",
              "                    --jp-widgets-label-color: white;\n",
              "                    --jp-ui-font-color1: white;\n",
              "                    --jp-layout-color2: #454545;\n",
              "                    background-color: #383838;\n",
              "                }\n",
              "\n",
              "                .geemap-dark .jupyter-button {\n",
              "                    --jp-layout-color3: #383838;\n",
              "                }\n",
              "\n",
              "                .geemap-colab {\n",
              "                    background-color: var(--colab-primary-surface-color, white);\n",
              "                }\n",
              "\n",
              "                .geemap-colab .jupyter-button {\n",
              "                    --jp-layout-color3: var(--colab-primary-surface-color, white);\n",
              "                }\n",
              "            </style>\n",
              "            "
            ]
          },
          "metadata": {}
        }
      ],
      "source": [
        "def extract_albedo(geometry, station_name):\n",
        "    print(f\"\\n--- Processing {station_name} ---\")\n",
        "\n",
        "    def process(img):\n",
        "        # Landsat 8 Collection 2 Level-2 SR bands are scaled integers.\n",
        "        # According to the USGS Landsat Collection 2 Science Product Guide:\n",
        "        # Reflectance = DN * 0.0000275 - 0.2\n",
        "        # Reference: https://www.usgs.gov/landsat-missions/landsat-collection-2-level-2-science-products\n",
        "        scale = 0.0000275\n",
        "        offset = -0.2\n",
        "\n",
        "        # Apply scale and offset to surface reflectance bands\n",
        "        b2 = img.select(\"SR_B2\").multiply(scale).add(offset)  # Blue\n",
        "        b4 = img.select(\"SR_B4\").multiply(scale).add(offset)  # Red\n",
        "        b5 = img.select(\"SR_B5\").multiply(scale).add(offset)  # NIR\n",
        "        b6 = img.select(\"SR_B6\").multiply(scale).add(offset)  # SWIR1\n",
        "        b7 = img.select(\"SR_B7\").multiply(scale).add(offset)  # SWIR2\n",
        "\n",
        "        # Albedo equation from literature (coefficients from Liang 2001)\n",
        "        albedo_val = (\n",
        "            b2.multiply(0.356)\n",
        "            .add(b4.multiply(0.130))\n",
        "            .add(b5.multiply(0.373))\n",
        "            .add(b6.multiply(0.085))\n",
        "            .add(b7.multiply(0.072))\n",
        "            .subtract(0.0018)\n",
        "        ).divide(1.016).rename(\"Albedo\")\n",
        "\n",
        "        return ee.Feature(\n",
        "            None,\n",
        "            {\n",
        "                \"date\": img.date().format(\"YYYY-MM-dd\"),\n",
        "                \"Albedo\": albedo_val.reduceRegion(\n",
        "                    reducer=ee.Reducer.mean(),\n",
        "                    geometry=geometry,\n",
        "                    bestEffort=True,\n",
        "                    maxPixels=1e9\n",
        "                ).get(\"Albedo\"),\n",
        "            },\n",
        "        )\n",
        "\n",
        "    features = albedo.map(process)\n",
        "    features = ee.FeatureCollection(features)\n",
        "\n",
        "    # Convert to DataFrame\n",
        "    df = geemap.ee_to_df(features)\n",
        "\n",
        "    if df.empty:\n",
        "        print(f\"No data for {station_name}\")\n",
        "        return None\n",
        "\n",
        "    df[\"date\"] = pd.to_datetime(df[\"date\"])\n",
        "    df = df.sort_values(\"date\")\n",
        "\n",
        "    # Reindex to full daily timeline\n",
        "    full_range = pd.date_range(start=df[\"date\"].min(), end=df[\"date\"].max(), freq=\"D\")\n",
        "    df = df.set_index(\"date\").reindex(full_range)\n",
        "\n",
        "    # Interpolate missing values\n",
        "    df[\"Albedo\"] = pd.to_numeric(df[\"Albedo\"], errors=\"coerce\")\n",
        "    df[\"Albedo\"] = df[\"Albedo\"].interpolate(method=\"linear\").ffill().bfill()\n",
        "\n",
        "    df.index.name = \"date\"\n",
        "    df = df.reset_index().rename(columns={\"index\": \"date\"})\n",
        "    df[\"station\"] = station_name\n",
        "\n",
        "    # Save to CSV\n",
        "    filename = f\"{station_name}_Albedo.csv\"\n",
        "    df.to_csv(filename, index=False)\n",
        "    print(f\"Saved {filename} with {df.shape[0]} rows\")\n",
        "\n",
        "    return df"
      ]
    },
    {
      "cell_type": "code",
      "execution_count": null,
      "metadata": {
        "colab": {
          "base_uri": "https://localhost:8080/",
          "height": 52
        },
        "id": "E0yvMPKVnOS_",
        "outputId": "5922526a-43b7-4a18-ba1e-57f6cf6e9a02"
      },
      "outputs": [
        {
          "output_type": "display_data",
          "data": {
            "text/plain": [
              "<IPython.core.display.HTML object>"
            ],
            "text/html": [
              "\n",
              "            <style>\n",
              "                .geemap-dark {\n",
              "                    --jp-widgets-color: white;\n",
              "                    --jp-widgets-label-color: white;\n",
              "                    --jp-ui-font-color1: white;\n",
              "                    --jp-layout-color2: #454545;\n",
              "                    background-color: #383838;\n",
              "                }\n",
              "\n",
              "                .geemap-dark .jupyter-button {\n",
              "                    --jp-layout-color3: #383838;\n",
              "                }\n",
              "\n",
              "                .geemap-colab {\n",
              "                    background-color: var(--colab-primary-surface-color, white);\n",
              "                }\n",
              "\n",
              "                .geemap-colab .jupyter-button {\n",
              "                    --jp-layout-color3: var(--colab-primary-surface-color, white);\n",
              "                }\n",
              "            </style>\n",
              "            "
            ]
          },
          "metadata": {}
        },
        {
          "output_type": "stream",
          "name": "stdout",
          "text": [
            "\n",
            "--- Processing Sinait ---\n"
          ]
        }
      ],
      "source": [
        "all_dfs = {}\n",
        "for station, geom in stations.items():\n",
        "    df_station = extract_albedo(geom, station)\n",
        "    if df_station is not None:\n",
        "        all_dfs[station] = df_station\n",
        "\n",
        "print(\"\\nProcessing complete!\")"
      ]
    },
    {
      "cell_type": "code",
      "execution_count": null,
      "metadata": {
        "id": "Sg6f4jqbB6Xn"
      },
      "outputs": [],
      "source": [
        "# import pandas as pd\n",
        "# import matplotlib.pyplot as plt\n",
        "# import glob\n",
        "\n",
        "# # Load all station CSVs\n",
        "# csv_files = glob.glob(\"*_Albedo.csv\")\n",
        "\n",
        "# plt.figure(figsize=(14, 6))\n",
        "\n",
        "# for file in csv_files:\n",
        "#     df = pd.read_csv(file, parse_dates=[\"date\"])\n",
        "#     station_name = file.split(\"_\")[0].capitalize()\n",
        "\n",
        "#     # Plot BHA\n",
        "#     plt.plot(df[\"date\"], df[\"BHA\"], label=station_name)\n",
        "\n",
        "# plt.title(\"Daily BHA Values (Interpolated) for All Stations\")\n",
        "# plt.xlabel(\"Date\")\n",
        "# plt.ylabel(\"BHA (scaled reflectance)\")\n",
        "# plt.legend()\n",
        "# plt.grid(True, linestyle=\"--\", alpha=0.6)\n",
        "# plt.tight_layout()\n",
        "# plt.show()\n"
      ]
    }
  ],
  "metadata": {
    "colab": {
      "provenance": [],
      "authorship_tag": "ABX9TyNx+qs/N/muwwygA740keOg",
      "include_colab_link": true
    },
    "kernelspec": {
      "display_name": "Python 3",
      "name": "python3"
    },
    "language_info": {
      "name": "python"
    }
  },
  "nbformat": 4,
  "nbformat_minor": 0
}