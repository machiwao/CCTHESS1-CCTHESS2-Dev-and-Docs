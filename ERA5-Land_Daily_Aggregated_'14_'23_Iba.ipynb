{
  "nbformat": 4,
  "nbformat_minor": 0,
  "metadata": {
    "colab": {
      "provenance": [],
      "gpuType": "T4",
      "authorship_tag": "ABX9TyO96I9TUzSrhLT/YxioHXov",
      "include_colab_link": true
    },
    "kernelspec": {
      "name": "python3",
      "display_name": "Python 3"
    },
    "language_info": {
      "name": "python"
    }
  },
  "cells": [
    {
      "cell_type": "markdown",
      "metadata": {
        "id": "view-in-github",
        "colab_type": "text"
      },
      "source": [
        "<a href=\"https://colab.research.google.com/github/machiwao/CCTHESS1-CCTHESS2-Dev-and-Docs/blob/coco/ERA5-Land_Daily_Aggregated_'14_'23_Iba.ipynb\" target=\"_parent\"><img src=\"https://colab.research.google.com/assets/colab-badge.svg\" alt=\"Open In Colab\"/></a>"
      ]
    },
    {
      "cell_type": "code",
      "source": [
        "!pip install earthengine-api geemap --quiet"
      ],
      "metadata": {
        "id": "pVGOcpRez8yD"
      },
      "execution_count": 1,
      "outputs": []
    },
    {
      "cell_type": "code",
      "source": [
        "import ee\n",
        "import geemap\n",
        "import pandas as pd"
      ],
      "metadata": {
        "id": "C_0LgTqnygkH"
      },
      "execution_count": 2,
      "outputs": []
    },
    {
      "cell_type": "code",
      "source": [
        "# Authenticate with Google Earth Engine\n",
        "ee.Authenticate()\n",
        "ee.Initialize(project='heat-index-472312')"
      ],
      "metadata": {
        "colab": {
          "base_uri": "https://localhost:8080/",
          "height": 54
        },
        "id": "nJpyoASSyl-v",
        "outputId": "91695c43-6c08-4f03-80f2-f6e65b8d450a"
      },
      "execution_count": 3,
      "outputs": [
        {
          "output_type": "display_data",
          "data": {
            "text/plain": [
              "<IPython.core.display.HTML object>"
            ],
            "text/html": [
              "\n",
              "            <style>\n",
              "                .geemap-dark {\n",
              "                    --jp-widgets-color: white;\n",
              "                    --jp-widgets-label-color: white;\n",
              "                    --jp-ui-font-color1: white;\n",
              "                    --jp-layout-color2: #454545;\n",
              "                    background-color: #383838;\n",
              "                }\n",
              "\n",
              "                .geemap-dark .jupyter-button {\n",
              "                    --jp-layout-color3: #383838;\n",
              "                }\n",
              "\n",
              "                .geemap-colab {\n",
              "                    background-color: var(--colab-primary-surface-color, white);\n",
              "                }\n",
              "\n",
              "                .geemap-colab .jupyter-button {\n",
              "                    --jp-layout-color3: var(--colab-primary-surface-color, white);\n",
              "                }\n",
              "            </style>\n",
              "            "
            ]
          },
          "metadata": {}
        },
        {
          "output_type": "stream",
          "name": "stderr",
          "text": [
            "*** Earth Engine *** Share your feedback by taking our Annual Developer Satisfaction Survey: https://google.qualtrics.com/jfe/form/SV_7TDKVSyKvBdmMqW?ref=4i2o6\n"
          ]
        }
      ]
    },
    {
      "cell_type": "code",
      "source": [
        "station_name = \"Iba\"   # Example, replace with your station\n",
        "station_coords = [119.965661, 15.328408]  # [longitude, latitude] of your station\n",
        "buffer_km = 25"
      ],
      "metadata": {
        "colab": {
          "base_uri": "https://localhost:8080/",
          "height": 17
        },
        "id": "qv83JsN9ywUB",
        "outputId": "feec0d0b-d935-447b-ad8d-00035d6324ec"
      },
      "execution_count": 4,
      "outputs": [
        {
          "output_type": "display_data",
          "data": {
            "text/plain": [
              "<IPython.core.display.HTML object>"
            ],
            "text/html": [
              "\n",
              "            <style>\n",
              "                .geemap-dark {\n",
              "                    --jp-widgets-color: white;\n",
              "                    --jp-widgets-label-color: white;\n",
              "                    --jp-ui-font-color1: white;\n",
              "                    --jp-layout-color2: #454545;\n",
              "                    background-color: #383838;\n",
              "                }\n",
              "\n",
              "                .geemap-dark .jupyter-button {\n",
              "                    --jp-layout-color3: #383838;\n",
              "                }\n",
              "\n",
              "                .geemap-colab {\n",
              "                    background-color: var(--colab-primary-surface-color, white);\n",
              "                }\n",
              "\n",
              "                .geemap-colab .jupyter-button {\n",
              "                    --jp-layout-color3: var(--colab-primary-surface-color, white);\n",
              "                }\n",
              "            </style>\n",
              "            "
            ]
          },
          "metadata": {}
        }
      ]
    },
    {
      "cell_type": "code",
      "source": [
        "station_geom = ee.Geometry.Point(station_coords).buffer(buffer_km * 1000)\n",
        "print(f\"Station: {station_name}, Geometry created\")"
      ],
      "metadata": {
        "colab": {
          "base_uri": "https://localhost:8080/",
          "height": 34
        },
        "id": "w6Gfi-bTzEyu",
        "outputId": "17a7197e-56a2-43f8-fc16-ce634515576e"
      },
      "execution_count": 5,
      "outputs": [
        {
          "output_type": "display_data",
          "data": {
            "text/plain": [
              "<IPython.core.display.HTML object>"
            ],
            "text/html": [
              "\n",
              "            <style>\n",
              "                .geemap-dark {\n",
              "                    --jp-widgets-color: white;\n",
              "                    --jp-widgets-label-color: white;\n",
              "                    --jp-ui-font-color1: white;\n",
              "                    --jp-layout-color2: #454545;\n",
              "                    background-color: #383838;\n",
              "                }\n",
              "\n",
              "                .geemap-dark .jupyter-button {\n",
              "                    --jp-layout-color3: #383838;\n",
              "                }\n",
              "\n",
              "                .geemap-colab {\n",
              "                    background-color: var(--colab-primary-surface-color, white);\n",
              "                }\n",
              "\n",
              "                .geemap-colab .jupyter-button {\n",
              "                    --jp-layout-color3: var(--colab-primary-surface-color, white);\n",
              "                }\n",
              "            </style>\n",
              "            "
            ]
          },
          "metadata": {}
        },
        {
          "output_type": "stream",
          "name": "stdout",
          "text": [
            "Station: Iba, Geometry created\n"
          ]
        }
      ]
    },
    {
      "cell_type": "code",
      "source": [
        "dataset = ee.ImageCollection(\"ECMWF/ERA5_LAND/DAILY_AGGR\") \\\n",
        "  .filterDate('2014-01-01', '2023-12-31')"
      ],
      "metadata": {
        "id": "Z6b-Clz_zIGJ",
        "colab": {
          "base_uri": "https://localhost:8080/",
          "height": 17
        },
        "outputId": "1c6c1acf-cd66-40ac-d21f-ebee9f69799c"
      },
      "execution_count": 6,
      "outputs": [
        {
          "output_type": "display_data",
          "data": {
            "text/plain": [
              "<IPython.core.display.HTML object>"
            ],
            "text/html": [
              "\n",
              "            <style>\n",
              "                .geemap-dark {\n",
              "                    --jp-widgets-color: white;\n",
              "                    --jp-widgets-label-color: white;\n",
              "                    --jp-ui-font-color1: white;\n",
              "                    --jp-layout-color2: #454545;\n",
              "                    background-color: #383838;\n",
              "                }\n",
              "\n",
              "                .geemap-dark .jupyter-button {\n",
              "                    --jp-layout-color3: #383838;\n",
              "                }\n",
              "\n",
              "                .geemap-colab {\n",
              "                    background-color: var(--colab-primary-surface-color, white);\n",
              "                }\n",
              "\n",
              "                .geemap-colab .jupyter-button {\n",
              "                    --jp-layout-color3: var(--colab-primary-surface-color, white);\n",
              "                }\n",
              "            </style>\n",
              "            "
            ]
          },
          "metadata": {}
        }
      ]
    },
    {
      "cell_type": "code",
      "source": [
        "print(\"Available Bands:\", dataset.first().bandNames().getInfo())\n",
        "print(\"Dataset size:\", dataset.size().getInfo())"
      ],
      "metadata": {
        "id": "7fvs5Xiob0_T",
        "colab": {
          "base_uri": "https://localhost:8080/",
          "height": 72
        },
        "outputId": "c024727c-b28b-4b82-de99-ec59122c0eab"
      },
      "execution_count": 7,
      "outputs": [
        {
          "output_type": "display_data",
          "data": {
            "text/plain": [
              "<IPython.core.display.HTML object>"
            ],
            "text/html": [
              "\n",
              "            <style>\n",
              "                .geemap-dark {\n",
              "                    --jp-widgets-color: white;\n",
              "                    --jp-widgets-label-color: white;\n",
              "                    --jp-ui-font-color1: white;\n",
              "                    --jp-layout-color2: #454545;\n",
              "                    background-color: #383838;\n",
              "                }\n",
              "\n",
              "                .geemap-dark .jupyter-button {\n",
              "                    --jp-layout-color3: #383838;\n",
              "                }\n",
              "\n",
              "                .geemap-colab {\n",
              "                    background-color: var(--colab-primary-surface-color, white);\n",
              "                }\n",
              "\n",
              "                .geemap-colab .jupyter-button {\n",
              "                    --jp-layout-color3: var(--colab-primary-surface-color, white);\n",
              "                }\n",
              "            </style>\n",
              "            "
            ]
          },
          "metadata": {}
        },
        {
          "output_type": "stream",
          "name": "stdout",
          "text": [
            "Available Bands: ['dewpoint_temperature_2m', 'temperature_2m', 'skin_temperature', 'soil_temperature_level_1', 'soil_temperature_level_2', 'soil_temperature_level_3', 'soil_temperature_level_4', 'lake_bottom_temperature', 'lake_ice_depth', 'lake_ice_temperature', 'lake_mix_layer_depth', 'lake_mix_layer_temperature', 'lake_shape_factor', 'lake_total_layer_temperature', 'snow_albedo', 'snow_cover', 'snow_density', 'snow_depth', 'snow_depth_water_equivalent', 'snowfall_sum', 'snowmelt_sum', 'temperature_of_snow_layer', 'skin_reservoir_content', 'volumetric_soil_water_layer_1', 'volumetric_soil_water_layer_2', 'volumetric_soil_water_layer_3', 'volumetric_soil_water_layer_4', 'forecast_albedo', 'surface_latent_heat_flux_sum', 'surface_net_solar_radiation_sum', 'surface_net_thermal_radiation_sum', 'surface_sensible_heat_flux_sum', 'surface_solar_radiation_downwards_sum', 'surface_thermal_radiation_downwards_sum', 'evaporation_from_bare_soil_sum', 'evaporation_from_open_water_surfaces_excluding_oceans_sum', 'evaporation_from_the_top_of_canopy_sum', 'evaporation_from_vegetation_transpiration_sum', 'potential_evaporation_sum', 'runoff_sum', 'snow_evaporation_sum', 'sub_surface_runoff_sum', 'surface_runoff_sum', 'total_evaporation_sum', 'u_component_of_wind_10m', 'v_component_of_wind_10m', 'surface_pressure', 'total_precipitation_sum', 'leaf_area_index_high_vegetation', 'leaf_area_index_low_vegetation', 'dewpoint_temperature_2m_min', 'dewpoint_temperature_2m_max', 'temperature_2m_min', 'temperature_2m_max', 'skin_temperature_min', 'skin_temperature_max', 'soil_temperature_level_1_min', 'soil_temperature_level_1_max', 'soil_temperature_level_2_min', 'soil_temperature_level_2_max', 'soil_temperature_level_3_min', 'soil_temperature_level_3_max', 'soil_temperature_level_4_min', 'soil_temperature_level_4_max', 'lake_bottom_temperature_min', 'lake_bottom_temperature_max', 'lake_ice_depth_min', 'lake_ice_depth_max', 'lake_ice_temperature_min', 'lake_ice_temperature_max', 'lake_mix_layer_depth_min', 'lake_mix_layer_depth_max', 'lake_mix_layer_temperature_min', 'lake_mix_layer_temperature_max', 'lake_shape_factor_min', 'lake_shape_factor_max', 'lake_total_layer_temperature_min', 'lake_total_layer_temperature_max', 'snow_albedo_min', 'snow_albedo_max', 'snow_cover_min', 'snow_cover_max', 'snow_density_min', 'snow_density_max', 'snow_depth_min', 'snow_depth_max', 'snow_depth_water_equivalent_min', 'snow_depth_water_equivalent_max', 'snowfall_min', 'snowfall_max', 'snowmelt_min', 'snowmelt_max', 'temperature_of_snow_layer_min', 'temperature_of_snow_layer_max', 'skin_reservoir_content_min', 'skin_reservoir_content_max', 'volumetric_soil_water_layer_1_min', 'volumetric_soil_water_layer_1_max', 'volumetric_soil_water_layer_2_min', 'volumetric_soil_water_layer_2_max', 'volumetric_soil_water_layer_3_min', 'volumetric_soil_water_layer_3_max', 'volumetric_soil_water_layer_4_min', 'volumetric_soil_water_layer_4_max', 'forecast_albedo_min', 'forecast_albedo_max', 'surface_latent_heat_flux_min', 'surface_latent_heat_flux_max', 'surface_net_solar_radiation_min', 'surface_net_solar_radiation_max', 'surface_net_thermal_radiation_min', 'surface_net_thermal_radiation_max', 'surface_sensible_heat_flux_min', 'surface_sensible_heat_flux_max', 'surface_solar_radiation_downwards_min', 'surface_solar_radiation_downwards_max', 'surface_thermal_radiation_downwards_min', 'surface_thermal_radiation_downwards_max', 'evaporation_from_bare_soil_min', 'evaporation_from_bare_soil_max', 'evaporation_from_open_water_surfaces_excluding_oceans_min', 'evaporation_from_open_water_surfaces_excluding_oceans_max', 'evaporation_from_the_top_of_canopy_min', 'evaporation_from_the_top_of_canopy_max', 'evaporation_from_vegetation_transpiration_min', 'evaporation_from_vegetation_transpiration_max', 'potential_evaporation_min', 'potential_evaporation_max', 'runoff_min', 'runoff_max', 'snow_evaporation_min', 'snow_evaporation_max', 'sub_surface_runoff_min', 'sub_surface_runoff_max', 'surface_runoff_min', 'surface_runoff_max', 'total_evaporation_min', 'total_evaporation_max', 'u_component_of_wind_10m_min', 'u_component_of_wind_10m_max', 'v_component_of_wind_10m_min', 'v_component_of_wind_10m_max', 'surface_pressure_min', 'surface_pressure_max', 'total_precipitation_min', 'total_precipitation_max', 'leaf_area_index_high_vegetation_min', 'leaf_area_index_high_vegetation_max', 'leaf_area_index_low_vegetation_min', 'leaf_area_index_low_vegetation_max']\n",
            "Dataset size: 3651\n"
          ]
        }
      ]
    },
    {
      "cell_type": "code",
      "source": [
        "iba = ee.Geometry.Point([119.965661, 15.328408]).buffer(25000)  # [longitude, latitude]\n",
        "print(iba.getInfo())\n",
        "\n",
        "def extract(img):\n",
        "    vals = img.reduceRegion(\n",
        "        reducer=ee.Reducer.mean(),\n",
        "        geometry=station_geom,\n",
        "        scale=11132,  # ~11km resolution\n",
        "        maxPixels=1e13,\n",
        "        bestEffort=True\n",
        "    )\n",
        "    date_val = img.date().format(\"YYYY-MM-dd\")\n",
        "    feature = ee.Feature(None, vals).set(\"date\", date_val)\n",
        "    return feature\n",
        "\n",
        "fc = dataset.map(extract)"
      ],
      "metadata": {
        "id": "OHMRy_OAcQRD",
        "colab": {
          "base_uri": "https://localhost:8080/",
          "height": 54
        },
        "outputId": "d7034bf3-27ff-4373-b1e1-1e8393ef6397"
      },
      "execution_count": 8,
      "outputs": [
        {
          "output_type": "display_data",
          "data": {
            "text/plain": [
              "<IPython.core.display.HTML object>"
            ],
            "text/html": [
              "\n",
              "            <style>\n",
              "                .geemap-dark {\n",
              "                    --jp-widgets-color: white;\n",
              "                    --jp-widgets-label-color: white;\n",
              "                    --jp-ui-font-color1: white;\n",
              "                    --jp-layout-color2: #454545;\n",
              "                    background-color: #383838;\n",
              "                }\n",
              "\n",
              "                .geemap-dark .jupyter-button {\n",
              "                    --jp-layout-color3: #383838;\n",
              "                }\n",
              "\n",
              "                .geemap-colab {\n",
              "                    background-color: var(--colab-primary-surface-color, white);\n",
              "                }\n",
              "\n",
              "                .geemap-colab .jupyter-button {\n",
              "                    --jp-layout-color3: var(--colab-primary-surface-color, white);\n",
              "                }\n",
              "            </style>\n",
              "            "
            ]
          },
          "metadata": {}
        },
        {
          "output_type": "stream",
          "name": "stdout",
          "text": [
            "{'type': 'Polygon', 'coordinates': [[[119.96566100000004, 15.55337964878704], [119.90043789221606, 15.544416279073035], [119.8404223723075, 15.518241885908326], [119.79040249986812, 15.476945936467589], [119.75436227823536, 15.42382342882165], [119.73516380971886, 15.36311013599052], [119.73432163283061, 15.299643179606276], [119.7518864823739, 15.238474659919868], [119.78644634076566, 15.184469499948253], [119.83524310718518, 15.141919496306457], [119.89439429929904, 15.114203878140488], [119.9592015143965, 15.103522713561972], [120.02452130666555, 15.110723655121532], [120.08516992072923, 15.135235252612919], [120.13633108518906, 15.175111906696868], [120.1739358695213, 15.227187044422566], [120.1949854478625, 15.287322832563566], [120.19779144927321, 15.350737264313931], [120.18211429559304, 15.41238329067671], [120.14918732436406, 15.467350302913486], [120.10162320650694, 15.511256111584835], [120.04320864370196, 15.540597895556063], [119.97860280737018, 15.553033521880044], [119.96566100000004, 15.55337964878704]]]}\n"
          ]
        }
      ]
    },
    {
      "cell_type": "code",
      "source": [
        "print(\"Feature collection size:\", fc.size().getInfo())\n",
        "sample = fc.limit(5).getInfo()\n",
        "print(\"Sample features:\", sample['features'][0]['properties'])"
      ],
      "metadata": {
        "id": "DA8NpTaoey8p",
        "colab": {
          "base_uri": "https://localhost:8080/",
          "height": 72
        },
        "outputId": "b29e88e3-bef6-4572-c0a0-b1e3689c5f8c"
      },
      "execution_count": 9,
      "outputs": [
        {
          "output_type": "display_data",
          "data": {
            "text/plain": [
              "<IPython.core.display.HTML object>"
            ],
            "text/html": [
              "\n",
              "            <style>\n",
              "                .geemap-dark {\n",
              "                    --jp-widgets-color: white;\n",
              "                    --jp-widgets-label-color: white;\n",
              "                    --jp-ui-font-color1: white;\n",
              "                    --jp-layout-color2: #454545;\n",
              "                    background-color: #383838;\n",
              "                }\n",
              "\n",
              "                .geemap-dark .jupyter-button {\n",
              "                    --jp-layout-color3: #383838;\n",
              "                }\n",
              "\n",
              "                .geemap-colab {\n",
              "                    background-color: var(--colab-primary-surface-color, white);\n",
              "                }\n",
              "\n",
              "                .geemap-colab .jupyter-button {\n",
              "                    --jp-layout-color3: var(--colab-primary-surface-color, white);\n",
              "                }\n",
              "            </style>\n",
              "            "
            ]
          },
          "metadata": {}
        },
        {
          "output_type": "stream",
          "name": "stdout",
          "text": [
            "Feature collection size: 3651\n",
            "Sample features: {'date': '2014-01-01', 'dewpoint_temperature_2m': 292.1144900230922, 'dewpoint_temperature_2m_max': 293.3519863146572, 'dewpoint_temperature_2m_min': 291.17522872423353, 'evaporation_from_bare_soil_max': 0, 'evaporation_from_bare_soil_min': -0.00037772275251664333, 'evaporation_from_bare_soil_sum': -0.002474791690829635, 'evaporation_from_open_water_surfaces_excluding_oceans_max': 0, 'evaporation_from_open_water_surfaces_excluding_oceans_min': -6.025452680553491e-05, 'evaporation_from_open_water_surfaces_excluding_oceans_sum': -0.0004057576619700788, 'evaporation_from_the_top_of_canopy_max': 5.7677099997168984e-06, 'evaporation_from_the_top_of_canopy_min': -1.79245458596644e-05, 'evaporation_from_the_top_of_canopy_sum': -1.9723370216542005e-06, 'evaporation_from_vegetation_transpiration_max': -4.465204877822613e-06, 'evaporation_from_vegetation_transpiration_min': -1.6487230428717512e-05, 'evaporation_from_vegetation_transpiration_sum': -0.00026391097716112655, 'forecast_albedo': 0.13429304931242844, 'forecast_albedo_max': 0.13431113269967093, 'forecast_albedo_min': 0.13425356339960592, 'lake_bottom_temperature': 297.77568459667515, 'lake_bottom_temperature_max': 298.2043305732835, 'lake_bottom_temperature_min': 297.2628631161972, 'lake_ice_depth': -2.8204793004478393e-18, 'lake_ice_depth_max': -1.7279477293866555e-19, 'lake_ice_depth_min': -5.0957510378624834e-18, 'lake_ice_temperature': 273.1499938964844, 'lake_ice_temperature_max': 273.1514892578125, 'lake_ice_temperature_min': 273.14898681640625, 'lake_mix_layer_depth': 5.369900975951188, 'lake_mix_layer_depth_max': 5.669796709947177, 'lake_mix_layer_depth_min': 5.048293537265253, 'lake_mix_layer_temperature': 297.79503716362854, 'lake_mix_layer_temperature_max': 298.23538617774364, 'lake_mix_layer_temperature_min': 297.27048282533747, 'lake_shape_factor': 0.6587906555390693, 'lake_shape_factor_max': 0.6592795801274655, 'lake_shape_factor_min': 0.6561490246387716, 'lake_total_layer_temperature': 297.7899824688692, 'lake_total_layer_temperature_max': 298.226816727186, 'lake_total_layer_temperature_min': 297.26876581756164, 'leaf_area_index_high_vegetation': 4.420506253190259, 'leaf_area_index_high_vegetation_max': 4.421049048195424, 'leaf_area_index_high_vegetation_min': 4.420482653407426, 'leaf_area_index_low_vegetation': 2.8541818633698894, 'leaf_area_index_low_vegetation_max': 2.857657992224179, 'leaf_area_index_low_vegetation_min': 2.854030727332747, 'potential_evaporation_max': -5.922679889929687e-06, 'potential_evaporation_min': -0.0008460014717469753, 'potential_evaporation_sum': -0.006161976049483662, 'runoff_max': 1.7827900537582632e-05, 'runoff_min': 1.7477334105352846e-05, 'runoff_sum': 0.0004230269593811931, 'skin_reservoir_content': 7.877431238574383e-06, 'skin_reservoir_content_max': 3.6225674297887925e-05, 'skin_reservoir_content_min': -4.6837538297469584e-20, 'skin_temperature': 296.6008773773862, 'skin_temperature_max': 304.5047073794084, 'skin_temperature_min': 290.792655579473, 'snow_albedo': 0.8800005316734314, 'snow_albedo_max': 0.8800005316734314, 'snow_albedo_min': 0.8800005316734314, 'snow_cover': 0, 'snow_cover_max': 0, 'snow_cover_min': 0, 'snow_density': 99.99998474121094, 'snow_density_max': 99.99998474121094, 'snow_density_min': 99.99998474121094, 'snow_depth': -7.3453647229951e-24, 'snow_depth_max': -7.3453647229951e-24, 'snow_depth_min': -7.3453647229951e-24, 'snow_depth_water_equivalent': -7.345364920210326e-25, 'snow_depth_water_equivalent_max': -7.345364920210326e-25, 'snow_depth_water_equivalent_min': -7.345364920210326e-25, 'snow_evaporation_max': 1.4551915228366852e-11, 'snow_evaporation_min': -1.4551915228366852e-11, 'snow_evaporation_sum': 0, 'snowfall_max': 0, 'snowfall_min': 0, 'snowfall_sum': 0, 'snowmelt_max': 0, 'snowmelt_min': 0, 'snowmelt_sum': 0, 'soil_temperature_level_1': 297.59534141110714, 'soil_temperature_level_1_max': 302.8200807526638, 'soil_temperature_level_1_min': 293.499638545793, 'soil_temperature_level_2': 297.998171863347, 'soil_temperature_level_2_max': 298.84612678921843, 'soil_temperature_level_2_min': 296.946254690824, 'soil_temperature_level_3': 298.6038008485415, 'soil_temperature_level_3_max': 298.6211750872259, 'soil_temperature_level_3_min': 298.575839734861, 'soil_temperature_level_4': 299.12785299656355, 'soil_temperature_level_4_max': 299.1328084453171, 'soil_temperature_level_4_min': 299.12300190097295, 'sub_surface_runoff_max': 1.782628012375093e-05, 'sub_surface_runoff_min': 1.7479156524362702e-05, 'sub_surface_runoff_sum': 0.00042302072957647803, 'surface_latent_heat_flux_max': -13280.501408450706, 'surface_latent_heat_flux_min': -1115038.7791079814, 'surface_latent_heat_flux_sum': -7868599.560563382, 'surface_net_solar_radiation_max': 2334043.621596244, 'surface_net_solar_radiation_min': 0, 'surface_net_solar_radiation_sum': 15624163.897652587, 'surface_net_thermal_radiation_max': -160619.30985915495, 'surface_net_thermal_radiation_min': -347566.76449530525, 'surface_net_thermal_radiation_sum': -5900078.000000002, 'surface_pressure': 98244.16189083284, 'surface_pressure_max': 98438.32425909625, 'surface_pressure_min': 98032.57923268781, 'surface_runoff_max': 6.051410531773814e-09, 'surface_runoff_min': -1.2662489089607635e-09, 'surface_runoff_sum': 7.051817128356075e-09, 'surface_sensible_heat_flux_max': 90456.01126760566, 'surface_sensible_heat_flux_min': -455951.11408450716, 'surface_sensible_heat_flux_sum': -2081624.27230047, 'surface_solar_radiation_downwards_max': 2696217.3758215965, 'surface_solar_radiation_downwards_min': -0.5023474178403757, 'surface_solar_radiation_downwards_sum': 18047561.95492958, 'surface_thermal_radiation_downwards_max': 1459004.2671361505, 'surface_thermal_radiation_downwards_min': 1272525.0705399062, 'surface_thermal_radiation_downwards_sum': 31843620.630985916, 'temperature_2m': 296.6542794151486, 'temperature_2m_max': 300.98652026395837, 'temperature_2m_min': 292.76222282015664, 'temperature_of_snow_layer': 273.1599578857422, 'temperature_of_snow_layer_max': 273.1606140136719, 'temperature_of_snow_layer_min': 273.1591491699219, 'total_evaporation_max': -5.310440234874897e-06, 'total_evaporation_min': -0.0004458728696748685, 'total_evaporation_sum': -0.003146433223371215, 'total_precipitation_max': 6.114897582057398e-07, 'total_precipitation_min': -1.6063269650261085e-09, 'total_precipitation_sum': 1.1446830677721691e-06, 'u_component_of_wind_10m': -1.1435374174879192, 'u_component_of_wind_10m_max': -0.26146454430521937, 'u_component_of_wind_10m_min': -1.7596755336707748, 'v_component_of_wind_10m': -0.46196088514790673, 'v_component_of_wind_10m_max': 0.2564262748324256, 'v_component_of_wind_10m_min': -1.1783492325617118, 'volumetric_soil_water_layer_1': 0.2748454605842794, 'volumetric_soil_water_layer_1_max': 0.28397665964046, 'volumetric_soil_water_layer_1_min': 0.27222857408120604, 'volumetric_soil_water_layer_2': 0.2888878808894627, 'volumetric_soil_water_layer_2_max': 0.29219993627127355, 'volumetric_soil_water_layer_2_min': 0.28791432985117743, 'volumetric_soil_water_layer_3': 0.31489971083281376, 'volumetric_soil_water_layer_3_max': 0.31575915555998757, 'volumetric_soil_water_layer_3_min': 0.3146346401160872, 'volumetric_soil_water_layer_4': 0.4143121665632222, 'volumetric_soil_water_layer_4_max': 0.4145900171127677, 'volumetric_soil_water_layer_4_min': 0.4141179402669271}\n"
          ]
        }
      ]
    },
    {
      "cell_type": "code",
      "source": [
        "dates = fc.aggregate_array(\"date\").getInfo()\n",
        "var_names = dataset.first().bandNames().getInfo()"
      ],
      "metadata": {
        "id": "U_o2n9NjxB62",
        "colab": {
          "base_uri": "https://localhost:8080/",
          "height": 17
        },
        "outputId": "6c313c7e-0aa3-40dc-9c64-037bb3ecb18e"
      },
      "execution_count": 10,
      "outputs": [
        {
          "output_type": "display_data",
          "data": {
            "text/plain": [
              "<IPython.core.display.HTML object>"
            ],
            "text/html": [
              "\n",
              "            <style>\n",
              "                .geemap-dark {\n",
              "                    --jp-widgets-color: white;\n",
              "                    --jp-widgets-label-color: white;\n",
              "                    --jp-ui-font-color1: white;\n",
              "                    --jp-layout-color2: #454545;\n",
              "                    background-color: #383838;\n",
              "                }\n",
              "\n",
              "                .geemap-dark .jupyter-button {\n",
              "                    --jp-layout-color3: #383838;\n",
              "                }\n",
              "\n",
              "                .geemap-colab {\n",
              "                    background-color: var(--colab-primary-surface-color, white);\n",
              "                }\n",
              "\n",
              "                .geemap-colab .jupyter-button {\n",
              "                    --jp-layout-color3: var(--colab-primary-surface-color, white);\n",
              "                }\n",
              "            </style>\n",
              "            "
            ]
          },
          "metadata": {}
        }
      ]
    },
    {
      "cell_type": "code",
      "source": [
        "data = {}\n",
        "for v in var_names:\n",
        "    try:\n",
        "        values = fc.aggregate_array(v).getInfo()\n",
        "        data[v] = values\n",
        "        print(f\"Extracted {len([x for x in values if x is not None])} non-null values for {v}\")\n",
        "    except Exception as e:\n",
        "        print(f\"Error extracting {v}: {e}\")\n",
        "        data[v] = [None] * len(dates)\n",
        "\n",
        "# Create DataFrame\n",
        "df = pd.DataFrame({\"date\": dates})"
      ],
      "metadata": {
        "id": "_j1_bJI1hzf-",
        "colab": {
          "base_uri": "https://localhost:8080/",
          "height": 1000
        },
        "outputId": "c5c69cfc-5e3f-4fa4-da54-a72447460793"
      },
      "execution_count": 11,
      "outputs": [
        {
          "output_type": "display_data",
          "data": {
            "text/plain": [
              "<IPython.core.display.HTML object>"
            ],
            "text/html": [
              "\n",
              "            <style>\n",
              "                .geemap-dark {\n",
              "                    --jp-widgets-color: white;\n",
              "                    --jp-widgets-label-color: white;\n",
              "                    --jp-ui-font-color1: white;\n",
              "                    --jp-layout-color2: #454545;\n",
              "                    background-color: #383838;\n",
              "                }\n",
              "\n",
              "                .geemap-dark .jupyter-button {\n",
              "                    --jp-layout-color3: #383838;\n",
              "                }\n",
              "\n",
              "                .geemap-colab {\n",
              "                    background-color: var(--colab-primary-surface-color, white);\n",
              "                }\n",
              "\n",
              "                .geemap-colab .jupyter-button {\n",
              "                    --jp-layout-color3: var(--colab-primary-surface-color, white);\n",
              "                }\n",
              "            </style>\n",
              "            "
            ]
          },
          "metadata": {}
        },
        {
          "output_type": "stream",
          "name": "stdout",
          "text": [
            "Extracted 3651 non-null values for dewpoint_temperature_2m\n",
            "Extracted 3651 non-null values for temperature_2m\n",
            "Extracted 3651 non-null values for skin_temperature\n",
            "Extracted 3651 non-null values for soil_temperature_level_1\n",
            "Extracted 3651 non-null values for soil_temperature_level_2\n",
            "Extracted 3651 non-null values for soil_temperature_level_3\n",
            "Extracted 3651 non-null values for soil_temperature_level_4\n",
            "Extracted 3651 non-null values for lake_bottom_temperature\n",
            "Extracted 3651 non-null values for lake_ice_depth\n",
            "Extracted 3651 non-null values for lake_ice_temperature\n",
            "Extracted 3651 non-null values for lake_mix_layer_depth\n",
            "Extracted 3651 non-null values for lake_mix_layer_temperature\n",
            "Extracted 3651 non-null values for lake_shape_factor\n",
            "Extracted 3651 non-null values for lake_total_layer_temperature\n",
            "Extracted 3651 non-null values for snow_albedo\n",
            "Extracted 3651 non-null values for snow_cover\n",
            "Extracted 3651 non-null values for snow_density\n",
            "Extracted 3651 non-null values for snow_depth\n",
            "Extracted 3651 non-null values for snow_depth_water_equivalent\n",
            "Extracted 3651 non-null values for snowfall_sum\n",
            "Extracted 3651 non-null values for snowmelt_sum\n",
            "Extracted 3651 non-null values for temperature_of_snow_layer\n",
            "Extracted 3651 non-null values for skin_reservoir_content\n",
            "Extracted 3651 non-null values for volumetric_soil_water_layer_1\n",
            "Extracted 3651 non-null values for volumetric_soil_water_layer_2\n",
            "Extracted 3651 non-null values for volumetric_soil_water_layer_3\n",
            "Extracted 3651 non-null values for volumetric_soil_water_layer_4\n",
            "Extracted 3651 non-null values for forecast_albedo\n",
            "Extracted 3651 non-null values for surface_latent_heat_flux_sum\n",
            "Extracted 3651 non-null values for surface_net_solar_radiation_sum\n",
            "Extracted 3651 non-null values for surface_net_thermal_radiation_sum\n",
            "Extracted 3651 non-null values for surface_sensible_heat_flux_sum\n",
            "Extracted 3651 non-null values for surface_solar_radiation_downwards_sum\n",
            "Extracted 3651 non-null values for surface_thermal_radiation_downwards_sum\n",
            "Extracted 3651 non-null values for evaporation_from_bare_soil_sum\n",
            "Extracted 3651 non-null values for evaporation_from_open_water_surfaces_excluding_oceans_sum\n",
            "Extracted 3651 non-null values for evaporation_from_the_top_of_canopy_sum\n",
            "Extracted 3651 non-null values for evaporation_from_vegetation_transpiration_sum\n",
            "Extracted 3651 non-null values for potential_evaporation_sum\n",
            "Extracted 3651 non-null values for runoff_sum\n",
            "Extracted 3651 non-null values for snow_evaporation_sum\n",
            "Extracted 3651 non-null values for sub_surface_runoff_sum\n",
            "Extracted 3651 non-null values for surface_runoff_sum\n",
            "Extracted 3651 non-null values for total_evaporation_sum\n",
            "Extracted 3651 non-null values for u_component_of_wind_10m\n",
            "Extracted 3651 non-null values for v_component_of_wind_10m\n",
            "Extracted 3651 non-null values for surface_pressure\n",
            "Extracted 3651 non-null values for total_precipitation_sum\n",
            "Extracted 3651 non-null values for leaf_area_index_high_vegetation\n",
            "Extracted 3651 non-null values for leaf_area_index_low_vegetation\n",
            "Extracted 3651 non-null values for dewpoint_temperature_2m_min\n",
            "Extracted 3651 non-null values for dewpoint_temperature_2m_max\n",
            "Extracted 3651 non-null values for temperature_2m_min\n",
            "Extracted 3651 non-null values for temperature_2m_max\n",
            "Extracted 3651 non-null values for skin_temperature_min\n",
            "Extracted 3651 non-null values for skin_temperature_max\n",
            "Extracted 3651 non-null values for soil_temperature_level_1_min\n",
            "Extracted 3651 non-null values for soil_temperature_level_1_max\n",
            "Extracted 3651 non-null values for soil_temperature_level_2_min\n",
            "Extracted 3651 non-null values for soil_temperature_level_2_max\n",
            "Extracted 3651 non-null values for soil_temperature_level_3_min\n",
            "Extracted 3651 non-null values for soil_temperature_level_3_max\n",
            "Extracted 3651 non-null values for soil_temperature_level_4_min\n",
            "Extracted 3651 non-null values for soil_temperature_level_4_max\n",
            "Extracted 3651 non-null values for lake_bottom_temperature_min\n",
            "Extracted 3651 non-null values for lake_bottom_temperature_max\n",
            "Extracted 3651 non-null values for lake_ice_depth_min\n",
            "Extracted 3651 non-null values for lake_ice_depth_max\n",
            "Extracted 3651 non-null values for lake_ice_temperature_min\n",
            "Extracted 3651 non-null values for lake_ice_temperature_max\n",
            "Extracted 3651 non-null values for lake_mix_layer_depth_min\n",
            "Extracted 3651 non-null values for lake_mix_layer_depth_max\n",
            "Extracted 3651 non-null values for lake_mix_layer_temperature_min\n",
            "Extracted 3651 non-null values for lake_mix_layer_temperature_max\n",
            "Extracted 3651 non-null values for lake_shape_factor_min\n",
            "Extracted 3651 non-null values for lake_shape_factor_max\n",
            "Extracted 3651 non-null values for lake_total_layer_temperature_min\n",
            "Extracted 3651 non-null values for lake_total_layer_temperature_max\n",
            "Extracted 3651 non-null values for snow_albedo_min\n",
            "Extracted 3651 non-null values for snow_albedo_max\n",
            "Extracted 3651 non-null values for snow_cover_min\n",
            "Extracted 3651 non-null values for snow_cover_max\n",
            "Extracted 3651 non-null values for snow_density_min\n",
            "Extracted 3651 non-null values for snow_density_max\n",
            "Extracted 3651 non-null values for snow_depth_min\n",
            "Extracted 3651 non-null values for snow_depth_max\n",
            "Extracted 3651 non-null values for snow_depth_water_equivalent_min\n",
            "Extracted 3651 non-null values for snow_depth_water_equivalent_max\n",
            "Extracted 3651 non-null values for snowfall_min\n",
            "Extracted 3651 non-null values for snowfall_max\n",
            "Extracted 3651 non-null values for snowmelt_min\n",
            "Extracted 3651 non-null values for snowmelt_max\n",
            "Extracted 3651 non-null values for temperature_of_snow_layer_min\n",
            "Extracted 3651 non-null values for temperature_of_snow_layer_max\n",
            "Extracted 3651 non-null values for skin_reservoir_content_min\n",
            "Extracted 3651 non-null values for skin_reservoir_content_max\n",
            "Extracted 3651 non-null values for volumetric_soil_water_layer_1_min\n",
            "Extracted 3651 non-null values for volumetric_soil_water_layer_1_max\n",
            "Extracted 3651 non-null values for volumetric_soil_water_layer_2_min\n",
            "Extracted 3651 non-null values for volumetric_soil_water_layer_2_max\n",
            "Extracted 3651 non-null values for volumetric_soil_water_layer_3_min\n",
            "Extracted 3651 non-null values for volumetric_soil_water_layer_3_max\n",
            "Extracted 3651 non-null values for volumetric_soil_water_layer_4_min\n",
            "Extracted 3651 non-null values for volumetric_soil_water_layer_4_max\n",
            "Extracted 3651 non-null values for forecast_albedo_min\n",
            "Extracted 3651 non-null values for forecast_albedo_max\n",
            "Extracted 3651 non-null values for surface_latent_heat_flux_min\n",
            "Extracted 3651 non-null values for surface_latent_heat_flux_max\n",
            "Extracted 3651 non-null values for surface_net_solar_radiation_min\n",
            "Extracted 3651 non-null values for surface_net_solar_radiation_max\n",
            "Extracted 3651 non-null values for surface_net_thermal_radiation_min\n",
            "Extracted 3651 non-null values for surface_net_thermal_radiation_max\n",
            "Extracted 3651 non-null values for surface_sensible_heat_flux_min\n",
            "Extracted 3651 non-null values for surface_sensible_heat_flux_max\n",
            "Extracted 3651 non-null values for surface_solar_radiation_downwards_min\n",
            "Extracted 3651 non-null values for surface_solar_radiation_downwards_max\n",
            "Extracted 3651 non-null values for surface_thermal_radiation_downwards_min\n",
            "Extracted 3651 non-null values for surface_thermal_radiation_downwards_max\n",
            "Extracted 3651 non-null values for evaporation_from_bare_soil_min\n",
            "Extracted 3651 non-null values for evaporation_from_bare_soil_max\n",
            "Extracted 3651 non-null values for evaporation_from_open_water_surfaces_excluding_oceans_min\n",
            "Extracted 3651 non-null values for evaporation_from_open_water_surfaces_excluding_oceans_max\n",
            "Extracted 3651 non-null values for evaporation_from_the_top_of_canopy_min\n",
            "Extracted 3651 non-null values for evaporation_from_the_top_of_canopy_max\n",
            "Extracted 3651 non-null values for evaporation_from_vegetation_transpiration_min\n",
            "Extracted 3651 non-null values for evaporation_from_vegetation_transpiration_max\n",
            "Extracted 3651 non-null values for potential_evaporation_min\n",
            "Extracted 3651 non-null values for potential_evaporation_max\n",
            "Extracted 3651 non-null values for runoff_min\n",
            "Extracted 3651 non-null values for runoff_max\n",
            "Extracted 3651 non-null values for snow_evaporation_min\n",
            "Extracted 3651 non-null values for snow_evaporation_max\n",
            "Extracted 3651 non-null values for sub_surface_runoff_min\n",
            "Extracted 3651 non-null values for sub_surface_runoff_max\n",
            "Extracted 3651 non-null values for surface_runoff_min\n",
            "Extracted 3651 non-null values for surface_runoff_max\n",
            "Extracted 3651 non-null values for total_evaporation_min\n",
            "Extracted 3651 non-null values for total_evaporation_max\n",
            "Extracted 3651 non-null values for u_component_of_wind_10m_min\n",
            "Extracted 3651 non-null values for u_component_of_wind_10m_max\n",
            "Extracted 3651 non-null values for v_component_of_wind_10m_min\n",
            "Extracted 3651 non-null values for v_component_of_wind_10m_max\n",
            "Extracted 3651 non-null values for surface_pressure_min\n",
            "Extracted 3651 non-null values for surface_pressure_max\n",
            "Extracted 3651 non-null values for total_precipitation_min\n",
            "Extracted 3651 non-null values for total_precipitation_max\n",
            "Extracted 3651 non-null values for leaf_area_index_high_vegetation_min\n",
            "Extracted 3651 non-null values for leaf_area_index_high_vegetation_max\n",
            "Extracted 3651 non-null values for leaf_area_index_low_vegetation_min\n",
            "Extracted 3651 non-null values for leaf_area_index_low_vegetation_max\n"
          ]
        }
      ]
    },
    {
      "cell_type": "code",
      "source": [
        "for v in var_names:\n",
        "    if v in data:\n",
        "        df[v] = data[v]\n",
        "        null_count = df[v].isnull().sum()\n",
        "        print(f\"Column {v}: {len(df[v]) - null_count} valid values, {null_count} null values\")\n",
        "\n",
        "print(\"\\nDataFrame shape:\", df.shape)\n",
        "print(\"DataFrame info:\")\n",
        "print(df.info())\n",
        "print(\"\\nFirst few rows:\")\n",
        "print(df.head())"
      ],
      "metadata": {
        "id": "jYQDgBTr1EFO",
        "colab": {
          "base_uri": "https://localhost:8080/",
          "height": 1000
        },
        "outputId": "e8049015-e464-4848-8d79-0e170598ffbf"
      },
      "execution_count": 12,
      "outputs": [
        {
          "output_type": "display_data",
          "data": {
            "text/plain": [
              "<IPython.core.display.HTML object>"
            ],
            "text/html": [
              "\n",
              "            <style>\n",
              "                .geemap-dark {\n",
              "                    --jp-widgets-color: white;\n",
              "                    --jp-widgets-label-color: white;\n",
              "                    --jp-ui-font-color1: white;\n",
              "                    --jp-layout-color2: #454545;\n",
              "                    background-color: #383838;\n",
              "                }\n",
              "\n",
              "                .geemap-dark .jupyter-button {\n",
              "                    --jp-layout-color3: #383838;\n",
              "                }\n",
              "\n",
              "                .geemap-colab {\n",
              "                    background-color: var(--colab-primary-surface-color, white);\n",
              "                }\n",
              "\n",
              "                .geemap-colab .jupyter-button {\n",
              "                    --jp-layout-color3: var(--colab-primary-surface-color, white);\n",
              "                }\n",
              "            </style>\n",
              "            "
            ]
          },
          "metadata": {}
        },
        {
          "output_type": "stream",
          "name": "stdout",
          "text": [
            "Column dewpoint_temperature_2m: 3651 valid values, 0 null values\n",
            "Column temperature_2m: 3651 valid values, 0 null values\n",
            "Column skin_temperature: 3651 valid values, 0 null values\n",
            "Column soil_temperature_level_1: 3651 valid values, 0 null values\n",
            "Column soil_temperature_level_2: 3651 valid values, 0 null values\n",
            "Column soil_temperature_level_3: 3651 valid values, 0 null values\n",
            "Column soil_temperature_level_4: 3651 valid values, 0 null values\n",
            "Column lake_bottom_temperature: 3651 valid values, 0 null values\n",
            "Column lake_ice_depth: 3651 valid values, 0 null values\n",
            "Column lake_ice_temperature: 3651 valid values, 0 null values\n",
            "Column lake_mix_layer_depth: 3651 valid values, 0 null values\n",
            "Column lake_mix_layer_temperature: 3651 valid values, 0 null values\n",
            "Column lake_shape_factor: 3651 valid values, 0 null values\n",
            "Column lake_total_layer_temperature: 3651 valid values, 0 null values\n",
            "Column snow_albedo: 3651 valid values, 0 null values\n",
            "Column snow_cover: 3651 valid values, 0 null values\n",
            "Column snow_density: 3651 valid values, 0 null values\n",
            "Column snow_depth: 3651 valid values, 0 null values\n",
            "Column snow_depth_water_equivalent: 3651 valid values, 0 null values\n",
            "Column snowfall_sum: 3651 valid values, 0 null values\n",
            "Column snowmelt_sum: 3651 valid values, 0 null values\n",
            "Column temperature_of_snow_layer: 3651 valid values, 0 null values\n",
            "Column skin_reservoir_content: 3651 valid values, 0 null values\n",
            "Column volumetric_soil_water_layer_1: 3651 valid values, 0 null values\n",
            "Column volumetric_soil_water_layer_2: 3651 valid values, 0 null values\n",
            "Column volumetric_soil_water_layer_3: 3651 valid values, 0 null values\n",
            "Column volumetric_soil_water_layer_4: 3651 valid values, 0 null values\n",
            "Column forecast_albedo: 3651 valid values, 0 null values\n",
            "Column surface_latent_heat_flux_sum: 3651 valid values, 0 null values\n",
            "Column surface_net_solar_radiation_sum: 3651 valid values, 0 null values\n",
            "Column surface_net_thermal_radiation_sum: 3651 valid values, 0 null values\n",
            "Column surface_sensible_heat_flux_sum: 3651 valid values, 0 null values\n",
            "Column surface_solar_radiation_downwards_sum: 3651 valid values, 0 null values\n",
            "Column surface_thermal_radiation_downwards_sum: 3651 valid values, 0 null values\n",
            "Column evaporation_from_bare_soil_sum: 3651 valid values, 0 null values\n",
            "Column evaporation_from_open_water_surfaces_excluding_oceans_sum: 3651 valid values, 0 null values\n",
            "Column evaporation_from_the_top_of_canopy_sum: 3651 valid values, 0 null values\n",
            "Column evaporation_from_vegetation_transpiration_sum: 3651 valid values, 0 null values\n",
            "Column potential_evaporation_sum: 3651 valid values, 0 null values\n",
            "Column runoff_sum: 3651 valid values, 0 null values\n",
            "Column snow_evaporation_sum: 3651 valid values, 0 null values\n",
            "Column sub_surface_runoff_sum: 3651 valid values, 0 null values\n",
            "Column surface_runoff_sum: 3651 valid values, 0 null values\n",
            "Column total_evaporation_sum: 3651 valid values, 0 null values\n",
            "Column u_component_of_wind_10m: 3651 valid values, 0 null values\n",
            "Column v_component_of_wind_10m: 3651 valid values, 0 null values\n",
            "Column surface_pressure: 3651 valid values, 0 null values\n",
            "Column total_precipitation_sum: 3651 valid values, 0 null values\n",
            "Column leaf_area_index_high_vegetation: 3651 valid values, 0 null values\n",
            "Column leaf_area_index_low_vegetation: 3651 valid values, 0 null values\n",
            "Column dewpoint_temperature_2m_min: 3651 valid values, 0 null values\n",
            "Column dewpoint_temperature_2m_max: 3651 valid values, 0 null values\n",
            "Column temperature_2m_min: 3651 valid values, 0 null values\n",
            "Column temperature_2m_max: 3651 valid values, 0 null values\n",
            "Column skin_temperature_min: 3651 valid values, 0 null values\n",
            "Column skin_temperature_max: 3651 valid values, 0 null values\n",
            "Column soil_temperature_level_1_min: 3651 valid values, 0 null values\n",
            "Column soil_temperature_level_1_max: 3651 valid values, 0 null values\n",
            "Column soil_temperature_level_2_min: 3651 valid values, 0 null values\n",
            "Column soil_temperature_level_2_max: 3651 valid values, 0 null values\n",
            "Column soil_temperature_level_3_min: 3651 valid values, 0 null values\n",
            "Column soil_temperature_level_3_max: 3651 valid values, 0 null values\n",
            "Column soil_temperature_level_4_min: 3651 valid values, 0 null values\n",
            "Column soil_temperature_level_4_max: 3651 valid values, 0 null values\n",
            "Column lake_bottom_temperature_min: 3651 valid values, 0 null values\n",
            "Column lake_bottom_temperature_max: 3651 valid values, 0 null values\n",
            "Column lake_ice_depth_min: 3651 valid values, 0 null values\n",
            "Column lake_ice_depth_max: 3651 valid values, 0 null values\n",
            "Column lake_ice_temperature_min: 3651 valid values, 0 null values\n",
            "Column lake_ice_temperature_max: 3651 valid values, 0 null values\n",
            "Column lake_mix_layer_depth_min: 3651 valid values, 0 null values\n",
            "Column lake_mix_layer_depth_max: 3651 valid values, 0 null values\n",
            "Column lake_mix_layer_temperature_min: 3651 valid values, 0 null values\n",
            "Column lake_mix_layer_temperature_max: 3651 valid values, 0 null values\n",
            "Column lake_shape_factor_min: 3651 valid values, 0 null values\n",
            "Column lake_shape_factor_max: 3651 valid values, 0 null values\n",
            "Column lake_total_layer_temperature_min: 3651 valid values, 0 null values\n",
            "Column lake_total_layer_temperature_max: 3651 valid values, 0 null values\n",
            "Column snow_albedo_min: 3651 valid values, 0 null values\n",
            "Column snow_albedo_max: 3651 valid values, 0 null values\n",
            "Column snow_cover_min: 3651 valid values, 0 null values\n",
            "Column snow_cover_max: 3651 valid values, 0 null values\n",
            "Column snow_density_min: 3651 valid values, 0 null values\n",
            "Column snow_density_max: 3651 valid values, 0 null values\n",
            "Column snow_depth_min: 3651 valid values, 0 null values\n",
            "Column snow_depth_max: 3651 valid values, 0 null values\n",
            "Column snow_depth_water_equivalent_min: 3651 valid values, 0 null values\n",
            "Column snow_depth_water_equivalent_max: 3651 valid values, 0 null values\n",
            "Column snowfall_min: 3651 valid values, 0 null values\n",
            "Column snowfall_max: 3651 valid values, 0 null values\n",
            "Column snowmelt_min: 3651 valid values, 0 null values\n",
            "Column snowmelt_max: 3651 valid values, 0 null values\n",
            "Column temperature_of_snow_layer_min: 3651 valid values, 0 null values\n",
            "Column temperature_of_snow_layer_max: 3651 valid values, 0 null values\n",
            "Column skin_reservoir_content_min: 3651 valid values, 0 null values\n",
            "Column skin_reservoir_content_max: 3651 valid values, 0 null values\n",
            "Column volumetric_soil_water_layer_1_min: 3651 valid values, 0 null values\n",
            "Column volumetric_soil_water_layer_1_max: 3651 valid values, 0 null values\n",
            "Column volumetric_soil_water_layer_2_min: 3651 valid values, 0 null values\n",
            "Column volumetric_soil_water_layer_2_max: 3651 valid values, 0 null values\n",
            "Column volumetric_soil_water_layer_3_min: 3651 valid values, 0 null values\n",
            "Column volumetric_soil_water_layer_3_max: 3651 valid values, 0 null values\n",
            "Column volumetric_soil_water_layer_4_min: 3651 valid values, 0 null values\n",
            "Column volumetric_soil_water_layer_4_max: 3651 valid values, 0 null values\n",
            "Column forecast_albedo_min: 3651 valid values, 0 null values\n",
            "Column forecast_albedo_max: 3651 valid values, 0 null values\n",
            "Column surface_latent_heat_flux_min: 3651 valid values, 0 null values\n",
            "Column surface_latent_heat_flux_max: 3651 valid values, 0 null values\n",
            "Column surface_net_solar_radiation_min: 3651 valid values, 0 null values\n",
            "Column surface_net_solar_radiation_max: 3651 valid values, 0 null values\n",
            "Column surface_net_thermal_radiation_min: 3651 valid values, 0 null values\n",
            "Column surface_net_thermal_radiation_max: 3651 valid values, 0 null values\n",
            "Column surface_sensible_heat_flux_min: 3651 valid values, 0 null values\n",
            "Column surface_sensible_heat_flux_max: 3651 valid values, 0 null values\n",
            "Column surface_solar_radiation_downwards_min: 3651 valid values, 0 null values\n",
            "Column surface_solar_radiation_downwards_max: 3651 valid values, 0 null values\n",
            "Column surface_thermal_radiation_downwards_min: 3651 valid values, 0 null values\n",
            "Column surface_thermal_radiation_downwards_max: 3651 valid values, 0 null values\n",
            "Column evaporation_from_bare_soil_min: 3651 valid values, 0 null values\n",
            "Column evaporation_from_bare_soil_max: 3651 valid values, 0 null values\n",
            "Column evaporation_from_open_water_surfaces_excluding_oceans_min: 3651 valid values, 0 null values\n",
            "Column evaporation_from_open_water_surfaces_excluding_oceans_max: 3651 valid values, 0 null values\n",
            "Column evaporation_from_the_top_of_canopy_min: 3651 valid values, 0 null values\n",
            "Column evaporation_from_the_top_of_canopy_max: 3651 valid values, 0 null values\n",
            "Column evaporation_from_vegetation_transpiration_min: 3651 valid values, 0 null values\n",
            "Column evaporation_from_vegetation_transpiration_max: 3651 valid values, 0 null values\n",
            "Column potential_evaporation_min: 3651 valid values, 0 null values\n",
            "Column potential_evaporation_max: 3651 valid values, 0 null values\n",
            "Column runoff_min: 3651 valid values, 0 null values\n",
            "Column runoff_max: 3651 valid values, 0 null values\n",
            "Column snow_evaporation_min: 3651 valid values, 0 null values\n",
            "Column snow_evaporation_max: 3651 valid values, 0 null values\n",
            "Column sub_surface_runoff_min: 3651 valid values, 0 null values\n",
            "Column sub_surface_runoff_max: 3651 valid values, 0 null values\n",
            "Column surface_runoff_min: 3651 valid values, 0 null values\n",
            "Column surface_runoff_max: 3651 valid values, 0 null values\n",
            "Column total_evaporation_min: 3651 valid values, 0 null values\n",
            "Column total_evaporation_max: 3651 valid values, 0 null values\n",
            "Column u_component_of_wind_10m_min: 3651 valid values, 0 null values\n",
            "Column u_component_of_wind_10m_max: 3651 valid values, 0 null values\n",
            "Column v_component_of_wind_10m_min: 3651 valid values, 0 null values\n",
            "Column v_component_of_wind_10m_max: 3651 valid values, 0 null values\n",
            "Column surface_pressure_min: 3651 valid values, 0 null values\n",
            "Column surface_pressure_max: 3651 valid values, 0 null values\n",
            "Column total_precipitation_min: 3651 valid values, 0 null values\n",
            "Column total_precipitation_max: 3651 valid values, 0 null values\n",
            "Column leaf_area_index_high_vegetation_min: 3651 valid values, 0 null values\n",
            "Column leaf_area_index_high_vegetation_max: 3651 valid values, 0 null values\n",
            "Column leaf_area_index_low_vegetation_min: 3651 valid values, 0 null values\n",
            "Column leaf_area_index_low_vegetation_max: 3651 valid values, 0 null values\n",
            "\n",
            "DataFrame shape: (3651, 151)\n",
            "DataFrame info:\n",
            "<class 'pandas.core.frame.DataFrame'>\n",
            "RangeIndex: 3651 entries, 0 to 3650\n",
            "Columns: 151 entries, date to leaf_area_index_low_vegetation_max\n",
            "dtypes: float64(141), int64(9), object(1)\n",
            "memory usage: 4.2+ MB\n",
            "None\n",
            "\n",
            "First few rows:\n",
            "         date  dewpoint_temperature_2m  temperature_2m  skin_temperature  \\\n",
            "0  2014-01-01               292.114490      296.654279        296.600877   \n",
            "1  2014-01-02               292.061879      296.630069        296.649890   \n",
            "2  2014-01-03               292.266131      297.029089        297.198968   \n",
            "3  2014-01-04               292.502973      297.117654        297.753154   \n",
            "4  2014-01-05               292.274599      296.961055        297.195840   \n",
            "\n",
            "   soil_temperature_level_1  soil_temperature_level_2  \\\n",
            "0                297.595341                297.998172   \n",
            "1                297.552733                297.833019   \n",
            "2                297.848087                297.842533   \n",
            "3                298.340111                298.172537   \n",
            "4                298.108892                298.291836   \n",
            "\n",
            "   soil_temperature_level_3  soil_temperature_level_4  \\\n",
            "0                298.603801                299.127853   \n",
            "1                298.544497                299.117853   \n",
            "2                298.485660                299.106870   \n",
            "3                298.459592                299.095375   \n",
            "4                298.465264                299.083897   \n",
            "\n",
            "   lake_bottom_temperature  lake_ice_depth  ...  v_component_of_wind_10m_min  \\\n",
            "0               297.775685   -2.820479e-18  ...                    -1.178349   \n",
            "1               297.669413   -5.191748e-18  ...                    -0.728218   \n",
            "2               297.623480   -4.552520e-18  ...                    -1.781053   \n",
            "3               297.652950   -5.093492e-18  ...                    -3.667854   \n",
            "4               297.614052   -2.815962e-18  ...                    -0.903898   \n",
            "\n",
            "   v_component_of_wind_10m_max  surface_pressure_min  surface_pressure_max  \\\n",
            "0                     0.256426          98032.579233          98438.324259   \n",
            "1                     0.425972          98047.784628          98420.913595   \n",
            "2                     0.270916          98036.067415          98378.821985   \n",
            "3                    -0.794557          97921.525194          98276.398338   \n",
            "4                     0.488726          97910.321182          98257.923887   \n",
            "\n",
            "   total_precipitation_min  total_precipitation_max  \\\n",
            "0            -1.606327e-09             6.114898e-07   \n",
            "1            -7.584874e-09             1.899995e-06   \n",
            "2             0.000000e+00             4.889664e-07   \n",
            "3             0.000000e+00             4.851798e-07   \n",
            "4            -3.130643e-09             1.990322e-05   \n",
            "\n",
            "   leaf_area_index_high_vegetation_min  leaf_area_index_high_vegetation_max  \\\n",
            "0                             4.420483                             4.421049   \n",
            "1                             4.419889                             4.420483   \n",
            "2                             4.419280                             4.419889   \n",
            "3                             4.418733                             4.419280   \n",
            "4                             4.418148                             4.418733   \n",
            "\n",
            "   leaf_area_index_low_vegetation_min  leaf_area_index_low_vegetation_max  \n",
            "0                            2.854031                            2.857658  \n",
            "1                            2.850447                            2.854031  \n",
            "2                            2.846805                            2.850447  \n",
            "3                            2.843151                            2.846805  \n",
            "4                            2.839566                            2.843151  \n",
            "\n",
            "[5 rows x 151 columns]\n"
          ]
        },
        {
          "output_type": "stream",
          "name": "stderr",
          "text": [
            "/tmp/ipython-input-905881357.py:3: PerformanceWarning: DataFrame is highly fragmented.  This is usually the result of calling `frame.insert` many times, which has poor performance.  Consider joining all columns at once using pd.concat(axis=1) instead. To get a de-fragmented frame, use `newframe = frame.copy()`\n",
            "  df[v] = data[v]\n",
            "/tmp/ipython-input-905881357.py:3: PerformanceWarning: DataFrame is highly fragmented.  This is usually the result of calling `frame.insert` many times, which has poor performance.  Consider joining all columns at once using pd.concat(axis=1) instead. To get a de-fragmented frame, use `newframe = frame.copy()`\n",
            "  df[v] = data[v]\n",
            "/tmp/ipython-input-905881357.py:3: PerformanceWarning: DataFrame is highly fragmented.  This is usually the result of calling `frame.insert` many times, which has poor performance.  Consider joining all columns at once using pd.concat(axis=1) instead. To get a de-fragmented frame, use `newframe = frame.copy()`\n",
            "  df[v] = data[v]\n",
            "/tmp/ipython-input-905881357.py:3: PerformanceWarning: DataFrame is highly fragmented.  This is usually the result of calling `frame.insert` many times, which has poor performance.  Consider joining all columns at once using pd.concat(axis=1) instead. To get a de-fragmented frame, use `newframe = frame.copy()`\n",
            "  df[v] = data[v]\n",
            "/tmp/ipython-input-905881357.py:3: PerformanceWarning: DataFrame is highly fragmented.  This is usually the result of calling `frame.insert` many times, which has poor performance.  Consider joining all columns at once using pd.concat(axis=1) instead. To get a de-fragmented frame, use `newframe = frame.copy()`\n",
            "  df[v] = data[v]\n",
            "/tmp/ipython-input-905881357.py:3: PerformanceWarning: DataFrame is highly fragmented.  This is usually the result of calling `frame.insert` many times, which has poor performance.  Consider joining all columns at once using pd.concat(axis=1) instead. To get a de-fragmented frame, use `newframe = frame.copy()`\n",
            "  df[v] = data[v]\n",
            "/tmp/ipython-input-905881357.py:3: PerformanceWarning: DataFrame is highly fragmented.  This is usually the result of calling `frame.insert` many times, which has poor performance.  Consider joining all columns at once using pd.concat(axis=1) instead. To get a de-fragmented frame, use `newframe = frame.copy()`\n",
            "  df[v] = data[v]\n",
            "/tmp/ipython-input-905881357.py:3: PerformanceWarning: DataFrame is highly fragmented.  This is usually the result of calling `frame.insert` many times, which has poor performance.  Consider joining all columns at once using pd.concat(axis=1) instead. To get a de-fragmented frame, use `newframe = frame.copy()`\n",
            "  df[v] = data[v]\n",
            "/tmp/ipython-input-905881357.py:3: PerformanceWarning: DataFrame is highly fragmented.  This is usually the result of calling `frame.insert` many times, which has poor performance.  Consider joining all columns at once using pd.concat(axis=1) instead. To get a de-fragmented frame, use `newframe = frame.copy()`\n",
            "  df[v] = data[v]\n",
            "/tmp/ipython-input-905881357.py:3: PerformanceWarning: DataFrame is highly fragmented.  This is usually the result of calling `frame.insert` many times, which has poor performance.  Consider joining all columns at once using pd.concat(axis=1) instead. To get a de-fragmented frame, use `newframe = frame.copy()`\n",
            "  df[v] = data[v]\n",
            "/tmp/ipython-input-905881357.py:3: PerformanceWarning: DataFrame is highly fragmented.  This is usually the result of calling `frame.insert` many times, which has poor performance.  Consider joining all columns at once using pd.concat(axis=1) instead. To get a de-fragmented frame, use `newframe = frame.copy()`\n",
            "  df[v] = data[v]\n",
            "/tmp/ipython-input-905881357.py:3: PerformanceWarning: DataFrame is highly fragmented.  This is usually the result of calling `frame.insert` many times, which has poor performance.  Consider joining all columns at once using pd.concat(axis=1) instead. To get a de-fragmented frame, use `newframe = frame.copy()`\n",
            "  df[v] = data[v]\n",
            "/tmp/ipython-input-905881357.py:3: PerformanceWarning: DataFrame is highly fragmented.  This is usually the result of calling `frame.insert` many times, which has poor performance.  Consider joining all columns at once using pd.concat(axis=1) instead. To get a de-fragmented frame, use `newframe = frame.copy()`\n",
            "  df[v] = data[v]\n",
            "/tmp/ipython-input-905881357.py:3: PerformanceWarning: DataFrame is highly fragmented.  This is usually the result of calling `frame.insert` many times, which has poor performance.  Consider joining all columns at once using pd.concat(axis=1) instead. To get a de-fragmented frame, use `newframe = frame.copy()`\n",
            "  df[v] = data[v]\n",
            "/tmp/ipython-input-905881357.py:3: PerformanceWarning: DataFrame is highly fragmented.  This is usually the result of calling `frame.insert` many times, which has poor performance.  Consider joining all columns at once using pd.concat(axis=1) instead. To get a de-fragmented frame, use `newframe = frame.copy()`\n",
            "  df[v] = data[v]\n",
            "/tmp/ipython-input-905881357.py:3: PerformanceWarning: DataFrame is highly fragmented.  This is usually the result of calling `frame.insert` many times, which has poor performance.  Consider joining all columns at once using pd.concat(axis=1) instead. To get a de-fragmented frame, use `newframe = frame.copy()`\n",
            "  df[v] = data[v]\n",
            "/tmp/ipython-input-905881357.py:3: PerformanceWarning: DataFrame is highly fragmented.  This is usually the result of calling `frame.insert` many times, which has poor performance.  Consider joining all columns at once using pd.concat(axis=1) instead. To get a de-fragmented frame, use `newframe = frame.copy()`\n",
            "  df[v] = data[v]\n",
            "/tmp/ipython-input-905881357.py:3: PerformanceWarning: DataFrame is highly fragmented.  This is usually the result of calling `frame.insert` many times, which has poor performance.  Consider joining all columns at once using pd.concat(axis=1) instead. To get a de-fragmented frame, use `newframe = frame.copy()`\n",
            "  df[v] = data[v]\n",
            "/tmp/ipython-input-905881357.py:3: PerformanceWarning: DataFrame is highly fragmented.  This is usually the result of calling `frame.insert` many times, which has poor performance.  Consider joining all columns at once using pd.concat(axis=1) instead. To get a de-fragmented frame, use `newframe = frame.copy()`\n",
            "  df[v] = data[v]\n",
            "/tmp/ipython-input-905881357.py:3: PerformanceWarning: DataFrame is highly fragmented.  This is usually the result of calling `frame.insert` many times, which has poor performance.  Consider joining all columns at once using pd.concat(axis=1) instead. To get a de-fragmented frame, use `newframe = frame.copy()`\n",
            "  df[v] = data[v]\n",
            "/tmp/ipython-input-905881357.py:3: PerformanceWarning: DataFrame is highly fragmented.  This is usually the result of calling `frame.insert` many times, which has poor performance.  Consider joining all columns at once using pd.concat(axis=1) instead. To get a de-fragmented frame, use `newframe = frame.copy()`\n",
            "  df[v] = data[v]\n",
            "/tmp/ipython-input-905881357.py:3: PerformanceWarning: DataFrame is highly fragmented.  This is usually the result of calling `frame.insert` many times, which has poor performance.  Consider joining all columns at once using pd.concat(axis=1) instead. To get a de-fragmented frame, use `newframe = frame.copy()`\n",
            "  df[v] = data[v]\n",
            "/tmp/ipython-input-905881357.py:3: PerformanceWarning: DataFrame is highly fragmented.  This is usually the result of calling `frame.insert` many times, which has poor performance.  Consider joining all columns at once using pd.concat(axis=1) instead. To get a de-fragmented frame, use `newframe = frame.copy()`\n",
            "  df[v] = data[v]\n",
            "/tmp/ipython-input-905881357.py:3: PerformanceWarning: DataFrame is highly fragmented.  This is usually the result of calling `frame.insert` many times, which has poor performance.  Consider joining all columns at once using pd.concat(axis=1) instead. To get a de-fragmented frame, use `newframe = frame.copy()`\n",
            "  df[v] = data[v]\n",
            "/tmp/ipython-input-905881357.py:3: PerformanceWarning: DataFrame is highly fragmented.  This is usually the result of calling `frame.insert` many times, which has poor performance.  Consider joining all columns at once using pd.concat(axis=1) instead. To get a de-fragmented frame, use `newframe = frame.copy()`\n",
            "  df[v] = data[v]\n",
            "/tmp/ipython-input-905881357.py:3: PerformanceWarning: DataFrame is highly fragmented.  This is usually the result of calling `frame.insert` many times, which has poor performance.  Consider joining all columns at once using pd.concat(axis=1) instead. To get a de-fragmented frame, use `newframe = frame.copy()`\n",
            "  df[v] = data[v]\n",
            "/tmp/ipython-input-905881357.py:3: PerformanceWarning: DataFrame is highly fragmented.  This is usually the result of calling `frame.insert` many times, which has poor performance.  Consider joining all columns at once using pd.concat(axis=1) instead. To get a de-fragmented frame, use `newframe = frame.copy()`\n",
            "  df[v] = data[v]\n",
            "/tmp/ipython-input-905881357.py:3: PerformanceWarning: DataFrame is highly fragmented.  This is usually the result of calling `frame.insert` many times, which has poor performance.  Consider joining all columns at once using pd.concat(axis=1) instead. To get a de-fragmented frame, use `newframe = frame.copy()`\n",
            "  df[v] = data[v]\n",
            "/tmp/ipython-input-905881357.py:3: PerformanceWarning: DataFrame is highly fragmented.  This is usually the result of calling `frame.insert` many times, which has poor performance.  Consider joining all columns at once using pd.concat(axis=1) instead. To get a de-fragmented frame, use `newframe = frame.copy()`\n",
            "  df[v] = data[v]\n",
            "/tmp/ipython-input-905881357.py:3: PerformanceWarning: DataFrame is highly fragmented.  This is usually the result of calling `frame.insert` many times, which has poor performance.  Consider joining all columns at once using pd.concat(axis=1) instead. To get a de-fragmented frame, use `newframe = frame.copy()`\n",
            "  df[v] = data[v]\n",
            "/tmp/ipython-input-905881357.py:3: PerformanceWarning: DataFrame is highly fragmented.  This is usually the result of calling `frame.insert` many times, which has poor performance.  Consider joining all columns at once using pd.concat(axis=1) instead. To get a de-fragmented frame, use `newframe = frame.copy()`\n",
            "  df[v] = data[v]\n",
            "/tmp/ipython-input-905881357.py:3: PerformanceWarning: DataFrame is highly fragmented.  This is usually the result of calling `frame.insert` many times, which has poor performance.  Consider joining all columns at once using pd.concat(axis=1) instead. To get a de-fragmented frame, use `newframe = frame.copy()`\n",
            "  df[v] = data[v]\n",
            "/tmp/ipython-input-905881357.py:3: PerformanceWarning: DataFrame is highly fragmented.  This is usually the result of calling `frame.insert` many times, which has poor performance.  Consider joining all columns at once using pd.concat(axis=1) instead. To get a de-fragmented frame, use `newframe = frame.copy()`\n",
            "  df[v] = data[v]\n",
            "/tmp/ipython-input-905881357.py:3: PerformanceWarning: DataFrame is highly fragmented.  This is usually the result of calling `frame.insert` many times, which has poor performance.  Consider joining all columns at once using pd.concat(axis=1) instead. To get a de-fragmented frame, use `newframe = frame.copy()`\n",
            "  df[v] = data[v]\n",
            "/tmp/ipython-input-905881357.py:3: PerformanceWarning: DataFrame is highly fragmented.  This is usually the result of calling `frame.insert` many times, which has poor performance.  Consider joining all columns at once using pd.concat(axis=1) instead. To get a de-fragmented frame, use `newframe = frame.copy()`\n",
            "  df[v] = data[v]\n",
            "/tmp/ipython-input-905881357.py:3: PerformanceWarning: DataFrame is highly fragmented.  This is usually the result of calling `frame.insert` many times, which has poor performance.  Consider joining all columns at once using pd.concat(axis=1) instead. To get a de-fragmented frame, use `newframe = frame.copy()`\n",
            "  df[v] = data[v]\n",
            "/tmp/ipython-input-905881357.py:3: PerformanceWarning: DataFrame is highly fragmented.  This is usually the result of calling `frame.insert` many times, which has poor performance.  Consider joining all columns at once using pd.concat(axis=1) instead. To get a de-fragmented frame, use `newframe = frame.copy()`\n",
            "  df[v] = data[v]\n",
            "/tmp/ipython-input-905881357.py:3: PerformanceWarning: DataFrame is highly fragmented.  This is usually the result of calling `frame.insert` many times, which has poor performance.  Consider joining all columns at once using pd.concat(axis=1) instead. To get a de-fragmented frame, use `newframe = frame.copy()`\n",
            "  df[v] = data[v]\n",
            "/tmp/ipython-input-905881357.py:3: PerformanceWarning: DataFrame is highly fragmented.  This is usually the result of calling `frame.insert` many times, which has poor performance.  Consider joining all columns at once using pd.concat(axis=1) instead. To get a de-fragmented frame, use `newframe = frame.copy()`\n",
            "  df[v] = data[v]\n",
            "/tmp/ipython-input-905881357.py:3: PerformanceWarning: DataFrame is highly fragmented.  This is usually the result of calling `frame.insert` many times, which has poor performance.  Consider joining all columns at once using pd.concat(axis=1) instead. To get a de-fragmented frame, use `newframe = frame.copy()`\n",
            "  df[v] = data[v]\n",
            "/tmp/ipython-input-905881357.py:3: PerformanceWarning: DataFrame is highly fragmented.  This is usually the result of calling `frame.insert` many times, which has poor performance.  Consider joining all columns at once using pd.concat(axis=1) instead. To get a de-fragmented frame, use `newframe = frame.copy()`\n",
            "  df[v] = data[v]\n",
            "/tmp/ipython-input-905881357.py:3: PerformanceWarning: DataFrame is highly fragmented.  This is usually the result of calling `frame.insert` many times, which has poor performance.  Consider joining all columns at once using pd.concat(axis=1) instead. To get a de-fragmented frame, use `newframe = frame.copy()`\n",
            "  df[v] = data[v]\n",
            "/tmp/ipython-input-905881357.py:3: PerformanceWarning: DataFrame is highly fragmented.  This is usually the result of calling `frame.insert` many times, which has poor performance.  Consider joining all columns at once using pd.concat(axis=1) instead. To get a de-fragmented frame, use `newframe = frame.copy()`\n",
            "  df[v] = data[v]\n",
            "/tmp/ipython-input-905881357.py:3: PerformanceWarning: DataFrame is highly fragmented.  This is usually the result of calling `frame.insert` many times, which has poor performance.  Consider joining all columns at once using pd.concat(axis=1) instead. To get a de-fragmented frame, use `newframe = frame.copy()`\n",
            "  df[v] = data[v]\n",
            "/tmp/ipython-input-905881357.py:3: PerformanceWarning: DataFrame is highly fragmented.  This is usually the result of calling `frame.insert` many times, which has poor performance.  Consider joining all columns at once using pd.concat(axis=1) instead. To get a de-fragmented frame, use `newframe = frame.copy()`\n",
            "  df[v] = data[v]\n",
            "/tmp/ipython-input-905881357.py:3: PerformanceWarning: DataFrame is highly fragmented.  This is usually the result of calling `frame.insert` many times, which has poor performance.  Consider joining all columns at once using pd.concat(axis=1) instead. To get a de-fragmented frame, use `newframe = frame.copy()`\n",
            "  df[v] = data[v]\n",
            "/tmp/ipython-input-905881357.py:3: PerformanceWarning: DataFrame is highly fragmented.  This is usually the result of calling `frame.insert` many times, which has poor performance.  Consider joining all columns at once using pd.concat(axis=1) instead. To get a de-fragmented frame, use `newframe = frame.copy()`\n",
            "  df[v] = data[v]\n",
            "/tmp/ipython-input-905881357.py:3: PerformanceWarning: DataFrame is highly fragmented.  This is usually the result of calling `frame.insert` many times, which has poor performance.  Consider joining all columns at once using pd.concat(axis=1) instead. To get a de-fragmented frame, use `newframe = frame.copy()`\n",
            "  df[v] = data[v]\n",
            "/tmp/ipython-input-905881357.py:3: PerformanceWarning: DataFrame is highly fragmented.  This is usually the result of calling `frame.insert` many times, which has poor performance.  Consider joining all columns at once using pd.concat(axis=1) instead. To get a de-fragmented frame, use `newframe = frame.copy()`\n",
            "  df[v] = data[v]\n",
            "/tmp/ipython-input-905881357.py:3: PerformanceWarning: DataFrame is highly fragmented.  This is usually the result of calling `frame.insert` many times, which has poor performance.  Consider joining all columns at once using pd.concat(axis=1) instead. To get a de-fragmented frame, use `newframe = frame.copy()`\n",
            "  df[v] = data[v]\n",
            "/tmp/ipython-input-905881357.py:3: PerformanceWarning: DataFrame is highly fragmented.  This is usually the result of calling `frame.insert` many times, which has poor performance.  Consider joining all columns at once using pd.concat(axis=1) instead. To get a de-fragmented frame, use `newframe = frame.copy()`\n",
            "  df[v] = data[v]\n"
          ]
        }
      ]
    },
    {
      "cell_type": "code",
      "source": [
        "metadata = []\n",
        "for col in df.columns:\n",
        "    if col == \"date\":\n",
        "        continue\n",
        "\n",
        "    # Skip if all values are null\n",
        "    if df[col].isnull().all():\n",
        "        print(f\"Skipping {col} - all values are null\")\n",
        "        continue\n",
        "\n",
        "    original_name = col\n",
        "    original_unit = \"varies\"\n",
        "    converted_unit = original_unit\n",
        "    new_name = col\n",
        "\n",
        "    # Kelvin → Celsius\n",
        "    if \"temperature\" in col.lower():\n",
        "        df[col] = df[col] - 273.15\n",
        "        new_name = col + \"_C\"\n",
        "        original_unit, converted_unit = \"K\", \"°C\"\n",
        "    # Precipitation / Runoff / Evaporation (m → mm/day)\n",
        "    elif col.endswith(\"_sum\") or \"precipitation\" in col.lower() or \"evaporation\" in col.lower() or \"runoff\" in col.lower():\n",
        "        df[col] = df[col] * 1000\n",
        "        new_name = col + \"_mm\"\n",
        "        original_unit, converted_unit = \"m\", \"mm/day\"\n",
        "    # Pressure (Pa → hPa)\n",
        "    elif \"pressure\" in col.lower():\n",
        "        df[col] = df[col] / 100\n",
        "        new_name = col + \"_hPa\"\n",
        "        original_unit, converted_unit = \"Pa\", \"hPa\"\n",
        "    # Wind (m/s → km/h)\n",
        "    elif \"u_component\" in col.lower() or \"v_component\" in col.lower() or \"wind\" in col.lower():\n",
        "        df[col] = df[col] * 3.6\n",
        "        new_name = col + \"_kmh\"\n",
        "        original_unit, converted_unit = \"m/s\", \"km/h\"\n",
        "    # Snow depth (m → cm)\n",
        "    elif \"snow_depth\" in col.lower():\n",
        "        df[col] = df[col] * 100\n",
        "        new_name = col + \"_cm\"\n",
        "        original_unit, converted_unit = \"m\", \"cm\"\n",
        "    # Radiation & Fluxes (J/m²/day → W/m²)\n",
        "    elif col.endswith(\"_radiation_sum\") or col.endswith(\"_flux_sum\") or col.endswith(\"_heat_sum\"):\n",
        "        df[col] = df[col] / 86400\n",
        "        new_name = col + \"_Wm2\"\n",
        "        original_unit, converted_unit = \"J/m²/day\", \"W/m²\"\n",
        "\n",
        "    # Rename column\n",
        "    if new_name != col:\n",
        "        df.rename(columns={col: new_name}, inplace=True)\n",
        "\n",
        "    # Add metadata record\n",
        "    metadata.append({\n",
        "        \"Band\": original_name,\n",
        "        \"Converted Column\": new_name,\n",
        "        \"Original Unit\": original_unit,\n",
        "        \"Converted Unit\": converted_unit\n",
        "    })"
      ],
      "metadata": {
        "colab": {
          "base_uri": "https://localhost:8080/",
          "height": 17
        },
        "id": "WVXPZCTE8N-T",
        "outputId": "2bafccf0-0c1d-4eb2-953d-712b16385b9e"
      },
      "execution_count": 13,
      "outputs": [
        {
          "output_type": "display_data",
          "data": {
            "text/plain": [
              "<IPython.core.display.HTML object>"
            ],
            "text/html": [
              "\n",
              "            <style>\n",
              "                .geemap-dark {\n",
              "                    --jp-widgets-color: white;\n",
              "                    --jp-widgets-label-color: white;\n",
              "                    --jp-ui-font-color1: white;\n",
              "                    --jp-layout-color2: #454545;\n",
              "                    background-color: #383838;\n",
              "                }\n",
              "\n",
              "                .geemap-dark .jupyter-button {\n",
              "                    --jp-layout-color3: #383838;\n",
              "                }\n",
              "\n",
              "                .geemap-colab {\n",
              "                    background-color: var(--colab-primary-surface-color, white);\n",
              "                }\n",
              "\n",
              "                .geemap-colab .jupyter-button {\n",
              "                    --jp-layout-color3: var(--colab-primary-surface-color, white);\n",
              "                }\n",
              "            </style>\n",
              "            "
            ]
          },
          "metadata": {}
        }
      ]
    },
    {
      "cell_type": "code",
      "source": [
        "meta_df = pd.DataFrame(metadata)\n",
        "print(\"\\nMetadata:\")\n",
        "print(meta_df)"
      ],
      "metadata": {
        "colab": {
          "base_uri": "https://localhost:8080/",
          "height": 520
        },
        "id": "SgucNJ5k8S18",
        "outputId": "0f01216c-a216-4515-f077-0df3d30f570e"
      },
      "execution_count": 14,
      "outputs": [
        {
          "output_type": "display_data",
          "data": {
            "text/plain": [
              "<IPython.core.display.HTML object>"
            ],
            "text/html": [
              "\n",
              "            <style>\n",
              "                .geemap-dark {\n",
              "                    --jp-widgets-color: white;\n",
              "                    --jp-widgets-label-color: white;\n",
              "                    --jp-ui-font-color1: white;\n",
              "                    --jp-layout-color2: #454545;\n",
              "                    background-color: #383838;\n",
              "                }\n",
              "\n",
              "                .geemap-dark .jupyter-button {\n",
              "                    --jp-layout-color3: #383838;\n",
              "                }\n",
              "\n",
              "                .geemap-colab {\n",
              "                    background-color: var(--colab-primary-surface-color, white);\n",
              "                }\n",
              "\n",
              "                .geemap-colab .jupyter-button {\n",
              "                    --jp-layout-color3: var(--colab-primary-surface-color, white);\n",
              "                }\n",
              "            </style>\n",
              "            "
            ]
          },
          "metadata": {}
        },
        {
          "output_type": "stream",
          "name": "stdout",
          "text": [
            "\n",
            "Metadata:\n",
            "                                    Band                     Converted Column  \\\n",
            "0                dewpoint_temperature_2m            dewpoint_temperature_2m_C   \n",
            "1                         temperature_2m                     temperature_2m_C   \n",
            "2                       skin_temperature                   skin_temperature_C   \n",
            "3               soil_temperature_level_1           soil_temperature_level_1_C   \n",
            "4               soil_temperature_level_2           soil_temperature_level_2_C   \n",
            "..                                   ...                                  ...   \n",
            "145              total_precipitation_max           total_precipitation_max_mm   \n",
            "146  leaf_area_index_high_vegetation_min  leaf_area_index_high_vegetation_min   \n",
            "147  leaf_area_index_high_vegetation_max  leaf_area_index_high_vegetation_max   \n",
            "148   leaf_area_index_low_vegetation_min   leaf_area_index_low_vegetation_min   \n",
            "149   leaf_area_index_low_vegetation_max   leaf_area_index_low_vegetation_max   \n",
            "\n",
            "    Original Unit Converted Unit  \n",
            "0               K             °C  \n",
            "1               K             °C  \n",
            "2               K             °C  \n",
            "3               K             °C  \n",
            "4               K             °C  \n",
            "..            ...            ...  \n",
            "145             m         mm/day  \n",
            "146        varies         varies  \n",
            "147        varies         varies  \n",
            "148        varies         varies  \n",
            "149        varies         varies  \n",
            "\n",
            "[150 rows x 4 columns]\n"
          ]
        }
      ]
    },
    {
      "cell_type": "code",
      "source": [
        "from google.colab import drive\n",
        "drive.mount('/content/drive')\n",
        "\n",
        "# FIXED: Updated filename to reflect correct location (Aparri)\n",
        "filename = \"ERA5-Land_Daily_Aggregated_'14_'23_Iba.csv\"\n",
        "drive_path = f'/content/drive/MyDrive/ERA5_datasets/{filename}'\n",
        "\n",
        "try:\n",
        "    df.to_csv(drive_path, index=False)\n",
        "    print(f\"File saved to Google Drive: {filename}\")\n",
        "    print(f\"Final DataFrame shape: {df.shape}\")\n",
        "except Exception as e:\n",
        "    print(f\"Error saving file: {e}\")\n",
        "    # Save locally as backup\n",
        "    df.to_csv(filename, index=False)\n",
        "    print(f\"File saved locally: {filename}\")\n"
      ],
      "metadata": {
        "colab": {
          "base_uri": "https://localhost:8080/",
          "height": 69
        },
        "id": "-FNc8eWZ9FQa",
        "outputId": "4ee65d62-217d-4f63-8ddc-ad20077dfcce"
      },
      "execution_count": 15,
      "outputs": [
        {
          "output_type": "display_data",
          "data": {
            "text/plain": [
              "<IPython.core.display.HTML object>"
            ],
            "text/html": [
              "\n",
              "            <style>\n",
              "                .geemap-dark {\n",
              "                    --jp-widgets-color: white;\n",
              "                    --jp-widgets-label-color: white;\n",
              "                    --jp-ui-font-color1: white;\n",
              "                    --jp-layout-color2: #454545;\n",
              "                    background-color: #383838;\n",
              "                }\n",
              "\n",
              "                .geemap-dark .jupyter-button {\n",
              "                    --jp-layout-color3: #383838;\n",
              "                }\n",
              "\n",
              "                .geemap-colab {\n",
              "                    background-color: var(--colab-primary-surface-color, white);\n",
              "                }\n",
              "\n",
              "                .geemap-colab .jupyter-button {\n",
              "                    --jp-layout-color3: var(--colab-primary-surface-color, white);\n",
              "                }\n",
              "            </style>\n",
              "            "
            ]
          },
          "metadata": {}
        },
        {
          "output_type": "stream",
          "name": "stdout",
          "text": [
            "Drive already mounted at /content/drive; to attempt to forcibly remount, call drive.mount(\"/content/drive\", force_remount=True).\n",
            "File saved to Google Drive: ERA5-Land_Daily_Aggregated_'14_'23_Iba.csv\n",
            "Final DataFrame shape: (3651, 151)\n"
          ]
        }
      ]
    }
  ]
}