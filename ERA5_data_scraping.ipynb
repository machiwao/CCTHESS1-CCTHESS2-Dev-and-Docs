{
  "nbformat": 4,
  "nbformat_minor": 0,
  "metadata": {
    "colab": {
      "provenance": [],
      "authorship_tag": "ABX9TyNuXLWIbpVTpH00UCnrpesD",
      "include_colab_link": true
    },
    "kernelspec": {
      "name": "python3",
      "display_name": "Python 3"
    },
    "language_info": {
      "name": "python"
    }
  },
  "cells": [
    {
      "cell_type": "markdown",
      "metadata": {
        "id": "view-in-github",
        "colab_type": "text"
      },
      "source": [
        "<a href=\"https://colab.research.google.com/github/machiwao/CCTHESS1-CCTHESS2-Dev-and-Docs/blob/jessy/ERA5_data_scraping.ipynb\" target=\"_parent\"><img src=\"https://colab.research.google.com/assets/colab-badge.svg\" alt=\"Open In Colab\"/></a>"
      ]
    },
    {
      "cell_type": "code",
      "source": [
        "import ee\n",
        "import geemap\n",
        "import pandas as pd"
      ],
      "metadata": {
        "colab": {
          "base_uri": "https://localhost:8080/",
          "height": 17
        },
        "id": "0iIAlUl2BoJS",
        "outputId": "87ba8c97-69d9-4d76-e2aa-8023e02c64ef"
      },
      "execution_count": 15,
      "outputs": [
        {
          "output_type": "display_data",
          "data": {
            "text/plain": [
              "<IPython.core.display.HTML object>"
            ],
            "text/html": [
              "\n",
              "            <style>\n",
              "                .geemap-dark {\n",
              "                    --jp-widgets-color: white;\n",
              "                    --jp-widgets-label-color: white;\n",
              "                    --jp-ui-font-color1: white;\n",
              "                    --jp-layout-color2: #454545;\n",
              "                    background-color: #383838;\n",
              "                }\n",
              "\n",
              "                .geemap-dark .jupyter-button {\n",
              "                    --jp-layout-color3: #383838;\n",
              "                }\n",
              "\n",
              "                .geemap-colab {\n",
              "                    background-color: var(--colab-primary-surface-color, white);\n",
              "                }\n",
              "\n",
              "                .geemap-colab .jupyter-button {\n",
              "                    --jp-layout-color3: var(--colab-primary-surface-color, white);\n",
              "                }\n",
              "            </style>\n",
              "            "
            ]
          },
          "metadata": {}
        }
      ]
    },
    {
      "cell_type": "code",
      "source": [
        "cloud_project = 'heat-index-forecasting'\n",
        "\n",
        "try:\n",
        "  ee.Initialize(project=cloud_project)\n",
        "except:\n",
        "  ee.Authenticate()\n",
        "  ee.Initialize(project=cloud_project)"
      ],
      "metadata": {
        "colab": {
          "base_uri": "https://localhost:8080/",
          "height": 17
        },
        "id": "Lffj-v0EBp19",
        "outputId": "12886e32-41b9-4bda-f58a-c7674a571423"
      },
      "execution_count": 16,
      "outputs": [
        {
          "output_type": "display_data",
          "data": {
            "text/plain": [
              "<IPython.core.display.HTML object>"
            ],
            "text/html": [
              "\n",
              "            <style>\n",
              "                .geemap-dark {\n",
              "                    --jp-widgets-color: white;\n",
              "                    --jp-widgets-label-color: white;\n",
              "                    --jp-ui-font-color1: white;\n",
              "                    --jp-layout-color2: #454545;\n",
              "                    background-color: #383838;\n",
              "                }\n",
              "\n",
              "                .geemap-dark .jupyter-button {\n",
              "                    --jp-layout-color3: #383838;\n",
              "                }\n",
              "\n",
              "                .geemap-colab {\n",
              "                    background-color: var(--colab-primary-surface-color, white);\n",
              "                }\n",
              "\n",
              "                .geemap-colab .jupyter-button {\n",
              "                    --jp-layout-color3: var(--colab-primary-surface-color, white);\n",
              "                }\n",
              "            </style>\n",
              "            "
            ]
          },
          "metadata": {}
        }
      ]
    },
    {
      "cell_type": "code",
      "source": [
        "dataset = ee.ImageCollection(\"ECMWF/ERA5_LAND/DAILY_AGGR\").filterDate('2014-01-01', '2023-12-31')\n",
        "\n",
        "bands = dataset.first().bandNames().getInfo()\n",
        "print(\"Available Bands:\", bands)\n",
        "print(\"Dataset size:\", dataset.size().getInfo())"
      ],
      "metadata": {
        "id": "5y9sIGofPfNW",
        "colab": {
          "base_uri": "https://localhost:8080/",
          "height": 72
        },
        "outputId": "517b389e-5a50-44d4-98ca-39b8dcc16438"
      },
      "execution_count": 17,
      "outputs": [
        {
          "output_type": "display_data",
          "data": {
            "text/plain": [
              "<IPython.core.display.HTML object>"
            ],
            "text/html": [
              "\n",
              "            <style>\n",
              "                .geemap-dark {\n",
              "                    --jp-widgets-color: white;\n",
              "                    --jp-widgets-label-color: white;\n",
              "                    --jp-ui-font-color1: white;\n",
              "                    --jp-layout-color2: #454545;\n",
              "                    background-color: #383838;\n",
              "                }\n",
              "\n",
              "                .geemap-dark .jupyter-button {\n",
              "                    --jp-layout-color3: #383838;\n",
              "                }\n",
              "\n",
              "                .geemap-colab {\n",
              "                    background-color: var(--colab-primary-surface-color, white);\n",
              "                }\n",
              "\n",
              "                .geemap-colab .jupyter-button {\n",
              "                    --jp-layout-color3: var(--colab-primary-surface-color, white);\n",
              "                }\n",
              "            </style>\n",
              "            "
            ]
          },
          "metadata": {}
        },
        {
          "output_type": "stream",
          "name": "stdout",
          "text": [
            "Available Bands: ['dewpoint_temperature_2m', 'temperature_2m', 'skin_temperature', 'soil_temperature_level_1', 'soil_temperature_level_2', 'soil_temperature_level_3', 'soil_temperature_level_4', 'lake_bottom_temperature', 'lake_ice_depth', 'lake_ice_temperature', 'lake_mix_layer_depth', 'lake_mix_layer_temperature', 'lake_shape_factor', 'lake_total_layer_temperature', 'snow_albedo', 'snow_cover', 'snow_density', 'snow_depth', 'snow_depth_water_equivalent', 'snowfall_sum', 'snowmelt_sum', 'temperature_of_snow_layer', 'skin_reservoir_content', 'volumetric_soil_water_layer_1', 'volumetric_soil_water_layer_2', 'volumetric_soil_water_layer_3', 'volumetric_soil_water_layer_4', 'forecast_albedo', 'surface_latent_heat_flux_sum', 'surface_net_solar_radiation_sum', 'surface_net_thermal_radiation_sum', 'surface_sensible_heat_flux_sum', 'surface_solar_radiation_downwards_sum', 'surface_thermal_radiation_downwards_sum', 'evaporation_from_bare_soil_sum', 'evaporation_from_open_water_surfaces_excluding_oceans_sum', 'evaporation_from_the_top_of_canopy_sum', 'evaporation_from_vegetation_transpiration_sum', 'potential_evaporation_sum', 'runoff_sum', 'snow_evaporation_sum', 'sub_surface_runoff_sum', 'surface_runoff_sum', 'total_evaporation_sum', 'u_component_of_wind_10m', 'v_component_of_wind_10m', 'surface_pressure', 'total_precipitation_sum', 'leaf_area_index_high_vegetation', 'leaf_area_index_low_vegetation', 'dewpoint_temperature_2m_min', 'dewpoint_temperature_2m_max', 'temperature_2m_min', 'temperature_2m_max', 'skin_temperature_min', 'skin_temperature_max', 'soil_temperature_level_1_min', 'soil_temperature_level_1_max', 'soil_temperature_level_2_min', 'soil_temperature_level_2_max', 'soil_temperature_level_3_min', 'soil_temperature_level_3_max', 'soil_temperature_level_4_min', 'soil_temperature_level_4_max', 'lake_bottom_temperature_min', 'lake_bottom_temperature_max', 'lake_ice_depth_min', 'lake_ice_depth_max', 'lake_ice_temperature_min', 'lake_ice_temperature_max', 'lake_mix_layer_depth_min', 'lake_mix_layer_depth_max', 'lake_mix_layer_temperature_min', 'lake_mix_layer_temperature_max', 'lake_shape_factor_min', 'lake_shape_factor_max', 'lake_total_layer_temperature_min', 'lake_total_layer_temperature_max', 'snow_albedo_min', 'snow_albedo_max', 'snow_cover_min', 'snow_cover_max', 'snow_density_min', 'snow_density_max', 'snow_depth_min', 'snow_depth_max', 'snow_depth_water_equivalent_min', 'snow_depth_water_equivalent_max', 'snowfall_min', 'snowfall_max', 'snowmelt_min', 'snowmelt_max', 'temperature_of_snow_layer_min', 'temperature_of_snow_layer_max', 'skin_reservoir_content_min', 'skin_reservoir_content_max', 'volumetric_soil_water_layer_1_min', 'volumetric_soil_water_layer_1_max', 'volumetric_soil_water_layer_2_min', 'volumetric_soil_water_layer_2_max', 'volumetric_soil_water_layer_3_min', 'volumetric_soil_water_layer_3_max', 'volumetric_soil_water_layer_4_min', 'volumetric_soil_water_layer_4_max', 'forecast_albedo_min', 'forecast_albedo_max', 'surface_latent_heat_flux_min', 'surface_latent_heat_flux_max', 'surface_net_solar_radiation_min', 'surface_net_solar_radiation_max', 'surface_net_thermal_radiation_min', 'surface_net_thermal_radiation_max', 'surface_sensible_heat_flux_min', 'surface_sensible_heat_flux_max', 'surface_solar_radiation_downwards_min', 'surface_solar_radiation_downwards_max', 'surface_thermal_radiation_downwards_min', 'surface_thermal_radiation_downwards_max', 'evaporation_from_bare_soil_min', 'evaporation_from_bare_soil_max', 'evaporation_from_open_water_surfaces_excluding_oceans_min', 'evaporation_from_open_water_surfaces_excluding_oceans_max', 'evaporation_from_the_top_of_canopy_min', 'evaporation_from_the_top_of_canopy_max', 'evaporation_from_vegetation_transpiration_min', 'evaporation_from_vegetation_transpiration_max', 'potential_evaporation_min', 'potential_evaporation_max', 'runoff_min', 'runoff_max', 'snow_evaporation_min', 'snow_evaporation_max', 'sub_surface_runoff_min', 'sub_surface_runoff_max', 'surface_runoff_min', 'surface_runoff_max', 'total_evaporation_min', 'total_evaporation_max', 'u_component_of_wind_10m_min', 'u_component_of_wind_10m_max', 'v_component_of_wind_10m_min', 'v_component_of_wind_10m_max', 'surface_pressure_min', 'surface_pressure_max', 'total_precipitation_min', 'total_precipitation_max', 'leaf_area_index_high_vegetation_min', 'leaf_area_index_high_vegetation_max', 'leaf_area_index_low_vegetation_min', 'leaf_area_index_low_vegetation_max']\n",
            "Dataset size: 3651\n"
          ]
        }
      ]
    },
    {
      "cell_type": "code",
      "source": [
        "# Stations\n",
        "\n",
        "point = ee.Geometry.Point([14.581167, 121.36927]).buffer(25000)\n",
        "\n",
        "# Sinait Latitude: 17.89019 N Longitude: 120.459762 E Elevation: 58.129 m\n",
        "# Tanay Latitude: 14.581167 N Longitude: 121.36927 E Elevation: 650 m\n",
        "# Tayabas Latitude: 14.018428 N Longitude: 121.596575 E Elevation: 158 m\n",
        "# Tuguegarao Latitude: 17.647678 N Longitude: 121.758469 E Elevation: 62 m\n",
        "# Virac Synop Latitude: 13.576558 N Longitude: 124.209834 E Elevation: 31.574 m"
      ],
      "metadata": {
        "colab": {
          "base_uri": "https://localhost:8080/",
          "height": 17
        },
        "id": "wBndqj67C16R",
        "outputId": "237aa572-020b-430d-a022-ef01ff9d47e7"
      },
      "execution_count": 18,
      "outputs": [
        {
          "output_type": "display_data",
          "data": {
            "text/plain": [
              "<IPython.core.display.HTML object>"
            ],
            "text/html": [
              "\n",
              "            <style>\n",
              "                .geemap-dark {\n",
              "                    --jp-widgets-color: white;\n",
              "                    --jp-widgets-label-color: white;\n",
              "                    --jp-ui-font-color1: white;\n",
              "                    --jp-layout-color2: #454545;\n",
              "                    background-color: #383838;\n",
              "                }\n",
              "\n",
              "                .geemap-dark .jupyter-button {\n",
              "                    --jp-layout-color3: #383838;\n",
              "                }\n",
              "\n",
              "                .geemap-colab {\n",
              "                    background-color: var(--colab-primary-surface-color, white);\n",
              "                }\n",
              "\n",
              "                .geemap-colab .jupyter-button {\n",
              "                    --jp-layout-color3: var(--colab-primary-surface-color, white);\n",
              "                }\n",
              "            </style>\n",
              "            "
            ]
          },
          "metadata": {}
        }
      ]
    },
    {
      "cell_type": "code",
      "source": [
        "def extract(img):\n",
        "    # Add error handling and debugging\n",
        "    vals = img.reduceRegion(\n",
        "        reducer=ee.Reducer.mean(),\n",
        "        geometry=point,\n",
        "        scale=11132,  # ERA5-Land native resolution is ~11km\n",
        "        maxPixels=1e13,\n",
        "        bestEffort=True  # Add this to handle large geometries\n",
        "    )\n",
        "\n",
        "    # Get the date\n",
        "    date_val = img.date().format(\"YYYY-MM-dd\")\n",
        "\n",
        "    # Create feature with both values and date\n",
        "    feature = ee.Feature(None, vals).set(\"date\", date_val)\n",
        "    return feature\n",
        "\n",
        "# Apply extraction to all images\n",
        "fc = dataset.map(extract)"
      ],
      "metadata": {
        "colab": {
          "base_uri": "https://localhost:8080/",
          "height": 17
        },
        "id": "T0TiMQLyIR-S",
        "outputId": "674593bb-ce8a-48b1-87e2-0cd71d7c7210"
      },
      "execution_count": 19,
      "outputs": [
        {
          "output_type": "display_data",
          "data": {
            "text/plain": [
              "<IPython.core.display.HTML object>"
            ],
            "text/html": [
              "\n",
              "            <style>\n",
              "                .geemap-dark {\n",
              "                    --jp-widgets-color: white;\n",
              "                    --jp-widgets-label-color: white;\n",
              "                    --jp-ui-font-color1: white;\n",
              "                    --jp-layout-color2: #454545;\n",
              "                    background-color: #383838;\n",
              "                }\n",
              "\n",
              "                .geemap-dark .jupyter-button {\n",
              "                    --jp-layout-color3: #383838;\n",
              "                }\n",
              "\n",
              "                .geemap-colab {\n",
              "                    background-color: var(--colab-primary-surface-color, white);\n",
              "                }\n",
              "\n",
              "                .geemap-colab .jupyter-button {\n",
              "                    --jp-layout-color3: var(--colab-primary-surface-color, white);\n",
              "                }\n",
              "            </style>\n",
              "            "
            ]
          },
          "metadata": {}
        }
      ]
    },
    {
      "cell_type": "code",
      "source": [
        "# Debug: Check if feature collection is properly created\n",
        "print(\"Feature collection size:\", fc.size().getInfo())\n",
        "\n",
        "# Get a sample to check if data extraction worked\n",
        "sample = fc.limit(5).getInfo()\n",
        "print(\"Sample features:\", sample['features'][0]['properties'])"
      ],
      "metadata": {
        "colab": {
          "base_uri": "https://localhost:8080/",
          "height": 52
        },
        "id": "5V5v3As5Ig3A",
        "outputId": "fa4cee46-ef44-4443-f2ed-b3f13e38ed7b"
      },
      "execution_count": 20,
      "outputs": [
        {
          "output_type": "display_data",
          "data": {
            "text/plain": [
              "<IPython.core.display.HTML object>"
            ],
            "text/html": [
              "\n",
              "            <style>\n",
              "                .geemap-dark {\n",
              "                    --jp-widgets-color: white;\n",
              "                    --jp-widgets-label-color: white;\n",
              "                    --jp-ui-font-color1: white;\n",
              "                    --jp-layout-color2: #454545;\n",
              "                    background-color: #383838;\n",
              "                }\n",
              "\n",
              "                .geemap-dark .jupyter-button {\n",
              "                    --jp-layout-color3: #383838;\n",
              "                }\n",
              "\n",
              "                .geemap-colab {\n",
              "                    background-color: var(--colab-primary-surface-color, white);\n",
              "                }\n",
              "\n",
              "                .geemap-colab .jupyter-button {\n",
              "                    --jp-layout-color3: var(--colab-primary-surface-color, white);\n",
              "                }\n",
              "            </style>\n",
              "            "
            ]
          },
          "metadata": {}
        },
        {
          "output_type": "stream",
          "name": "stdout",
          "text": [
            "Feature collection size: 3651\n",
            "Sample features: {'date': '2014-01-01'}\n"
          ]
        }
      ]
    },
    {
      "cell_type": "code",
      "source": [
        "dates = fc.aggregate_array(\"date\").getInfo()\n",
        "print(f\"Number of dates extracted: {len(dates)}\")\n",
        "print(f\"First few dates: {dates[:5]}\")\n",
        "\n",
        "var_names = dataset.first().bandNames().getInfo()\n",
        "print(f\"Variable names: {var_names}\")"
      ],
      "metadata": {
        "colab": {
          "base_uri": "https://localhost:8080/",
          "height": 89
        },
        "id": "Gd7yjdSTIjwJ",
        "outputId": "ec974b62-42ce-4ee8-b712-8b686673dd8f"
      },
      "execution_count": 21,
      "outputs": [
        {
          "output_type": "display_data",
          "data": {
            "text/plain": [
              "<IPython.core.display.HTML object>"
            ],
            "text/html": [
              "\n",
              "            <style>\n",
              "                .geemap-dark {\n",
              "                    --jp-widgets-color: white;\n",
              "                    --jp-widgets-label-color: white;\n",
              "                    --jp-ui-font-color1: white;\n",
              "                    --jp-layout-color2: #454545;\n",
              "                    background-color: #383838;\n",
              "                }\n",
              "\n",
              "                .geemap-dark .jupyter-button {\n",
              "                    --jp-layout-color3: #383838;\n",
              "                }\n",
              "\n",
              "                .geemap-colab {\n",
              "                    background-color: var(--colab-primary-surface-color, white);\n",
              "                }\n",
              "\n",
              "                .geemap-colab .jupyter-button {\n",
              "                    --jp-layout-color3: var(--colab-primary-surface-color, white);\n",
              "                }\n",
              "            </style>\n",
              "            "
            ]
          },
          "metadata": {}
        },
        {
          "output_type": "stream",
          "name": "stdout",
          "text": [
            "Number of dates extracted: 3651\n",
            "First few dates: ['2014-01-01', '2014-01-02', '2014-01-03', '2014-01-04', '2014-01-05']\n",
            "Variable names: ['dewpoint_temperature_2m', 'temperature_2m', 'skin_temperature', 'soil_temperature_level_1', 'soil_temperature_level_2', 'soil_temperature_level_3', 'soil_temperature_level_4', 'lake_bottom_temperature', 'lake_ice_depth', 'lake_ice_temperature', 'lake_mix_layer_depth', 'lake_mix_layer_temperature', 'lake_shape_factor', 'lake_total_layer_temperature', 'snow_albedo', 'snow_cover', 'snow_density', 'snow_depth', 'snow_depth_water_equivalent', 'snowfall_sum', 'snowmelt_sum', 'temperature_of_snow_layer', 'skin_reservoir_content', 'volumetric_soil_water_layer_1', 'volumetric_soil_water_layer_2', 'volumetric_soil_water_layer_3', 'volumetric_soil_water_layer_4', 'forecast_albedo', 'surface_latent_heat_flux_sum', 'surface_net_solar_radiation_sum', 'surface_net_thermal_radiation_sum', 'surface_sensible_heat_flux_sum', 'surface_solar_radiation_downwards_sum', 'surface_thermal_radiation_downwards_sum', 'evaporation_from_bare_soil_sum', 'evaporation_from_open_water_surfaces_excluding_oceans_sum', 'evaporation_from_the_top_of_canopy_sum', 'evaporation_from_vegetation_transpiration_sum', 'potential_evaporation_sum', 'runoff_sum', 'snow_evaporation_sum', 'sub_surface_runoff_sum', 'surface_runoff_sum', 'total_evaporation_sum', 'u_component_of_wind_10m', 'v_component_of_wind_10m', 'surface_pressure', 'total_precipitation_sum', 'leaf_area_index_high_vegetation', 'leaf_area_index_low_vegetation', 'dewpoint_temperature_2m_min', 'dewpoint_temperature_2m_max', 'temperature_2m_min', 'temperature_2m_max', 'skin_temperature_min', 'skin_temperature_max', 'soil_temperature_level_1_min', 'soil_temperature_level_1_max', 'soil_temperature_level_2_min', 'soil_temperature_level_2_max', 'soil_temperature_level_3_min', 'soil_temperature_level_3_max', 'soil_temperature_level_4_min', 'soil_temperature_level_4_max', 'lake_bottom_temperature_min', 'lake_bottom_temperature_max', 'lake_ice_depth_min', 'lake_ice_depth_max', 'lake_ice_temperature_min', 'lake_ice_temperature_max', 'lake_mix_layer_depth_min', 'lake_mix_layer_depth_max', 'lake_mix_layer_temperature_min', 'lake_mix_layer_temperature_max', 'lake_shape_factor_min', 'lake_shape_factor_max', 'lake_total_layer_temperature_min', 'lake_total_layer_temperature_max', 'snow_albedo_min', 'snow_albedo_max', 'snow_cover_min', 'snow_cover_max', 'snow_density_min', 'snow_density_max', 'snow_depth_min', 'snow_depth_max', 'snow_depth_water_equivalent_min', 'snow_depth_water_equivalent_max', 'snowfall_min', 'snowfall_max', 'snowmelt_min', 'snowmelt_max', 'temperature_of_snow_layer_min', 'temperature_of_snow_layer_max', 'skin_reservoir_content_min', 'skin_reservoir_content_max', 'volumetric_soil_water_layer_1_min', 'volumetric_soil_water_layer_1_max', 'volumetric_soil_water_layer_2_min', 'volumetric_soil_water_layer_2_max', 'volumetric_soil_water_layer_3_min', 'volumetric_soil_water_layer_3_max', 'volumetric_soil_water_layer_4_min', 'volumetric_soil_water_layer_4_max', 'forecast_albedo_min', 'forecast_albedo_max', 'surface_latent_heat_flux_min', 'surface_latent_heat_flux_max', 'surface_net_solar_radiation_min', 'surface_net_solar_radiation_max', 'surface_net_thermal_radiation_min', 'surface_net_thermal_radiation_max', 'surface_sensible_heat_flux_min', 'surface_sensible_heat_flux_max', 'surface_solar_radiation_downwards_min', 'surface_solar_radiation_downwards_max', 'surface_thermal_radiation_downwards_min', 'surface_thermal_radiation_downwards_max', 'evaporation_from_bare_soil_min', 'evaporation_from_bare_soil_max', 'evaporation_from_open_water_surfaces_excluding_oceans_min', 'evaporation_from_open_water_surfaces_excluding_oceans_max', 'evaporation_from_the_top_of_canopy_min', 'evaporation_from_the_top_of_canopy_max', 'evaporation_from_vegetation_transpiration_min', 'evaporation_from_vegetation_transpiration_max', 'potential_evaporation_min', 'potential_evaporation_max', 'runoff_min', 'runoff_max', 'snow_evaporation_min', 'snow_evaporation_max', 'sub_surface_runoff_min', 'sub_surface_runoff_max', 'surface_runoff_min', 'surface_runoff_max', 'total_evaporation_min', 'total_evaporation_max', 'u_component_of_wind_10m_min', 'u_component_of_wind_10m_max', 'v_component_of_wind_10m_min', 'v_component_of_wind_10m_max', 'surface_pressure_min', 'surface_pressure_max', 'total_precipitation_min', 'total_precipitation_max', 'leaf_area_index_high_vegetation_min', 'leaf_area_index_high_vegetation_max', 'leaf_area_index_low_vegetation_min', 'leaf_area_index_low_vegetation_max']\n"
          ]
        }
      ]
    },
    {
      "cell_type": "code",
      "source": [
        "data = {}\n",
        "for v in var_names:\n",
        "    try:\n",
        "        values = fc.aggregate_array(v).getInfo()\n",
        "        data[v] = values\n",
        "        print(f\"Extracted {len([x for x in values if x is not None])} non-null values for {v}\")\n",
        "    except Exception as e:\n",
        "        print(f\"Error extracting {v}: {e}\")\n",
        "        data[v] = [None] * len(dates)\n",
        "\n",
        "# Create DataFrame\n",
        "df = pd.DataFrame({\"date\": dates})"
      ],
      "metadata": {
        "colab": {
          "base_uri": "https://localhost:8080/",
          "height": 1000
        },
        "id": "FlOQ8xMiIldM",
        "outputId": "c04e9758-436b-4d0b-92e7-86aeabc51360"
      },
      "execution_count": 22,
      "outputs": [
        {
          "output_type": "display_data",
          "data": {
            "text/plain": [
              "<IPython.core.display.HTML object>"
            ],
            "text/html": [
              "\n",
              "            <style>\n",
              "                .geemap-dark {\n",
              "                    --jp-widgets-color: white;\n",
              "                    --jp-widgets-label-color: white;\n",
              "                    --jp-ui-font-color1: white;\n",
              "                    --jp-layout-color2: #454545;\n",
              "                    background-color: #383838;\n",
              "                }\n",
              "\n",
              "                .geemap-dark .jupyter-button {\n",
              "                    --jp-layout-color3: #383838;\n",
              "                }\n",
              "\n",
              "                .geemap-colab {\n",
              "                    background-color: var(--colab-primary-surface-color, white);\n",
              "                }\n",
              "\n",
              "                .geemap-colab .jupyter-button {\n",
              "                    --jp-layout-color3: var(--colab-primary-surface-color, white);\n",
              "                }\n",
              "            </style>\n",
              "            "
            ]
          },
          "metadata": {}
        },
        {
          "output_type": "stream",
          "name": "stdout",
          "text": [
            "Extracted 0 non-null values for dewpoint_temperature_2m\n",
            "Extracted 0 non-null values for temperature_2m\n",
            "Extracted 0 non-null values for skin_temperature\n",
            "Extracted 0 non-null values for soil_temperature_level_1\n",
            "Extracted 0 non-null values for soil_temperature_level_2\n",
            "Extracted 0 non-null values for soil_temperature_level_3\n",
            "Extracted 0 non-null values for soil_temperature_level_4\n",
            "Extracted 0 non-null values for lake_bottom_temperature\n",
            "Extracted 0 non-null values for lake_ice_depth\n",
            "Extracted 0 non-null values for lake_ice_temperature\n",
            "Extracted 0 non-null values for lake_mix_layer_depth\n",
            "Extracted 0 non-null values for lake_mix_layer_temperature\n",
            "Extracted 0 non-null values for lake_shape_factor\n",
            "Extracted 0 non-null values for lake_total_layer_temperature\n",
            "Extracted 0 non-null values for snow_albedo\n",
            "Extracted 0 non-null values for snow_cover\n",
            "Extracted 0 non-null values for snow_density\n",
            "Extracted 0 non-null values for snow_depth\n",
            "Extracted 0 non-null values for snow_depth_water_equivalent\n",
            "Extracted 0 non-null values for snowfall_sum\n",
            "Extracted 0 non-null values for snowmelt_sum\n",
            "Extracted 0 non-null values for temperature_of_snow_layer\n",
            "Extracted 0 non-null values for skin_reservoir_content\n",
            "Extracted 0 non-null values for volumetric_soil_water_layer_1\n",
            "Extracted 0 non-null values for volumetric_soil_water_layer_2\n",
            "Extracted 0 non-null values for volumetric_soil_water_layer_3\n",
            "Extracted 0 non-null values for volumetric_soil_water_layer_4\n",
            "Extracted 0 non-null values for forecast_albedo\n",
            "Extracted 0 non-null values for surface_latent_heat_flux_sum\n",
            "Extracted 326 non-null values for surface_net_solar_radiation_sum\n",
            "Extracted 0 non-null values for surface_net_thermal_radiation_sum\n",
            "Extracted 0 non-null values for surface_sensible_heat_flux_sum\n",
            "Extracted 351 non-null values for surface_solar_radiation_downwards_sum\n",
            "Extracted 0 non-null values for surface_thermal_radiation_downwards_sum\n",
            "Extracted 0 non-null values for evaporation_from_bare_soil_sum\n",
            "Extracted 0 non-null values for evaporation_from_open_water_surfaces_excluding_oceans_sum\n",
            "Extracted 0 non-null values for evaporation_from_the_top_of_canopy_sum\n",
            "Extracted 0 non-null values for evaporation_from_vegetation_transpiration_sum\n",
            "Extracted 0 non-null values for potential_evaporation_sum\n",
            "Extracted 0 non-null values for runoff_sum\n",
            "Extracted 0 non-null values for snow_evaporation_sum\n",
            "Extracted 0 non-null values for sub_surface_runoff_sum\n",
            "Extracted 0 non-null values for surface_runoff_sum\n",
            "Extracted 0 non-null values for total_evaporation_sum\n",
            "Extracted 0 non-null values for u_component_of_wind_10m\n",
            "Extracted 0 non-null values for v_component_of_wind_10m\n",
            "Extracted 0 non-null values for surface_pressure\n",
            "Extracted 0 non-null values for total_precipitation_sum\n",
            "Extracted 0 non-null values for leaf_area_index_high_vegetation\n",
            "Extracted 0 non-null values for leaf_area_index_low_vegetation\n",
            "Extracted 0 non-null values for dewpoint_temperature_2m_min\n",
            "Extracted 0 non-null values for dewpoint_temperature_2m_max\n",
            "Extracted 0 non-null values for temperature_2m_min\n",
            "Extracted 0 non-null values for temperature_2m_max\n",
            "Extracted 0 non-null values for skin_temperature_min\n",
            "Extracted 0 non-null values for skin_temperature_max\n",
            "Extracted 0 non-null values for soil_temperature_level_1_min\n",
            "Extracted 0 non-null values for soil_temperature_level_1_max\n",
            "Extracted 0 non-null values for soil_temperature_level_2_min\n",
            "Extracted 0 non-null values for soil_temperature_level_2_max\n",
            "Extracted 0 non-null values for soil_temperature_level_3_min\n",
            "Extracted 0 non-null values for soil_temperature_level_3_max\n",
            "Extracted 0 non-null values for soil_temperature_level_4_min\n",
            "Extracted 0 non-null values for soil_temperature_level_4_max\n",
            "Extracted 0 non-null values for lake_bottom_temperature_min\n",
            "Extracted 0 non-null values for lake_bottom_temperature_max\n",
            "Extracted 0 non-null values for lake_ice_depth_min\n",
            "Extracted 0 non-null values for lake_ice_depth_max\n",
            "Extracted 0 non-null values for lake_ice_temperature_min\n",
            "Extracted 0 non-null values for lake_ice_temperature_max\n",
            "Extracted 0 non-null values for lake_mix_layer_depth_min\n",
            "Extracted 0 non-null values for lake_mix_layer_depth_max\n",
            "Extracted 0 non-null values for lake_mix_layer_temperature_min\n",
            "Extracted 0 non-null values for lake_mix_layer_temperature_max\n",
            "Extracted 0 non-null values for lake_shape_factor_min\n",
            "Extracted 0 non-null values for lake_shape_factor_max\n",
            "Extracted 0 non-null values for lake_total_layer_temperature_min\n",
            "Extracted 0 non-null values for lake_total_layer_temperature_max\n",
            "Extracted 0 non-null values for snow_albedo_min\n",
            "Extracted 0 non-null values for snow_albedo_max\n",
            "Extracted 0 non-null values for snow_cover_min\n",
            "Extracted 0 non-null values for snow_cover_max\n",
            "Extracted 0 non-null values for snow_density_min\n",
            "Extracted 0 non-null values for snow_density_max\n",
            "Extracted 0 non-null values for snow_depth_min\n",
            "Extracted 0 non-null values for snow_depth_max\n",
            "Extracted 0 non-null values for snow_depth_water_equivalent_min\n",
            "Extracted 0 non-null values for snow_depth_water_equivalent_max\n",
            "Extracted 0 non-null values for snowfall_min\n",
            "Extracted 0 non-null values for snowfall_max\n",
            "Extracted 0 non-null values for snowmelt_min\n",
            "Extracted 0 non-null values for snowmelt_max\n",
            "Extracted 0 non-null values for temperature_of_snow_layer_min\n",
            "Extracted 0 non-null values for temperature_of_snow_layer_max\n",
            "Extracted 0 non-null values for skin_reservoir_content_min\n",
            "Extracted 0 non-null values for skin_reservoir_content_max\n",
            "Extracted 0 non-null values for volumetric_soil_water_layer_1_min\n",
            "Extracted 0 non-null values for volumetric_soil_water_layer_1_max\n",
            "Extracted 0 non-null values for volumetric_soil_water_layer_2_min\n",
            "Extracted 0 non-null values for volumetric_soil_water_layer_2_max\n",
            "Extracted 0 non-null values for volumetric_soil_water_layer_3_min\n",
            "Extracted 0 non-null values for volumetric_soil_water_layer_3_max\n",
            "Extracted 0 non-null values for volumetric_soil_water_layer_4_min\n",
            "Extracted 0 non-null values for volumetric_soil_water_layer_4_max\n",
            "Extracted 0 non-null values for forecast_albedo_min\n",
            "Extracted 0 non-null values for forecast_albedo_max\n",
            "Extracted 0 non-null values for surface_latent_heat_flux_min\n",
            "Extracted 0 non-null values for surface_latent_heat_flux_max\n",
            "Extracted 326 non-null values for surface_net_solar_radiation_min\n",
            "Extracted 326 non-null values for surface_net_solar_radiation_max\n",
            "Extracted 0 non-null values for surface_net_thermal_radiation_min\n",
            "Extracted 0 non-null values for surface_net_thermal_radiation_max\n",
            "Extracted 0 non-null values for surface_sensible_heat_flux_min\n",
            "Extracted 0 non-null values for surface_sensible_heat_flux_max\n",
            "Extracted 351 non-null values for surface_solar_radiation_downwards_min\n",
            "Extracted 351 non-null values for surface_solar_radiation_downwards_max\n",
            "Extracted 0 non-null values for surface_thermal_radiation_downwards_min\n",
            "Extracted 0 non-null values for surface_thermal_radiation_downwards_max\n",
            "Extracted 0 non-null values for evaporation_from_bare_soil_min\n",
            "Extracted 0 non-null values for evaporation_from_bare_soil_max\n",
            "Extracted 0 non-null values for evaporation_from_open_water_surfaces_excluding_oceans_min\n",
            "Extracted 0 non-null values for evaporation_from_open_water_surfaces_excluding_oceans_max\n",
            "Extracted 0 non-null values for evaporation_from_the_top_of_canopy_min\n",
            "Extracted 0 non-null values for evaporation_from_the_top_of_canopy_max\n",
            "Extracted 0 non-null values for evaporation_from_vegetation_transpiration_min\n",
            "Extracted 0 non-null values for evaporation_from_vegetation_transpiration_max\n",
            "Extracted 0 non-null values for potential_evaporation_min\n",
            "Extracted 0 non-null values for potential_evaporation_max\n",
            "Extracted 0 non-null values for runoff_min\n",
            "Extracted 0 non-null values for runoff_max\n",
            "Extracted 0 non-null values for snow_evaporation_min\n",
            "Extracted 0 non-null values for snow_evaporation_max\n",
            "Extracted 0 non-null values for sub_surface_runoff_min\n",
            "Extracted 0 non-null values for sub_surface_runoff_max\n",
            "Extracted 0 non-null values for surface_runoff_min\n",
            "Extracted 0 non-null values for surface_runoff_max\n",
            "Extracted 0 non-null values for total_evaporation_min\n",
            "Extracted 0 non-null values for total_evaporation_max\n",
            "Extracted 0 non-null values for u_component_of_wind_10m_min\n",
            "Extracted 0 non-null values for u_component_of_wind_10m_max\n",
            "Extracted 0 non-null values for v_component_of_wind_10m_min\n",
            "Extracted 0 non-null values for v_component_of_wind_10m_max\n",
            "Extracted 0 non-null values for surface_pressure_min\n",
            "Extracted 0 non-null values for surface_pressure_max\n",
            "Extracted 0 non-null values for total_precipitation_min\n",
            "Extracted 0 non-null values for total_precipitation_max\n",
            "Extracted 0 non-null values for leaf_area_index_high_vegetation_min\n",
            "Extracted 0 non-null values for leaf_area_index_high_vegetation_max\n",
            "Extracted 0 non-null values for leaf_area_index_low_vegetation_min\n",
            "Extracted 0 non-null values for leaf_area_index_low_vegetation_max\n"
          ]
        }
      ]
    },
    {
      "cell_type": "code",
      "source": [
        "for v in var_names:\n",
        "    if v in data:\n",
        "        df[v] = data[v]\n",
        "        null_count = df[v].isnull().sum()\n",
        "        print(f\"Column {v}: {len(df[v]) - null_count} valid values, {null_count} null values\")\n",
        "\n",
        "print(\"\\nDataFrame shape:\", df.shape)\n",
        "print(\"DataFrame info:\")\n",
        "print(df.info())\n",
        "print(\"\\nFirst few rows:\")\n",
        "print(df.head())"
      ],
      "metadata": {
        "colab": {
          "base_uri": "https://localhost:8080/",
          "height": 391
        },
        "id": "GxVwlxDEInYg",
        "outputId": "1fd4a20f-8278-441f-804f-859db3e262ed"
      },
      "execution_count": 23,
      "outputs": [
        {
          "output_type": "display_data",
          "data": {
            "text/plain": [
              "<IPython.core.display.HTML object>"
            ],
            "text/html": [
              "\n",
              "            <style>\n",
              "                .geemap-dark {\n",
              "                    --jp-widgets-color: white;\n",
              "                    --jp-widgets-label-color: white;\n",
              "                    --jp-ui-font-color1: white;\n",
              "                    --jp-layout-color2: #454545;\n",
              "                    background-color: #383838;\n",
              "                }\n",
              "\n",
              "                .geemap-dark .jupyter-button {\n",
              "                    --jp-layout-color3: #383838;\n",
              "                }\n",
              "\n",
              "                .geemap-colab {\n",
              "                    background-color: var(--colab-primary-surface-color, white);\n",
              "                }\n",
              "\n",
              "                .geemap-colab .jupyter-button {\n",
              "                    --jp-layout-color3: var(--colab-primary-surface-color, white);\n",
              "                }\n",
              "            </style>\n",
              "            "
            ]
          },
          "metadata": {}
        },
        {
          "output_type": "error",
          "ename": "ValueError",
          "evalue": "Length of values (0) does not match length of index (3651)",
          "traceback": [
            "\u001b[0;31m---------------------------------------------------------------------------\u001b[0m",
            "\u001b[0;31mValueError\u001b[0m                                Traceback (most recent call last)",
            "\u001b[0;32m/tmp/ipython-input-905881357.py\u001b[0m in \u001b[0;36m<cell line: 0>\u001b[0;34m()\u001b[0m\n\u001b[1;32m      1\u001b[0m \u001b[0;32mfor\u001b[0m \u001b[0mv\u001b[0m \u001b[0;32min\u001b[0m \u001b[0mvar_names\u001b[0m\u001b[0;34m:\u001b[0m\u001b[0;34m\u001b[0m\u001b[0;34m\u001b[0m\u001b[0m\n\u001b[1;32m      2\u001b[0m     \u001b[0;32mif\u001b[0m \u001b[0mv\u001b[0m \u001b[0;32min\u001b[0m \u001b[0mdata\u001b[0m\u001b[0;34m:\u001b[0m\u001b[0;34m\u001b[0m\u001b[0;34m\u001b[0m\u001b[0m\n\u001b[0;32m----> 3\u001b[0;31m         \u001b[0mdf\u001b[0m\u001b[0;34m[\u001b[0m\u001b[0mv\u001b[0m\u001b[0;34m]\u001b[0m \u001b[0;34m=\u001b[0m \u001b[0mdata\u001b[0m\u001b[0;34m[\u001b[0m\u001b[0mv\u001b[0m\u001b[0;34m]\u001b[0m\u001b[0;34m\u001b[0m\u001b[0;34m\u001b[0m\u001b[0m\n\u001b[0m\u001b[1;32m      4\u001b[0m         \u001b[0mnull_count\u001b[0m \u001b[0;34m=\u001b[0m \u001b[0mdf\u001b[0m\u001b[0;34m[\u001b[0m\u001b[0mv\u001b[0m\u001b[0;34m]\u001b[0m\u001b[0;34m.\u001b[0m\u001b[0misnull\u001b[0m\u001b[0;34m(\u001b[0m\u001b[0;34m)\u001b[0m\u001b[0;34m.\u001b[0m\u001b[0msum\u001b[0m\u001b[0;34m(\u001b[0m\u001b[0;34m)\u001b[0m\u001b[0;34m\u001b[0m\u001b[0;34m\u001b[0m\u001b[0m\n\u001b[1;32m      5\u001b[0m         \u001b[0mprint\u001b[0m\u001b[0;34m(\u001b[0m\u001b[0;34mf\"Column {v}: {len(df[v]) - null_count} valid values, {null_count} null values\"\u001b[0m\u001b[0;34m)\u001b[0m\u001b[0;34m\u001b[0m\u001b[0;34m\u001b[0m\u001b[0m\n",
            "\u001b[0;32m/usr/local/lib/python3.12/dist-packages/pandas/core/frame.py\u001b[0m in \u001b[0;36m__setitem__\u001b[0;34m(self, key, value)\u001b[0m\n\u001b[1;32m   4309\u001b[0m         \u001b[0;32melse\u001b[0m\u001b[0;34m:\u001b[0m\u001b[0;34m\u001b[0m\u001b[0;34m\u001b[0m\u001b[0m\n\u001b[1;32m   4310\u001b[0m             \u001b[0;31m# set column\u001b[0m\u001b[0;34m\u001b[0m\u001b[0;34m\u001b[0m\u001b[0m\n\u001b[0;32m-> 4311\u001b[0;31m             \u001b[0mself\u001b[0m\u001b[0;34m.\u001b[0m\u001b[0m_set_item\u001b[0m\u001b[0;34m(\u001b[0m\u001b[0mkey\u001b[0m\u001b[0;34m,\u001b[0m \u001b[0mvalue\u001b[0m\u001b[0;34m)\u001b[0m\u001b[0;34m\u001b[0m\u001b[0;34m\u001b[0m\u001b[0m\n\u001b[0m\u001b[1;32m   4312\u001b[0m \u001b[0;34m\u001b[0m\u001b[0m\n\u001b[1;32m   4313\u001b[0m     \u001b[0;32mdef\u001b[0m \u001b[0m_setitem_slice\u001b[0m\u001b[0;34m(\u001b[0m\u001b[0mself\u001b[0m\u001b[0;34m,\u001b[0m \u001b[0mkey\u001b[0m\u001b[0;34m:\u001b[0m \u001b[0mslice\u001b[0m\u001b[0;34m,\u001b[0m \u001b[0mvalue\u001b[0m\u001b[0;34m)\u001b[0m \u001b[0;34m->\u001b[0m \u001b[0;32mNone\u001b[0m\u001b[0;34m:\u001b[0m\u001b[0;34m\u001b[0m\u001b[0;34m\u001b[0m\u001b[0m\n",
            "\u001b[0;32m/usr/local/lib/python3.12/dist-packages/pandas/core/frame.py\u001b[0m in \u001b[0;36m_set_item\u001b[0;34m(self, key, value)\u001b[0m\n\u001b[1;32m   4522\u001b[0m         \u001b[0mensure\u001b[0m \u001b[0mhomogeneity\u001b[0m\u001b[0;34m.\u001b[0m\u001b[0;34m\u001b[0m\u001b[0;34m\u001b[0m\u001b[0m\n\u001b[1;32m   4523\u001b[0m         \"\"\"\n\u001b[0;32m-> 4524\u001b[0;31m         \u001b[0mvalue\u001b[0m\u001b[0;34m,\u001b[0m \u001b[0mrefs\u001b[0m \u001b[0;34m=\u001b[0m \u001b[0mself\u001b[0m\u001b[0;34m.\u001b[0m\u001b[0m_sanitize_column\u001b[0m\u001b[0;34m(\u001b[0m\u001b[0mvalue\u001b[0m\u001b[0;34m)\u001b[0m\u001b[0;34m\u001b[0m\u001b[0;34m\u001b[0m\u001b[0m\n\u001b[0m\u001b[1;32m   4525\u001b[0m \u001b[0;34m\u001b[0m\u001b[0m\n\u001b[1;32m   4526\u001b[0m         if (\n",
            "\u001b[0;32m/usr/local/lib/python3.12/dist-packages/pandas/core/frame.py\u001b[0m in \u001b[0;36m_sanitize_column\u001b[0;34m(self, value)\u001b[0m\n\u001b[1;32m   5264\u001b[0m \u001b[0;34m\u001b[0m\u001b[0m\n\u001b[1;32m   5265\u001b[0m         \u001b[0;32mif\u001b[0m \u001b[0mis_list_like\u001b[0m\u001b[0;34m(\u001b[0m\u001b[0mvalue\u001b[0m\u001b[0;34m)\u001b[0m\u001b[0;34m:\u001b[0m\u001b[0;34m\u001b[0m\u001b[0;34m\u001b[0m\u001b[0m\n\u001b[0;32m-> 5266\u001b[0;31m             \u001b[0mcom\u001b[0m\u001b[0;34m.\u001b[0m\u001b[0mrequire_length_match\u001b[0m\u001b[0;34m(\u001b[0m\u001b[0mvalue\u001b[0m\u001b[0;34m,\u001b[0m \u001b[0mself\u001b[0m\u001b[0;34m.\u001b[0m\u001b[0mindex\u001b[0m\u001b[0;34m)\u001b[0m\u001b[0;34m\u001b[0m\u001b[0;34m\u001b[0m\u001b[0m\n\u001b[0m\u001b[1;32m   5267\u001b[0m         \u001b[0marr\u001b[0m \u001b[0;34m=\u001b[0m \u001b[0msanitize_array\u001b[0m\u001b[0;34m(\u001b[0m\u001b[0mvalue\u001b[0m\u001b[0;34m,\u001b[0m \u001b[0mself\u001b[0m\u001b[0;34m.\u001b[0m\u001b[0mindex\u001b[0m\u001b[0;34m,\u001b[0m \u001b[0mcopy\u001b[0m\u001b[0;34m=\u001b[0m\u001b[0;32mTrue\u001b[0m\u001b[0;34m,\u001b[0m \u001b[0mallow_2d\u001b[0m\u001b[0;34m=\u001b[0m\u001b[0;32mTrue\u001b[0m\u001b[0;34m)\u001b[0m\u001b[0;34m\u001b[0m\u001b[0;34m\u001b[0m\u001b[0m\n\u001b[1;32m   5268\u001b[0m         if (\n",
            "\u001b[0;32m/usr/local/lib/python3.12/dist-packages/pandas/core/common.py\u001b[0m in \u001b[0;36mrequire_length_match\u001b[0;34m(data, index)\u001b[0m\n\u001b[1;32m    571\u001b[0m     \"\"\"\n\u001b[1;32m    572\u001b[0m     \u001b[0;32mif\u001b[0m \u001b[0mlen\u001b[0m\u001b[0;34m(\u001b[0m\u001b[0mdata\u001b[0m\u001b[0;34m)\u001b[0m \u001b[0;34m!=\u001b[0m \u001b[0mlen\u001b[0m\u001b[0;34m(\u001b[0m\u001b[0mindex\u001b[0m\u001b[0;34m)\u001b[0m\u001b[0;34m:\u001b[0m\u001b[0;34m\u001b[0m\u001b[0;34m\u001b[0m\u001b[0m\n\u001b[0;32m--> 573\u001b[0;31m         raise ValueError(\n\u001b[0m\u001b[1;32m    574\u001b[0m             \u001b[0;34m\"Length of values \"\u001b[0m\u001b[0;34m\u001b[0m\u001b[0;34m\u001b[0m\u001b[0m\n\u001b[1;32m    575\u001b[0m             \u001b[0;34mf\"({len(data)}) \"\u001b[0m\u001b[0;34m\u001b[0m\u001b[0;34m\u001b[0m\u001b[0m\n",
            "\u001b[0;31mValueError\u001b[0m: Length of values (0) does not match length of index (3651)"
          ]
        }
      ]
    },
    {
      "cell_type": "code",
      "source": [
        "metadata = []\n",
        "for col in df.columns:\n",
        "    if col == \"date\":\n",
        "        continue\n",
        "\n",
        "    # Skip if all values are null\n",
        "    if df[col].isnull().all():\n",
        "        print(f\"Skipping {col} - all values are null\")\n",
        "        continue\n",
        "\n",
        "    original_name = col\n",
        "    original_unit = \"varies\"\n",
        "    converted_unit = original_unit\n",
        "    new_name = col\n",
        "\n",
        "    # Kelvin → Celsius\n",
        "    if \"temperature\" in col.lower():\n",
        "        df[col] = df[col] - 273.15\n",
        "        new_name = col + \"_C\"\n",
        "        original_unit, converted_unit = \"K\", \"°C\"\n",
        "    # Precipitation / Runoff / Evaporation (m → mm/day)\n",
        "    elif col.endswith(\"_sum\") or \"precipitation\" in col.lower() or \"evaporation\" in col.lower() or \"runoff\" in col.lower():\n",
        "        df[col] = df[col] * 1000\n",
        "        new_name = col + \"_mm\"\n",
        "        original_unit, converted_unit = \"m\", \"mm/day\"\n",
        "    # Pressure (Pa → hPa)\n",
        "    elif \"pressure\" in col.lower():\n",
        "        df[col] = df[col] / 100\n",
        "        new_name = col + \"_hPa\"\n",
        "        original_unit, converted_unit = \"Pa\", \"hPa\"\n",
        "    # Wind (m/s → km/h)\n",
        "    elif \"u_component\" in col.lower() or \"v_component\" in col.lower() or \"wind\" in col.lower():\n",
        "        df[col] = df[col] * 3.6\n",
        "        new_name = col + \"_kmh\"\n",
        "        original_unit, converted_unit = \"m/s\", \"km/h\"\n",
        "    # Snow depth (m → cm)\n",
        "    elif \"snow_depth\" in col.lower():\n",
        "        df[col] = df[col] * 100\n",
        "        new_name = col + \"_cm\"\n",
        "        original_unit, converted_unit = \"m\", \"cm\"\n",
        "    # Radiation & Fluxes (J/m²/day → W/m²)\n",
        "    elif col.endswith(\"_radiation_sum\") or col.endswith(\"_flux_sum\") or col.endswith(\"_heat_sum\"):\n",
        "        df[col] = df[col] / 86400\n",
        "        new_name = col + \"_Wm2\"\n",
        "        original_unit, converted_unit = \"J/m²/day\", \"W/m²\"\n",
        "\n",
        "    # Rename column\n",
        "    if new_name != col:\n",
        "        df.rename(columns={col: new_name}, inplace=True)\n",
        "\n",
        "    # Add metadata record\n",
        "    metadata.append({\n",
        "        \"Band\": original_name,\n",
        "        \"Converted Column\": new_name,\n",
        "        \"Original Unit\": original_unit,\n",
        "        \"Converted Unit\": converted_unit\n",
        "    })"
      ],
      "metadata": {
        "colab": {
          "base_uri": "https://localhost:8080/",
          "height": 17
        },
        "id": "yCa-Bxm5IsgB",
        "outputId": "1a0dfdbd-c013-41df-d0ca-5a33e4f500f5"
      },
      "execution_count": 24,
      "outputs": [
        {
          "output_type": "display_data",
          "data": {
            "text/plain": [
              "<IPython.core.display.HTML object>"
            ],
            "text/html": [
              "\n",
              "            <style>\n",
              "                .geemap-dark {\n",
              "                    --jp-widgets-color: white;\n",
              "                    --jp-widgets-label-color: white;\n",
              "                    --jp-ui-font-color1: white;\n",
              "                    --jp-layout-color2: #454545;\n",
              "                    background-color: #383838;\n",
              "                }\n",
              "\n",
              "                .geemap-dark .jupyter-button {\n",
              "                    --jp-layout-color3: #383838;\n",
              "                }\n",
              "\n",
              "                .geemap-colab {\n",
              "                    background-color: var(--colab-primary-surface-color, white);\n",
              "                }\n",
              "\n",
              "                .geemap-colab .jupyter-button {\n",
              "                    --jp-layout-color3: var(--colab-primary-surface-color, white);\n",
              "                }\n",
              "            </style>\n",
              "            "
            ]
          },
          "metadata": {}
        }
      ]
    },
    {
      "cell_type": "code",
      "source": [
        "meta_df = pd.DataFrame(metadata)\n",
        "print(\"\\nMetadata:\")\n",
        "print(meta_df)"
      ],
      "metadata": {
        "colab": {
          "base_uri": "https://localhost:8080/",
          "height": 104
        },
        "id": "S8VtaUp6Iupv",
        "outputId": "36dca125-b10a-4c0b-883d-aa7c726a529b"
      },
      "execution_count": 25,
      "outputs": [
        {
          "output_type": "display_data",
          "data": {
            "text/plain": [
              "<IPython.core.display.HTML object>"
            ],
            "text/html": [
              "\n",
              "            <style>\n",
              "                .geemap-dark {\n",
              "                    --jp-widgets-color: white;\n",
              "                    --jp-widgets-label-color: white;\n",
              "                    --jp-ui-font-color1: white;\n",
              "                    --jp-layout-color2: #454545;\n",
              "                    background-color: #383838;\n",
              "                }\n",
              "\n",
              "                .geemap-dark .jupyter-button {\n",
              "                    --jp-layout-color3: #383838;\n",
              "                }\n",
              "\n",
              "                .geemap-colab {\n",
              "                    background-color: var(--colab-primary-surface-color, white);\n",
              "                }\n",
              "\n",
              "                .geemap-colab .jupyter-button {\n",
              "                    --jp-layout-color3: var(--colab-primary-surface-color, white);\n",
              "                }\n",
              "            </style>\n",
              "            "
            ]
          },
          "metadata": {}
        },
        {
          "output_type": "stream",
          "name": "stdout",
          "text": [
            "\n",
            "Metadata:\n",
            "Empty DataFrame\n",
            "Columns: []\n",
            "Index: []\n"
          ]
        }
      ]
    },
    {
      "cell_type": "code",
      "source": [
        "# Save to Google Drive\n",
        "from google.colab import drive\n",
        "drive.mount('/content/drive')\n",
        "\n",
        "# FIXED: Updated filename to reflect correct location\n",
        "filename = \"ERA5-Land_Daily_Aggregated_2014_2023_Tanay.csv\"\n",
        "drive_path = f'/content/drive/MyDrive/ERA5Datasets/{filename}'\n",
        "\n",
        "try:\n",
        "    df.to_csv(drive_path, index=False)\n",
        "    print(f\"File saved to Google Drive: {filename}\")\n",
        "    print(f\"Final DataFrame shape: {df.shape}\")\n",
        "except Exception as e:\n",
        "    print(f\"Error saving file: {e}\")\n",
        "    # Save locally as backup\n",
        "    df.to_csv(filename, index=False)\n",
        "    print(f\"File saved locally: {filename}\")"
      ],
      "metadata": {
        "colab": {
          "base_uri": "https://localhost:8080/",
          "height": 89
        },
        "id": "v0AlC9KWIyqA",
        "outputId": "864f1812-9775-44b4-c9d5-9f1bc30936f2"
      },
      "execution_count": 26,
      "outputs": [
        {
          "output_type": "display_data",
          "data": {
            "text/plain": [
              "<IPython.core.display.HTML object>"
            ],
            "text/html": [
              "\n",
              "            <style>\n",
              "                .geemap-dark {\n",
              "                    --jp-widgets-color: white;\n",
              "                    --jp-widgets-label-color: white;\n",
              "                    --jp-ui-font-color1: white;\n",
              "                    --jp-layout-color2: #454545;\n",
              "                    background-color: #383838;\n",
              "                }\n",
              "\n",
              "                .geemap-dark .jupyter-button {\n",
              "                    --jp-layout-color3: #383838;\n",
              "                }\n",
              "\n",
              "                .geemap-colab {\n",
              "                    background-color: var(--colab-primary-surface-color, white);\n",
              "                }\n",
              "\n",
              "                .geemap-colab .jupyter-button {\n",
              "                    --jp-layout-color3: var(--colab-primary-surface-color, white);\n",
              "                }\n",
              "            </style>\n",
              "            "
            ]
          },
          "metadata": {}
        },
        {
          "output_type": "stream",
          "name": "stdout",
          "text": [
            "Drive already mounted at /content/drive; to attempt to forcibly remount, call drive.mount(\"/content/drive\", force_remount=True).\n",
            "Error saving file: Cannot save file into a non-existent directory: '/content/drive/MyDrive/ERA5Datasets'\n",
            "File saved locally: ERA5-Land_Daily_Aggregated_2014_2023_Tanay.csv\n"
          ]
        }
      ]
    }
  ]
}