{
  "nbformat": 4,
  "nbformat_minor": 0,
  "metadata": {
    "colab": {
      "provenance": [],
      "authorship_tag": "ABX9TyNMVKvwKH3f0VLNd5qR6t9t",
      "include_colab_link": true
    },
    "kernelspec": {
      "name": "python3",
      "display_name": "Python 3"
    },
    "language_info": {
      "name": "python"
    }
  },
  "cells": [
    {
      "cell_type": "markdown",
      "metadata": {
        "id": "view-in-github",
        "colab_type": "text"
      },
      "source": [
        "<a href=\"https://colab.research.google.com/github/machiwao/CCTHESS1-CCTHESS2-Dev-and-Docs/blob/jessy/heat_index_forecasting.ipynb\" target=\"_parent\"><img src=\"https://colab.research.google.com/assets/colab-badge.svg\" alt=\"Open In Colab\"/></a>"
      ]
    },
    {
      "cell_type": "code",
      "execution_count": 25,
      "metadata": {
        "colab": {
          "base_uri": "https://localhost:8080/",
          "height": 17
        },
        "id": "JL2y9OpqBhn2",
        "outputId": "21c51d2a-d20e-4e26-a417-f19c9f933423"
      },
      "outputs": [
        {
          "output_type": "display_data",
          "data": {
            "text/plain": [
              "<IPython.core.display.HTML object>"
            ],
            "text/html": [
              "\n",
              "            <style>\n",
              "                .geemap-dark {\n",
              "                    --jp-widgets-color: white;\n",
              "                    --jp-widgets-label-color: white;\n",
              "                    --jp-ui-font-color1: white;\n",
              "                    --jp-layout-color2: #454545;\n",
              "                    background-color: #383838;\n",
              "                }\n",
              "\n",
              "                .geemap-dark .jupyter-button {\n",
              "                    --jp-layout-color3: #383838;\n",
              "                }\n",
              "\n",
              "                .geemap-colab {\n",
              "                    background-color: var(--colab-primary-surface-color, white);\n",
              "                }\n",
              "\n",
              "                .geemap-colab .jupyter-button {\n",
              "                    --jp-layout-color3: var(--colab-primary-surface-color, white);\n",
              "                }\n",
              "            </style>\n",
              "            "
            ]
          },
          "metadata": {}
        }
      ],
      "source": [
        "!pip install earthengine-api geemap --quiet"
      ]
    },
    {
      "cell_type": "code",
      "source": [
        "import ee\n",
        "import geemap\n",
        "import pandas as pd"
      ],
      "metadata": {
        "colab": {
          "base_uri": "https://localhost:8080/",
          "height": 17
        },
        "id": "0iIAlUl2BoJS",
        "outputId": "0984ca2a-b294-43aa-8ab7-7813a53c37fa"
      },
      "execution_count": 26,
      "outputs": [
        {
          "output_type": "display_data",
          "data": {
            "text/plain": [
              "<IPython.core.display.HTML object>"
            ],
            "text/html": [
              "\n",
              "            <style>\n",
              "                .geemap-dark {\n",
              "                    --jp-widgets-color: white;\n",
              "                    --jp-widgets-label-color: white;\n",
              "                    --jp-ui-font-color1: white;\n",
              "                    --jp-layout-color2: #454545;\n",
              "                    background-color: #383838;\n",
              "                }\n",
              "\n",
              "                .geemap-dark .jupyter-button {\n",
              "                    --jp-layout-color3: #383838;\n",
              "                }\n",
              "\n",
              "                .geemap-colab {\n",
              "                    background-color: var(--colab-primary-surface-color, white);\n",
              "                }\n",
              "\n",
              "                .geemap-colab .jupyter-button {\n",
              "                    --jp-layout-color3: var(--colab-primary-surface-color, white);\n",
              "                }\n",
              "            </style>\n",
              "            "
            ]
          },
          "metadata": {}
        }
      ]
    },
    {
      "cell_type": "code",
      "source": [
        "cloud_project = 'heat-index-forecasting'\n",
        "\n",
        "try:\n",
        "  ee.Initialize(project=cloud_project)\n",
        "except:\n",
        "  ee.Authenticate()\n",
        "  ee.Initialize(project=cloud_project)"
      ],
      "metadata": {
        "colab": {
          "base_uri": "https://localhost:8080/",
          "height": 17
        },
        "id": "Lffj-v0EBp19",
        "outputId": "0989f5b3-a3ce-4657-bdb7-8a21cfcb66a7"
      },
      "execution_count": 27,
      "outputs": [
        {
          "output_type": "display_data",
          "data": {
            "text/plain": [
              "<IPython.core.display.HTML object>"
            ],
            "text/html": [
              "\n",
              "            <style>\n",
              "                .geemap-dark {\n",
              "                    --jp-widgets-color: white;\n",
              "                    --jp-widgets-label-color: white;\n",
              "                    --jp-ui-font-color1: white;\n",
              "                    --jp-layout-color2: #454545;\n",
              "                    background-color: #383838;\n",
              "                }\n",
              "\n",
              "                .geemap-dark .jupyter-button {\n",
              "                    --jp-layout-color3: #383838;\n",
              "                }\n",
              "\n",
              "                .geemap-colab {\n",
              "                    background-color: var(--colab-primary-surface-color, white);\n",
              "                }\n",
              "\n",
              "                .geemap-colab .jupyter-button {\n",
              "                    --jp-layout-color3: var(--colab-primary-surface-color, white);\n",
              "                }\n",
              "            </style>\n",
              "            "
            ]
          },
          "metadata": {}
        }
      ]
    },
    {
      "cell_type": "code",
      "source": [
        "# Stations\n",
        "\n",
        "roi = ee.Geometry.Point([121.0, 14.5]) # NAIA\n",
        "start = '2014-01-01'\n",
        "end = '2023-12-31'"
      ],
      "metadata": {
        "colab": {
          "base_uri": "https://localhost:8080/",
          "height": 17
        },
        "id": "wBndqj67C16R",
        "outputId": "1e2e83a0-c5ea-42ef-89aa-158a1f80c080"
      },
      "execution_count": 28,
      "outputs": [
        {
          "output_type": "display_data",
          "data": {
            "text/plain": [
              "<IPython.core.display.HTML object>"
            ],
            "text/html": [
              "\n",
              "            <style>\n",
              "                .geemap-dark {\n",
              "                    --jp-widgets-color: white;\n",
              "                    --jp-widgets-label-color: white;\n",
              "                    --jp-ui-font-color1: white;\n",
              "                    --jp-layout-color2: #454545;\n",
              "                    background-color: #383838;\n",
              "                }\n",
              "\n",
              "                .geemap-dark .jupyter-button {\n",
              "                    --jp-layout-color3: #383838;\n",
              "                }\n",
              "\n",
              "                .geemap-colab {\n",
              "                    background-color: var(--colab-primary-surface-color, white);\n",
              "                }\n",
              "\n",
              "                .geemap-colab .jupyter-button {\n",
              "                    --jp-layout-color3: var(--colab-primary-surface-color, white);\n",
              "                }\n",
              "            </style>\n",
              "            "
            ]
          },
          "metadata": {}
        }
      ]
    },
    {
      "cell_type": "code",
      "source": [
        "# Load and Processing Datasets\n",
        "\n",
        "lst = ee.ImageCollection('MODIS/006/MOD11A2').filterDate(start, end).select('LST_Day_1km').map(lambda img: img.multiply(0.02).subtract(273.15).rename('LST').copyProperties(img, ['system:time_start']))\n",
        "\n",
        "ndvi = ee.ImageCollection('MODIS/006/MOD13A2').filterDate(start, end).select('NDVI').map(lambda img: img.multiply(0.0001).rename('NDVI').copyProperties(img, ['system:time_start']))\n",
        "\n",
        "landsat = ee.ImageCollection('LANDSAT/LC08/C02/T1_L2').filterDate(start, end).filterBounds(roi).map(lambda img: (img.multiply(0.0000275).add(-0.2).copyProperties(img, ['system:time_start'])))\n",
        "\n",
        "def addIndices(img):\n",
        "  nir = img.select('SR_B5')\n",
        "  red = img.select('SR_B4')\n",
        "  swir = img.select('SR_B6')\n",
        "  blue = img.select('SR_B2')\n",
        "  swir2 = img.select('SR_B7')\n",
        "\n",
        "  ndbi = swir.subtract(nir).divide(swir.add(nir)).rename('NDBI') # NDBI Formula\n",
        "\n",
        "  albedo = img.expression('0.356*blue + 0.130*red + 0.373*nir + 0.085*swir + 0.072*swir2', {'blue': blue, 'red': red, 'nir': nir, 'swir': swir, 'swir2': swir2}).rename('Albedo') # Albedo Formula\n",
        "\n",
        "  return img.addBands([ndbi, albedo])\n",
        "\n",
        "landsat_processed = landsat.map(addIndices)\n",
        "\n",
        "landcover = ee.ImageCollection('MODIS/006/MCD12Q1').filterDate(start, end).select('LC_Type1').map(lambda img: img.rename('LandCover').copyProperties(img, ['system:time_start']))"
      ],
      "metadata": {
        "colab": {
          "base_uri": "https://localhost:8080/",
          "height": 17
        },
        "id": "J_BhCCGZD-ZT",
        "outputId": "6623caa7-5ea9-48d2-d4c1-186ac3389cae"
      },
      "execution_count": 29,
      "outputs": [
        {
          "output_type": "display_data",
          "data": {
            "text/plain": [
              "<IPython.core.display.HTML object>"
            ],
            "text/html": [
              "\n",
              "            <style>\n",
              "                .geemap-dark {\n",
              "                    --jp-widgets-color: white;\n",
              "                    --jp-widgets-label-color: white;\n",
              "                    --jp-ui-font-color1: white;\n",
              "                    --jp-layout-color2: #454545;\n",
              "                    background-color: #383838;\n",
              "                }\n",
              "\n",
              "                .geemap-dark .jupyter-button {\n",
              "                    --jp-layout-color3: #383838;\n",
              "                }\n",
              "\n",
              "                .geemap-colab {\n",
              "                    background-color: var(--colab-primary-surface-color, white);\n",
              "                }\n",
              "\n",
              "                .geemap-colab .jupyter-button {\n",
              "                    --jp-layout-color3: var(--colab-primary-surface-color, white);\n",
              "                }\n",
              "            </style>\n",
              "            "
            ]
          },
          "metadata": {}
        }
      ]
    },
    {
      "cell_type": "code",
      "source": [
        "def extractValues(img):\n",
        "  stats = img.reduceRegion(\n",
        "      reducer=ee.Reducer.mean(),\n",
        "      geometry=roi,\n",
        "      scale=1000,\n",
        "      bestEffort=True\n",
        "  )\n",
        "  return ee.Feature(None, stats).set('date', img.date().format('YYYY-MM-dd'))\n",
        "\n",
        "lst_stats = ee.FeatureCollection(lst.map(extractValues))\n",
        "ndvi_stats = ee.FeatureCollection(ndvi.map(extractValues))\n",
        "landsat_stats = ee.FeatureCollection(landsat_processed.map(extractValues))\n",
        "landcover_stats = ee.FeatureCollection(landcover.map(extractValues))"
      ],
      "metadata": {
        "colab": {
          "base_uri": "https://localhost:8080/",
          "height": 17
        },
        "id": "ACzWd9mQHyTj",
        "outputId": "06b6762a-6b95-4149-a5a8-064ec9dd4c9e"
      },
      "execution_count": 32,
      "outputs": [
        {
          "output_type": "display_data",
          "data": {
            "text/plain": [
              "<IPython.core.display.HTML object>"
            ],
            "text/html": [
              "\n",
              "            <style>\n",
              "                .geemap-dark {\n",
              "                    --jp-widgets-color: white;\n",
              "                    --jp-widgets-label-color: white;\n",
              "                    --jp-ui-font-color1: white;\n",
              "                    --jp-layout-color2: #454545;\n",
              "                    background-color: #383838;\n",
              "                }\n",
              "\n",
              "                .geemap-dark .jupyter-button {\n",
              "                    --jp-layout-color3: #383838;\n",
              "                }\n",
              "\n",
              "                .geemap-colab {\n",
              "                    background-color: var(--colab-primary-surface-color, white);\n",
              "                }\n",
              "\n",
              "                .geemap-colab .jupyter-button {\n",
              "                    --jp-layout-color3: var(--colab-primary-surface-color, white);\n",
              "                }\n",
              "            </style>\n",
              "            "
            ]
          },
          "metadata": {}
        }
      ]
    },
    {
      "cell_type": "code",
      "source": [
        "df_lst = geemap.ee_to_df(lst_stats)\n",
        "df_ndvi = geemap.ee_to_df(ndvi_stats)\n",
        "df_landsat = geemap.ee_to_df(landsat_stats)\n",
        "df_lc = geemap.ee_to_df(landcover_stats)\n",
        "\n",
        "# Merge all dataframes on \"date\"\n",
        "df = df_lst.merge(df_ndvi, on=\"date\", how=\"outer\") \\\n",
        "           .merge(df_landsat, on=\"date\", how=\"outer\") \\\n",
        "           .merge(df_lc, on=\"date\", how=\"outer\")\n",
        "\n",
        "df['date'] = pd.to_datetime(df['date'])\n",
        "df = df.sort_values('date').reset_index(drop=True)\n",
        "\n",
        "csv_filename = 'LST-and-indices.csv'\n",
        "df.to_csv(csv_filename, index=False)\n",
        "\n",
        "print(df.head(10))"
      ],
      "metadata": {
        "colab": {
          "base_uri": "https://localhost:8080/",
          "height": 659
        },
        "id": "mTJ3GxucKXvE",
        "outputId": "e37d2d17-0175-41f3-b4b8-87de18bacb3a"
      },
      "execution_count": 34,
      "outputs": [
        {
          "output_type": "display_data",
          "data": {
            "text/plain": [
              "<IPython.core.display.HTML object>"
            ],
            "text/html": [
              "\n",
              "            <style>\n",
              "                .geemap-dark {\n",
              "                    --jp-widgets-color: white;\n",
              "                    --jp-widgets-label-color: white;\n",
              "                    --jp-ui-font-color1: white;\n",
              "                    --jp-layout-color2: #454545;\n",
              "                    background-color: #383838;\n",
              "                }\n",
              "\n",
              "                .geemap-dark .jupyter-button {\n",
              "                    --jp-layout-color3: #383838;\n",
              "                }\n",
              "\n",
              "                .geemap-colab {\n",
              "                    background-color: var(--colab-primary-surface-color, white);\n",
              "                }\n",
              "\n",
              "                .geemap-colab .jupyter-button {\n",
              "                    --jp-layout-color3: var(--colab-primary-surface-color, white);\n",
              "                }\n",
              "            </style>\n",
              "            "
            ]
          },
          "metadata": {}
        },
        {
          "output_type": "stream",
          "name": "stdout",
          "text": [
            "     LST       date    NDVI    Albedo      NDBI  QA_PIXEL  QA_RADSAT  \\\n",
            "0  33.41 2014-01-01  0.2963       NaN       NaN       NaN        NaN   \n",
            "1    NaN 2014-01-06     NaN  0.926645 -0.237816   0.41270       -0.2   \n",
            "2  35.07 2014-01-09     NaN       NaN       NaN       NaN        NaN   \n",
            "3    NaN 2014-01-17  0.2313       NaN       NaN       NaN        NaN   \n",
            "4    NaN 2014-01-22     NaN  0.456753 -0.070732   0.41270       -0.2   \n",
            "5  32.25 2014-01-25     NaN       NaN       NaN       NaN        NaN   \n",
            "6  34.79 2014-02-02  0.2323       NaN       NaN       NaN        NaN   \n",
            "7    NaN 2014-02-07     NaN  0.172547 -0.004708   0.40016       -0.2   \n",
            "8  35.45 2014-02-10     NaN       NaN       NaN       NaN        NaN   \n",
            "9  33.27 2014-02-18  0.2319       NaN       NaN       NaN        NaN   \n",
            "\n",
            "      SR_B1     SR_B2     SR_B3  ...  ST_ATRAN    ST_B10  ST_CDIST   ST_DRAD  \\\n",
            "0       NaN       NaN       NaN  ...       NaN       NaN       NaN       NaN   \n",
            "1  1.037528  1.019653  0.961985  ... -0.076140  0.908085 -0.200000 -0.148713   \n",
            "2       NaN       NaN       NaN  ...       NaN       NaN       NaN       NaN   \n",
            "3       NaN       NaN       NaN  ...       NaN       NaN       NaN       NaN   \n",
            "4  0.450155  0.450842  0.441905  ... -0.060520  0.943918 -0.200000 -0.153773   \n",
            "5       NaN       NaN       NaN  ...       NaN       NaN       NaN       NaN   \n",
            "6       NaN       NaN       NaN  ...       NaN       NaN       NaN       NaN   \n",
            "7  0.096725  0.110503  0.144245  ... -0.050813  1.162158 -0.192108 -0.154130   \n",
            "8       NaN       NaN       NaN  ...       NaN       NaN       NaN       NaN   \n",
            "9       NaN       NaN       NaN  ...       NaN       NaN       NaN       NaN   \n",
            "\n",
            "    ST_EMIS   ST_EMSD     ST_QA   ST_TRAD   ST_URAD  LandCover  \n",
            "0       NaN       NaN       NaN       NaN       NaN       13.0  \n",
            "1  0.064440 -0.196727 -0.178853  0.012960 -0.081118        NaN  \n",
            "2       NaN       NaN       NaN       NaN       NaN        NaN  \n",
            "3       NaN       NaN       NaN       NaN       NaN        NaN  \n",
            "4  0.063450 -0.196343 -0.179595  0.019725 -0.093685        NaN  \n",
            "5       NaN       NaN       NaN       NaN       NaN        NaN  \n",
            "6       NaN       NaN       NaN       NaN       NaN        NaN  \n",
            "7  0.063175 -0.196233 -0.191778  0.081462 -0.097068        NaN  \n",
            "8       NaN       NaN       NaN       NaN       NaN        NaN  \n",
            "9       NaN       NaN       NaN       NaN       NaN        NaN  \n",
            "\n",
            "[10 rows x 25 columns]\n"
          ]
        }
      ]
    },
    {
      "cell_type": "code",
      "source": [
        "from google.colab import files\n",
        "files.download(csv_filename)"
      ],
      "metadata": {
        "colab": {
          "base_uri": "https://localhost:8080/",
          "height": 17
        },
        "id": "T6_WuCkmKkyD",
        "outputId": "1e996522-f919-46d9-fc5d-003c1bf5a49a"
      },
      "execution_count": 35,
      "outputs": [
        {
          "output_type": "display_data",
          "data": {
            "text/plain": [
              "<IPython.core.display.HTML object>"
            ],
            "text/html": [
              "\n",
              "            <style>\n",
              "                .geemap-dark {\n",
              "                    --jp-widgets-color: white;\n",
              "                    --jp-widgets-label-color: white;\n",
              "                    --jp-ui-font-color1: white;\n",
              "                    --jp-layout-color2: #454545;\n",
              "                    background-color: #383838;\n",
              "                }\n",
              "\n",
              "                .geemap-dark .jupyter-button {\n",
              "                    --jp-layout-color3: #383838;\n",
              "                }\n",
              "\n",
              "                .geemap-colab {\n",
              "                    background-color: var(--colab-primary-surface-color, white);\n",
              "                }\n",
              "\n",
              "                .geemap-colab .jupyter-button {\n",
              "                    --jp-layout-color3: var(--colab-primary-surface-color, white);\n",
              "                }\n",
              "            </style>\n",
              "            "
            ]
          },
          "metadata": {}
        },
        {
          "output_type": "display_data",
          "data": {
            "text/plain": [
              "<IPython.core.display.Javascript object>"
            ],
            "application/javascript": [
              "\n",
              "    async function download(id, filename, size) {\n",
              "      if (!google.colab.kernel.accessAllowed) {\n",
              "        return;\n",
              "      }\n",
              "      const div = document.createElement('div');\n",
              "      const label = document.createElement('label');\n",
              "      label.textContent = `Downloading \"${filename}\": `;\n",
              "      div.appendChild(label);\n",
              "      const progress = document.createElement('progress');\n",
              "      progress.max = size;\n",
              "      div.appendChild(progress);\n",
              "      document.body.appendChild(div);\n",
              "\n",
              "      const buffers = [];\n",
              "      let downloaded = 0;\n",
              "\n",
              "      const channel = await google.colab.kernel.comms.open(id);\n",
              "      // Send a message to notify the kernel that we're ready.\n",
              "      channel.send({})\n",
              "\n",
              "      for await (const message of channel.messages) {\n",
              "        // Send a message to notify the kernel that we're ready.\n",
              "        channel.send({})\n",
              "        if (message.buffers) {\n",
              "          for (const buffer of message.buffers) {\n",
              "            buffers.push(buffer);\n",
              "            downloaded += buffer.byteLength;\n",
              "            progress.value = downloaded;\n",
              "          }\n",
              "        }\n",
              "      }\n",
              "      const blob = new Blob(buffers, {type: 'application/binary'});\n",
              "      const a = document.createElement('a');\n",
              "      a.href = window.URL.createObjectURL(blob);\n",
              "      a.download = filename;\n",
              "      div.appendChild(a);\n",
              "      a.click();\n",
              "      div.remove();\n",
              "    }\n",
              "  "
            ]
          },
          "metadata": {}
        },
        {
          "output_type": "display_data",
          "data": {
            "text/plain": [
              "<IPython.core.display.Javascript object>"
            ],
            "application/javascript": [
              "download(\"download_e619c037-d773-43d2-af88-d8e0295653c1\", \"LST-and-indices.csv\", 82917)"
            ]
          },
          "metadata": {}
        }
      ]
    }
  ]
}