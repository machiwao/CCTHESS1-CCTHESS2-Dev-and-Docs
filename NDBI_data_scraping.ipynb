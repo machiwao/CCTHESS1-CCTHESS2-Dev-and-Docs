{
  "cells": [
    {
      "cell_type": "markdown",
      "metadata": {
        "id": "view-in-github",
        "colab_type": "text"
      },
      "source": [
        "<a href=\"https://colab.research.google.com/github/machiwao/CCTHESS1-CCTHESS2-Dev-and-Docs/blob/jessy/NDBI_data_scraping.ipynb\" target=\"_parent\"><img src=\"https://colab.research.google.com/assets/colab-badge.svg\" alt=\"Open In Colab\"/></a>"
      ]
    },
    {
      "cell_type": "code",
      "execution_count": 16,
      "metadata": {
        "colab": {
          "base_uri": "https://localhost:8080/",
          "height": 17
        },
        "id": "WOkJtulKzl7v",
        "outputId": "2a94435e-b836-45a2-eb36-2db01b441376"
      },
      "outputs": [
        {
          "output_type": "display_data",
          "data": {
            "text/plain": [
              "<IPython.core.display.HTML object>"
            ],
            "text/html": [
              "\n",
              "            <style>\n",
              "                .geemap-dark {\n",
              "                    --jp-widgets-color: white;\n",
              "                    --jp-widgets-label-color: white;\n",
              "                    --jp-ui-font-color1: white;\n",
              "                    --jp-layout-color2: #454545;\n",
              "                    background-color: #383838;\n",
              "                }\n",
              "\n",
              "                .geemap-dark .jupyter-button {\n",
              "                    --jp-layout-color3: #383838;\n",
              "                }\n",
              "\n",
              "                .geemap-colab {\n",
              "                    background-color: var(--colab-primary-surface-color, white);\n",
              "                }\n",
              "\n",
              "                .geemap-colab .jupyter-button {\n",
              "                    --jp-layout-color3: var(--colab-primary-surface-color, white);\n",
              "                }\n",
              "            </style>\n",
              "            "
            ]
          },
          "metadata": {}
        }
      ],
      "source": [
        "# !pip install earthengine-api geemap scipy"
      ]
    },
    {
      "cell_type": "code",
      "execution_count": 17,
      "metadata": {
        "colab": {
          "base_uri": "https://localhost:8080/",
          "height": 17
        },
        "id": "_ZJM4WLLXTql",
        "outputId": "c5ddbaf8-ebb8-4eae-d0f0-49eaa75c31ef"
      },
      "outputs": [
        {
          "output_type": "display_data",
          "data": {
            "text/plain": [
              "<IPython.core.display.HTML object>"
            ],
            "text/html": [
              "\n",
              "            <style>\n",
              "                .geemap-dark {\n",
              "                    --jp-widgets-color: white;\n",
              "                    --jp-widgets-label-color: white;\n",
              "                    --jp-ui-font-color1: white;\n",
              "                    --jp-layout-color2: #454545;\n",
              "                    background-color: #383838;\n",
              "                }\n",
              "\n",
              "                .geemap-dark .jupyter-button {\n",
              "                    --jp-layout-color3: #383838;\n",
              "                }\n",
              "\n",
              "                .geemap-colab {\n",
              "                    background-color: var(--colab-primary-surface-color, white);\n",
              "                }\n",
              "\n",
              "                .geemap-colab .jupyter-button {\n",
              "                    --jp-layout-color3: var(--colab-primary-surface-color, white);\n",
              "                }\n",
              "            </style>\n",
              "            "
            ]
          },
          "metadata": {}
        }
      ],
      "source": [
        "import ee\n",
        "import geemap\n",
        "import pandas as pd\n",
        "from scipy.signal import savgol_filter\n",
        "import os"
      ]
    },
    {
      "cell_type": "code",
      "execution_count": 18,
      "metadata": {
        "colab": {
          "base_uri": "https://localhost:8080/",
          "height": 17
        },
        "id": "AMAIKjYyYJCj",
        "outputId": "4f765b2b-24da-4ca8-a4f8-d9311161e6b3"
      },
      "outputs": [
        {
          "output_type": "display_data",
          "data": {
            "text/plain": [
              "<IPython.core.display.HTML object>"
            ],
            "text/html": [
              "\n",
              "            <style>\n",
              "                .geemap-dark {\n",
              "                    --jp-widgets-color: white;\n",
              "                    --jp-widgets-label-color: white;\n",
              "                    --jp-ui-font-color1: white;\n",
              "                    --jp-layout-color2: #454545;\n",
              "                    background-color: #383838;\n",
              "                }\n",
              "\n",
              "                .geemap-dark .jupyter-button {\n",
              "                    --jp-layout-color3: #383838;\n",
              "                }\n",
              "\n",
              "                .geemap-colab {\n",
              "                    background-color: var(--colab-primary-surface-color, white);\n",
              "                }\n",
              "\n",
              "                .geemap-colab .jupyter-button {\n",
              "                    --jp-layout-color3: var(--colab-primary-surface-color, white);\n",
              "                }\n",
              "            </style>\n",
              "            "
            ]
          },
          "metadata": {}
        }
      ],
      "source": [
        "cloud_project = 'heat-index-forecasting'\n",
        "\n",
        "try:\n",
        "  ee.Initialize(project=cloud_project)\n",
        "except:\n",
        "  ee.Authenticate()\n",
        "  ee.Initialize(project=cloud_project)\n",
        "\n",
        "stations = {\n",
        "    \"Sinait\": ee.Geometry.Point([120.459762, 17.89019]).buffer(25000),\n",
        "    \"Tayabas\": ee.Geometry.Point([121.596575, 14.018428]).buffer(25000),\n",
        "    \"Tanay\": ee.Geometry.Point([121.36927, 14.581167]).buffer(25000),\n",
        "    \"Tuguegarao\": ee.Geometry.Point([121.758469, 17.647678]).buffer(25000),\n",
        "    \"Virac\": ee.Geometry.Point([124.209834, 13.576558]).buffer(25000),\n",
        "}\n",
        "\n",
        "start_date = \"2014-01-01\"\n",
        "end_date   = \"2024-01-01\"\n"
      ]
    },
    {
      "cell_type": "code",
      "metadata": {
        "colab": {
          "base_uri": "https://localhost:8080/",
          "height": 34
        },
        "id": "a38b3b37",
        "outputId": "2387315c-aaf8-4fbf-a922-60cd226eda64"
      },
      "source": [
        "def addNDBI_HLS(img):\n",
        "    \"\"\"Selects and renames B5 and B6 bands for NDBI calculation.\"\"\"\n",
        "    return img.select(['B5', 'B6'])\n",
        "\n",
        "hls = (ee.ImageCollection(\"NASA/HLS/HLSL30/v002\")\n",
        "       .filterDate(start_date, end_date)\n",
        "       .map(addNDBI_HLS))\n",
        "\n",
        "sample = hls.first()\n",
        "print(sample.bandNames().getInfo())"
      ],
      "execution_count": 19,
      "outputs": [
        {
          "output_type": "display_data",
          "data": {
            "text/plain": [
              "<IPython.core.display.HTML object>"
            ],
            "text/html": [
              "\n",
              "            <style>\n",
              "                .geemap-dark {\n",
              "                    --jp-widgets-color: white;\n",
              "                    --jp-widgets-label-color: white;\n",
              "                    --jp-ui-font-color1: white;\n",
              "                    --jp-layout-color2: #454545;\n",
              "                    background-color: #383838;\n",
              "                }\n",
              "\n",
              "                .geemap-dark .jupyter-button {\n",
              "                    --jp-layout-color3: #383838;\n",
              "                }\n",
              "\n",
              "                .geemap-colab {\n",
              "                    background-color: var(--colab-primary-surface-color, white);\n",
              "                }\n",
              "\n",
              "                .geemap-colab .jupyter-button {\n",
              "                    --jp-layout-color3: var(--colab-primary-surface-color, white);\n",
              "                }\n",
              "            </style>\n",
              "            "
            ]
          },
          "metadata": {}
        },
        {
          "output_type": "stream",
          "name": "stdout",
          "text": [
            "['B5', 'B6']\n"
          ]
        }
      ]
    },
    {
      "cell_type": "code",
      "metadata": {
        "colab": {
          "base_uri": "https://localhost:8080/",
          "height": 1000
        },
        "id": "3d8e7cdc",
        "outputId": "f3753c2c-2aa0-4ce9-8da8-1d7841f10404"
      },
      "source": [
        "from datetime import date\n",
        "def process_station(station_name, geometry):\n",
        "    print(f\"Processing {station_name}...\")\n",
        "\n",
        "    ts = hls.map(lambda img: ee.Feature(\n",
        "        None, {\n",
        "            \"date\": img.date().format(\"YYYY-MM-dd\"),\n",
        "            \"B5\": img.reduceRegion(\n",
        "                reducer=ee.Reducer.mean(),\n",
        "                geometry=geometry,\n",
        "                scale=100,\n",
        "                bestEffort=True,\n",
        "                maxPixels=1e9\n",
        "            ).get(\"B5\"),\n",
        "            \"B6\": img.reduceRegion(\n",
        "                reducer=ee.Reducer.mean(),\n",
        "                geometry=geometry,\n",
        "                scale=100,\n",
        "                bestEffort=True,\n",
        "                maxPixels=1e9\n",
        "            ).get(\"B6\"),\n",
        "        }\n",
        "    ))\n",
        "\n",
        "    ts = ee.FeatureCollection(ts)\n",
        "\n",
        "    df = geemap.ee_to_df(ts)\n",
        "    if df.empty:\n",
        "        print(f\"No data for {station_name}\")\n",
        "        return df\n",
        "\n",
        "    # Calculate NDBI within the DataFrame\n",
        "    df['NDBI'] = (df['B6'] - df['B5']) / (df['B6'] + df['B5'])\n",
        "\n",
        "    # Reindex to full daily range\n",
        "    df[\"date\"] = pd.to_datetime(df[\"date\"])\n",
        "    df = df.sort_values(\"date\")\n",
        "\n",
        "    g = df.set_index(\"date\").reindex(full_range)\n",
        "    g[\"station\"] = station_name\n",
        "    # g[\"NDBI\"] = g[\"NDBI\"].astype(float) # This conversion is not needed after calculation\n",
        "\n",
        "    # Fill missing values\n",
        "    g[\"NDBI\"] = g[\"NDBI\"].interpolate(\"linear\").ffill().bfill()\n",
        "\n",
        "    # Apply smoothing\n",
        "    try:\n",
        "        g[\"NDBI_smooth\"] = savgol_filter(g[\"NDBI\"], window_length=31, polyorder=2)\n",
        "    except:\n",
        "        g[\"NDBI_smooth\"] = g[\"NDBI\"]\n",
        "\n",
        "    g.index.name = \"date\"\n",
        "    g = g.reset_index()\n",
        "\n",
        "    # Save CSV\n",
        "    out_file = f\"{station_name}_NDBI_Data.csv\"\n",
        "    g.to_csv(out_file, index=False)\n",
        "    print(f\"Saved {out_file} ({g.shape[0]} rows)\")\n",
        "    return g\n",
        "\n",
        "# -------------------------------\n",
        "# 4. Run for all stations\n",
        "# -------------------------------\n",
        "all_dfs = {}\n",
        "for station, geom in stations.items():\n",
        "    all_dfs[station] = process_station(station, geom)"
      ],
      "execution_count": 20,
      "outputs": [
        {
          "output_type": "display_data",
          "data": {
            "text/plain": [
              "<IPython.core.display.HTML object>"
            ],
            "text/html": [
              "\n",
              "            <style>\n",
              "                .geemap-dark {\n",
              "                    --jp-widgets-color: white;\n",
              "                    --jp-widgets-label-color: white;\n",
              "                    --jp-ui-font-color1: white;\n",
              "                    --jp-layout-color2: #454545;\n",
              "                    background-color: #383838;\n",
              "                }\n",
              "\n",
              "                .geemap-dark .jupyter-button {\n",
              "                    --jp-layout-color3: #383838;\n",
              "                }\n",
              "\n",
              "                .geemap-colab {\n",
              "                    background-color: var(--colab-primary-surface-color, white);\n",
              "                }\n",
              "\n",
              "                .geemap-colab .jupyter-button {\n",
              "                    --jp-layout-color3: var(--colab-primary-surface-color, white);\n",
              "                }\n",
              "            </style>\n",
              "            "
            ]
          },
          "metadata": {}
        },
        {
          "output_type": "stream",
          "name": "stdout",
          "text": [
            "Processing Sinait...\n"
          ]
        },
        {
          "output_type": "stream",
          "name": "stderr",
          "text": [
            "WARNING:googleapiclient.http:Sleeping 1.59 seconds before retry 1 of 5 for request: POST https://earthengine.googleapis.com/v1/projects/heat-index-forecasting/table:computeFeatures?alt=json, after 500\n",
            "WARNING:googleapiclient.http:Sleeping 0.12 seconds before retry 2 of 5 for request: POST https://earthengine.googleapis.com/v1/projects/heat-index-forecasting/table:computeFeatures?alt=json, after 500\n",
            "WARNING:googleapiclient.http:Sleeping 0.92 seconds before retry 3 of 5 for request: POST https://earthengine.googleapis.com/v1/projects/heat-index-forecasting/table:computeFeatures?alt=json, after 500\n",
            "WARNING:googleapiclient.http:Sleeping 0.25 seconds before retry 1 of 5 for request: POST https://earthengine.googleapis.com/v1/projects/heat-index-forecasting/table:computeFeatures?alt=json, after 500\n",
            "WARNING:googleapiclient.http:Sleeping 0.75 seconds before retry 1 of 5 for request: POST https://earthengine.googleapis.com/v1/projects/heat-index-forecasting/table:computeFeatures?alt=json, after 500\n",
            "WARNING:googleapiclient.http:Sleeping 1.78 seconds before retry 1 of 5 for request: POST https://earthengine.googleapis.com/v1/projects/heat-index-forecasting/table:computeFeatures?alt=json, after 500\n",
            "WARNING:googleapiclient.http:Sleeping 0.83 seconds before retry 1 of 5 for request: POST https://earthengine.googleapis.com/v1/projects/heat-index-forecasting/table:computeFeatures?alt=json, after 500\n",
            "WARNING:googleapiclient.http:Sleeping 0.27 seconds before retry 1 of 5 for request: POST https://earthengine.googleapis.com/v1/projects/heat-index-forecasting/table:computeFeatures?alt=json, after 500\n",
            "WARNING:googleapiclient.http:Sleeping 1.96 seconds before retry 1 of 5 for request: POST https://earthengine.googleapis.com/v1/projects/heat-index-forecasting/table:computeFeatures?alt=json, after 500\n",
            "WARNING:googleapiclient.http:Sleeping 2.78 seconds before retry 2 of 5 for request: POST https://earthengine.googleapis.com/v1/projects/heat-index-forecasting/table:computeFeatures?alt=json, after 500\n",
            "WARNING:googleapiclient.http:Sleeping 7.39 seconds before retry 3 of 5 for request: POST https://earthengine.googleapis.com/v1/projects/heat-index-forecasting/table:computeFeatures?alt=json, after 500\n",
            "WARNING:googleapiclient.http:Sleeping 0.90 seconds before retry 1 of 5 for request: POST https://earthengine.googleapis.com/v1/projects/heat-index-forecasting/table:computeFeatures?alt=json, after 500\n",
            "WARNING:googleapiclient.http:Sleeping 0.85 seconds before retry 1 of 5 for request: POST https://earthengine.googleapis.com/v1/projects/heat-index-forecasting/table:computeFeatures?alt=json, after 500\n",
            "WARNING:googleapiclient.http:Sleeping 1.71 seconds before retry 2 of 5 for request: POST https://earthengine.googleapis.com/v1/projects/heat-index-forecasting/table:computeFeatures?alt=json, after 500\n",
            "WARNING:googleapiclient.http:Sleeping 7.37 seconds before retry 3 of 5 for request: POST https://earthengine.googleapis.com/v1/projects/heat-index-forecasting/table:computeFeatures?alt=json, after 500\n",
            "WARNING:googleapiclient.http:Sleeping 1.10 seconds before retry 1 of 5 for request: POST https://earthengine.googleapis.com/v1/projects/heat-index-forecasting/table:computeFeatures?alt=json, after 500\n",
            "WARNING:googleapiclient.http:Sleeping 1.63 seconds before retry 2 of 5 for request: POST https://earthengine.googleapis.com/v1/projects/heat-index-forecasting/table:computeFeatures?alt=json, after 500\n",
            "WARNING:googleapiclient.http:Sleeping 1.30 seconds before retry 1 of 5 for request: POST https://earthengine.googleapis.com/v1/projects/heat-index-forecasting/table:computeFeatures?alt=json, after 500\n",
            "WARNING:googleapiclient.http:Sleeping 2.46 seconds before retry 2 of 5 for request: POST https://earthengine.googleapis.com/v1/projects/heat-index-forecasting/table:computeFeatures?alt=json, after 500\n",
            "WARNING:googleapiclient.http:Sleeping 1.25 seconds before retry 3 of 5 for request: POST https://earthengine.googleapis.com/v1/projects/heat-index-forecasting/table:computeFeatures?alt=json, after 500\n",
            "WARNING:googleapiclient.http:Sleeping 1.38 seconds before retry 1 of 5 for request: POST https://earthengine.googleapis.com/v1/projects/heat-index-forecasting/table:computeFeatures?alt=json, after 500\n",
            "WARNING:googleapiclient.http:Sleeping 1.89 seconds before retry 1 of 5 for request: POST https://earthengine.googleapis.com/v1/projects/heat-index-forecasting/table:computeFeatures?alt=json, after 500\n",
            "WARNING:googleapiclient.http:Sleeping 2.84 seconds before retry 2 of 5 for request: POST https://earthengine.googleapis.com/v1/projects/heat-index-forecasting/table:computeFeatures?alt=json, after 500\n",
            "WARNING:googleapiclient.http:Sleeping 1.34 seconds before retry 1 of 5 for request: POST https://earthengine.googleapis.com/v1/projects/heat-index-forecasting/table:computeFeatures?alt=json, after 500\n",
            "WARNING:googleapiclient.http:Sleeping 1.02 seconds before retry 1 of 5 for request: POST https://earthengine.googleapis.com/v1/projects/heat-index-forecasting/table:computeFeatures?alt=json, after 500\n",
            "WARNING:googleapiclient.http:Sleeping 1.79 seconds before retry 1 of 5 for request: POST https://earthengine.googleapis.com/v1/projects/heat-index-forecasting/table:computeFeatures?alt=json, after 500\n",
            "WARNING:googleapiclient.http:Sleeping 3.10 seconds before retry 2 of 5 for request: POST https://earthengine.googleapis.com/v1/projects/heat-index-forecasting/table:computeFeatures?alt=json, after 500\n",
            "WARNING:googleapiclient.http:Sleeping 1.21 seconds before retry 1 of 5 for request: POST https://earthengine.googleapis.com/v1/projects/heat-index-forecasting/table:computeFeatures?alt=json, after 500\n",
            "WARNING:googleapiclient.http:Sleeping 0.46 seconds before retry 1 of 5 for request: POST https://earthengine.googleapis.com/v1/projects/heat-index-forecasting/table:computeFeatures?alt=json, after 500\n",
            "WARNING:googleapiclient.http:Sleeping 0.81 seconds before retry 1 of 5 for request: POST https://earthengine.googleapis.com/v1/projects/heat-index-forecasting/table:computeFeatures?alt=json, after 500\n",
            "WARNING:googleapiclient.http:Sleeping 2.59 seconds before retry 2 of 5 for request: POST https://earthengine.googleapis.com/v1/projects/heat-index-forecasting/table:computeFeatures?alt=json, after 500\n",
            "WARNING:googleapiclient.http:Sleeping 5.82 seconds before retry 3 of 5 for request: POST https://earthengine.googleapis.com/v1/projects/heat-index-forecasting/table:computeFeatures?alt=json, after 500\n",
            "WARNING:googleapiclient.http:Sleeping 14.12 seconds before retry 4 of 5 for request: POST https://earthengine.googleapis.com/v1/projects/heat-index-forecasting/table:computeFeatures?alt=json, after 500\n",
            "WARNING:googleapiclient.http:Sleeping 1.17 seconds before retry 1 of 5 for request: POST https://earthengine.googleapis.com/v1/projects/heat-index-forecasting/table:computeFeatures?alt=json, after 500\n",
            "WARNING:googleapiclient.http:Sleeping 2.00 seconds before retry 1 of 5 for request: POST https://earthengine.googleapis.com/v1/projects/heat-index-forecasting/table:computeFeatures?alt=json, after 500\n",
            "WARNING:googleapiclient.http:Sleeping 1.66 seconds before retry 1 of 5 for request: POST https://earthengine.googleapis.com/v1/projects/heat-index-forecasting/table:computeFeatures?alt=json, after 500\n",
            "WARNING:googleapiclient.http:Sleeping 2.40 seconds before retry 2 of 5 for request: POST https://earthengine.googleapis.com/v1/projects/heat-index-forecasting/table:computeFeatures?alt=json, after 500\n",
            "WARNING:googleapiclient.http:Sleeping 1.62 seconds before retry 1 of 5 for request: POST https://earthengine.googleapis.com/v1/projects/heat-index-forecasting/table:computeFeatures?alt=json, after 500\n",
            "WARNING:googleapiclient.http:Sleeping 1.89 seconds before retry 1 of 5 for request: POST https://earthengine.googleapis.com/v1/projects/heat-index-forecasting/table:computeFeatures?alt=json, after 500\n",
            "WARNING:googleapiclient.http:Sleeping 2.01 seconds before retry 2 of 5 for request: POST https://earthengine.googleapis.com/v1/projects/heat-index-forecasting/table:computeFeatures?alt=json, after 500\n",
            "WARNING:googleapiclient.http:Sleeping 3.93 seconds before retry 3 of 5 for request: POST https://earthengine.googleapis.com/v1/projects/heat-index-forecasting/table:computeFeatures?alt=json, after 500\n",
            "WARNING:googleapiclient.http:Sleeping 1.73 seconds before retry 4 of 5 for request: POST https://earthengine.googleapis.com/v1/projects/heat-index-forecasting/table:computeFeatures?alt=json, after 500\n",
            "WARNING:googleapiclient.http:Sleeping 0.98 seconds before retry 1 of 5 for request: POST https://earthengine.googleapis.com/v1/projects/heat-index-forecasting/table:computeFeatures?alt=json, after 500\n",
            "WARNING:googleapiclient.http:Sleeping 1.62 seconds before retry 1 of 5 for request: POST https://earthengine.googleapis.com/v1/projects/heat-index-forecasting/table:computeFeatures?alt=json, after 500\n",
            "WARNING:googleapiclient.http:Sleeping 3.60 seconds before retry 2 of 5 for request: POST https://earthengine.googleapis.com/v1/projects/heat-index-forecasting/table:computeFeatures?alt=json, after 500\n",
            "WARNING:googleapiclient.http:Sleeping 7.45 seconds before retry 3 of 5 for request: POST https://earthengine.googleapis.com/v1/projects/heat-index-forecasting/table:computeFeatures?alt=json, after 500\n",
            "WARNING:googleapiclient.http:Sleeping 1.99 seconds before retry 1 of 5 for request: POST https://earthengine.googleapis.com/v1/projects/heat-index-forecasting/table:computeFeatures?alt=json, after 500\n",
            "WARNING:googleapiclient.http:Sleeping 0.95 seconds before retry 1 of 5 for request: POST https://earthengine.googleapis.com/v1/projects/heat-index-forecasting/table:computeFeatures?alt=json, after 500\n",
            "WARNING:googleapiclient.http:Sleeping 1.14 seconds before retry 2 of 5 for request: POST https://earthengine.googleapis.com/v1/projects/heat-index-forecasting/table:computeFeatures?alt=json, after 500\n",
            "WARNING:googleapiclient.http:Sleeping 1.41 seconds before retry 1 of 5 for request: POST https://earthengine.googleapis.com/v1/projects/heat-index-forecasting/table:computeFeatures?alt=json, after 500\n",
            "WARNING:googleapiclient.http:Sleeping 0.45 seconds before retry 1 of 5 for request: POST https://earthengine.googleapis.com/v1/projects/heat-index-forecasting/table:computeFeatures?alt=json, after 500\n",
            "WARNING:googleapiclient.http:Sleeping 1.04 seconds before retry 1 of 5 for request: POST https://earthengine.googleapis.com/v1/projects/heat-index-forecasting/table:computeFeatures?alt=json, after 500\n",
            "WARNING:googleapiclient.http:Sleeping 1.25 seconds before retry 2 of 5 for request: POST https://earthengine.googleapis.com/v1/projects/heat-index-forecasting/table:computeFeatures?alt=json, after 500\n",
            "WARNING:googleapiclient.http:Sleeping 0.26 seconds before retry 1 of 5 for request: POST https://earthengine.googleapis.com/v1/projects/heat-index-forecasting/table:computeFeatures?alt=json, after 500\n",
            "WARNING:googleapiclient.http:Sleeping 1.75 seconds before retry 1 of 5 for request: POST https://earthengine.googleapis.com/v1/projects/heat-index-forecasting/table:computeFeatures?alt=json, after 500\n",
            "WARNING:googleapiclient.http:Sleeping 0.97 seconds before retry 1 of 5 for request: POST https://earthengine.googleapis.com/v1/projects/heat-index-forecasting/table:computeFeatures?alt=json, after 500\n",
            "WARNING:googleapiclient.http:Sleeping 1.68 seconds before retry 1 of 5 for request: POST https://earthengine.googleapis.com/v1/projects/heat-index-forecasting/table:computeFeatures?alt=json, after 500\n",
            "WARNING:googleapiclient.http:Sleeping 3.30 seconds before retry 2 of 5 for request: POST https://earthengine.googleapis.com/v1/projects/heat-index-forecasting/table:computeFeatures?alt=json, after 500\n",
            "WARNING:googleapiclient.http:Sleeping 0.98 seconds before retry 1 of 5 for request: POST https://earthengine.googleapis.com/v1/projects/heat-index-forecasting/table:computeFeatures?alt=json, after 500\n",
            "WARNING:googleapiclient.http:Sleeping 2.00 seconds before retry 2 of 5 for request: POST https://earthengine.googleapis.com/v1/projects/heat-index-forecasting/table:computeFeatures?alt=json, after 500\n",
            "WARNING:googleapiclient.http:Sleeping 5.46 seconds before retry 3 of 5 for request: POST https://earthengine.googleapis.com/v1/projects/heat-index-forecasting/table:computeFeatures?alt=json, after 500\n",
            "WARNING:googleapiclient.http:Sleeping 0.37 seconds before retry 1 of 5 for request: POST https://earthengine.googleapis.com/v1/projects/heat-index-forecasting/table:computeFeatures?alt=json, after 500\n",
            "WARNING:googleapiclient.http:Sleeping 1.09 seconds before retry 1 of 5 for request: POST https://earthengine.googleapis.com/v1/projects/heat-index-forecasting/table:computeFeatures?alt=json, after 500\n",
            "WARNING:googleapiclient.http:Sleeping 0.71 seconds before retry 1 of 5 for request: POST https://earthengine.googleapis.com/v1/projects/heat-index-forecasting/table:computeFeatures?alt=json, after 500\n",
            "WARNING:googleapiclient.http:Sleeping 2.69 seconds before retry 2 of 5 for request: POST https://earthengine.googleapis.com/v1/projects/heat-index-forecasting/table:computeFeatures?alt=json, after 500\n",
            "WARNING:googleapiclient.http:Sleeping 2.55 seconds before retry 3 of 5 for request: POST https://earthengine.googleapis.com/v1/projects/heat-index-forecasting/table:computeFeatures?alt=json, after 500\n",
            "WARNING:googleapiclient.http:Sleeping 0.68 seconds before retry 1 of 5 for request: POST https://earthengine.googleapis.com/v1/projects/heat-index-forecasting/table:computeFeatures?alt=json, after 500\n",
            "WARNING:googleapiclient.http:Sleeping 1.09 seconds before retry 2 of 5 for request: POST https://earthengine.googleapis.com/v1/projects/heat-index-forecasting/table:computeFeatures?alt=json, after 500\n",
            "WARNING:googleapiclient.http:Sleeping 0.33 seconds before retry 1 of 5 for request: POST https://earthengine.googleapis.com/v1/projects/heat-index-forecasting/table:computeFeatures?alt=json, after 500\n",
            "WARNING:googleapiclient.http:Sleeping 1.73 seconds before retry 1 of 5 for request: POST https://earthengine.googleapis.com/v1/projects/heat-index-forecasting/table:computeFeatures?alt=json, after 500\n",
            "WARNING:googleapiclient.http:Sleeping 1.61 seconds before retry 1 of 5 for request: POST https://earthengine.googleapis.com/v1/projects/heat-index-forecasting/table:computeFeatures?alt=json, after 500\n",
            "WARNING:googleapiclient.http:Sleeping 1.60 seconds before retry 2 of 5 for request: POST https://earthengine.googleapis.com/v1/projects/heat-index-forecasting/table:computeFeatures?alt=json, after 500\n",
            "WARNING:googleapiclient.http:Sleeping 1.08 seconds before retry 1 of 5 for request: POST https://earthengine.googleapis.com/v1/projects/heat-index-forecasting/table:computeFeatures?alt=json, after 500\n",
            "WARNING:googleapiclient.http:Sleeping 1.48 seconds before retry 1 of 5 for request: POST https://earthengine.googleapis.com/v1/projects/heat-index-forecasting/table:computeFeatures?alt=json, after 500\n",
            "WARNING:googleapiclient.http:Sleeping 1.55 seconds before retry 1 of 5 for request: POST https://earthengine.googleapis.com/v1/projects/heat-index-forecasting/table:computeFeatures?alt=json, after 500\n",
            "WARNING:googleapiclient.http:Sleeping 3.04 seconds before retry 2 of 5 for request: POST https://earthengine.googleapis.com/v1/projects/heat-index-forecasting/table:computeFeatures?alt=json, after 500\n",
            "WARNING:googleapiclient.http:Sleeping 0.54 seconds before retry 1 of 5 for request: POST https://earthengine.googleapis.com/v1/projects/heat-index-forecasting/table:computeFeatures?alt=json, after 500\n",
            "WARNING:googleapiclient.http:Sleeping 1.41 seconds before retry 1 of 5 for request: POST https://earthengine.googleapis.com/v1/projects/heat-index-forecasting/table:computeFeatures?alt=json, after 500\n",
            "WARNING:googleapiclient.http:Sleeping 0.85 seconds before retry 1 of 5 for request: POST https://earthengine.googleapis.com/v1/projects/heat-index-forecasting/table:computeFeatures?alt=json, after 500\n",
            "WARNING:googleapiclient.http:Sleeping 0.74 seconds before retry 2 of 5 for request: POST https://earthengine.googleapis.com/v1/projects/heat-index-forecasting/table:computeFeatures?alt=json, after 500\n",
            "WARNING:googleapiclient.http:Sleeping 1.49 seconds before retry 1 of 5 for request: POST https://earthengine.googleapis.com/v1/projects/heat-index-forecasting/table:computeFeatures?alt=json, after 500\n",
            "WARNING:googleapiclient.http:Sleeping 1.92 seconds before retry 2 of 5 for request: POST https://earthengine.googleapis.com/v1/projects/heat-index-forecasting/table:computeFeatures?alt=json, after 500\n",
            "WARNING:googleapiclient.http:Sleeping 2.00 seconds before retry 3 of 5 for request: POST https://earthengine.googleapis.com/v1/projects/heat-index-forecasting/table:computeFeatures?alt=json, after 500\n",
            "WARNING:googleapiclient.http:Sleeping 0.23 seconds before retry 1 of 5 for request: POST https://earthengine.googleapis.com/v1/projects/heat-index-forecasting/table:computeFeatures?alt=json, after 500\n",
            "WARNING:googleapiclient.http:Sleeping 1.37 seconds before retry 1 of 5 for request: POST https://earthengine.googleapis.com/v1/projects/heat-index-forecasting/table:computeFeatures?alt=json, after 500\n",
            "WARNING:googleapiclient.http:Sleeping 1.98 seconds before retry 2 of 5 for request: POST https://earthengine.googleapis.com/v1/projects/heat-index-forecasting/table:computeFeatures?alt=json, after 500\n",
            "WARNING:googleapiclient.http:Sleeping 1.17 seconds before retry 1 of 5 for request: POST https://earthengine.googleapis.com/v1/projects/heat-index-forecasting/table:computeFeatures?alt=json, after 500\n",
            "WARNING:googleapiclient.http:Sleeping 1.19 seconds before retry 1 of 5 for request: POST https://earthengine.googleapis.com/v1/projects/heat-index-forecasting/table:computeFeatures?alt=json, after 500\n",
            "WARNING:googleapiclient.http:Sleeping 1.04 seconds before retry 2 of 5 for request: POST https://earthengine.googleapis.com/v1/projects/heat-index-forecasting/table:computeFeatures?alt=json, after 500\n",
            "WARNING:googleapiclient.http:Sleeping 0.59 seconds before retry 1 of 5 for request: POST https://earthengine.googleapis.com/v1/projects/heat-index-forecasting/table:computeFeatures?alt=json, after 500\n",
            "WARNING:googleapiclient.http:Sleeping 3.43 seconds before retry 2 of 5 for request: POST https://earthengine.googleapis.com/v1/projects/heat-index-forecasting/table:computeFeatures?alt=json, after 500\n",
            "WARNING:googleapiclient.http:Sleeping 1.90 seconds before retry 3 of 5 for request: POST https://earthengine.googleapis.com/v1/projects/heat-index-forecasting/table:computeFeatures?alt=json, after 500\n",
            "WARNING:googleapiclient.http:Sleeping 1.57 seconds before retry 1 of 5 for request: POST https://earthengine.googleapis.com/v1/projects/heat-index-forecasting/table:computeFeatures?alt=json, after 500\n",
            "WARNING:googleapiclient.http:Sleeping 1.70 seconds before retry 1 of 5 for request: POST https://earthengine.googleapis.com/v1/projects/heat-index-forecasting/table:computeFeatures?alt=json, after 500\n",
            "WARNING:googleapiclient.http:Sleeping 0.30 seconds before retry 1 of 5 for request: POST https://earthengine.googleapis.com/v1/projects/heat-index-forecasting/table:computeFeatures?alt=json, after 500\n",
            "WARNING:googleapiclient.http:Sleeping 1.35 seconds before retry 2 of 5 for request: POST https://earthengine.googleapis.com/v1/projects/heat-index-forecasting/table:computeFeatures?alt=json, after 500\n",
            "WARNING:googleapiclient.http:Sleeping 0.48 seconds before retry 3 of 5 for request: POST https://earthengine.googleapis.com/v1/projects/heat-index-forecasting/table:computeFeatures?alt=json, after 500\n",
            "WARNING:googleapiclient.http:Sleeping 1.46 seconds before retry 1 of 5 for request: POST https://earthengine.googleapis.com/v1/projects/heat-index-forecasting/table:computeFeatures?alt=json, after 500\n",
            "WARNING:googleapiclient.http:Sleeping 0.66 seconds before retry 1 of 5 for request: POST https://earthengine.googleapis.com/v1/projects/heat-index-forecasting/table:computeFeatures?alt=json, after 500\n",
            "WARNING:googleapiclient.http:Sleeping 3.36 seconds before retry 2 of 5 for request: POST https://earthengine.googleapis.com/v1/projects/heat-index-forecasting/table:computeFeatures?alt=json, after 500\n",
            "WARNING:googleapiclient.http:Sleeping 6.34 seconds before retry 3 of 5 for request: POST https://earthengine.googleapis.com/v1/projects/heat-index-forecasting/table:computeFeatures?alt=json, after 500\n",
            "WARNING:googleapiclient.http:Sleeping 1.80 seconds before retry 1 of 5 for request: POST https://earthengine.googleapis.com/v1/projects/heat-index-forecasting/table:computeFeatures?alt=json, after 500\n",
            "WARNING:googleapiclient.http:Sleeping 1.71 seconds before retry 1 of 5 for request: POST https://earthengine.googleapis.com/v1/projects/heat-index-forecasting/table:computeFeatures?alt=json, after 500\n",
            "WARNING:googleapiclient.http:Sleeping 0.05 seconds before retry 1 of 5 for request: POST https://earthengine.googleapis.com/v1/projects/heat-index-forecasting/table:computeFeatures?alt=json, after 500\n",
            "WARNING:googleapiclient.http:Sleeping 0.74 seconds before retry 1 of 5 for request: POST https://earthengine.googleapis.com/v1/projects/heat-index-forecasting/table:computeFeatures?alt=json, after 500\n",
            "WARNING:googleapiclient.http:Sleeping 2.62 seconds before retry 2 of 5 for request: POST https://earthengine.googleapis.com/v1/projects/heat-index-forecasting/table:computeFeatures?alt=json, after 500\n",
            "WARNING:googleapiclient.http:Sleeping 1.47 seconds before retry 1 of 5 for request: POST https://earthengine.googleapis.com/v1/projects/heat-index-forecasting/table:computeFeatures?alt=json, after 500\n",
            "WARNING:googleapiclient.http:Sleeping 3.33 seconds before retry 2 of 5 for request: POST https://earthengine.googleapis.com/v1/projects/heat-index-forecasting/table:computeFeatures?alt=json, after 500\n",
            "WARNING:googleapiclient.http:Sleeping 4.85 seconds before retry 3 of 5 for request: POST https://earthengine.googleapis.com/v1/projects/heat-index-forecasting/table:computeFeatures?alt=json, after 500\n",
            "WARNING:googleapiclient.http:Sleeping 14.24 seconds before retry 4 of 5 for request: POST https://earthengine.googleapis.com/v1/projects/heat-index-forecasting/table:computeFeatures?alt=json, after 500\n",
            "WARNING:googleapiclient.http:Sleeping 0.86 seconds before retry 1 of 5 for request: POST https://earthengine.googleapis.com/v1/projects/heat-index-forecasting/table:computeFeatures?alt=json, after 500\n",
            "WARNING:googleapiclient.http:Sleeping 3.07 seconds before retry 2 of 5 for request: POST https://earthengine.googleapis.com/v1/projects/heat-index-forecasting/table:computeFeatures?alt=json, after 500\n",
            "WARNING:googleapiclient.http:Sleeping 7.42 seconds before retry 3 of 5 for request: POST https://earthengine.googleapis.com/v1/projects/heat-index-forecasting/table:computeFeatures?alt=json, after 500\n",
            "WARNING:googleapiclient.http:Sleeping 0.65 seconds before retry 1 of 5 for request: POST https://earthengine.googleapis.com/v1/projects/heat-index-forecasting/table:computeFeatures?alt=json, after 500\n",
            "WARNING:googleapiclient.http:Sleeping 1.10 seconds before retry 1 of 5 for request: POST https://earthengine.googleapis.com/v1/projects/heat-index-forecasting/table:computeFeatures?alt=json, after 500\n",
            "WARNING:googleapiclient.http:Sleeping 2.36 seconds before retry 2 of 5 for request: POST https://earthengine.googleapis.com/v1/projects/heat-index-forecasting/table:computeFeatures?alt=json, after 500\n",
            "WARNING:googleapiclient.http:Sleeping 0.48 seconds before retry 1 of 5 for request: POST https://earthengine.googleapis.com/v1/projects/heat-index-forecasting/table:computeFeatures?alt=json, after 500\n",
            "WARNING:googleapiclient.http:Sleeping 1.56 seconds before retry 1 of 5 for request: POST https://earthengine.googleapis.com/v1/projects/heat-index-forecasting/table:computeFeatures?alt=json, after 500\n",
            "WARNING:googleapiclient.http:Sleeping 0.87 seconds before retry 1 of 5 for request: POST https://earthengine.googleapis.com/v1/projects/heat-index-forecasting/table:computeFeatures?alt=json, after 500\n",
            "WARNING:googleapiclient.http:Sleeping 1.92 seconds before retry 1 of 5 for request: POST https://earthengine.googleapis.com/v1/projects/heat-index-forecasting/table:computeFeatures?alt=json, after 500\n",
            "WARNING:googleapiclient.http:Sleeping 0.53 seconds before retry 1 of 5 for request: POST https://earthengine.googleapis.com/v1/projects/heat-index-forecasting/table:computeFeatures?alt=json, after 500\n",
            "WARNING:googleapiclient.http:Sleeping 1.84 seconds before retry 1 of 5 for request: POST https://earthengine.googleapis.com/v1/projects/heat-index-forecasting/table:computeFeatures?alt=json, after 500\n",
            "WARNING:googleapiclient.http:Sleeping 1.20 seconds before retry 1 of 5 for request: POST https://earthengine.googleapis.com/v1/projects/heat-index-forecasting/table:computeFeatures?alt=json, after 500\n",
            "WARNING:googleapiclient.http:Sleeping 1.71 seconds before retry 2 of 5 for request: POST https://earthengine.googleapis.com/v1/projects/heat-index-forecasting/table:computeFeatures?alt=json, after 500\n",
            "WARNING:googleapiclient.http:Sleeping 5.96 seconds before retry 3 of 5 for request: POST https://earthengine.googleapis.com/v1/projects/heat-index-forecasting/table:computeFeatures?alt=json, after 500\n",
            "WARNING:googleapiclient.http:Sleeping 3.56 seconds before retry 4 of 5 for request: POST https://earthengine.googleapis.com/v1/projects/heat-index-forecasting/table:computeFeatures?alt=json, after 500\n",
            "WARNING:googleapiclient.http:Sleeping 0.93 seconds before retry 1 of 5 for request: POST https://earthengine.googleapis.com/v1/projects/heat-index-forecasting/table:computeFeatures?alt=json, after 500\n",
            "WARNING:googleapiclient.http:Sleeping 1.10 seconds before retry 1 of 5 for request: POST https://earthengine.googleapis.com/v1/projects/heat-index-forecasting/table:computeFeatures?alt=json, after 500\n",
            "WARNING:googleapiclient.http:Sleeping 0.00 seconds before retry 1 of 5 for request: POST https://earthengine.googleapis.com/v1/projects/heat-index-forecasting/table:computeFeatures?alt=json, after 500\n",
            "WARNING:googleapiclient.http:Sleeping 3.89 seconds before retry 2 of 5 for request: POST https://earthengine.googleapis.com/v1/projects/heat-index-forecasting/table:computeFeatures?alt=json, after 500\n",
            "WARNING:googleapiclient.http:Sleeping 1.57 seconds before retry 1 of 5 for request: POST https://earthengine.googleapis.com/v1/projects/heat-index-forecasting/table:computeFeatures?alt=json, after 500\n",
            "WARNING:googleapiclient.http:Sleeping 2.60 seconds before retry 2 of 5 for request: POST https://earthengine.googleapis.com/v1/projects/heat-index-forecasting/table:computeFeatures?alt=json, after 500\n",
            "WARNING:googleapiclient.http:Sleeping 2.77 seconds before retry 3 of 5 for request: POST https://earthengine.googleapis.com/v1/projects/heat-index-forecasting/table:computeFeatures?alt=json, after 500\n",
            "WARNING:googleapiclient.http:Sleeping 1.60 seconds before retry 1 of 5 for request: POST https://earthengine.googleapis.com/v1/projects/heat-index-forecasting/table:computeFeatures?alt=json, after 500\n",
            "WARNING:googleapiclient.http:Sleeping 3.58 seconds before retry 2 of 5 for request: POST https://earthengine.googleapis.com/v1/projects/heat-index-forecasting/table:computeFeatures?alt=json, after 500\n",
            "WARNING:googleapiclient.http:Sleeping 3.20 seconds before retry 3 of 5 for request: POST https://earthengine.googleapis.com/v1/projects/heat-index-forecasting/table:computeFeatures?alt=json, after 500\n",
            "WARNING:googleapiclient.http:Sleeping 0.36 seconds before retry 1 of 5 for request: POST https://earthengine.googleapis.com/v1/projects/heat-index-forecasting/table:computeFeatures?alt=json, after 500\n",
            "WARNING:googleapiclient.http:Sleeping 1.92 seconds before retry 1 of 5 for request: POST https://earthengine.googleapis.com/v1/projects/heat-index-forecasting/table:computeFeatures?alt=json, after 500\n",
            "WARNING:googleapiclient.http:Sleeping 1.61 seconds before retry 1 of 5 for request: POST https://earthengine.googleapis.com/v1/projects/heat-index-forecasting/table:computeFeatures?alt=json, after 500\n",
            "WARNING:googleapiclient.http:Sleeping 2.36 seconds before retry 2 of 5 for request: POST https://earthengine.googleapis.com/v1/projects/heat-index-forecasting/table:computeFeatures?alt=json, after 500\n",
            "WARNING:googleapiclient.http:Sleeping 4.91 seconds before retry 3 of 5 for request: POST https://earthengine.googleapis.com/v1/projects/heat-index-forecasting/table:computeFeatures?alt=json, after 500\n",
            "WARNING:googleapiclient.http:Sleeping 10.43 seconds before retry 4 of 5 for request: POST https://earthengine.googleapis.com/v1/projects/heat-index-forecasting/table:computeFeatures?alt=json, after 500\n",
            "WARNING:googleapiclient.http:Sleeping 1.69 seconds before retry 1 of 5 for request: POST https://earthengine.googleapis.com/v1/projects/heat-index-forecasting/table:computeFeatures?alt=json, after 500\n",
            "WARNING:googleapiclient.http:Sleeping 0.86 seconds before retry 1 of 5 for request: POST https://earthengine.googleapis.com/v1/projects/heat-index-forecasting/table:computeFeatures?alt=json, after 500\n",
            "WARNING:googleapiclient.http:Sleeping 2.42 seconds before retry 2 of 5 for request: POST https://earthengine.googleapis.com/v1/projects/heat-index-forecasting/table:computeFeatures?alt=json, after 500\n",
            "WARNING:googleapiclient.http:Sleeping 0.14 seconds before retry 1 of 5 for request: POST https://earthengine.googleapis.com/v1/projects/heat-index-forecasting/table:computeFeatures?alt=json, after 500\n",
            "WARNING:googleapiclient.http:Sleeping 1.22 seconds before retry 2 of 5 for request: POST https://earthengine.googleapis.com/v1/projects/heat-index-forecasting/table:computeFeatures?alt=json, after 500\n",
            "WARNING:googleapiclient.http:Sleeping 1.34 seconds before retry 1 of 5 for request: POST https://earthengine.googleapis.com/v1/projects/heat-index-forecasting/table:computeFeatures?alt=json, after 500\n",
            "WARNING:googleapiclient.http:Sleeping 0.36 seconds before retry 1 of 5 for request: POST https://earthengine.googleapis.com/v1/projects/heat-index-forecasting/table:computeFeatures?alt=json, after 500\n",
            "WARNING:googleapiclient.http:Sleeping 1.29 seconds before retry 2 of 5 for request: POST https://earthengine.googleapis.com/v1/projects/heat-index-forecasting/table:computeFeatures?alt=json, after 500\n",
            "WARNING:googleapiclient.http:Sleeping 0.66 seconds before retry 1 of 5 for request: POST https://earthengine.googleapis.com/v1/projects/heat-index-forecasting/table:computeFeatures?alt=json, after 500\n",
            "WARNING:googleapiclient.http:Sleeping 0.62 seconds before retry 1 of 5 for request: POST https://earthengine.googleapis.com/v1/projects/heat-index-forecasting/table:computeFeatures?alt=json, after 500\n",
            "WARNING:googleapiclient.http:Sleeping 1.11 seconds before retry 2 of 5 for request: POST https://earthengine.googleapis.com/v1/projects/heat-index-forecasting/table:computeFeatures?alt=json, after 500\n",
            "WARNING:googleapiclient.http:Sleeping 1.74 seconds before retry 3 of 5 for request: POST https://earthengine.googleapis.com/v1/projects/heat-index-forecasting/table:computeFeatures?alt=json, after 500\n",
            "WARNING:googleapiclient.http:Sleeping 7.55 seconds before retry 4 of 5 for request: POST https://earthengine.googleapis.com/v1/projects/heat-index-forecasting/table:computeFeatures?alt=json, after 500\n",
            "WARNING:googleapiclient.http:Sleeping 0.86 seconds before retry 1 of 5 for request: POST https://earthengine.googleapis.com/v1/projects/heat-index-forecasting/table:computeFeatures?alt=json, after 500\n",
            "WARNING:googleapiclient.http:Sleeping 0.77 seconds before retry 2 of 5 for request: POST https://earthengine.googleapis.com/v1/projects/heat-index-forecasting/table:computeFeatures?alt=json, after 500\n",
            "WARNING:googleapiclient.http:Sleeping 4.13 seconds before retry 3 of 5 for request: POST https://earthengine.googleapis.com/v1/projects/heat-index-forecasting/table:computeFeatures?alt=json, after 500\n",
            "WARNING:googleapiclient.http:Sleeping 1.00 seconds before retry 1 of 5 for request: POST https://earthengine.googleapis.com/v1/projects/heat-index-forecasting/table:computeFeatures?alt=json, after 500\n",
            "WARNING:googleapiclient.http:Sleeping 0.81 seconds before retry 1 of 5 for request: POST https://earthengine.googleapis.com/v1/projects/heat-index-forecasting/table:computeFeatures?alt=json, after 500\n",
            "WARNING:googleapiclient.http:Sleeping 2.78 seconds before retry 2 of 5 for request: POST https://earthengine.googleapis.com/v1/projects/heat-index-forecasting/table:computeFeatures?alt=json, after 500\n",
            "WARNING:googleapiclient.http:Sleeping 1.41 seconds before retry 1 of 5 for request: POST https://earthengine.googleapis.com/v1/projects/heat-index-forecasting/table:computeFeatures?alt=json, after 500\n",
            "WARNING:googleapiclient.http:Sleeping 0.58 seconds before retry 1 of 5 for request: POST https://earthengine.googleapis.com/v1/projects/heat-index-forecasting/table:computeFeatures?alt=json, after 500\n",
            "WARNING:googleapiclient.http:Sleeping 0.89 seconds before retry 1 of 5 for request: POST https://earthengine.googleapis.com/v1/projects/heat-index-forecasting/table:computeFeatures?alt=json, after 500\n",
            "WARNING:googleapiclient.http:Sleeping 2.78 seconds before retry 2 of 5 for request: POST https://earthengine.googleapis.com/v1/projects/heat-index-forecasting/table:computeFeatures?alt=json, after 500\n",
            "WARNING:googleapiclient.http:Sleeping 1.04 seconds before retry 1 of 5 for request: POST https://earthengine.googleapis.com/v1/projects/heat-index-forecasting/table:computeFeatures?alt=json, after 500\n",
            "WARNING:googleapiclient.http:Sleeping 3.34 seconds before retry 2 of 5 for request: POST https://earthengine.googleapis.com/v1/projects/heat-index-forecasting/table:computeFeatures?alt=json, after 500\n",
            "WARNING:googleapiclient.http:Sleeping 7.30 seconds before retry 3 of 5 for request: POST https://earthengine.googleapis.com/v1/projects/heat-index-forecasting/table:computeFeatures?alt=json, after 500\n",
            "WARNING:googleapiclient.http:Sleeping 0.94 seconds before retry 1 of 5 for request: POST https://earthengine.googleapis.com/v1/projects/heat-index-forecasting/table:computeFeatures?alt=json, after 500\n",
            "WARNING:googleapiclient.http:Sleeping 0.35 seconds before retry 1 of 5 for request: POST https://earthengine.googleapis.com/v1/projects/heat-index-forecasting/table:computeFeatures?alt=json, after 500\n",
            "WARNING:googleapiclient.http:Sleeping 1.52 seconds before retry 1 of 5 for request: POST https://earthengine.googleapis.com/v1/projects/heat-index-forecasting/table:computeFeatures?alt=json, after 500\n",
            "WARNING:googleapiclient.http:Sleeping 1.74 seconds before retry 1 of 5 for request: POST https://earthengine.googleapis.com/v1/projects/heat-index-forecasting/table:computeFeatures?alt=json, after 500\n",
            "WARNING:googleapiclient.http:Sleeping 1.60 seconds before retry 2 of 5 for request: POST https://earthengine.googleapis.com/v1/projects/heat-index-forecasting/table:computeFeatures?alt=json, after 500\n",
            "WARNING:googleapiclient.http:Sleeping 0.14 seconds before retry 1 of 5 for request: POST https://earthengine.googleapis.com/v1/projects/heat-index-forecasting/table:computeFeatures?alt=json, after 500\n",
            "WARNING:googleapiclient.http:Sleeping 0.19 seconds before retry 2 of 5 for request: POST https://earthengine.googleapis.com/v1/projects/heat-index-forecasting/table:computeFeatures?alt=json, after 500\n",
            "WARNING:googleapiclient.http:Sleeping 5.96 seconds before retry 3 of 5 for request: POST https://earthengine.googleapis.com/v1/projects/heat-index-forecasting/table:computeFeatures?alt=json, after 500\n",
            "WARNING:googleapiclient.http:Sleeping 3.81 seconds before retry 4 of 5 for request: POST https://earthengine.googleapis.com/v1/projects/heat-index-forecasting/table:computeFeatures?alt=json, after 500\n",
            "WARNING:googleapiclient.http:Sleeping 0.97 seconds before retry 1 of 5 for request: POST https://earthengine.googleapis.com/v1/projects/heat-index-forecasting/table:computeFeatures?alt=json, after 500\n"
          ]
        },
        {
          "output_type": "error",
          "ename": "KeyboardInterrupt",
          "evalue": "",
          "traceback": [
            "\u001b[0;31m---------------------------------------------------------------------------\u001b[0m",
            "\u001b[0;31mKeyboardInterrupt\u001b[0m                         Traceback (most recent call last)",
            "\u001b[0;32m/tmp/ipython-input-1551975083.py\u001b[0m in \u001b[0;36m<cell line: 0>\u001b[0;34m()\u001b[0m\n\u001b[1;32m     64\u001b[0m \u001b[0mall_dfs\u001b[0m \u001b[0;34m=\u001b[0m \u001b[0;34m{\u001b[0m\u001b[0;34m}\u001b[0m\u001b[0;34m\u001b[0m\u001b[0;34m\u001b[0m\u001b[0m\n\u001b[1;32m     65\u001b[0m \u001b[0;32mfor\u001b[0m \u001b[0mstation\u001b[0m\u001b[0;34m,\u001b[0m \u001b[0mgeom\u001b[0m \u001b[0;32min\u001b[0m \u001b[0mstations\u001b[0m\u001b[0;34m.\u001b[0m\u001b[0mitems\u001b[0m\u001b[0;34m(\u001b[0m\u001b[0;34m)\u001b[0m\u001b[0;34m:\u001b[0m\u001b[0;34m\u001b[0m\u001b[0;34m\u001b[0m\u001b[0m\n\u001b[0;32m---> 66\u001b[0;31m     \u001b[0mall_dfs\u001b[0m\u001b[0;34m[\u001b[0m\u001b[0mstation\u001b[0m\u001b[0;34m]\u001b[0m \u001b[0;34m=\u001b[0m \u001b[0mprocess_station\u001b[0m\u001b[0;34m(\u001b[0m\u001b[0mstation\u001b[0m\u001b[0;34m,\u001b[0m \u001b[0mgeom\u001b[0m\u001b[0;34m)\u001b[0m\u001b[0;34m\u001b[0m\u001b[0;34m\u001b[0m\u001b[0m\n\u001b[0m",
            "\u001b[0;32m/tmp/ipython-input-1551975083.py\u001b[0m in \u001b[0;36mprocess_station\u001b[0;34m(station_name, geometry)\u001b[0m\n\u001b[1;32m     25\u001b[0m     \u001b[0mts\u001b[0m \u001b[0;34m=\u001b[0m \u001b[0mee\u001b[0m\u001b[0;34m.\u001b[0m\u001b[0mFeatureCollection\u001b[0m\u001b[0;34m(\u001b[0m\u001b[0mts\u001b[0m\u001b[0;34m)\u001b[0m\u001b[0;34m\u001b[0m\u001b[0;34m\u001b[0m\u001b[0m\n\u001b[1;32m     26\u001b[0m \u001b[0;34m\u001b[0m\u001b[0m\n\u001b[0;32m---> 27\u001b[0;31m     \u001b[0mdf\u001b[0m \u001b[0;34m=\u001b[0m \u001b[0mgeemap\u001b[0m\u001b[0;34m.\u001b[0m\u001b[0mee_to_df\u001b[0m\u001b[0;34m(\u001b[0m\u001b[0mts\u001b[0m\u001b[0;34m)\u001b[0m\u001b[0;34m\u001b[0m\u001b[0;34m\u001b[0m\u001b[0m\n\u001b[0m\u001b[1;32m     28\u001b[0m     \u001b[0;32mif\u001b[0m \u001b[0mdf\u001b[0m\u001b[0;34m.\u001b[0m\u001b[0mempty\u001b[0m\u001b[0;34m:\u001b[0m\u001b[0;34m\u001b[0m\u001b[0;34m\u001b[0m\u001b[0m\n\u001b[1;32m     29\u001b[0m         \u001b[0mprint\u001b[0m\u001b[0;34m(\u001b[0m\u001b[0;34mf\"No data for {station_name}\"\u001b[0m\u001b[0;34m)\u001b[0m\u001b[0;34m\u001b[0m\u001b[0;34m\u001b[0m\u001b[0m\n",
            "\u001b[0;32m/usr/local/lib/python3.12/dist-packages/geemap/common.py\u001b[0m in \u001b[0;36mee_to_df\u001b[0;34m(ee_object, columns, remove_geom, sort_columns, **kwargs)\u001b[0m\n\u001b[1;32m   8788\u001b[0m         \u001b[0mkwargs\u001b[0m\u001b[0;34m[\u001b[0m\u001b[0;34m\"fileFormat\"\u001b[0m\u001b[0;34m]\u001b[0m \u001b[0;34m=\u001b[0m \u001b[0;34m\"PANDAS_DATAFRAME\"\u001b[0m\u001b[0;34m\u001b[0m\u001b[0;34m\u001b[0m\u001b[0m\n\u001b[1;32m   8789\u001b[0m \u001b[0;34m\u001b[0m\u001b[0m\n\u001b[0;32m-> 8790\u001b[0;31m         \u001b[0mdf\u001b[0m \u001b[0;34m=\u001b[0m \u001b[0mee\u001b[0m\u001b[0;34m.\u001b[0m\u001b[0mdata\u001b[0m\u001b[0;34m.\u001b[0m\u001b[0mcomputeFeatures\u001b[0m\u001b[0;34m(\u001b[0m\u001b[0mkwargs\u001b[0m\u001b[0;34m)\u001b[0m\u001b[0;34m\u001b[0m\u001b[0;34m\u001b[0m\u001b[0m\n\u001b[0m\u001b[1;32m   8791\u001b[0m \u001b[0;34m\u001b[0m\u001b[0m\n\u001b[1;32m   8792\u001b[0m         \u001b[0;32mif\u001b[0m \u001b[0misinstance\u001b[0m\u001b[0;34m(\u001b[0m\u001b[0mcolumns\u001b[0m\u001b[0;34m,\u001b[0m \u001b[0mlist\u001b[0m\u001b[0;34m)\u001b[0m\u001b[0;34m:\u001b[0m\u001b[0;34m\u001b[0m\u001b[0;34m\u001b[0m\u001b[0m\n",
            "\u001b[0;32m/usr/local/lib/python3.12/dist-packages/ee/data.py\u001b[0m in \u001b[0;36mcomputeFeatures\u001b[0;34m(params)\u001b[0m\n\u001b[1;32m   1030\u001b[0m   \u001b[0mparams\u001b[0m\u001b[0;34m.\u001b[0m\u001b[0mpop\u001b[0m\u001b[0;34m(\u001b[0m\u001b[0;34m'fileFormat'\u001b[0m\u001b[0;34m,\u001b[0m \u001b[0;32mNone\u001b[0m\u001b[0;34m)\u001b[0m\u001b[0;34m\u001b[0m\u001b[0;34m\u001b[0m\u001b[0m\n\u001b[1;32m   1031\u001b[0m   \u001b[0;32mif\u001b[0m \u001b[0mconverter\u001b[0m\u001b[0;34m:\u001b[0m\u001b[0;34m\u001b[0m\u001b[0;34m\u001b[0m\u001b[0m\n\u001b[0;32m-> 1032\u001b[0;31m     \u001b[0;32mreturn\u001b[0m \u001b[0mconverter\u001b[0m\u001b[0;34m.\u001b[0m\u001b[0mdo_conversion\u001b[0m\u001b[0;34m(\u001b[0m\u001b[0m_generate\u001b[0m\u001b[0;34m(\u001b[0m\u001b[0mcall\u001b[0m\u001b[0;34m,\u001b[0m \u001b[0;34m'features'\u001b[0m\u001b[0;34m,\u001b[0m \u001b[0mparams\u001b[0m\u001b[0;34m=\u001b[0m\u001b[0mparams\u001b[0m\u001b[0;34m)\u001b[0m\u001b[0;34m)\u001b[0m\u001b[0;34m\u001b[0m\u001b[0;34m\u001b[0m\u001b[0m\n\u001b[0m\u001b[1;32m   1033\u001b[0m   \u001b[0;32mreturn\u001b[0m \u001b[0mcall\u001b[0m\u001b[0;34m(\u001b[0m\u001b[0mparams\u001b[0m\u001b[0;34m)\u001b[0m\u001b[0;34m\u001b[0m\u001b[0;34m\u001b[0m\u001b[0m\n\u001b[1;32m   1034\u001b[0m \u001b[0;34m\u001b[0m\u001b[0m\n",
            "\u001b[0;32m/usr/local/lib/python3.12/dist-packages/ee/table_converter.py\u001b[0m in \u001b[0;36mdo_conversion\u001b[0;34m(self, features)\u001b[0m\n\u001b[1;32m     21\u001b[0m           \u001b[0;34m'Using format PANDAS_DATAFRAME requires pandas.'\u001b[0m\u001b[0;34m\u001b[0m\u001b[0;34m\u001b[0m\u001b[0m\n\u001b[1;32m     22\u001b[0m       ) from exc\n\u001b[0;32m---> 23\u001b[0;31m     \u001b[0;32mreturn\u001b[0m \u001b[0mpandas\u001b[0m\u001b[0;34m.\u001b[0m\u001b[0mDataFrame\u001b[0m\u001b[0;34m.\u001b[0m\u001b[0mfrom_records\u001b[0m\u001b[0;34m(\u001b[0m\u001b[0mself\u001b[0m\u001b[0;34m.\u001b[0m\u001b[0m_convert_to_records\u001b[0m\u001b[0;34m(\u001b[0m\u001b[0mfeatures\u001b[0m\u001b[0;34m)\u001b[0m\u001b[0;34m)\u001b[0m\u001b[0;34m\u001b[0m\u001b[0;34m\u001b[0m\u001b[0m\n\u001b[0m\u001b[1;32m     24\u001b[0m \u001b[0;34m\u001b[0m\u001b[0m\n\u001b[1;32m     25\u001b[0m   def _convert_to_records(\n",
            "\u001b[0;32m/usr/local/lib/python3.12/dist-packages/pandas/core/frame.py\u001b[0m in \u001b[0;36mfrom_records\u001b[0;34m(cls, data, index, exclude, columns, coerce_float, nrows)\u001b[0m\n\u001b[1;32m   2459\u001b[0m \u001b[0;34m\u001b[0m\u001b[0m\n\u001b[1;32m   2460\u001b[0m             \u001b[0;32mif\u001b[0m \u001b[0mnrows\u001b[0m \u001b[0;32mis\u001b[0m \u001b[0;32mNone\u001b[0m\u001b[0;34m:\u001b[0m\u001b[0;34m\u001b[0m\u001b[0;34m\u001b[0m\u001b[0m\n\u001b[0;32m-> 2461\u001b[0;31m                 \u001b[0mvalues\u001b[0m \u001b[0;34m+=\u001b[0m \u001b[0mdata\u001b[0m\u001b[0;34m\u001b[0m\u001b[0;34m\u001b[0m\u001b[0m\n\u001b[0m\u001b[1;32m   2462\u001b[0m             \u001b[0;32melse\u001b[0m\u001b[0;34m:\u001b[0m\u001b[0;34m\u001b[0m\u001b[0;34m\u001b[0m\u001b[0m\n\u001b[1;32m   2463\u001b[0m                 \u001b[0mvalues\u001b[0m\u001b[0;34m.\u001b[0m\u001b[0mextend\u001b[0m\u001b[0;34m(\u001b[0m\u001b[0mitertools\u001b[0m\u001b[0;34m.\u001b[0m\u001b[0mislice\u001b[0m\u001b[0;34m(\u001b[0m\u001b[0mdata\u001b[0m\u001b[0;34m,\u001b[0m \u001b[0mnrows\u001b[0m \u001b[0;34m-\u001b[0m \u001b[0;36m1\u001b[0m\u001b[0;34m)\u001b[0m\u001b[0;34m)\u001b[0m\u001b[0;34m\u001b[0m\u001b[0;34m\u001b[0m\u001b[0m\n",
            "\u001b[0;32m/usr/local/lib/python3.12/dist-packages/ee/table_converter.py\u001b[0m in \u001b[0;36m_convert_to_records\u001b[0;34m(self, features)\u001b[0m\n\u001b[1;32m     26\u001b[0m       \u001b[0mself\u001b[0m\u001b[0;34m,\u001b[0m \u001b[0mfeatures\u001b[0m\u001b[0;34m:\u001b[0m \u001b[0mIterator\u001b[0m\u001b[0;34m[\u001b[0m\u001b[0mAny\u001b[0m\u001b[0;34m]\u001b[0m\u001b[0;34m\u001b[0m\u001b[0;34m\u001b[0m\u001b[0m\n\u001b[1;32m     27\u001b[0m   ) -> Iterator[dict[str, Any]]:\n\u001b[0;32m---> 28\u001b[0;31m     \u001b[0;32mfor\u001b[0m \u001b[0mfeature\u001b[0m \u001b[0;32min\u001b[0m \u001b[0mfeatures\u001b[0m\u001b[0;34m:\u001b[0m\u001b[0;34m\u001b[0m\u001b[0;34m\u001b[0m\u001b[0m\n\u001b[0m\u001b[1;32m     29\u001b[0m       yield {\n\u001b[1;32m     30\u001b[0m           \u001b[0;34m'geo'\u001b[0m\u001b[0;34m:\u001b[0m \u001b[0mfeature\u001b[0m\u001b[0;34m.\u001b[0m\u001b[0mget\u001b[0m\u001b[0;34m(\u001b[0m\u001b[0;34m'geometry'\u001b[0m\u001b[0;34m)\u001b[0m\u001b[0;34m,\u001b[0m\u001b[0;34m\u001b[0m\u001b[0;34m\u001b[0m\u001b[0m\n",
            "\u001b[0;32m/usr/local/lib/python3.12/dist-packages/ee/data.py\u001b[0m in \u001b[0;36m_generate\u001b[0;34m(func, list_key, **kwargs)\u001b[0m\n\u001b[1;32m    826\u001b[0m   \u001b[0margs\u001b[0m \u001b[0;34m=\u001b[0m \u001b[0mkwargs\u001b[0m\u001b[0;34m.\u001b[0m\u001b[0mcopy\u001b[0m\u001b[0;34m(\u001b[0m\u001b[0;34m)\u001b[0m\u001b[0;34m\u001b[0m\u001b[0;34m\u001b[0m\u001b[0m\n\u001b[1;32m    827\u001b[0m   \u001b[0;32mwhile\u001b[0m \u001b[0;32mTrue\u001b[0m\u001b[0;34m:\u001b[0m\u001b[0;34m\u001b[0m\u001b[0;34m\u001b[0m\u001b[0m\n\u001b[0;32m--> 828\u001b[0;31m     \u001b[0mresponse\u001b[0m \u001b[0;34m=\u001b[0m \u001b[0mfunc\u001b[0m\u001b[0;34m(\u001b[0m\u001b[0;34m**\u001b[0m\u001b[0margs\u001b[0m\u001b[0;34m)\u001b[0m\u001b[0;34m\u001b[0m\u001b[0;34m\u001b[0m\u001b[0m\n\u001b[0m\u001b[1;32m    829\u001b[0m     \u001b[0;32mfor\u001b[0m \u001b[0mobj\u001b[0m \u001b[0;32min\u001b[0m \u001b[0mresponse\u001b[0m\u001b[0;34m.\u001b[0m\u001b[0mget\u001b[0m\u001b[0;34m(\u001b[0m\u001b[0mlist_key\u001b[0m\u001b[0;34m,\u001b[0m \u001b[0;34m[\u001b[0m\u001b[0;34m]\u001b[0m\u001b[0;34m)\u001b[0m\u001b[0;34m:\u001b[0m\u001b[0;34m\u001b[0m\u001b[0;34m\u001b[0m\u001b[0m\n\u001b[1;32m    830\u001b[0m       \u001b[0;32myield\u001b[0m \u001b[0mobj\u001b[0m\u001b[0;34m\u001b[0m\u001b[0;34m\u001b[0m\u001b[0m\n",
            "\u001b[0;32m/usr/local/lib/python3.12/dist-packages/ee/data.py\u001b[0m in \u001b[0;36mcall\u001b[0;34m(params)\u001b[0m\n\u001b[1;32m   1021\u001b[0m \u001b[0;34m\u001b[0m\u001b[0m\n\u001b[1;32m   1022\u001b[0m   \u001b[0;32mdef\u001b[0m \u001b[0mcall\u001b[0m\u001b[0;34m(\u001b[0m\u001b[0mparams\u001b[0m\u001b[0;34m)\u001b[0m\u001b[0;34m:\u001b[0m\u001b[0;34m\u001b[0m\u001b[0;34m\u001b[0m\u001b[0m\n\u001b[0;32m-> 1023\u001b[0;31m     return _execute_cloud_call(\n\u001b[0m\u001b[1;32m   1024\u001b[0m         \u001b[0m_get_cloud_projects\u001b[0m\u001b[0;34m(\u001b[0m\u001b[0;34m)\u001b[0m\u001b[0;34m\u001b[0m\u001b[0;34m\u001b[0m\u001b[0m\n\u001b[1;32m   1025\u001b[0m         \u001b[0;34m.\u001b[0m\u001b[0mtable\u001b[0m\u001b[0;34m(\u001b[0m\u001b[0;34m)\u001b[0m\u001b[0;34m\u001b[0m\u001b[0;34m\u001b[0m\u001b[0m\n",
            "\u001b[0;32m/usr/local/lib/python3.12/dist-packages/ee/data.py\u001b[0m in \u001b[0;36m_execute_cloud_call\u001b[0;34m(call, num_retries)\u001b[0m\n\u001b[1;32m    406\u001b[0m   \u001b[0mnum_retries\u001b[0m \u001b[0;34m=\u001b[0m \u001b[0m_max_retries\u001b[0m \u001b[0;32mif\u001b[0m \u001b[0mnum_retries\u001b[0m \u001b[0;32mis\u001b[0m \u001b[0;32mNone\u001b[0m \u001b[0;32melse\u001b[0m \u001b[0mnum_retries\u001b[0m\u001b[0;34m\u001b[0m\u001b[0;34m\u001b[0m\u001b[0m\n\u001b[1;32m    407\u001b[0m   \u001b[0;32mtry\u001b[0m\u001b[0;34m:\u001b[0m\u001b[0;34m\u001b[0m\u001b[0;34m\u001b[0m\u001b[0m\n\u001b[0;32m--> 408\u001b[0;31m     \u001b[0;32mreturn\u001b[0m \u001b[0mcall\u001b[0m\u001b[0;34m.\u001b[0m\u001b[0mexecute\u001b[0m\u001b[0;34m(\u001b[0m\u001b[0mnum_retries\u001b[0m\u001b[0;34m=\u001b[0m\u001b[0mnum_retries\u001b[0m\u001b[0;34m)\u001b[0m\u001b[0;34m\u001b[0m\u001b[0;34m\u001b[0m\u001b[0m\n\u001b[0m\u001b[1;32m    409\u001b[0m   \u001b[0;32mexcept\u001b[0m \u001b[0mgoogleapiclient\u001b[0m\u001b[0;34m.\u001b[0m\u001b[0merrors\u001b[0m\u001b[0;34m.\u001b[0m\u001b[0mHttpError\u001b[0m \u001b[0;32mas\u001b[0m \u001b[0me\u001b[0m\u001b[0;34m:\u001b[0m\u001b[0;34m\u001b[0m\u001b[0;34m\u001b[0m\u001b[0m\n\u001b[1;32m    410\u001b[0m     \u001b[0;32mraise\u001b[0m \u001b[0m_translate_cloud_exception\u001b[0m\u001b[0;34m(\u001b[0m\u001b[0me\u001b[0m\u001b[0;34m)\u001b[0m  \u001b[0;31m# pylint: disable=raise-missing-from\u001b[0m\u001b[0;34m\u001b[0m\u001b[0;34m\u001b[0m\u001b[0m\n",
            "\u001b[0;32m/usr/local/lib/python3.12/dist-packages/googleapiclient/_helpers.py\u001b[0m in \u001b[0;36mpositional_wrapper\u001b[0;34m(*args, **kwargs)\u001b[0m\n\u001b[1;32m    128\u001b[0m                 \u001b[0;32melif\u001b[0m \u001b[0mpositional_parameters_enforcement\u001b[0m \u001b[0;34m==\u001b[0m \u001b[0mPOSITIONAL_WARNING\u001b[0m\u001b[0;34m:\u001b[0m\u001b[0;34m\u001b[0m\u001b[0;34m\u001b[0m\u001b[0m\n\u001b[1;32m    129\u001b[0m                     \u001b[0mlogger\u001b[0m\u001b[0;34m.\u001b[0m\u001b[0mwarning\u001b[0m\u001b[0;34m(\u001b[0m\u001b[0mmessage\u001b[0m\u001b[0;34m)\u001b[0m\u001b[0;34m\u001b[0m\u001b[0;34m\u001b[0m\u001b[0m\n\u001b[0;32m--> 130\u001b[0;31m             \u001b[0;32mreturn\u001b[0m \u001b[0mwrapped\u001b[0m\u001b[0;34m(\u001b[0m\u001b[0;34m*\u001b[0m\u001b[0margs\u001b[0m\u001b[0;34m,\u001b[0m \u001b[0;34m**\u001b[0m\u001b[0mkwargs\u001b[0m\u001b[0;34m)\u001b[0m\u001b[0;34m\u001b[0m\u001b[0;34m\u001b[0m\u001b[0m\n\u001b[0m\u001b[1;32m    131\u001b[0m \u001b[0;34m\u001b[0m\u001b[0m\n\u001b[1;32m    132\u001b[0m         \u001b[0;32mreturn\u001b[0m \u001b[0mpositional_wrapper\u001b[0m\u001b[0;34m\u001b[0m\u001b[0;34m\u001b[0m\u001b[0m\n",
            "\u001b[0;32m/usr/local/lib/python3.12/dist-packages/googleapiclient/http.py\u001b[0m in \u001b[0;36mexecute\u001b[0;34m(self, http, num_retries)\u001b[0m\n\u001b[1;32m    921\u001b[0m \u001b[0;34m\u001b[0m\u001b[0m\n\u001b[1;32m    922\u001b[0m         \u001b[0;31m# Handle retries for server-side errors.\u001b[0m\u001b[0;34m\u001b[0m\u001b[0;34m\u001b[0m\u001b[0m\n\u001b[0;32m--> 923\u001b[0;31m         resp, content = _retry_request(\n\u001b[0m\u001b[1;32m    924\u001b[0m             \u001b[0mhttp\u001b[0m\u001b[0;34m,\u001b[0m\u001b[0;34m\u001b[0m\u001b[0;34m\u001b[0m\u001b[0m\n\u001b[1;32m    925\u001b[0m             \u001b[0mnum_retries\u001b[0m\u001b[0;34m,\u001b[0m\u001b[0;34m\u001b[0m\u001b[0;34m\u001b[0m\u001b[0m\n",
            "\u001b[0;32m/usr/local/lib/python3.12/dist-packages/googleapiclient/http.py\u001b[0m in \u001b[0;36m_retry_request\u001b[0;34m(http, num_retries, req_type, sleep, rand, uri, method, *args, **kwargs)\u001b[0m\n\u001b[1;32m    189\u001b[0m         \u001b[0;32mtry\u001b[0m\u001b[0;34m:\u001b[0m\u001b[0;34m\u001b[0m\u001b[0;34m\u001b[0m\u001b[0m\n\u001b[1;32m    190\u001b[0m             \u001b[0mexception\u001b[0m \u001b[0;34m=\u001b[0m \u001b[0;32mNone\u001b[0m\u001b[0;34m\u001b[0m\u001b[0;34m\u001b[0m\u001b[0m\n\u001b[0;32m--> 191\u001b[0;31m             \u001b[0mresp\u001b[0m\u001b[0;34m,\u001b[0m \u001b[0mcontent\u001b[0m \u001b[0;34m=\u001b[0m \u001b[0mhttp\u001b[0m\u001b[0;34m.\u001b[0m\u001b[0mrequest\u001b[0m\u001b[0;34m(\u001b[0m\u001b[0muri\u001b[0m\u001b[0;34m,\u001b[0m \u001b[0mmethod\u001b[0m\u001b[0;34m,\u001b[0m \u001b[0;34m*\u001b[0m\u001b[0margs\u001b[0m\u001b[0;34m,\u001b[0m \u001b[0;34m**\u001b[0m\u001b[0mkwargs\u001b[0m\u001b[0;34m)\u001b[0m\u001b[0;34m\u001b[0m\u001b[0;34m\u001b[0m\u001b[0m\n\u001b[0m\u001b[1;32m    192\u001b[0m         \u001b[0;31m# Retry on SSL errors and socket timeout errors.\u001b[0m\u001b[0;34m\u001b[0m\u001b[0;34m\u001b[0m\u001b[0m\n\u001b[1;32m    193\u001b[0m         \u001b[0;32mexcept\u001b[0m \u001b[0m_ssl_SSLError\u001b[0m \u001b[0;32mas\u001b[0m \u001b[0mssl_error\u001b[0m\u001b[0;34m:\u001b[0m\u001b[0;34m\u001b[0m\u001b[0;34m\u001b[0m\u001b[0m\n",
            "\u001b[0;32m/usr/local/lib/python3.12/dist-packages/google_auth_httplib2.py\u001b[0m in \u001b[0;36mrequest\u001b[0;34m(self, uri, method, body, headers, redirections, connection_type, **kwargs)\u001b[0m\n\u001b[1;32m    216\u001b[0m \u001b[0;34m\u001b[0m\u001b[0m\n\u001b[1;32m    217\u001b[0m         \u001b[0;31m# Make the request.\u001b[0m\u001b[0;34m\u001b[0m\u001b[0;34m\u001b[0m\u001b[0m\n\u001b[0;32m--> 218\u001b[0;31m         response, content = self.http.request(\n\u001b[0m\u001b[1;32m    219\u001b[0m             \u001b[0muri\u001b[0m\u001b[0;34m,\u001b[0m\u001b[0;34m\u001b[0m\u001b[0;34m\u001b[0m\u001b[0m\n\u001b[1;32m    220\u001b[0m             \u001b[0mmethod\u001b[0m\u001b[0;34m,\u001b[0m\u001b[0;34m\u001b[0m\u001b[0;34m\u001b[0m\u001b[0m\n",
            "\u001b[0;32m/usr/local/lib/python3.12/dist-packages/ee/_cloud_api_utils.py\u001b[0m in \u001b[0;36mrequest\u001b[0;34m(***failed resolving arguments***)\u001b[0m\n\u001b[1;32m     68\u001b[0m       \u001b[0;31m# requests errors should be converted to kinds that googleapiclient\u001b[0m\u001b[0;34m\u001b[0m\u001b[0;34m\u001b[0m\u001b[0m\n\u001b[1;32m     69\u001b[0m       \u001b[0;31m# consider transient.\u001b[0m\u001b[0;34m\u001b[0m\u001b[0;34m\u001b[0m\u001b[0m\n\u001b[0;32m---> 70\u001b[0;31m       response = self._session.request(\n\u001b[0m\u001b[1;32m     71\u001b[0m           \u001b[0mmethod\u001b[0m\u001b[0;34m,\u001b[0m \u001b[0muri\u001b[0m\u001b[0;34m,\u001b[0m \u001b[0mdata\u001b[0m\u001b[0;34m=\u001b[0m\u001b[0mbody\u001b[0m\u001b[0;34m,\u001b[0m \u001b[0mheaders\u001b[0m\u001b[0;34m=\u001b[0m\u001b[0mheaders\u001b[0m\u001b[0;34m,\u001b[0m \u001b[0mtimeout\u001b[0m\u001b[0;34m=\u001b[0m\u001b[0mself\u001b[0m\u001b[0;34m.\u001b[0m\u001b[0m_timeout\u001b[0m\u001b[0;34m\u001b[0m\u001b[0;34m\u001b[0m\u001b[0m\n\u001b[1;32m     72\u001b[0m       )\n",
            "\u001b[0;32m/usr/local/lib/python3.12/dist-packages/requests/sessions.py\u001b[0m in \u001b[0;36mrequest\u001b[0;34m(self, method, url, params, data, headers, cookies, files, auth, timeout, allow_redirects, proxies, hooks, stream, verify, cert, json)\u001b[0m\n\u001b[1;32m    587\u001b[0m         }\n\u001b[1;32m    588\u001b[0m         \u001b[0msend_kwargs\u001b[0m\u001b[0;34m.\u001b[0m\u001b[0mupdate\u001b[0m\u001b[0;34m(\u001b[0m\u001b[0msettings\u001b[0m\u001b[0;34m)\u001b[0m\u001b[0;34m\u001b[0m\u001b[0;34m\u001b[0m\u001b[0m\n\u001b[0;32m--> 589\u001b[0;31m         \u001b[0mresp\u001b[0m \u001b[0;34m=\u001b[0m \u001b[0mself\u001b[0m\u001b[0;34m.\u001b[0m\u001b[0msend\u001b[0m\u001b[0;34m(\u001b[0m\u001b[0mprep\u001b[0m\u001b[0;34m,\u001b[0m \u001b[0;34m**\u001b[0m\u001b[0msend_kwargs\u001b[0m\u001b[0;34m)\u001b[0m\u001b[0;34m\u001b[0m\u001b[0;34m\u001b[0m\u001b[0m\n\u001b[0m\u001b[1;32m    590\u001b[0m \u001b[0;34m\u001b[0m\u001b[0m\n\u001b[1;32m    591\u001b[0m         \u001b[0;32mreturn\u001b[0m \u001b[0mresp\u001b[0m\u001b[0;34m\u001b[0m\u001b[0;34m\u001b[0m\u001b[0m\n",
            "\u001b[0;32m/usr/local/lib/python3.12/dist-packages/requests/sessions.py\u001b[0m in \u001b[0;36msend\u001b[0;34m(self, request, **kwargs)\u001b[0m\n\u001b[1;32m    701\u001b[0m \u001b[0;34m\u001b[0m\u001b[0m\n\u001b[1;32m    702\u001b[0m         \u001b[0;31m# Send the request\u001b[0m\u001b[0;34m\u001b[0m\u001b[0;34m\u001b[0m\u001b[0m\n\u001b[0;32m--> 703\u001b[0;31m         \u001b[0mr\u001b[0m \u001b[0;34m=\u001b[0m \u001b[0madapter\u001b[0m\u001b[0;34m.\u001b[0m\u001b[0msend\u001b[0m\u001b[0;34m(\u001b[0m\u001b[0mrequest\u001b[0m\u001b[0;34m,\u001b[0m \u001b[0;34m**\u001b[0m\u001b[0mkwargs\u001b[0m\u001b[0;34m)\u001b[0m\u001b[0;34m\u001b[0m\u001b[0;34m\u001b[0m\u001b[0m\n\u001b[0m\u001b[1;32m    704\u001b[0m \u001b[0;34m\u001b[0m\u001b[0m\n\u001b[1;32m    705\u001b[0m         \u001b[0;31m# Total elapsed time of the request (approximately)\u001b[0m\u001b[0;34m\u001b[0m\u001b[0;34m\u001b[0m\u001b[0m\n",
            "\u001b[0;32m/usr/local/lib/python3.12/dist-packages/requests/adapters.py\u001b[0m in \u001b[0;36msend\u001b[0;34m(self, request, stream, timeout, verify, cert, proxies)\u001b[0m\n\u001b[1;32m    665\u001b[0m \u001b[0;34m\u001b[0m\u001b[0m\n\u001b[1;32m    666\u001b[0m         \u001b[0;32mtry\u001b[0m\u001b[0;34m:\u001b[0m\u001b[0;34m\u001b[0m\u001b[0;34m\u001b[0m\u001b[0m\n\u001b[0;32m--> 667\u001b[0;31m             resp = conn.urlopen(\n\u001b[0m\u001b[1;32m    668\u001b[0m                 \u001b[0mmethod\u001b[0m\u001b[0;34m=\u001b[0m\u001b[0mrequest\u001b[0m\u001b[0;34m.\u001b[0m\u001b[0mmethod\u001b[0m\u001b[0;34m,\u001b[0m\u001b[0;34m\u001b[0m\u001b[0;34m\u001b[0m\u001b[0m\n\u001b[1;32m    669\u001b[0m                 \u001b[0murl\u001b[0m\u001b[0;34m=\u001b[0m\u001b[0murl\u001b[0m\u001b[0;34m,\u001b[0m\u001b[0;34m\u001b[0m\u001b[0;34m\u001b[0m\u001b[0m\n",
            "\u001b[0;32m/usr/local/lib/python3.12/dist-packages/urllib3/connectionpool.py\u001b[0m in \u001b[0;36murlopen\u001b[0;34m(self, method, url, body, headers, retries, redirect, assert_same_host, timeout, pool_timeout, release_conn, chunked, body_pos, preload_content, decode_content, **response_kw)\u001b[0m\n\u001b[1;32m    785\u001b[0m \u001b[0;34m\u001b[0m\u001b[0m\n\u001b[1;32m    786\u001b[0m             \u001b[0;31m# Make the request on the HTTPConnection object\u001b[0m\u001b[0;34m\u001b[0m\u001b[0;34m\u001b[0m\u001b[0m\n\u001b[0;32m--> 787\u001b[0;31m             response = self._make_request(\n\u001b[0m\u001b[1;32m    788\u001b[0m                 \u001b[0mconn\u001b[0m\u001b[0;34m,\u001b[0m\u001b[0;34m\u001b[0m\u001b[0;34m\u001b[0m\u001b[0m\n\u001b[1;32m    789\u001b[0m                 \u001b[0mmethod\u001b[0m\u001b[0;34m,\u001b[0m\u001b[0;34m\u001b[0m\u001b[0;34m\u001b[0m\u001b[0m\n",
            "\u001b[0;32m/usr/local/lib/python3.12/dist-packages/urllib3/connectionpool.py\u001b[0m in \u001b[0;36m_make_request\u001b[0;34m(self, conn, method, url, body, headers, retries, timeout, chunked, response_conn, preload_content, decode_content, enforce_content_length)\u001b[0m\n\u001b[1;32m    532\u001b[0m         \u001b[0;31m# Receive the response from the server\u001b[0m\u001b[0;34m\u001b[0m\u001b[0;34m\u001b[0m\u001b[0m\n\u001b[1;32m    533\u001b[0m         \u001b[0;32mtry\u001b[0m\u001b[0;34m:\u001b[0m\u001b[0;34m\u001b[0m\u001b[0;34m\u001b[0m\u001b[0m\n\u001b[0;32m--> 534\u001b[0;31m             \u001b[0mresponse\u001b[0m \u001b[0;34m=\u001b[0m \u001b[0mconn\u001b[0m\u001b[0;34m.\u001b[0m\u001b[0mgetresponse\u001b[0m\u001b[0;34m(\u001b[0m\u001b[0;34m)\u001b[0m\u001b[0;34m\u001b[0m\u001b[0;34m\u001b[0m\u001b[0m\n\u001b[0m\u001b[1;32m    535\u001b[0m         \u001b[0;32mexcept\u001b[0m \u001b[0;34m(\u001b[0m\u001b[0mBaseSSLError\u001b[0m\u001b[0;34m,\u001b[0m \u001b[0mOSError\u001b[0m\u001b[0;34m)\u001b[0m \u001b[0;32mas\u001b[0m \u001b[0me\u001b[0m\u001b[0;34m:\u001b[0m\u001b[0;34m\u001b[0m\u001b[0;34m\u001b[0m\u001b[0m\n\u001b[1;32m    536\u001b[0m             \u001b[0mself\u001b[0m\u001b[0;34m.\u001b[0m\u001b[0m_raise_timeout\u001b[0m\u001b[0;34m(\u001b[0m\u001b[0merr\u001b[0m\u001b[0;34m=\u001b[0m\u001b[0me\u001b[0m\u001b[0;34m,\u001b[0m \u001b[0murl\u001b[0m\u001b[0;34m=\u001b[0m\u001b[0murl\u001b[0m\u001b[0;34m,\u001b[0m \u001b[0mtimeout_value\u001b[0m\u001b[0;34m=\u001b[0m\u001b[0mread_timeout\u001b[0m\u001b[0;34m)\u001b[0m\u001b[0;34m\u001b[0m\u001b[0;34m\u001b[0m\u001b[0m\n",
            "\u001b[0;32m/usr/local/lib/python3.12/dist-packages/urllib3/connection.py\u001b[0m in \u001b[0;36mgetresponse\u001b[0;34m(self)\u001b[0m\n\u001b[1;32m    563\u001b[0m \u001b[0;34m\u001b[0m\u001b[0m\n\u001b[1;32m    564\u001b[0m         \u001b[0;31m# Get the response from http.client.HTTPConnection\u001b[0m\u001b[0;34m\u001b[0m\u001b[0;34m\u001b[0m\u001b[0m\n\u001b[0;32m--> 565\u001b[0;31m         \u001b[0mhttplib_response\u001b[0m \u001b[0;34m=\u001b[0m \u001b[0msuper\u001b[0m\u001b[0;34m(\u001b[0m\u001b[0;34m)\u001b[0m\u001b[0;34m.\u001b[0m\u001b[0mgetresponse\u001b[0m\u001b[0;34m(\u001b[0m\u001b[0;34m)\u001b[0m\u001b[0;34m\u001b[0m\u001b[0;34m\u001b[0m\u001b[0m\n\u001b[0m\u001b[1;32m    566\u001b[0m \u001b[0;34m\u001b[0m\u001b[0m\n\u001b[1;32m    567\u001b[0m         \u001b[0;32mtry\u001b[0m\u001b[0;34m:\u001b[0m\u001b[0;34m\u001b[0m\u001b[0;34m\u001b[0m\u001b[0m\n",
            "\u001b[0;32m/usr/lib/python3.12/http/client.py\u001b[0m in \u001b[0;36mgetresponse\u001b[0;34m(self)\u001b[0m\n\u001b[1;32m   1428\u001b[0m         \u001b[0;32mtry\u001b[0m\u001b[0;34m:\u001b[0m\u001b[0;34m\u001b[0m\u001b[0;34m\u001b[0m\u001b[0m\n\u001b[1;32m   1429\u001b[0m             \u001b[0;32mtry\u001b[0m\u001b[0;34m:\u001b[0m\u001b[0;34m\u001b[0m\u001b[0;34m\u001b[0m\u001b[0m\n\u001b[0;32m-> 1430\u001b[0;31m                 \u001b[0mresponse\u001b[0m\u001b[0;34m.\u001b[0m\u001b[0mbegin\u001b[0m\u001b[0;34m(\u001b[0m\u001b[0;34m)\u001b[0m\u001b[0;34m\u001b[0m\u001b[0;34m\u001b[0m\u001b[0m\n\u001b[0m\u001b[1;32m   1431\u001b[0m             \u001b[0;32mexcept\u001b[0m \u001b[0mConnectionError\u001b[0m\u001b[0;34m:\u001b[0m\u001b[0;34m\u001b[0m\u001b[0;34m\u001b[0m\u001b[0m\n\u001b[1;32m   1432\u001b[0m                 \u001b[0mself\u001b[0m\u001b[0;34m.\u001b[0m\u001b[0mclose\u001b[0m\u001b[0;34m(\u001b[0m\u001b[0;34m)\u001b[0m\u001b[0;34m\u001b[0m\u001b[0;34m\u001b[0m\u001b[0m\n",
            "\u001b[0;32m/usr/lib/python3.12/http/client.py\u001b[0m in \u001b[0;36mbegin\u001b[0;34m(self)\u001b[0m\n\u001b[1;32m    329\u001b[0m         \u001b[0;31m# read until we get a non-100 response\u001b[0m\u001b[0;34m\u001b[0m\u001b[0;34m\u001b[0m\u001b[0m\n\u001b[1;32m    330\u001b[0m         \u001b[0;32mwhile\u001b[0m \u001b[0;32mTrue\u001b[0m\u001b[0;34m:\u001b[0m\u001b[0;34m\u001b[0m\u001b[0;34m\u001b[0m\u001b[0m\n\u001b[0;32m--> 331\u001b[0;31m             \u001b[0mversion\u001b[0m\u001b[0;34m,\u001b[0m \u001b[0mstatus\u001b[0m\u001b[0;34m,\u001b[0m \u001b[0mreason\u001b[0m \u001b[0;34m=\u001b[0m \u001b[0mself\u001b[0m\u001b[0;34m.\u001b[0m\u001b[0m_read_status\u001b[0m\u001b[0;34m(\u001b[0m\u001b[0;34m)\u001b[0m\u001b[0;34m\u001b[0m\u001b[0;34m\u001b[0m\u001b[0m\n\u001b[0m\u001b[1;32m    332\u001b[0m             \u001b[0;32mif\u001b[0m \u001b[0mstatus\u001b[0m \u001b[0;34m!=\u001b[0m \u001b[0mCONTINUE\u001b[0m\u001b[0;34m:\u001b[0m\u001b[0;34m\u001b[0m\u001b[0;34m\u001b[0m\u001b[0m\n\u001b[1;32m    333\u001b[0m                 \u001b[0;32mbreak\u001b[0m\u001b[0;34m\u001b[0m\u001b[0;34m\u001b[0m\u001b[0m\n",
            "\u001b[0;32m/usr/lib/python3.12/http/client.py\u001b[0m in \u001b[0;36m_read_status\u001b[0;34m(self)\u001b[0m\n\u001b[1;32m    290\u001b[0m \u001b[0;34m\u001b[0m\u001b[0m\n\u001b[1;32m    291\u001b[0m     \u001b[0;32mdef\u001b[0m \u001b[0m_read_status\u001b[0m\u001b[0;34m(\u001b[0m\u001b[0mself\u001b[0m\u001b[0;34m)\u001b[0m\u001b[0;34m:\u001b[0m\u001b[0;34m\u001b[0m\u001b[0;34m\u001b[0m\u001b[0m\n\u001b[0;32m--> 292\u001b[0;31m         \u001b[0mline\u001b[0m \u001b[0;34m=\u001b[0m \u001b[0mstr\u001b[0m\u001b[0;34m(\u001b[0m\u001b[0mself\u001b[0m\u001b[0;34m.\u001b[0m\u001b[0mfp\u001b[0m\u001b[0;34m.\u001b[0m\u001b[0mreadline\u001b[0m\u001b[0;34m(\u001b[0m\u001b[0m_MAXLINE\u001b[0m \u001b[0;34m+\u001b[0m \u001b[0;36m1\u001b[0m\u001b[0;34m)\u001b[0m\u001b[0;34m,\u001b[0m \u001b[0;34m\"iso-8859-1\"\u001b[0m\u001b[0;34m)\u001b[0m\u001b[0;34m\u001b[0m\u001b[0;34m\u001b[0m\u001b[0m\n\u001b[0m\u001b[1;32m    293\u001b[0m         \u001b[0;32mif\u001b[0m \u001b[0mlen\u001b[0m\u001b[0;34m(\u001b[0m\u001b[0mline\u001b[0m\u001b[0;34m)\u001b[0m \u001b[0;34m>\u001b[0m \u001b[0m_MAXLINE\u001b[0m\u001b[0;34m:\u001b[0m\u001b[0;34m\u001b[0m\u001b[0;34m\u001b[0m\u001b[0m\n\u001b[1;32m    294\u001b[0m             \u001b[0;32mraise\u001b[0m \u001b[0mLineTooLong\u001b[0m\u001b[0;34m(\u001b[0m\u001b[0;34m\"status line\"\u001b[0m\u001b[0;34m)\u001b[0m\u001b[0;34m\u001b[0m\u001b[0;34m\u001b[0m\u001b[0m\n",
            "\u001b[0;32m/usr/lib/python3.12/socket.py\u001b[0m in \u001b[0;36mreadinto\u001b[0;34m(self, b)\u001b[0m\n\u001b[1;32m    718\u001b[0m         \u001b[0;32mwhile\u001b[0m \u001b[0;32mTrue\u001b[0m\u001b[0;34m:\u001b[0m\u001b[0;34m\u001b[0m\u001b[0;34m\u001b[0m\u001b[0m\n\u001b[1;32m    719\u001b[0m             \u001b[0;32mtry\u001b[0m\u001b[0;34m:\u001b[0m\u001b[0;34m\u001b[0m\u001b[0;34m\u001b[0m\u001b[0m\n\u001b[0;32m--> 720\u001b[0;31m                 \u001b[0;32mreturn\u001b[0m \u001b[0mself\u001b[0m\u001b[0;34m.\u001b[0m\u001b[0m_sock\u001b[0m\u001b[0;34m.\u001b[0m\u001b[0mrecv_into\u001b[0m\u001b[0;34m(\u001b[0m\u001b[0mb\u001b[0m\u001b[0;34m)\u001b[0m\u001b[0;34m\u001b[0m\u001b[0;34m\u001b[0m\u001b[0m\n\u001b[0m\u001b[1;32m    721\u001b[0m             \u001b[0;32mexcept\u001b[0m \u001b[0mtimeout\u001b[0m\u001b[0;34m:\u001b[0m\u001b[0;34m\u001b[0m\u001b[0;34m\u001b[0m\u001b[0m\n\u001b[1;32m    722\u001b[0m                 \u001b[0mself\u001b[0m\u001b[0;34m.\u001b[0m\u001b[0m_timeout_occurred\u001b[0m \u001b[0;34m=\u001b[0m \u001b[0;32mTrue\u001b[0m\u001b[0;34m\u001b[0m\u001b[0;34m\u001b[0m\u001b[0m\n",
            "\u001b[0;32m/usr/lib/python3.12/ssl.py\u001b[0m in \u001b[0;36mrecv_into\u001b[0;34m(self, buffer, nbytes, flags)\u001b[0m\n\u001b[1;32m   1249\u001b[0m                   \u001b[0;34m\"non-zero flags not allowed in calls to recv_into() on %s\"\u001b[0m \u001b[0;34m%\u001b[0m\u001b[0;34m\u001b[0m\u001b[0;34m\u001b[0m\u001b[0m\n\u001b[1;32m   1250\u001b[0m                   self.__class__)\n\u001b[0;32m-> 1251\u001b[0;31m             \u001b[0;32mreturn\u001b[0m \u001b[0mself\u001b[0m\u001b[0;34m.\u001b[0m\u001b[0mread\u001b[0m\u001b[0;34m(\u001b[0m\u001b[0mnbytes\u001b[0m\u001b[0;34m,\u001b[0m \u001b[0mbuffer\u001b[0m\u001b[0;34m)\u001b[0m\u001b[0;34m\u001b[0m\u001b[0;34m\u001b[0m\u001b[0m\n\u001b[0m\u001b[1;32m   1252\u001b[0m         \u001b[0;32melse\u001b[0m\u001b[0;34m:\u001b[0m\u001b[0;34m\u001b[0m\u001b[0;34m\u001b[0m\u001b[0m\n\u001b[1;32m   1253\u001b[0m             \u001b[0;32mreturn\u001b[0m \u001b[0msuper\u001b[0m\u001b[0;34m(\u001b[0m\u001b[0;34m)\u001b[0m\u001b[0;34m.\u001b[0m\u001b[0mrecv_into\u001b[0m\u001b[0;34m(\u001b[0m\u001b[0mbuffer\u001b[0m\u001b[0;34m,\u001b[0m \u001b[0mnbytes\u001b[0m\u001b[0;34m,\u001b[0m \u001b[0mflags\u001b[0m\u001b[0;34m)\u001b[0m\u001b[0;34m\u001b[0m\u001b[0;34m\u001b[0m\u001b[0m\n",
            "\u001b[0;32m/usr/lib/python3.12/ssl.py\u001b[0m in \u001b[0;36mread\u001b[0;34m(self, len, buffer)\u001b[0m\n\u001b[1;32m   1101\u001b[0m         \u001b[0;32mtry\u001b[0m\u001b[0;34m:\u001b[0m\u001b[0;34m\u001b[0m\u001b[0;34m\u001b[0m\u001b[0m\n\u001b[1;32m   1102\u001b[0m             \u001b[0;32mif\u001b[0m \u001b[0mbuffer\u001b[0m \u001b[0;32mis\u001b[0m \u001b[0;32mnot\u001b[0m \u001b[0;32mNone\u001b[0m\u001b[0;34m:\u001b[0m\u001b[0;34m\u001b[0m\u001b[0;34m\u001b[0m\u001b[0m\n\u001b[0;32m-> 1103\u001b[0;31m                 \u001b[0;32mreturn\u001b[0m \u001b[0mself\u001b[0m\u001b[0;34m.\u001b[0m\u001b[0m_sslobj\u001b[0m\u001b[0;34m.\u001b[0m\u001b[0mread\u001b[0m\u001b[0;34m(\u001b[0m\u001b[0mlen\u001b[0m\u001b[0;34m,\u001b[0m \u001b[0mbuffer\u001b[0m\u001b[0;34m)\u001b[0m\u001b[0;34m\u001b[0m\u001b[0;34m\u001b[0m\u001b[0m\n\u001b[0m\u001b[1;32m   1104\u001b[0m             \u001b[0;32melse\u001b[0m\u001b[0;34m:\u001b[0m\u001b[0;34m\u001b[0m\u001b[0;34m\u001b[0m\u001b[0m\n\u001b[1;32m   1105\u001b[0m                 \u001b[0;32mreturn\u001b[0m \u001b[0mself\u001b[0m\u001b[0;34m.\u001b[0m\u001b[0m_sslobj\u001b[0m\u001b[0;34m.\u001b[0m\u001b[0mread\u001b[0m\u001b[0;34m(\u001b[0m\u001b[0mlen\u001b[0m\u001b[0;34m)\u001b[0m\u001b[0;34m\u001b[0m\u001b[0;34m\u001b[0m\u001b[0m\n",
            "\u001b[0;31mKeyboardInterrupt\u001b[0m: "
          ]
        }
      ]
    }
  ],
  "metadata": {
    "colab": {
      "provenance": [],
      "authorship_tag": "ABX9TyPcaaraTb+g+hYumpLXD08x",
      "include_colab_link": true
    },
    "kernelspec": {
      "display_name": "Python 3",
      "name": "python3"
    },
    "language_info": {
      "name": "python"
    }
  },
  "nbformat": 4,
  "nbformat_minor": 0
}