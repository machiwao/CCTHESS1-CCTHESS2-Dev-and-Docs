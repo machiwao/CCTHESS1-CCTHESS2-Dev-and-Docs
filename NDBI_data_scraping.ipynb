{
  "cells": [
    {
      "cell_type": "markdown",
      "metadata": {
        "id": "view-in-github",
        "colab_type": "text"
      },
      "source": [
        "<a href=\"https://colab.research.google.com/github/machiwao/CCTHESS1-CCTHESS2-Dev-and-Docs/blob/jessy/NDBI_data_scraping.ipynb\" target=\"_parent\"><img src=\"https://colab.research.google.com/assets/colab-badge.svg\" alt=\"Open In Colab\"/></a>"
      ]
    },
    {
      "cell_type": "code",
      "execution_count": 58,
      "metadata": {
        "id": "WOkJtulKzl7v",
        "colab": {
          "base_uri": "https://localhost:8080/",
          "height": 17
        },
        "outputId": "389882dd-aa50-4707-9c6d-2217195b404f"
      },
      "outputs": [
        {
          "output_type": "display_data",
          "data": {
            "text/plain": [
              "<IPython.core.display.HTML object>"
            ],
            "text/html": [
              "\n",
              "            <style>\n",
              "                .geemap-dark {\n",
              "                    --jp-widgets-color: white;\n",
              "                    --jp-widgets-label-color: white;\n",
              "                    --jp-ui-font-color1: white;\n",
              "                    --jp-layout-color2: #454545;\n",
              "                    background-color: #383838;\n",
              "                }\n",
              "\n",
              "                .geemap-dark .jupyter-button {\n",
              "                    --jp-layout-color3: #383838;\n",
              "                }\n",
              "\n",
              "                .geemap-colab {\n",
              "                    background-color: var(--colab-primary-surface-color, white);\n",
              "                }\n",
              "\n",
              "                .geemap-colab .jupyter-button {\n",
              "                    --jp-layout-color3: var(--colab-primary-surface-color, white);\n",
              "                }\n",
              "            </style>\n",
              "            "
            ]
          },
          "metadata": {}
        }
      ],
      "source": [
        "# !pip install earthengine-api geemap scipy"
      ]
    },
    {
      "cell_type": "code",
      "execution_count": 59,
      "metadata": {
        "id": "_ZJM4WLLXTql",
        "colab": {
          "base_uri": "https://localhost:8080/",
          "height": 17
        },
        "outputId": "a7066f58-d75c-44e4-8558-d93d81ca1c7f"
      },
      "outputs": [
        {
          "output_type": "display_data",
          "data": {
            "text/plain": [
              "<IPython.core.display.HTML object>"
            ],
            "text/html": [
              "\n",
              "            <style>\n",
              "                .geemap-dark {\n",
              "                    --jp-widgets-color: white;\n",
              "                    --jp-widgets-label-color: white;\n",
              "                    --jp-ui-font-color1: white;\n",
              "                    --jp-layout-color2: #454545;\n",
              "                    background-color: #383838;\n",
              "                }\n",
              "\n",
              "                .geemap-dark .jupyter-button {\n",
              "                    --jp-layout-color3: #383838;\n",
              "                }\n",
              "\n",
              "                .geemap-colab {\n",
              "                    background-color: var(--colab-primary-surface-color, white);\n",
              "                }\n",
              "\n",
              "                .geemap-colab .jupyter-button {\n",
              "                    --jp-layout-color3: var(--colab-primary-surface-color, white);\n",
              "                }\n",
              "            </style>\n",
              "            "
            ]
          },
          "metadata": {}
        }
      ],
      "source": [
        "import ee\n",
        "import geemap\n",
        "import pandas as pd\n",
        "from scipy.signal import savgol_filter\n",
        "import os"
      ]
    },
    {
      "cell_type": "code",
      "execution_count": 60,
      "metadata": {
        "colab": {
          "base_uri": "https://localhost:8080/",
          "height": 17
        },
        "id": "AMAIKjYyYJCj",
        "outputId": "f861daeb-1863-4bf6-f418-468159f2603e"
      },
      "outputs": [
        {
          "output_type": "display_data",
          "data": {
            "text/plain": [
              "<IPython.core.display.HTML object>"
            ],
            "text/html": [
              "\n",
              "            <style>\n",
              "                .geemap-dark {\n",
              "                    --jp-widgets-color: white;\n",
              "                    --jp-widgets-label-color: white;\n",
              "                    --jp-ui-font-color1: white;\n",
              "                    --jp-layout-color2: #454545;\n",
              "                    background-color: #383838;\n",
              "                }\n",
              "\n",
              "                .geemap-dark .jupyter-button {\n",
              "                    --jp-layout-color3: #383838;\n",
              "                }\n",
              "\n",
              "                .geemap-colab {\n",
              "                    background-color: var(--colab-primary-surface-color, white);\n",
              "                }\n",
              "\n",
              "                .geemap-colab .jupyter-button {\n",
              "                    --jp-layout-color3: var(--colab-primary-surface-color, white);\n",
              "                }\n",
              "            </style>\n",
              "            "
            ]
          },
          "metadata": {}
        }
      ],
      "source": [
        "cloud_project = 'heat-index-forecasting'\n",
        "\n",
        "try:\n",
        "  ee.Initialize(project=cloud_project)\n",
        "except:\n",
        "  ee.Authenticate()\n",
        "  ee.Initialize(project=cloud_project)\n",
        "\n",
        "stations = {\n",
        "    \"Sinait\": ee.Geometry.Point([120.459762, 17.89019]).buffer(25000),\n",
        "    \"Tayabas\": ee.Geometry.Point([121.596575, 14.018428]).buffer(25000),\n",
        "    \"Tanay\": ee.Geometry.Point([121.36927, 14.581167]).buffer(25000),\n",
        "    \"Tuguegarao\": ee.Geometry.Point([121.758469, 17.647678]).buffer(25000),\n",
        "    \"Virac\": ee.Geometry.Point([124.209834, 13.576558]).buffer(25000),\n",
        "}\n",
        "\n",
        "start_date = \"2014-01-01\"\n",
        "end_date   = \"2024-01-01\"\n"
      ]
    },
    {
      "cell_type": "code",
      "execution_count": 61,
      "metadata": {
        "colab": {
          "base_uri": "https://localhost:8080/",
          "height": 17
        },
        "id": "64ed0f57",
        "outputId": "2594b23c-bc85-478a-b4bc-d93dca3a7817"
      },
      "outputs": [
        {
          "output_type": "display_data",
          "data": {
            "text/plain": [
              "<IPython.core.display.HTML object>"
            ],
            "text/html": [
              "\n",
              "            <style>\n",
              "                .geemap-dark {\n",
              "                    --jp-widgets-color: white;\n",
              "                    --jp-widgets-label-color: white;\n",
              "                    --jp-ui-font-color1: white;\n",
              "                    --jp-layout-color2: #454545;\n",
              "                    background-color: #383838;\n",
              "                }\n",
              "\n",
              "                .geemap-dark .jupyter-button {\n",
              "                    --jp-layout-color3: #383838;\n",
              "                }\n",
              "\n",
              "                .geemap-colab {\n",
              "                    background-color: var(--colab-primary-surface-color, white);\n",
              "                }\n",
              "\n",
              "                .geemap-colab .jupyter-button {\n",
              "                    --jp-layout-color3: var(--colab-primary-surface-color, white);\n",
              "                }\n",
              "            </style>\n",
              "            "
            ]
          },
          "metadata": {}
        }
      ],
      "source": [
        "def get_hls_collection(region, start_date, end_date):\n",
        "    # Landsat HLS\n",
        "    hls_landsat = (\n",
        "        ee.ImageCollection(\"NASA/HLS/HLSL30/v002\")\n",
        "        .filterBounds(region)\n",
        "        .filterDate(start_date, end_date)\n",
        "        .map(lambda img: img.select([\"B5\", \"B6\"])  # B05 = NIR, B06 = SWIR1\n",
        "                         .multiply(0.0001)           # scale factor\n",
        "                         .copyProperties(img, img.propertyNames()))\n",
        "    )\n",
        "\n",
        "    # Sentinel-2 HLS\n",
        "    hls_sentinel = (\n",
        "        ee.ImageCollection(\"NASA/HLS/HLSS30/v002\")\n",
        "        .filterBounds(region)\n",
        "        .filterDate(start_date, end_date)\n",
        "        .map(lambda img: img.select([\"B8A\", \"B11\"])  # B8A = NIR, B11 = SWIR1\n",
        "                         .multiply(0.0001)\n",
        "                         .rename([\"B5\", \"B6\"])     # rename to match Landsat\n",
        "                         .copyProperties(img, img.propertyNames()))\n",
        "    )\n",
        "\n",
        "    # Merge both collections\n",
        "    merged = hls_landsat.merge(hls_sentinel)\n",
        "\n",
        "    # Compute NDBI = (SWIR - NIR) / (SWIR + NIR)\n",
        "    def add_ndbi(img):\n",
        "        ndbi = img.expression(\n",
        "            \"(SWIR - NIR) / (SWIR + NIR)\",\n",
        "            {\"SWIR\": img.select(\"B6\"), \"NIR\": img.select(\"B5\")}\n",
        "        ).rename(\"NDBI\")\n",
        "        return img.addBands(ndbi).select(\"NDBI\")\n",
        "\n",
        "    return merged.map(add_ndbi)"
      ]
    },
    {
      "cell_type": "code",
      "execution_count": 62,
      "metadata": {
        "colab": {
          "base_uri": "https://localhost:8080/",
          "height": 17
        },
        "id": "3d8e7cdc",
        "outputId": "2eecd7ea-bda1-4166-ca3f-ac6569b9322e"
      },
      "outputs": [
        {
          "output_type": "display_data",
          "data": {
            "text/plain": [
              "<IPython.core.display.HTML object>"
            ],
            "text/html": [
              "\n",
              "            <style>\n",
              "                .geemap-dark {\n",
              "                    --jp-widgets-color: white;\n",
              "                    --jp-widgets-label-color: white;\n",
              "                    --jp-ui-font-color1: white;\n",
              "                    --jp-layout-color2: #454545;\n",
              "                    background-color: #383838;\n",
              "                }\n",
              "\n",
              "                .geemap-dark .jupyter-button {\n",
              "                    --jp-layout-color3: #383838;\n",
              "                }\n",
              "\n",
              "                .geemap-colab {\n",
              "                    background-color: var(--colab-primary-surface-color, white);\n",
              "                }\n",
              "\n",
              "                .geemap-colab .jupyter-button {\n",
              "                    --jp-layout-color3: var(--colab-primary-surface-color, white);\n",
              "                }\n",
              "            </style>\n",
              "            "
            ]
          },
          "metadata": {}
        }
      ],
      "source": [
        "def process_station(station_name, geometry, start_date, end_date):\n",
        "    print(f\"Processing {station_name}...\")\n",
        "\n",
        "    hls = get_hls_collection(geometry, start_date, end_date)\n",
        "\n",
        "    ts = hls.map(lambda img: ee.Feature(\n",
        "        None, {\n",
        "            \"date\": img.date().format(\"YYYY-MM-dd\"),\n",
        "            \"NDBI\": img.reduceRegion(\n",
        "                reducer=ee.Reducer.mean(),\n",
        "                geometry=geometry,\n",
        "                scale=30,\n",
        "                bestEffort=True,\n",
        "                maxPixels=1e9\n",
        "            ).get(\"NDBI\")\n",
        "        }\n",
        "    ))\n",
        "\n",
        "    ts = ee.FeatureCollection(ts)\n",
        "    df = geemap.ee_to_df(ts)\n",
        "\n",
        "    if df.empty:\n",
        "        print(f\"No data for {station_name}\")\n",
        "        return df\n",
        "\n",
        "    # Process time series\n",
        "    df[\"date\"] = pd.to_datetime(df[\"date\"])\n",
        "    df = df.sort_values(\"date\").groupby(\"date\").mean().reset_index()\n",
        "\n",
        "    # Reindex to daily\n",
        "    full_range = pd.date_range(start=start_date, end=end_date, freq=\"D\")\n",
        "    g = df.set_index(\"date\").reindex(full_range)\n",
        "    g.index.name = \"date\"\n",
        "    g = g.reset_index()\n",
        "\n",
        "    # Interpolate missing values\n",
        "    g[\"NDBI\"] = g[\"NDBI\"].interpolate(\"linear\").ffill().bfill()\n",
        "\n",
        "    # Optional smoothing\n",
        "    try:\n",
        "        g[\"NDBI_smooth\"] = savgol_filter(g[\"NDBI\"], window_length=15, polyorder=2)\n",
        "    except:\n",
        "        g[\"NDBI_smooth\"] = g[\"NDBI\"]\n",
        "\n",
        "    # Save only date + NDBI (+ smooth if wanted)\n",
        "    out_file = f\"{station_name}_HLS_NDBI.csv\"\n",
        "    g[[\"date\", \"NDBI\", \"NDBI_smooth\"]].to_csv(out_file, index=False)\n",
        "\n",
        "    print(f\"Saved {out_file} ({g.shape[0]} rows)\")\n",
        "    return g\n"
      ]
    },
    {
      "cell_type": "code",
      "source": [
        "all_dfs = {}\n",
        "for station, geom in stations.items():\n",
        "    all_dfs[station] = process_station(station, geom, start_date, end_date)"
      ],
      "metadata": {
        "colab": {
          "base_uri": "https://localhost:8080/",
          "height": 34
        },
        "id": "4WNvrSlIOWfA",
        "outputId": "1f666fb8-9a65-4d1e-f4bf-8d15327d25d4"
      },
      "execution_count": null,
      "outputs": [
        {
          "output_type": "display_data",
          "data": {
            "text/plain": [
              "<IPython.core.display.HTML object>"
            ],
            "text/html": [
              "\n",
              "            <style>\n",
              "                .geemap-dark {\n",
              "                    --jp-widgets-color: white;\n",
              "                    --jp-widgets-label-color: white;\n",
              "                    --jp-ui-font-color1: white;\n",
              "                    --jp-layout-color2: #454545;\n",
              "                    background-color: #383838;\n",
              "                }\n",
              "\n",
              "                .geemap-dark .jupyter-button {\n",
              "                    --jp-layout-color3: #383838;\n",
              "                }\n",
              "\n",
              "                .geemap-colab {\n",
              "                    background-color: var(--colab-primary-surface-color, white);\n",
              "                }\n",
              "\n",
              "                .geemap-colab .jupyter-button {\n",
              "                    --jp-layout-color3: var(--colab-primary-surface-color, white);\n",
              "                }\n",
              "            </style>\n",
              "            "
            ]
          },
          "metadata": {}
        },
        {
          "output_type": "stream",
          "name": "stdout",
          "text": [
            "Processing Sinait...\n"
          ]
        }
      ]
    },
    {
      "cell_type": "code",
      "source": [
        "import pandas as pd\n",
        "import matplotlib.pyplot as plt\n",
        "\n",
        "def plot_ndbi(csv_file, station_name):\n",
        "    # Load CSV (expects columns: date, NDBI, NDBI_smooth)\n",
        "    df = pd.read_csv(csv_file, parse_dates=[\"date\"])\n",
        "\n",
        "    # Plot\n",
        "    plt.figure(figsize=(12, 6))\n",
        "    plt.plot(df[\"date\"], df[\"NDBI\"], label=\"NDBI (raw)\", alpha=0.6)\n",
        "\n",
        "    if \"NDBI_smooth\" in df.columns:\n",
        "        plt.plot(df[\"date\"], df[\"NDBI_smooth\"], label=\"NDBI (smoothed)\", linewidth=2)\n",
        "\n",
        "    plt.xlabel(\"Date\")\n",
        "    plt.ylabel(\"NDBI\")\n",
        "    plt.title(f\"NDBI vs. Smoothed NDBI - {station_name}\")\n",
        "    plt.legend()\n",
        "    plt.grid(True)\n",
        "    plt.tight_layout()\n",
        "    plt.show()\n",
        "\n",
        "for station in station.items():\n",
        "    csv_file = f\"{station}_HLS_NDBI.csv\"\n",
        "    plot_ndbi(csv_file, station)\n"
      ],
      "metadata": {
        "id": "hLaKIJo8TcsV"
      },
      "execution_count": null,
      "outputs": []
    },
    {
      "cell_type": "code",
      "source": [],
      "metadata": {
        "id": "7zk3NTKiTcqZ"
      },
      "execution_count": null,
      "outputs": []
    }
  ],
  "metadata": {
    "colab": {
      "provenance": [],
      "authorship_tag": "ABX9TyNaBFYV0FNJJfB9dY3imoKs",
      "include_colab_link": true
    },
    "kernelspec": {
      "display_name": "Python 3",
      "name": "python3"
    },
    "language_info": {
      "name": "python"
    }
  },
  "nbformat": 4,
  "nbformat_minor": 0
}