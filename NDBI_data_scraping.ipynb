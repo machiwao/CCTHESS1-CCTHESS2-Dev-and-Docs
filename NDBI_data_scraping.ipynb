{
  "cells": [
    {
      "cell_type": "markdown",
      "metadata": {
        "id": "view-in-github",
        "colab_type": "text"
      },
      "source": [
        "<a href=\"https://colab.research.google.com/github/machiwao/CCTHESS1-CCTHESS2-Dev-and-Docs/blob/jessy/NDBI_data_scraping.ipynb\" target=\"_parent\"><img src=\"https://colab.research.google.com/assets/colab-badge.svg\" alt=\"Open In Colab\"/></a>"
      ]
    },
    {
      "cell_type": "code",
      "execution_count": 30,
      "metadata": {
        "colab": {
          "base_uri": "https://localhost:8080/",
          "height": 17
        },
        "id": "WOkJtulKzl7v",
        "outputId": "0f6f68d8-0abf-4bbd-bd26-fdba734872c5"
      },
      "outputs": [
        {
          "output_type": "display_data",
          "data": {
            "text/plain": [
              "<IPython.core.display.HTML object>"
            ],
            "text/html": [
              "\n",
              "            <style>\n",
              "                .geemap-dark {\n",
              "                    --jp-widgets-color: white;\n",
              "                    --jp-widgets-label-color: white;\n",
              "                    --jp-ui-font-color1: white;\n",
              "                    --jp-layout-color2: #454545;\n",
              "                    background-color: #383838;\n",
              "                }\n",
              "\n",
              "                .geemap-dark .jupyter-button {\n",
              "                    --jp-layout-color3: #383838;\n",
              "                }\n",
              "\n",
              "                .geemap-colab {\n",
              "                    background-color: var(--colab-primary-surface-color, white);\n",
              "                }\n",
              "\n",
              "                .geemap-colab .jupyter-button {\n",
              "                    --jp-layout-color3: var(--colab-primary-surface-color, white);\n",
              "                }\n",
              "            </style>\n",
              "            "
            ]
          },
          "metadata": {}
        }
      ],
      "source": [
        "# !pip install earthengine-api geemap scipy"
      ]
    },
    {
      "cell_type": "code",
      "execution_count": 31,
      "metadata": {
        "colab": {
          "base_uri": "https://localhost:8080/",
          "height": 17
        },
        "id": "_ZJM4WLLXTql",
        "outputId": "98fb6a53-cd9c-4b27-8101-8b0c3cb6501d"
      },
      "outputs": [
        {
          "output_type": "display_data",
          "data": {
            "text/plain": [
              "<IPython.core.display.HTML object>"
            ],
            "text/html": [
              "\n",
              "            <style>\n",
              "                .geemap-dark {\n",
              "                    --jp-widgets-color: white;\n",
              "                    --jp-widgets-label-color: white;\n",
              "                    --jp-ui-font-color1: white;\n",
              "                    --jp-layout-color2: #454545;\n",
              "                    background-color: #383838;\n",
              "                }\n",
              "\n",
              "                .geemap-dark .jupyter-button {\n",
              "                    --jp-layout-color3: #383838;\n",
              "                }\n",
              "\n",
              "                .geemap-colab {\n",
              "                    background-color: var(--colab-primary-surface-color, white);\n",
              "                }\n",
              "\n",
              "                .geemap-colab .jupyter-button {\n",
              "                    --jp-layout-color3: var(--colab-primary-surface-color, white);\n",
              "                }\n",
              "            </style>\n",
              "            "
            ]
          },
          "metadata": {}
        }
      ],
      "source": [
        "import ee\n",
        "import geemap\n",
        "import pandas as pd\n",
        "from scipy.signal import savgol_filter\n",
        "import os"
      ]
    },
    {
      "cell_type": "code",
      "execution_count": 32,
      "metadata": {
        "colab": {
          "base_uri": "https://localhost:8080/",
          "height": 17
        },
        "id": "AMAIKjYyYJCj",
        "outputId": "3e8b2cd1-49df-46c1-f52d-d7b69c0e1f0c"
      },
      "outputs": [
        {
          "output_type": "display_data",
          "data": {
            "text/plain": [
              "<IPython.core.display.HTML object>"
            ],
            "text/html": [
              "\n",
              "            <style>\n",
              "                .geemap-dark {\n",
              "                    --jp-widgets-color: white;\n",
              "                    --jp-widgets-label-color: white;\n",
              "                    --jp-ui-font-color1: white;\n",
              "                    --jp-layout-color2: #454545;\n",
              "                    background-color: #383838;\n",
              "                }\n",
              "\n",
              "                .geemap-dark .jupyter-button {\n",
              "                    --jp-layout-color3: #383838;\n",
              "                }\n",
              "\n",
              "                .geemap-colab {\n",
              "                    background-color: var(--colab-primary-surface-color, white);\n",
              "                }\n",
              "\n",
              "                .geemap-colab .jupyter-button {\n",
              "                    --jp-layout-color3: var(--colab-primary-surface-color, white);\n",
              "                }\n",
              "            </style>\n",
              "            "
            ]
          },
          "metadata": {}
        }
      ],
      "source": [
        "cloud_project = 'heat-index-forecasting'\n",
        "\n",
        "try:\n",
        "  ee.Initialize(project=cloud_project)\n",
        "except:\n",
        "  ee.Authenticate()\n",
        "  ee.Initialize(project=cloud_project)\n",
        "\n",
        "sinait_point = ee.Geometry.Point([120.459762, 17.89019]).buffer(25000)\n",
        "tayabas_point = ee.Geometry.Point([121.596575, 14.018428]).buffer(25000)\n",
        "tanay_point = ee.Geometry.Point([121.36927, 14.581167]).buffer(25000)\n",
        "tuguegarao_point = ee.Geometry.Point([121.758469, 17.647678]).buffer(25000)\n",
        "virac_point = ee.Geometry.Point([124.209834, 13.576558]).buffer(25000)\n",
        "\n",
        "stations = {\n",
        "    \"Sinait\": sinait_point,\n",
        "    \"Tanay\": tanay_point,\n",
        "    \"Tayabas\": tayabas_point,\n",
        "    \"Tuguegarao\": tuguegarao_point,\n",
        "    \"Virac Synop\": virac_point,\n",
        "}"
      ]
    },
    {
      "cell_type": "code",
      "execution_count": 33,
      "metadata": {
        "colab": {
          "base_uri": "https://localhost:8080/",
          "height": 17
        },
        "id": "QrkDJ7d3gxOa",
        "outputId": "54e814af-58e6-486e-9514-10c91eccdd58"
      },
      "outputs": [
        {
          "output_type": "display_data",
          "data": {
            "text/plain": [
              "<IPython.core.display.HTML object>"
            ],
            "text/html": [
              "\n",
              "            <style>\n",
              "                .geemap-dark {\n",
              "                    --jp-widgets-color: white;\n",
              "                    --jp-widgets-label-color: white;\n",
              "                    --jp-ui-font-color1: white;\n",
              "                    --jp-layout-color2: #454545;\n",
              "                    background-color: #383838;\n",
              "                }\n",
              "\n",
              "                .geemap-dark .jupyter-button {\n",
              "                    --jp-layout-color3: #383838;\n",
              "                }\n",
              "\n",
              "                .geemap-colab {\n",
              "                    background-color: var(--colab-primary-surface-color, white);\n",
              "                }\n",
              "\n",
              "                .geemap-colab .jupyter-button {\n",
              "                    --jp-layout-color3: var(--colab-primary-surface-color, white);\n",
              "                }\n",
              "            </style>\n",
              "            "
            ]
          },
          "metadata": {}
        }
      ],
      "source": [
        "def addNDBI_L8(img):\n",
        "    nd = img.normalizedDifference(['SR_B6','SR_B5']).rename('NDBI')\n",
        "    return img.addBands(nd).select('NDBI').copyProperties(img, ['system:time_start'])\n",
        "\n",
        "def addNDBI_S2(img):\n",
        "    nd = img.normalizedDifference(['B11','B8']).rename('NDBI')\n",
        "    return img.addBands(nd).select('NDBI').copyProperties(img, ['system:time_start'])"
      ]
    },
    {
      "cell_type": "code",
      "execution_count": 34,
      "metadata": {
        "colab": {
          "base_uri": "https://localhost:8080/",
          "height": 17
        },
        "id": "pm8mHKbQYMlJ",
        "outputId": "069af42b-b227-4532-fd56-cb0e1988e353"
      },
      "outputs": [
        {
          "output_type": "display_data",
          "data": {
            "text/plain": [
              "<IPython.core.display.HTML object>"
            ],
            "text/html": [
              "\n",
              "            <style>\n",
              "                .geemap-dark {\n",
              "                    --jp-widgets-color: white;\n",
              "                    --jp-widgets-label-color: white;\n",
              "                    --jp-ui-font-color1: white;\n",
              "                    --jp-layout-color2: #454545;\n",
              "                    background-color: #383838;\n",
              "                }\n",
              "\n",
              "                .geemap-dark .jupyter-button {\n",
              "                    --jp-layout-color3: #383838;\n",
              "                }\n",
              "\n",
              "                .geemap-colab {\n",
              "                    background-color: var(--colab-primary-surface-color, white);\n",
              "                }\n",
              "\n",
              "                .geemap-colab .jupyter-button {\n",
              "                    --jp-layout-color3: var(--colab-primary-surface-color, white);\n",
              "                }\n",
              "            </style>\n",
              "            "
            ]
          },
          "metadata": {}
        }
      ],
      "source": [
        "start_date = '2014-01-01'\n",
        "end_date = '2024-01-01'\n",
        "\n",
        "l8 = (ee.ImageCollection('LANDSAT/LC08/C02/T1_L2')\n",
        "      .filterDate(start_date, '2017-03-28')\n",
        "      .map(addNDBI_L8))\n",
        "\n",
        "s2 = (ee.ImageCollection('COPERNICUS/S2_SR_HARMONIZED')\n",
        "      .filterDate('2017-03-28', end_date)   # Sentinel-2 availability\n",
        "      .map(addNDBI_S2))\n",
        "\n",
        "combined = l8.merge(s2).sort('system:time_start')"
      ]
    },
    {
      "cell_type": "code",
      "source": [
        "output_dir = \"/content/NDBI_raw\"\n",
        "os.makedirs(output_dir, exist_ok=True)\n",
        "\n",
        "all_raw = {}\n",
        "\n",
        "for station_name, geom in stations.items():\n",
        "    print(f\"\\n--- Extracting raw NDBI for {station_name} ---\")\n",
        "\n",
        "    # Extract features\n",
        "    ts = combined.map(lambda img: ee.Feature(\n",
        "        None, {\n",
        "            'date': img.date().format('YYYY-MM-dd'),\n",
        "            'NDBI': img.reduceRegion(\n",
        "                reducer=ee.Reducer.mean(),\n",
        "                geometry=geom,\n",
        "                scale=100,\n",
        "                bestEffort=True\n",
        "            ).get('NDBI'),\n",
        "            'station': station_name\n",
        "        }\n",
        "    ))\n",
        "\n",
        "    ts_fc = ee.FeatureCollection(ts)\n",
        "\n",
        "    # Convert to DataFrame\n",
        "    df = geemap.ee_to_df(ts_fc)\n",
        "    if df.empty:\n",
        "        print(f\"No data extracted for {station_name}\")\n",
        "        continue\n",
        "\n",
        "    df['date'] = pd.to_datetime(df['date'], errors='coerce')\n",
        "    df = df.dropna(subset=['date']).sort_values('date').reset_index(drop=True)\n",
        "\n",
        "    # Save raw CSV\n",
        "    raw_file = os.path.join(output_dir, f\"{station_name}_NDBI_Raw.csv\")\n",
        "    df.to_csv(raw_file, index=False)\n",
        "    print(f\"Saved {raw_file} with {len(df)} records\")\n",
        "\n",
        "    all_raw[station_name] = df\n",
        "\n",
        "print(\"\\nFinished exporting raw NDBI CSVs for all stations!\")"
      ],
      "metadata": {
        "colab": {
          "base_uri": "https://localhost:8080/",
          "height": 52
        },
        "id": "Ofq7P_F_sj3E",
        "outputId": "b92ff6d1-0b8e-41ae-8fb3-6956c1a66182"
      },
      "execution_count": null,
      "outputs": [
        {
          "output_type": "display_data",
          "data": {
            "text/plain": [
              "<IPython.core.display.HTML object>"
            ],
            "text/html": [
              "\n",
              "            <style>\n",
              "                .geemap-dark {\n",
              "                    --jp-widgets-color: white;\n",
              "                    --jp-widgets-label-color: white;\n",
              "                    --jp-ui-font-color1: white;\n",
              "                    --jp-layout-color2: #454545;\n",
              "                    background-color: #383838;\n",
              "                }\n",
              "\n",
              "                .geemap-dark .jupyter-button {\n",
              "                    --jp-layout-color3: #383838;\n",
              "                }\n",
              "\n",
              "                .geemap-colab {\n",
              "                    background-color: var(--colab-primary-surface-color, white);\n",
              "                }\n",
              "\n",
              "                .geemap-colab .jupyter-button {\n",
              "                    --jp-layout-color3: var(--colab-primary-surface-color, white);\n",
              "                }\n",
              "            </style>\n",
              "            "
            ]
          },
          "metadata": {}
        },
        {
          "output_type": "stream",
          "name": "stdout",
          "text": [
            "\n",
            "--- Extracting raw NDBI for Sinait ---\n"
          ]
        }
      ]
    },
    {
      "cell_type": "code",
      "source": [
        "# 1. Mount Google Drive\n",
        "from google.colab import drive\n",
        "drive.mount('/content/drive')\n",
        "\n",
        "import pandas as pd\n",
        "import glob\n",
        "import os\n",
        "from scipy.signal import savgol_filter\n",
        "\n",
        "# 2. Set your Google Drive paths\n",
        "# Change these paths to where your raw CSVs are located\n",
        "input_folder  = \"/content/drive/MyDrive/NDBI_raw\"\n",
        "output_folder = \"/content/drive/MyDrive/NDBI_processed\"\n",
        "\n",
        "# Make sure output folder exists\n",
        "os.makedirs(output_folder, exist_ok=True)\n",
        "\n",
        "# 3. Define full daily range\n",
        "start_date = \"2014-01-01\"\n",
        "end_date   = \"2024-01-01\"\n",
        "full_range = pd.date_range(start_date, end_date, freq='D')\n",
        "\n",
        "# 4. Process each CSV\n",
        "all_dataframes = {}\n",
        "\n",
        "for file in glob.glob(os.path.join(input_folder, \"*.csv\")):\n",
        "    station_name = os.path.basename(file).split(\"_\")[0]\n",
        "    print(f\"\\n--- Processing {station_name} ---\")\n",
        "\n",
        "    # Load exported CSV\n",
        "    df = pd.read_csv(file)\n",
        "\n",
        "    # Ensure 'date' column exists and is datetime\n",
        "    df['date'] = pd.to_datetime(df['date'], errors='coerce')\n",
        "    df = df.dropna(subset=['date'])\n",
        "    df = df.sort_values('date').reset_index(drop=True)\n",
        "\n",
        "    # Reindex to full daily range\n",
        "    g = df.set_index('date').reindex(full_range)\n",
        "    g['station'] = station_name\n",
        "    g['NDBI'] = g['NDBI'].astype(float)\n",
        "\n",
        "    # Fill missing values\n",
        "    g['NDBI'] = g['NDBI'].interpolate(method='linear').ffill().bfill()\n",
        "\n",
        "    # Apply Savitzky–Golay smoothing\n",
        "    try:\n",
        "        g['NDBI_smooth'] = savgol_filter(g['NDBI'], window_length=31, polyorder=2)\n",
        "    except:\n",
        "        g['NDBI_smooth'] = g['NDBI']  # fallback if not enough data\n",
        "\n",
        "    g.index.name = 'date'\n",
        "    g = g.reset_index()\n",
        "\n",
        "    # Save processed CSV into Drive\n",
        "    output_file = os.path.join(output_folder, f\"{station_name}_NDBI_Daily.csv\")\n",
        "    g.to_csv(output_file, index=False)\n",
        "    print(f\"✅ Saved {output_file} with {len(g)} daily records\")\n",
        "\n",
        "    all_dataframes[station_name] = g\n",
        "\n",
        "print(\"\\nAll stations processed and saved to Google Drive\")"
      ],
      "metadata": {
        "id": "c3e9rfGnnKwj"
      },
      "execution_count": null,
      "outputs": []
    }
  ],
  "metadata": {
    "colab": {
      "provenance": [],
      "authorship_tag": "ABX9TyNKz1kpK0FD89dWwt/+utJk",
      "include_colab_link": true
    },
    "kernelspec": {
      "display_name": "Python 3",
      "name": "python3"
    },
    "language_info": {
      "name": "python"
    }
  },
  "nbformat": 4,
  "nbformat_minor": 0
}