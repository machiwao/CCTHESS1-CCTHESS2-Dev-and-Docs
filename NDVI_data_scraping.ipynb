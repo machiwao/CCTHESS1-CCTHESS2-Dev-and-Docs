{
  "nbformat": 4,
  "nbformat_minor": 0,
  "metadata": {
    "colab": {
      "provenance": [],
      "authorship_tag": "ABX9TyPWpYImD+E9Ic4r2FP0O34t",
      "include_colab_link": true
    },
    "kernelspec": {
      "name": "python3",
      "display_name": "Python 3"
    },
    "language_info": {
      "name": "python"
    }
  },
  "cells": [
    {
      "cell_type": "markdown",
      "metadata": {
        "id": "view-in-github",
        "colab_type": "text"
      },
      "source": [
        "<a href=\"https://colab.research.google.com/github/machiwao/CCTHESS1-CCTHESS2-Dev-and-Docs/blob/jessy/NDVI_data_scraping.ipynb\" target=\"_parent\"><img src=\"https://colab.research.google.com/assets/colab-badge.svg\" alt=\"Open In Colab\"/></a>"
      ]
    },
    {
      "cell_type": "code",
      "execution_count": 34,
      "metadata": {
        "colab": {
          "base_uri": "https://localhost:8080/",
          "height": 17
        },
        "id": "9vnKAuSaVSpr",
        "outputId": "9558d89d-e5bb-4b9c-92fe-270a875d393f"
      },
      "outputs": [
        {
          "output_type": "display_data",
          "data": {
            "text/plain": [
              "<IPython.core.display.HTML object>"
            ],
            "text/html": [
              "\n",
              "            <style>\n",
              "                .geemap-dark {\n",
              "                    --jp-widgets-color: white;\n",
              "                    --jp-widgets-label-color: white;\n",
              "                    --jp-ui-font-color1: white;\n",
              "                    --jp-layout-color2: #454545;\n",
              "                    background-color: #383838;\n",
              "                }\n",
              "\n",
              "                .geemap-dark .jupyter-button {\n",
              "                    --jp-layout-color3: #383838;\n",
              "                }\n",
              "\n",
              "                .geemap-colab {\n",
              "                    background-color: var(--colab-primary-surface-color, white);\n",
              "                }\n",
              "\n",
              "                .geemap-colab .jupyter-button {\n",
              "                    --jp-layout-color3: var(--colab-primary-surface-color, white);\n",
              "                }\n",
              "            </style>\n",
              "            "
            ]
          },
          "metadata": {}
        }
      ],
      "source": [
        "import ee\n",
        "import geemap\n",
        "import pandas as pd"
      ]
    },
    {
      "cell_type": "code",
      "source": [
        "cloud_project = 'heat-index-forecasting'\n",
        "\n",
        "try:\n",
        "  ee.Initialize(project=cloud_project)\n",
        "except:\n",
        "  ee.Authenticate()\n",
        "  ee.Initialize(project=cloud_project)\n",
        "\n",
        "sinait_point = ee.Geometry.Point([120.459762, 17.89019]).buffer(25000)\n",
        "tayabas_point = ee.Geometry.Point([121.596575, 14.018428]).buffer(25000)\n",
        "tanay_point = ee.Geometry.Point([121.36927, 14.581167]).buffer(25000)\n",
        "tuguegarao_point = ee.Geometry.Point([121.758469, 17.647678]).buffer(25000)\n",
        "virac_point = ee.Geometry.Point([124.209834, 13.576558]).buffer(25000)\n",
        "\n",
        "stations = {\n",
        "    \"Sinait\": sinait_point,\n",
        "    \"Tanay\": tanay_point,\n",
        "    \"Tayabas\": tayabas_point,\n",
        "    \"Tuguegarao\": tuguegarao_point,\n",
        "    \"Virac Synop\": virac_point,\n",
        "}"
      ],
      "metadata": {
        "colab": {
          "base_uri": "https://localhost:8080/",
          "height": 17
        },
        "id": "l5hSCJqXXWxb",
        "outputId": "13458adb-9bef-4511-cbc0-0d75e61bdff0"
      },
      "execution_count": 35,
      "outputs": [
        {
          "output_type": "display_data",
          "data": {
            "text/plain": [
              "<IPython.core.display.HTML object>"
            ],
            "text/html": [
              "\n",
              "            <style>\n",
              "                .geemap-dark {\n",
              "                    --jp-widgets-color: white;\n",
              "                    --jp-widgets-label-color: white;\n",
              "                    --jp-ui-font-color1: white;\n",
              "                    --jp-layout-color2: #454545;\n",
              "                    background-color: #383838;\n",
              "                }\n",
              "\n",
              "                .geemap-dark .jupyter-button {\n",
              "                    --jp-layout-color3: #383838;\n",
              "                }\n",
              "\n",
              "                .geemap-colab {\n",
              "                    background-color: var(--colab-primary-surface-color, white);\n",
              "                }\n",
              "\n",
              "                .geemap-colab .jupyter-button {\n",
              "                    --jp-layout-color3: var(--colab-primary-surface-color, white);\n",
              "                }\n",
              "            </style>\n",
              "            "
            ]
          },
          "metadata": {}
        }
      ]
    },
    {
      "cell_type": "code",
      "source": [
        "# Define date range\n",
        "start_date = '2014-01-01'\n",
        "end_date = '2024-01-01'\n",
        "\n",
        "# Load the NOAA CDR VIIRS NDVI dataset\n",
        "viirs_ndvi = ee.ImageCollection(\"NOAA/CDR/VIIRS/NDVI/V1\").filterDate(start_date, end_date)\n",
        "\n",
        "sample_image = viirs_ndvi.first()\n",
        "band_names = sample_image.bandNames().getInfo()\n",
        "print(f\"Available bands: {band_names}\")"
      ],
      "metadata": {
        "colab": {
          "base_uri": "https://localhost:8080/",
          "height": 34
        },
        "id": "6PTTPed5XEE_",
        "outputId": "05deedc0-6a3e-4240-c8d2-6f7aa533628b"
      },
      "execution_count": 36,
      "outputs": [
        {
          "output_type": "display_data",
          "data": {
            "text/plain": [
              "<IPython.core.display.HTML object>"
            ],
            "text/html": [
              "\n",
              "            <style>\n",
              "                .geemap-dark {\n",
              "                    --jp-widgets-color: white;\n",
              "                    --jp-widgets-label-color: white;\n",
              "                    --jp-ui-font-color1: white;\n",
              "                    --jp-layout-color2: #454545;\n",
              "                    background-color: #383838;\n",
              "                }\n",
              "\n",
              "                .geemap-dark .jupyter-button {\n",
              "                    --jp-layout-color3: #383838;\n",
              "                }\n",
              "\n",
              "                .geemap-colab {\n",
              "                    background-color: var(--colab-primary-surface-color, white);\n",
              "                }\n",
              "\n",
              "                .geemap-colab .jupyter-button {\n",
              "                    --jp-layout-color3: var(--colab-primary-surface-color, white);\n",
              "                }\n",
              "            </style>\n",
              "            "
            ]
          },
          "metadata": {}
        },
        {
          "output_type": "stream",
          "name": "stdout",
          "text": [
            "Available bands: ['NDVI', 'TIMEOFDAY', 'QA']\n"
          ]
        }
      ]
    },
    {
      "cell_type": "code",
      "source": [
        "def process_station_data(collection, geometry, station_name):\n",
        "    \"\"\"\n",
        "    Process the collection to extract all bands with proper scaling\n",
        "    \"\"\"\n",
        "    print(f\"Processing data for {station_name}...\")\n",
        "\n",
        "    def extract_scaled_values(img):\n",
        "        # Get the date without time\n",
        "        date = ee.Date(img.get('system:time_start')).format('YYYY-MM-dd')\n",
        "\n",
        "        # Apply scale factors according to dataset documentation\n",
        "        ndvi_scaled = img.select('NDVI').multiply(0.0001)  # Scale factor: 0.0001\n",
        "        timeofday_scaled = img.select('TIMEOFDAY')\n",
        "        qa = img.select('QA')  # No scaling needed for QA\n",
        "\n",
        "        # Mask invalid NDVI values (keep values between -1 and 1)\n",
        "        valid_ndvi = ndvi_scaled.mask(ndvi_scaled.gte(-1).And(ndvi_scaled.lte(1)))\n",
        "\n",
        "        # Create a new image with scaled bands\n",
        "        scaled_img = ee.Image.cat([\n",
        "            valid_ndvi.rename('NDVI_scaled'),\n",
        "            timeofday_scaled.rename('TIMEOFDAY'),\n",
        "            qa.rename('QA')\n",
        "        ])\n",
        "\n",
        "        # Extract values for all bands at the geometry\n",
        "        stats = scaled_img.reduceRegion(\n",
        "            reducer=ee.Reducer.mean(),\n",
        "            geometry=geometry,\n",
        "            scale=5566,  # Native resolution of VIIRS NDVI\n",
        "            bestEffort=True,\n",
        "            maxPixels=1e9\n",
        "        )\n",
        "\n",
        "        # Add date info\n",
        "        return ee.Feature(None, stats).set('date', date)\n",
        "\n",
        "    # Map the extraction function over the collection\n",
        "    features = collection.map(extract_scaled_values)\n",
        "\n",
        "    return ee.FeatureCollection(features)"
      ],
      "metadata": {
        "colab": {
          "base_uri": "https://localhost:8080/",
          "height": 17
        },
        "id": "Q6qbJCwfWr8r",
        "outputId": "b8159cd7-7e86-4465-efde-cdcf7b527991"
      },
      "execution_count": 37,
      "outputs": [
        {
          "output_type": "display_data",
          "data": {
            "text/plain": [
              "<IPython.core.display.HTML object>"
            ],
            "text/html": [
              "\n",
              "            <style>\n",
              "                .geemap-dark {\n",
              "                    --jp-widgets-color: white;\n",
              "                    --jp-widgets-label-color: white;\n",
              "                    --jp-ui-font-color1: white;\n",
              "                    --jp-layout-color2: #454545;\n",
              "                    background-color: #383838;\n",
              "                }\n",
              "\n",
              "                .geemap-dark .jupyter-button {\n",
              "                    --jp-layout-color3: #383838;\n",
              "                }\n",
              "\n",
              "                .geemap-colab {\n",
              "                    background-color: var(--colab-primary-surface-color, white);\n",
              "                }\n",
              "\n",
              "                .geemap-colab .jupyter-button {\n",
              "                    --jp-layout-color3: var(--colab-primary-surface-color, white);\n",
              "                }\n",
              "            </style>\n",
              "            "
            ]
          },
          "metadata": {}
        }
      ]
    },
    {
      "cell_type": "code",
      "source": [
        "all_dataframes = {}\n",
        "\n",
        "for station_name, geometry in stations.items():\n",
        "    print(f\"\\n--- Processing {station_name} ---\")\n",
        "\n",
        "    try:\n",
        "        # Extract features for this station\n",
        "        station_features = process_station_data(viirs_ndvi, geometry, station_name)\n",
        "\n",
        "        # Convert to DataFrame\n",
        "        print(f\"Converting {station_name} data to DataFrame...\")\n",
        "        df = geemap.ee_to_df(station_features)\n",
        "\n",
        "        if not df.empty:\n",
        "            # Clean up the DataFrame\n",
        "            df['date'] = pd.to_datetime(df['date'])\n",
        "            df = df.sort_values('date').reset_index(drop=True)\n",
        "\n",
        "            # Remove rows where all NDVI-related columns are null\n",
        "            ndvi_columns = [col for col in df.columns if 'NDVI' in col.upper()]\n",
        "            df = df.dropna(subset=ndvi_columns, how='all')\n",
        "\n",
        "            # Store in dictionary\n",
        "            all_dataframes[station_name] = df\n",
        "\n",
        "            # Display info about the dataset\n",
        "            print(f\"{station_name} dataset shape: {df.shape}\")\n",
        "            print(f\"Date range: {df['date'].min()} to {df['date'].max()}\")\n",
        "            print(f\"Columns: {list(df.columns)}\")\n",
        "\n",
        "            # Save to CSV\n",
        "            csv_filename = f'{station_name}_NDVI_Data.csv'\n",
        "            df.to_csv(csv_filename, index=False)\n",
        "            print(f\"Saved {csv_filename}\")\n",
        "\n",
        "            # Display first few rows\n",
        "            print(f\"\\nFirst 5 rows for {station_name}:\")\n",
        "            print(df.head())\n",
        "\n",
        "        else:\n",
        "            print(f\"Warning: No data extracted for {station_name}\")\n",
        "\n",
        "    except Exception as e:\n",
        "        print(f\"Error processing {station_name}: {str(e)}\")\n",
        "        continue"
      ],
      "metadata": {
        "colab": {
          "base_uri": "https://localhost:8080/",
          "height": 1000
        },
        "id": "lVRcSsaDW3hs",
        "outputId": "df12665a-5909-4af6-82f4-760c177c8a82"
      },
      "execution_count": 38,
      "outputs": [
        {
          "output_type": "display_data",
          "data": {
            "text/plain": [
              "<IPython.core.display.HTML object>"
            ],
            "text/html": [
              "\n",
              "            <style>\n",
              "                .geemap-dark {\n",
              "                    --jp-widgets-color: white;\n",
              "                    --jp-widgets-label-color: white;\n",
              "                    --jp-ui-font-color1: white;\n",
              "                    --jp-layout-color2: #454545;\n",
              "                    background-color: #383838;\n",
              "                }\n",
              "\n",
              "                .geemap-dark .jupyter-button {\n",
              "                    --jp-layout-color3: #383838;\n",
              "                }\n",
              "\n",
              "                .geemap-colab {\n",
              "                    background-color: var(--colab-primary-surface-color, white);\n",
              "                }\n",
              "\n",
              "                .geemap-colab .jupyter-button {\n",
              "                    --jp-layout-color3: var(--colab-primary-surface-color, white);\n",
              "                }\n",
              "            </style>\n",
              "            "
            ]
          },
          "metadata": {}
        },
        {
          "output_type": "stream",
          "name": "stdout",
          "text": [
            "\n",
            "--- Processing Sinait ---\n",
            "Processing data for Sinait...\n",
            "Converting Sinait data to DataFrame...\n",
            "Sinait dataset shape: (3627, 4)\n",
            "Date range: 2014-01-01 00:00:00 to 2023-12-31 00:00:00\n",
            "Columns: ['NDVI_scaled', 'QA', 'TIMEOFDAY', 'date']\n",
            "Saved Sinait_NDVI_Data.csv\n",
            "\n",
            "First 5 rows for Sinait:\n",
            "   NDVI_scaled          QA   TIMEOFDAY       date\n",
            "0     0.713275   77.360005  454.000000 2014-01-01\n",
            "1     0.709804   84.309817  436.000000 2014-01-02\n",
            "2     0.660702  136.711794  437.094836 2014-01-03\n",
            "3     0.335103  481.405549  536.000000 2014-01-04\n",
            "4     0.711326   83.879264  518.000000 2014-01-05\n",
            "\n",
            "--- Processing Tanay ---\n",
            "Processing data for Tanay...\n",
            "Converting Tanay data to DataFrame...\n",
            "Tanay dataset shape: (3628, 4)\n",
            "Date range: 2014-01-01 00:00:00 to 2023-12-31 00:00:00\n",
            "Columns: ['NDVI_scaled', 'QA', 'TIMEOFDAY', 'date']\n",
            "Saved Tanay_NDVI_Data.csv\n",
            "\n",
            "First 5 rows for Tanay:\n",
            "   NDVI_scaled          QA   TIMEOFDAY       date\n",
            "0     0.693900  351.587880  454.000000 2014-01-01\n",
            "1     0.534223  504.175880  436.000000 2014-01-02\n",
            "2     0.675143  485.626346  515.695044 2014-01-03\n",
            "3     0.563372  710.053768  536.000000 2014-01-04\n",
            "4     0.241032  998.179206  518.000000 2014-01-05\n",
            "\n",
            "--- Processing Tayabas ---\n",
            "Processing data for Tayabas...\n",
            "Converting Tayabas data to DataFrame...\n",
            "Tayabas dataset shape: (3628, 4)\n",
            "Date range: 2014-01-01 00:00:00 to 2023-12-31 00:00:00\n",
            "Columns: ['NDVI_scaled', 'QA', 'TIMEOFDAY', 'date']\n",
            "Saved Tayabas_NDVI_Data.csv\n",
            "\n",
            "First 5 rows for Tayabas:\n",
            "   NDVI_scaled          QA   TIMEOFDAY       date\n",
            "0     0.640779  412.334708  454.000000 2014-01-01\n",
            "1     0.566287  533.853721  436.000000 2014-01-02\n",
            "2     0.548892  668.791133  468.222766 2014-01-03\n",
            "3     0.490698  664.775790  536.000000 2014-01-04\n",
            "4     0.281534  985.958215  518.000000 2014-01-05\n",
            "\n",
            "--- Processing Tuguegarao ---\n",
            "Processing data for Tuguegarao...\n",
            "Converting Tuguegarao data to DataFrame...\n",
            "Tuguegarao dataset shape: (3628, 4)\n",
            "Date range: 2014-01-01 00:00:00 to 2023-12-31 00:00:00\n",
            "Columns: ['NDVI_scaled', 'QA', 'TIMEOFDAY', 'date']\n",
            "Saved Tuguegarao_NDVI_Data.csv\n",
            "\n",
            "First 5 rows for Tuguegarao:\n",
            "   NDVI_scaled          QA  TIMEOFDAY       date\n",
            "0     0.149608  992.095020      454.0 2014-01-01\n",
            "1     0.414147  841.005719      436.0 2014-01-02\n",
            "2     0.675518   72.915048      418.0 2014-01-03\n",
            "3     0.609511  400.091684      536.0 2014-01-04\n",
            "4     0.360943  907.090433      518.0 2014-01-05\n",
            "\n",
            "--- Processing Virac Synop ---\n",
            "Processing data for Virac Synop...\n",
            "Converting Virac Synop data to DataFrame...\n",
            "Virac Synop dataset shape: (3622, 4)\n",
            "Date range: 2014-01-01 00:00:00 to 2023-12-31 00:00:00\n",
            "Columns: ['NDVI_scaled', 'QA', 'TIMEOFDAY', 'date']\n",
            "Saved Virac Synop_NDVI_Data.csv\n",
            "\n",
            "First 5 rows for Virac Synop:\n",
            "   NDVI_scaled           QA   TIMEOFDAY       date\n",
            "0     0.313142  1812.246141  454.000000 2014-01-01\n",
            "1     0.300947   693.389814  436.000000 2014-01-02\n",
            "2     0.027467  1162.472955  475.256525 2014-01-03\n",
            "3     0.318558   713.068433  536.000000 2014-01-04\n",
            "4     0.002871  1165.478182  518.000000 2014-01-05\n"
          ]
        }
      ]
    },
    {
      "cell_type": "code",
      "source": [
        "print(f\"Successfully processed {len(all_dataframes)} stations:\")\n",
        "for station_name, df in all_dataframes.items():\n",
        "    print(f\"- {station_name}: {df.shape[0]} records, {df.shape[1]} columns\")\n",
        "\n",
        "# Download all CSV files (for Google Colab)\n",
        "print(f\"\\nDownloading CSV files...\")\n",
        "from google.colab import files\n",
        "for station_name in all_dataframes.keys():\n",
        "    csv_filename = f'VIIRS_NDVI_{station_name}.csv'\n",
        "    try:\n",
        "        files.download(csv_filename)\n",
        "        print(f\"Downloaded {csv_filename}\")\n",
        "    except:\n",
        "        print(f\"Could not download {csv_filename}\")\n",
        "\n",
        "print(\"Processing complete!\")"
      ],
      "metadata": {
        "colab": {
          "base_uri": "https://localhost:8080/",
          "height": 260
        },
        "id": "BG7OA6znW6x3",
        "outputId": "66b188c8-469e-4041-bd7c-c2489b1f76e4"
      },
      "execution_count": 39,
      "outputs": [
        {
          "output_type": "display_data",
          "data": {
            "text/plain": [
              "<IPython.core.display.HTML object>"
            ],
            "text/html": [
              "\n",
              "            <style>\n",
              "                .geemap-dark {\n",
              "                    --jp-widgets-color: white;\n",
              "                    --jp-widgets-label-color: white;\n",
              "                    --jp-ui-font-color1: white;\n",
              "                    --jp-layout-color2: #454545;\n",
              "                    background-color: #383838;\n",
              "                }\n",
              "\n",
              "                .geemap-dark .jupyter-button {\n",
              "                    --jp-layout-color3: #383838;\n",
              "                }\n",
              "\n",
              "                .geemap-colab {\n",
              "                    background-color: var(--colab-primary-surface-color, white);\n",
              "                }\n",
              "\n",
              "                .geemap-colab .jupyter-button {\n",
              "                    --jp-layout-color3: var(--colab-primary-surface-color, white);\n",
              "                }\n",
              "            </style>\n",
              "            "
            ]
          },
          "metadata": {}
        },
        {
          "output_type": "stream",
          "name": "stdout",
          "text": [
            "Successfully processed 5 stations:\n",
            "- Sinait: 3627 records, 4 columns\n",
            "- Tanay: 3628 records, 4 columns\n",
            "- Tayabas: 3628 records, 4 columns\n",
            "- Tuguegarao: 3628 records, 4 columns\n",
            "- Virac Synop: 3622 records, 4 columns\n",
            "\n",
            "Downloading CSV files...\n",
            "Could not download VIIRS_NDVI_Sinait.csv\n",
            "Could not download VIIRS_NDVI_Tanay.csv\n",
            "Could not download VIIRS_NDVI_Tayabas.csv\n",
            "Could not download VIIRS_NDVI_Tuguegarao.csv\n",
            "Could not download VIIRS_NDVI_Virac Synop.csv\n",
            "Processing complete!\n"
          ]
        }
      ]
    }
  ]
}