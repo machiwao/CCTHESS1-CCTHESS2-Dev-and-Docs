{
  "nbformat": 4,
  "nbformat_minor": 0,
  "metadata": {
    "colab": {
      "provenance": [],
      "authorship_tag": "ABX9TyOxHKtM44qne8rFqELtf8GC",
      "include_colab_link": true
    },
    "kernelspec": {
      "name": "python3",
      "display_name": "Python 3"
    },
    "language_info": {
      "name": "python"
    }
  },
  "cells": [
    {
      "cell_type": "markdown",
      "metadata": {
        "id": "view-in-github",
        "colab_type": "text"
      },
      "source": [
        "<a href=\"https://colab.research.google.com/github/machiwao/CCTHESS1-CCTHESS2-Dev-and-Docs/blob/jessy/NDVI_data_scraping.ipynb\" target=\"_parent\"><img src=\"https://colab.research.google.com/assets/colab-badge.svg\" alt=\"Open In Colab\"/></a>"
      ]
    },
    {
      "cell_type": "code",
      "execution_count": 13,
      "metadata": {
        "colab": {
          "base_uri": "https://localhost:8080/",
          "height": 17
        },
        "id": "9vnKAuSaVSpr",
        "outputId": "795cef6d-8ace-4a62-d932-7860d18fccc0"
      },
      "outputs": [
        {
          "output_type": "display_data",
          "data": {
            "text/plain": [
              "<IPython.core.display.HTML object>"
            ],
            "text/html": [
              "\n",
              "            <style>\n",
              "                .geemap-dark {\n",
              "                    --jp-widgets-color: white;\n",
              "                    --jp-widgets-label-color: white;\n",
              "                    --jp-ui-font-color1: white;\n",
              "                    --jp-layout-color2: #454545;\n",
              "                    background-color: #383838;\n",
              "                }\n",
              "\n",
              "                .geemap-dark .jupyter-button {\n",
              "                    --jp-layout-color3: #383838;\n",
              "                }\n",
              "\n",
              "                .geemap-colab {\n",
              "                    background-color: var(--colab-primary-surface-color, white);\n",
              "                }\n",
              "\n",
              "                .geemap-colab .jupyter-button {\n",
              "                    --jp-layout-color3: var(--colab-primary-surface-color, white);\n",
              "                }\n",
              "            </style>\n",
              "            "
            ]
          },
          "metadata": {}
        }
      ],
      "source": [
        "import ee\n",
        "import geemap\n",
        "import pandas as pd"
      ]
    },
    {
      "cell_type": "code",
      "source": [
        "cloud_project = 'heat-index-forecasting'\n",
        "\n",
        "try:\n",
        "  ee.Initialize(project=cloud_project)\n",
        "except:\n",
        "  ee.Authenticate()\n",
        "  ee.Initialize(project=cloud_project)\n",
        "\n",
        "sinait_point = ee.Geometry.Point([120.459762, 17.89019]).buffer(25000)\n",
        "tayabas_point = ee.Geometry.Point([121.596575, 14.018428]).buffer(25000)\n",
        "tanay_point = ee.Geometry.Point([121.36927, 14.581167]).buffer(25000)\n",
        "tuguegarao_point = ee.Geometry.Point([121.758469, 17.647678]).buffer(25000)\n",
        "virac_point = ee.Geometry.Point([124.209834, 13.576558]).buffer(25000)\n",
        "\n",
        "stations = {\n",
        "    \"Sinait\": sinait_point,\n",
        "    \"Tanay\": tanay_point,\n",
        "    \"Tayabas\": tayabas_point,\n",
        "    \"Tuguegarao\": tuguegarao_point,\n",
        "    \"Virac Synop\": virac_point,\n",
        "}"
      ],
      "metadata": {
        "colab": {
          "base_uri": "https://localhost:8080/",
          "height": 17
        },
        "id": "l5hSCJqXXWxb",
        "outputId": "48b89fe4-a5d5-431f-cbcf-e6be9ba98db8"
      },
      "execution_count": 14,
      "outputs": [
        {
          "output_type": "display_data",
          "data": {
            "text/plain": [
              "<IPython.core.display.HTML object>"
            ],
            "text/html": [
              "\n",
              "            <style>\n",
              "                .geemap-dark {\n",
              "                    --jp-widgets-color: white;\n",
              "                    --jp-widgets-label-color: white;\n",
              "                    --jp-ui-font-color1: white;\n",
              "                    --jp-layout-color2: #454545;\n",
              "                    background-color: #383838;\n",
              "                }\n",
              "\n",
              "                .geemap-dark .jupyter-button {\n",
              "                    --jp-layout-color3: #383838;\n",
              "                }\n",
              "\n",
              "                .geemap-colab {\n",
              "                    background-color: var(--colab-primary-surface-color, white);\n",
              "                }\n",
              "\n",
              "                .geemap-colab .jupyter-button {\n",
              "                    --jp-layout-color3: var(--colab-primary-surface-color, white);\n",
              "                }\n",
              "            </style>\n",
              "            "
            ]
          },
          "metadata": {}
        }
      ]
    },
    {
      "cell_type": "code",
      "source": [
        "# Define date range\n",
        "start_date = '2014-01-01'\n",
        "end_date = '2024-01-01'\n",
        "\n",
        "# Load the NOAA CDR VIIRS NDVI dataset\n",
        "viirs_ndvi = ee.ImageCollection(\"NOAA/CDR/VIIRS/NDVI/V1\").filterDate(start_date, end_date)\n",
        "\n",
        "sample_image = viirs_ndvi.first()\n",
        "band_names = sample_image.bandNames().getInfo()\n",
        "print(f\"Available bands: {band_names}\")"
      ],
      "metadata": {
        "colab": {
          "base_uri": "https://localhost:8080/",
          "height": 34
        },
        "id": "6PTTPed5XEE_",
        "outputId": "89c15003-e94a-46a7-92a7-44d4313a9fbe"
      },
      "execution_count": 15,
      "outputs": [
        {
          "output_type": "display_data",
          "data": {
            "text/plain": [
              "<IPython.core.display.HTML object>"
            ],
            "text/html": [
              "\n",
              "            <style>\n",
              "                .geemap-dark {\n",
              "                    --jp-widgets-color: white;\n",
              "                    --jp-widgets-label-color: white;\n",
              "                    --jp-ui-font-color1: white;\n",
              "                    --jp-layout-color2: #454545;\n",
              "                    background-color: #383838;\n",
              "                }\n",
              "\n",
              "                .geemap-dark .jupyter-button {\n",
              "                    --jp-layout-color3: #383838;\n",
              "                }\n",
              "\n",
              "                .geemap-colab {\n",
              "                    background-color: var(--colab-primary-surface-color, white);\n",
              "                }\n",
              "\n",
              "                .geemap-colab .jupyter-button {\n",
              "                    --jp-layout-color3: var(--colab-primary-surface-color, white);\n",
              "                }\n",
              "            </style>\n",
              "            "
            ]
          },
          "metadata": {}
        },
        {
          "output_type": "stream",
          "name": "stdout",
          "text": [
            "Available bands: ['NDVI', 'TIMEOFDAY', 'QA']\n"
          ]
        }
      ]
    },
    {
      "cell_type": "code",
      "source": [
        "def process_station_data(collection, geometry, station_name):\n",
        "    \"\"\"\n",
        "    Process the collection to extract all bands for each date\n",
        "    \"\"\"\n",
        "    print(f\"Processing data for {station_name}...\")\n",
        "\n",
        "    def extract_values(img):\n",
        "        # Get the date without time\n",
        "        date = ee.Date(img.get('system:time_start')).format('YYYY-MM-dd')\n",
        "\n",
        "        # Extract values for all bands at the geometry\n",
        "        stats = img.reduceRegion(\n",
        "            reducer=ee.Reducer.mean(),\n",
        "            geometry=geometry,\n",
        "            scale=5566,  # Native resolution of VIIRS NDVI\n",
        "            bestEffort=True,\n",
        "            maxPixels=1e9\n",
        "        )\n",
        "\n",
        "        # Add date and station info\n",
        "        return ee.Feature(None, stats) \\\n",
        "            .set('date', date) \\\n",
        "            .set('station', station_name)\n",
        "\n",
        "    # Map the extraction function over the collection\n",
        "    features = collection.map(extract_values)\n",
        "\n",
        "    return ee.FeatureCollection(features)"
      ],
      "metadata": {
        "colab": {
          "base_uri": "https://localhost:8080/",
          "height": 17
        },
        "id": "Q6qbJCwfWr8r",
        "outputId": "ff6bbf6d-d7d5-404f-cddc-6d5f8f89703f"
      },
      "execution_count": 16,
      "outputs": [
        {
          "output_type": "display_data",
          "data": {
            "text/plain": [
              "<IPython.core.display.HTML object>"
            ],
            "text/html": [
              "\n",
              "            <style>\n",
              "                .geemap-dark {\n",
              "                    --jp-widgets-color: white;\n",
              "                    --jp-widgets-label-color: white;\n",
              "                    --jp-ui-font-color1: white;\n",
              "                    --jp-layout-color2: #454545;\n",
              "                    background-color: #383838;\n",
              "                }\n",
              "\n",
              "                .geemap-dark .jupyter-button {\n",
              "                    --jp-layout-color3: #383838;\n",
              "                }\n",
              "\n",
              "                .geemap-colab {\n",
              "                    background-color: var(--colab-primary-surface-color, white);\n",
              "                }\n",
              "\n",
              "                .geemap-colab .jupyter-button {\n",
              "                    --jp-layout-color3: var(--colab-primary-surface-color, white);\n",
              "                }\n",
              "            </style>\n",
              "            "
            ]
          },
          "metadata": {}
        }
      ]
    },
    {
      "cell_type": "code",
      "source": [
        "all_dataframes = {}\n",
        "\n",
        "for station_name, geometry in stations.items():\n",
        "    print(f\"\\n--- Processing {station_name} ---\")\n",
        "\n",
        "    try:\n",
        "        # Extract features for this station\n",
        "        station_features = process_station_data(viirs_ndvi, geometry, station_name)\n",
        "\n",
        "        # Convert to DataFrame\n",
        "        print(f\"Converting {station_name} data to DataFrame...\")\n",
        "        df = geemap.ee_to_df(station_features)\n",
        "\n",
        "        if not df.empty:\n",
        "            # Clean up the DataFrame\n",
        "            df['date'] = pd.to_datetime(df['date'])\n",
        "            df = df.sort_values('date').reset_index(drop=True)\n",
        "\n",
        "            # Remove rows where all NDVI-related columns are null\n",
        "            ndvi_columns = [col for col in df.columns if 'NDVI' in col.upper()]\n",
        "            df = df.dropna(subset=ndvi_columns, how='all')\n",
        "\n",
        "            # Store in dictionary\n",
        "            all_dataframes[station_name] = df\n",
        "\n",
        "            # Display info about the dataset\n",
        "            print(f\"{station_name} dataset shape: {df.shape}\")\n",
        "            print(f\"Date range: {df['date'].min()} to {df['date'].max()}\")\n",
        "            print(f\"Columns: {list(df.columns)}\")\n",
        "\n",
        "            # Save to CSV\n",
        "            csv_filename = f'VIIRS_NDVI_{station_name}.csv'\n",
        "            df.to_csv(csv_filename, index=False)\n",
        "            print(f\"Saved {csv_filename}\")\n",
        "\n",
        "            # Display first few rows\n",
        "            print(f\"\\nFirst 5 rows for {station_name}:\")\n",
        "            print(df.head())\n",
        "\n",
        "        else:\n",
        "            print(f\"Warning: No data extracted for {station_name}\")\n",
        "\n",
        "    except Exception as e:\n",
        "        print(f\"Error processing {station_name}: {str(e)}\")\n",
        "        continue"
      ],
      "metadata": {
        "colab": {
          "base_uri": "https://localhost:8080/",
          "height": 1000
        },
        "id": "lVRcSsaDW3hs",
        "outputId": "bcd70507-cc7e-4bd3-fdce-7d95f4d42aa3"
      },
      "execution_count": 17,
      "outputs": [
        {
          "output_type": "display_data",
          "data": {
            "text/plain": [
              "<IPython.core.display.HTML object>"
            ],
            "text/html": [
              "\n",
              "            <style>\n",
              "                .geemap-dark {\n",
              "                    --jp-widgets-color: white;\n",
              "                    --jp-widgets-label-color: white;\n",
              "                    --jp-ui-font-color1: white;\n",
              "                    --jp-layout-color2: #454545;\n",
              "                    background-color: #383838;\n",
              "                }\n",
              "\n",
              "                .geemap-dark .jupyter-button {\n",
              "                    --jp-layout-color3: #383838;\n",
              "                }\n",
              "\n",
              "                .geemap-colab {\n",
              "                    background-color: var(--colab-primary-surface-color, white);\n",
              "                }\n",
              "\n",
              "                .geemap-colab .jupyter-button {\n",
              "                    --jp-layout-color3: var(--colab-primary-surface-color, white);\n",
              "                }\n",
              "            </style>\n",
              "            "
            ]
          },
          "metadata": {}
        },
        {
          "output_type": "stream",
          "name": "stdout",
          "text": [
            "\n",
            "--- Processing Sinait ---\n",
            "Processing data for Sinait...\n",
            "Converting Sinait data to DataFrame...\n",
            "Sinait dataset shape: (3627, 5)\n",
            "Date range: 2014-01-01 00:00:00 to 2023-12-31 00:00:00\n",
            "Columns: ['NDVI', 'QA', 'TIMEOFDAY', 'date', 'station']\n",
            "Saved VIIRS_NDVI_Sinait.csv\n",
            "\n",
            "First 5 rows for Sinait:\n",
            "          NDVI          QA   TIMEOFDAY       date station\n",
            "0  7132.752086   77.360005  454.000000 2014-01-01  Sinait\n",
            "1  7098.035280   84.309817  436.000000 2014-01-02  Sinait\n",
            "2  6607.020778  136.711794  437.094836 2014-01-03  Sinait\n",
            "3  3351.030138  481.405549  536.000000 2014-01-04  Sinait\n",
            "4  7113.259322   83.879264  518.000000 2014-01-05  Sinait\n",
            "\n",
            "--- Processing Tanay ---\n",
            "Processing data for Tanay...\n",
            "Converting Tanay data to DataFrame...\n",
            "Tanay dataset shape: (3628, 5)\n",
            "Date range: 2014-01-01 00:00:00 to 2023-12-31 00:00:00\n",
            "Columns: ['NDVI', 'QA', 'TIMEOFDAY', 'date', 'station']\n",
            "Saved VIIRS_NDVI_Tanay.csv\n",
            "\n",
            "First 5 rows for Tanay:\n",
            "          NDVI          QA   TIMEOFDAY       date station\n",
            "0  6939.003353  351.587880  454.000000 2014-01-01   Tanay\n",
            "1  5342.226405  504.175880  436.000000 2014-01-02   Tanay\n",
            "2  6755.193830  485.626346  515.695044 2014-01-03   Tanay\n",
            "3  5633.718606  710.053768  536.000000 2014-01-04   Tanay\n",
            "4  2410.316595  998.179206  518.000000 2014-01-05   Tanay\n",
            "\n",
            "--- Processing Tayabas ---\n",
            "Processing data for Tayabas...\n",
            "Converting Tayabas data to DataFrame...\n",
            "Tayabas dataset shape: (3628, 5)\n",
            "Date range: 2014-01-01 00:00:00 to 2023-12-31 00:00:00\n",
            "Columns: ['NDVI', 'QA', 'TIMEOFDAY', 'date', 'station']\n",
            "Saved VIIRS_NDVI_Tayabas.csv\n",
            "\n",
            "First 5 rows for Tayabas:\n",
            "          NDVI          QA   TIMEOFDAY       date  station\n",
            "0  6407.788106  412.334708  454.000000 2014-01-01  Tayabas\n",
            "1  5662.868274  533.853721  436.000000 2014-01-02  Tayabas\n",
            "2  5488.920801  668.791133  468.222766 2014-01-03  Tayabas\n",
            "3  4906.983307  664.775790  536.000000 2014-01-04  Tayabas\n",
            "4  2815.342472  985.958215  518.000000 2014-01-05  Tayabas\n",
            "\n",
            "--- Processing Tuguegarao ---\n",
            "Processing data for Tuguegarao...\n",
            "Converting Tuguegarao data to DataFrame...\n",
            "Tuguegarao dataset shape: (3628, 5)\n",
            "Date range: 2014-01-01 00:00:00 to 2023-12-31 00:00:00\n",
            "Columns: ['NDVI', 'QA', 'TIMEOFDAY', 'date', 'station']\n",
            "Saved VIIRS_NDVI_Tuguegarao.csv\n",
            "\n",
            "First 5 rows for Tuguegarao:\n",
            "          NDVI          QA  TIMEOFDAY       date     station\n",
            "0  1496.076767  992.095020      454.0 2014-01-01  Tuguegarao\n",
            "1  4141.472063  841.005719      436.0 2014-01-02  Tuguegarao\n",
            "2  6755.178486   72.915048      418.0 2014-01-03  Tuguegarao\n",
            "3  6095.105231  400.091684      536.0 2014-01-04  Tuguegarao\n",
            "4  3609.427835  907.090433      518.0 2014-01-05  Tuguegarao\n",
            "\n",
            "--- Processing Virac Synop ---\n",
            "Processing data for Virac Synop...\n",
            "Converting Virac Synop data to DataFrame...\n",
            "Virac Synop dataset shape: (3622, 5)\n",
            "Date range: 2014-01-01 00:00:00 to 2023-12-31 00:00:00\n",
            "Columns: ['NDVI', 'QA', 'TIMEOFDAY', 'date', 'station']\n",
            "Saved VIIRS_NDVI_Virac Synop.csv\n",
            "\n",
            "First 5 rows for Virac Synop:\n",
            "          NDVI           QA   TIMEOFDAY       date      station\n",
            "0  3131.421991  1812.246141  454.000000 2014-01-01  Virac Synop\n",
            "1  3009.471969   693.389814  436.000000 2014-01-02  Virac Synop\n",
            "2   274.674749  1162.472955  475.256525 2014-01-03  Virac Synop\n",
            "3  3185.576988   713.068433  536.000000 2014-01-04  Virac Synop\n",
            "4    28.707281  1165.478182  518.000000 2014-01-05  Virac Synop\n"
          ]
        }
      ]
    },
    {
      "cell_type": "code",
      "source": [
        "print(f\"Successfully processed {len(all_dataframes)} stations:\")\n",
        "for station_name, df in all_dataframes.items():\n",
        "    print(f\"- {station_name}: {df.shape[0]} records, {df.shape[1]} columns\")\n",
        "\n",
        "# Download all CSV files (for Google Colab)\n",
        "print(f\"\\nDownloading CSV files...\")\n",
        "from google.colab import files\n",
        "for station_name in all_dataframes.keys():\n",
        "    csv_filename = f'VIIRS_NDVI_{station_name}.csv'\n",
        "    try:\n",
        "        files.download(csv_filename)\n",
        "        print(f\"Downloaded {csv_filename}\")\n",
        "    except:\n",
        "        print(f\"Could not download {csv_filename}\")\n",
        "\n",
        "print(\"Processing complete!\")"
      ],
      "metadata": {
        "colab": {
          "base_uri": "https://localhost:8080/",
          "height": 295
        },
        "id": "BG7OA6znW6x3",
        "outputId": "9bd4c7e7-2cd5-455e-9650-922d535845ec"
      },
      "execution_count": 18,
      "outputs": [
        {
          "output_type": "display_data",
          "data": {
            "text/plain": [
              "<IPython.core.display.HTML object>"
            ],
            "text/html": [
              "\n",
              "            <style>\n",
              "                .geemap-dark {\n",
              "                    --jp-widgets-color: white;\n",
              "                    --jp-widgets-label-color: white;\n",
              "                    --jp-ui-font-color1: white;\n",
              "                    --jp-layout-color2: #454545;\n",
              "                    background-color: #383838;\n",
              "                }\n",
              "\n",
              "                .geemap-dark .jupyter-button {\n",
              "                    --jp-layout-color3: #383838;\n",
              "                }\n",
              "\n",
              "                .geemap-colab {\n",
              "                    background-color: var(--colab-primary-surface-color, white);\n",
              "                }\n",
              "\n",
              "                .geemap-colab .jupyter-button {\n",
              "                    --jp-layout-color3: var(--colab-primary-surface-color, white);\n",
              "                }\n",
              "            </style>\n",
              "            "
            ]
          },
          "metadata": {}
        },
        {
          "output_type": "stream",
          "name": "stdout",
          "text": [
            "\n",
            "--- SUMMARY ---\n",
            "Successfully processed 5 stations:\n",
            "- Sinait: 3627 records, 5 columns\n",
            "- Tanay: 3628 records, 5 columns\n",
            "- Tayabas: 3628 records, 5 columns\n",
            "- Tuguegarao: 3628 records, 5 columns\n",
            "- Virac Synop: 3622 records, 5 columns\n",
            "\n",
            "Downloading CSV files...\n"
          ]
        },
        {
          "output_type": "display_data",
          "data": {
            "text/plain": [
              "<IPython.core.display.Javascript object>"
            ],
            "application/javascript": [
              "\n",
              "    async function download(id, filename, size) {\n",
              "      if (!google.colab.kernel.accessAllowed) {\n",
              "        return;\n",
              "      }\n",
              "      const div = document.createElement('div');\n",
              "      const label = document.createElement('label');\n",
              "      label.textContent = `Downloading \"${filename}\": `;\n",
              "      div.appendChild(label);\n",
              "      const progress = document.createElement('progress');\n",
              "      progress.max = size;\n",
              "      div.appendChild(progress);\n",
              "      document.body.appendChild(div);\n",
              "\n",
              "      const buffers = [];\n",
              "      let downloaded = 0;\n",
              "\n",
              "      const channel = await google.colab.kernel.comms.open(id);\n",
              "      // Send a message to notify the kernel that we're ready.\n",
              "      channel.send({})\n",
              "\n",
              "      for await (const message of channel.messages) {\n",
              "        // Send a message to notify the kernel that we're ready.\n",
              "        channel.send({})\n",
              "        if (message.buffers) {\n",
              "          for (const buffer of message.buffers) {\n",
              "            buffers.push(buffer);\n",
              "            downloaded += buffer.byteLength;\n",
              "            progress.value = downloaded;\n",
              "          }\n",
              "        }\n",
              "      }\n",
              "      const blob = new Blob(buffers, {type: 'application/binary'});\n",
              "      const a = document.createElement('a');\n",
              "      a.href = window.URL.createObjectURL(blob);\n",
              "      a.download = filename;\n",
              "      div.appendChild(a);\n",
              "      a.click();\n",
              "      div.remove();\n",
              "    }\n",
              "  "
            ]
          },
          "metadata": {}
        },
        {
          "output_type": "display_data",
          "data": {
            "text/plain": [
              "<IPython.core.display.Javascript object>"
            ],
            "application/javascript": [
              "download(\"download_4fb30d41-03ab-42d3-8578-23f478108ea6\", \"VIIRS_NDVI_Sinait.csv\", 227637)"
            ]
          },
          "metadata": {}
        },
        {
          "output_type": "stream",
          "name": "stdout",
          "text": [
            "Downloaded VIIRS_NDVI_Sinait.csv\n"
          ]
        },
        {
          "output_type": "display_data",
          "data": {
            "text/plain": [
              "<IPython.core.display.Javascript object>"
            ],
            "application/javascript": [
              "\n",
              "    async function download(id, filename, size) {\n",
              "      if (!google.colab.kernel.accessAllowed) {\n",
              "        return;\n",
              "      }\n",
              "      const div = document.createElement('div');\n",
              "      const label = document.createElement('label');\n",
              "      label.textContent = `Downloading \"${filename}\": `;\n",
              "      div.appendChild(label);\n",
              "      const progress = document.createElement('progress');\n",
              "      progress.max = size;\n",
              "      div.appendChild(progress);\n",
              "      document.body.appendChild(div);\n",
              "\n",
              "      const buffers = [];\n",
              "      let downloaded = 0;\n",
              "\n",
              "      const channel = await google.colab.kernel.comms.open(id);\n",
              "      // Send a message to notify the kernel that we're ready.\n",
              "      channel.send({})\n",
              "\n",
              "      for await (const message of channel.messages) {\n",
              "        // Send a message to notify the kernel that we're ready.\n",
              "        channel.send({})\n",
              "        if (message.buffers) {\n",
              "          for (const buffer of message.buffers) {\n",
              "            buffers.push(buffer);\n",
              "            downloaded += buffer.byteLength;\n",
              "            progress.value = downloaded;\n",
              "          }\n",
              "        }\n",
              "      }\n",
              "      const blob = new Blob(buffers, {type: 'application/binary'});\n",
              "      const a = document.createElement('a');\n",
              "      a.href = window.URL.createObjectURL(blob);\n",
              "      a.download = filename;\n",
              "      div.appendChild(a);\n",
              "      a.click();\n",
              "      div.remove();\n",
              "    }\n",
              "  "
            ]
          },
          "metadata": {}
        },
        {
          "output_type": "display_data",
          "data": {
            "text/plain": [
              "<IPython.core.display.Javascript object>"
            ],
            "application/javascript": [
              "download(\"download_1dee001d-eb2f-469f-bcfb-41066bd158e4\", \"VIIRS_NDVI_Tanay.csv\", 223571)"
            ]
          },
          "metadata": {}
        },
        {
          "output_type": "stream",
          "name": "stdout",
          "text": [
            "Downloaded VIIRS_NDVI_Tanay.csv\n"
          ]
        },
        {
          "output_type": "display_data",
          "data": {
            "text/plain": [
              "<IPython.core.display.Javascript object>"
            ],
            "application/javascript": [
              "\n",
              "    async function download(id, filename, size) {\n",
              "      if (!google.colab.kernel.accessAllowed) {\n",
              "        return;\n",
              "      }\n",
              "      const div = document.createElement('div');\n",
              "      const label = document.createElement('label');\n",
              "      label.textContent = `Downloading \"${filename}\": `;\n",
              "      div.appendChild(label);\n",
              "      const progress = document.createElement('progress');\n",
              "      progress.max = size;\n",
              "      div.appendChild(progress);\n",
              "      document.body.appendChild(div);\n",
              "\n",
              "      const buffers = [];\n",
              "      let downloaded = 0;\n",
              "\n",
              "      const channel = await google.colab.kernel.comms.open(id);\n",
              "      // Send a message to notify the kernel that we're ready.\n",
              "      channel.send({})\n",
              "\n",
              "      for await (const message of channel.messages) {\n",
              "        // Send a message to notify the kernel that we're ready.\n",
              "        channel.send({})\n",
              "        if (message.buffers) {\n",
              "          for (const buffer of message.buffers) {\n",
              "            buffers.push(buffer);\n",
              "            downloaded += buffer.byteLength;\n",
              "            progress.value = downloaded;\n",
              "          }\n",
              "        }\n",
              "      }\n",
              "      const blob = new Blob(buffers, {type: 'application/binary'});\n",
              "      const a = document.createElement('a');\n",
              "      a.href = window.URL.createObjectURL(blob);\n",
              "      a.download = filename;\n",
              "      div.appendChild(a);\n",
              "      a.click();\n",
              "      div.remove();\n",
              "    }\n",
              "  "
            ]
          },
          "metadata": {}
        },
        {
          "output_type": "display_data",
          "data": {
            "text/plain": [
              "<IPython.core.display.Javascript object>"
            ],
            "application/javascript": [
              "download(\"download_24ce3b91-0edd-4d5f-89c2-77e698ca4a48\", \"VIIRS_NDVI_Tayabas.csv\", 230658)"
            ]
          },
          "metadata": {}
        },
        {
          "output_type": "stream",
          "name": "stdout",
          "text": [
            "Downloaded VIIRS_NDVI_Tayabas.csv\n"
          ]
        },
        {
          "output_type": "display_data",
          "data": {
            "text/plain": [
              "<IPython.core.display.Javascript object>"
            ],
            "application/javascript": [
              "\n",
              "    async function download(id, filename, size) {\n",
              "      if (!google.colab.kernel.accessAllowed) {\n",
              "        return;\n",
              "      }\n",
              "      const div = document.createElement('div');\n",
              "      const label = document.createElement('label');\n",
              "      label.textContent = `Downloading \"${filename}\": `;\n",
              "      div.appendChild(label);\n",
              "      const progress = document.createElement('progress');\n",
              "      progress.max = size;\n",
              "      div.appendChild(progress);\n",
              "      document.body.appendChild(div);\n",
              "\n",
              "      const buffers = [];\n",
              "      let downloaded = 0;\n",
              "\n",
              "      const channel = await google.colab.kernel.comms.open(id);\n",
              "      // Send a message to notify the kernel that we're ready.\n",
              "      channel.send({})\n",
              "\n",
              "      for await (const message of channel.messages) {\n",
              "        // Send a message to notify the kernel that we're ready.\n",
              "        channel.send({})\n",
              "        if (message.buffers) {\n",
              "          for (const buffer of message.buffers) {\n",
              "            buffers.push(buffer);\n",
              "            downloaded += buffer.byteLength;\n",
              "            progress.value = downloaded;\n",
              "          }\n",
              "        }\n",
              "      }\n",
              "      const blob = new Blob(buffers, {type: 'application/binary'});\n",
              "      const a = document.createElement('a');\n",
              "      a.href = window.URL.createObjectURL(blob);\n",
              "      a.download = filename;\n",
              "      div.appendChild(a);\n",
              "      a.click();\n",
              "      div.remove();\n",
              "    }\n",
              "  "
            ]
          },
          "metadata": {}
        },
        {
          "output_type": "display_data",
          "data": {
            "text/plain": [
              "<IPython.core.display.Javascript object>"
            ],
            "application/javascript": [
              "download(\"download_7e91efaf-e170-45d0-a173-e7eda2d00d1c\", \"VIIRS_NDVI_Tuguegarao.csv\", 243976)"
            ]
          },
          "metadata": {}
        },
        {
          "output_type": "stream",
          "name": "stdout",
          "text": [
            "Downloaded VIIRS_NDVI_Tuguegarao.csv\n"
          ]
        },
        {
          "output_type": "display_data",
          "data": {
            "text/plain": [
              "<IPython.core.display.Javascript object>"
            ],
            "application/javascript": [
              "\n",
              "    async function download(id, filename, size) {\n",
              "      if (!google.colab.kernel.accessAllowed) {\n",
              "        return;\n",
              "      }\n",
              "      const div = document.createElement('div');\n",
              "      const label = document.createElement('label');\n",
              "      label.textContent = `Downloading \"${filename}\": `;\n",
              "      div.appendChild(label);\n",
              "      const progress = document.createElement('progress');\n",
              "      progress.max = size;\n",
              "      div.appendChild(progress);\n",
              "      document.body.appendChild(div);\n",
              "\n",
              "      const buffers = [];\n",
              "      let downloaded = 0;\n",
              "\n",
              "      const channel = await google.colab.kernel.comms.open(id);\n",
              "      // Send a message to notify the kernel that we're ready.\n",
              "      channel.send({})\n",
              "\n",
              "      for await (const message of channel.messages) {\n",
              "        // Send a message to notify the kernel that we're ready.\n",
              "        channel.send({})\n",
              "        if (message.buffers) {\n",
              "          for (const buffer of message.buffers) {\n",
              "            buffers.push(buffer);\n",
              "            downloaded += buffer.byteLength;\n",
              "            progress.value = downloaded;\n",
              "          }\n",
              "        }\n",
              "      }\n",
              "      const blob = new Blob(buffers, {type: 'application/binary'});\n",
              "      const a = document.createElement('a');\n",
              "      a.href = window.URL.createObjectURL(blob);\n",
              "      a.download = filename;\n",
              "      div.appendChild(a);\n",
              "      a.click();\n",
              "      div.remove();\n",
              "    }\n",
              "  "
            ]
          },
          "metadata": {}
        },
        {
          "output_type": "display_data",
          "data": {
            "text/plain": [
              "<IPython.core.display.Javascript object>"
            ],
            "application/javascript": [
              "download(\"download_a9ed27e5-7d7c-4f5b-a816-0722f42e166e\", \"VIIRS_NDVI_Virac Synop.csv\", 246530)"
            ]
          },
          "metadata": {}
        },
        {
          "output_type": "stream",
          "name": "stdout",
          "text": [
            "Downloaded VIIRS_NDVI_Virac Synop.csv\n",
            "Processing complete!\n"
          ]
        }
      ]
    }
  ]
}